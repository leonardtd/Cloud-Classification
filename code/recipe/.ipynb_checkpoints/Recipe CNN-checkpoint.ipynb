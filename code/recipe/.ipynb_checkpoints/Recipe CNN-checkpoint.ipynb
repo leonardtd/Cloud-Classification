{
 "cells": [
  {
   "cell_type": "code",
   "execution_count": 2,
   "id": "da9e864a-1405-40e6-9b92-6e966adb280b",
   "metadata": {},
   "outputs": [
    {
     "name": "stdout",
     "output_type": "stream",
     "text": [
      "/home/ltorres/leo/tesis/cloud-classification/code\n"
     ]
    }
   ],
   "source": [
    "%cd .."
   ]
  },
  {
   "cell_type": "code",
   "execution_count": 3,
   "id": "24f966cb-e3b6-49bc-883d-6d905d197a12",
   "metadata": {},
   "outputs": [],
   "source": [
    "%load_ext autoreload\n",
    "%autoreload 2"
   ]
  },
  {
   "cell_type": "code",
   "execution_count": 4,
   "id": "5b6ec3ce-38e4-488b-802c-628a0a604956",
   "metadata": {},
   "outputs": [],
   "source": [
    "import pandas as pd\n",
    "import numpy as np\n",
    "import torch\n",
    "import matplotlib.pyplot as plt"
   ]
  },
  {
   "cell_type": "code",
   "execution_count": 5,
   "id": "a06ba4ba-3263-4a7e-a594-1f702db5588b",
   "metadata": {},
   "outputs": [],
   "source": [
    "from src import config\n",
    "from src import engine\n",
    "from src import utils"
   ]
  },
  {
   "cell_type": "code",
   "execution_count": 6,
   "id": "3fb4813f-07d6-4402-b54c-6cd5bf7f5d1f",
   "metadata": {},
   "outputs": [],
   "source": [
    "import os\n",
    "from torchvision.io import read_image\n",
    "import torchvision.transforms as T"
   ]
  },
  {
   "cell_type": "markdown",
   "id": "b02163dd-e95d-4816-89ba-3759ba18edd7",
   "metadata": {},
   "source": [
    "### Reproducibility"
   ]
  },
  {
   "cell_type": "code",
   "execution_count": 7,
   "id": "fe3abe5c-91a5-4e28-813d-92e9957d9323",
   "metadata": {},
   "outputs": [],
   "source": [
    "torch.manual_seed(7)\n",
    "np.random.seed(7)"
   ]
  },
  {
   "cell_type": "markdown",
   "id": "9ce50951-d70c-444a-9f7f-acca700a1fb7",
   "metadata": {},
   "source": [
    "### Dataset"
   ]
  },
  {
   "cell_type": "code",
   "execution_count": 8,
   "id": "4eae25af-c24c-4250-8d71-f8b4447e7097",
   "metadata": {},
   "outputs": [],
   "source": [
    "class GCD:\n",
    "    def __init__(self, image_paths, resize=None):\n",
    "\n",
    "        self.image_paths  = image_paths\n",
    "        self.targets = self._get_targets()\n",
    "        \n",
    "        self.resize = resize\n",
    "    \n",
    "        self.norm_mean = 155.5673\n",
    "        self.norm_std = 70.5983\n",
    "        \n",
    "        \n",
    "    def __len__(self):\n",
    "        return len(self.image_paths)\n",
    "\n",
    "    def __getitem__(self, item):\n",
    "        image = read_image(self.image_paths[item]).float()\n",
    "        image = (image-self.norm_mean)/self.norm_std\n",
    "\n",
    "\n",
    "        targets = self.targets[item]\n",
    "        #substract 1 since list of targets start from 1\n",
    "        targets = torch.tensor(targets, dtype=torch.long) - 1\n",
    "\n",
    "        if self.resize is not None:\n",
    "            image = T.Resize(self.resize)(image)\n",
    "\n",
    "        return {\n",
    "            \"images\": image,\n",
    "            \"targets\": targets,\n",
    "        }\n",
    "    \n",
    "    \n",
    "    \n",
    "    def _get_targets(self):\n",
    "        return list(map(int,list(map(int,[os.path.basename(x).split('_')[0] \n",
    "                                          for x in self.image_paths]))))"
   ]
  },
  {
   "cell_type": "markdown",
   "id": "dbb78ffa-c515-489c-b703-0c2af3bf762a",
   "metadata": {},
   "source": [
    "### Dataloader"
   ]
  },
  {
   "cell_type": "markdown",
   "id": "f2005f6c-cbc9-489a-9cac-86a4a9086f50",
   "metadata": {},
   "source": [
    "#### Train"
   ]
  },
  {
   "cell_type": "code",
   "execution_count": 9,
   "id": "f55680a8-0494-4a1b-bac5-c031c037a502",
   "metadata": {},
   "outputs": [],
   "source": [
    "path_train_images = utils.get_gcd_paths(config.DATA_DIR,'train')\n",
    "\n",
    "train_dataset = GCD(path_train_images, resize=256)\n",
    "\n",
    "train_loader = torch.utils.data.DataLoader(\n",
    "        train_dataset,\n",
    "        batch_size=32,\n",
    "        num_workers=4,\n",
    "        shuffle=True,\n",
    "    )"
   ]
  },
  {
   "cell_type": "code",
   "execution_count": 10,
   "id": "c2bc8954-eb65-4b5c-b5d2-3bac452a8aea",
   "metadata": {},
   "outputs": [
    {
     "data": {
      "image/png": "[encoded data removed]",
      "text/plain": [
       "<Figure size 432x288 with 1 Axes>"
      ]
     },
     "metadata": {
      "needs_background": "light"
     },
     "output_type": "display_data"
    }
   ],
   "source": [
    "plt.title('Distribucion de imagenes de entrenamiento')\n",
    "pd.Series(train_dataset.targets).value_counts().plot.bar()\n",
    "plt.show()"
   ]
  },
  {
   "cell_type": "markdown",
   "id": "d8ddbd3b-77b0-4a31-ac0d-495aeeded3fb",
   "metadata": {},
   "source": [
    "#### Test"
   ]
  },
  {
   "cell_type": "code",
   "execution_count": 9,
   "id": "d5be399f-016e-4dda-bdbb-19ed6f37d240",
   "metadata": {},
   "outputs": [],
   "source": [
    "path_test_images = utils.get_gcd_paths(config.DATA_DIR,'test')\n",
    "\n",
    "test_dataset = GCD(path_test_images, resize=256)\n",
    "\n",
    "test_loader = torch.utils.data.DataLoader(\n",
    "        test_dataset,\n",
    "        batch_size=32,\n",
    "        num_workers=4,\n",
    "        shuffle=True,\n",
    "    )"
   ]
  },
  {
   "cell_type": "code",
   "execution_count": 50,
   "id": "4f38a106-3de5-4a7a-8b7f-feb2b65eb3fe",
   "metadata": {},
   "outputs": [
    {
     "data": {
      "image/png": "[encoded data removed]",
      "text/plain": [
       "<Figure size 432x288 with 1 Axes>"
      ]
     },
     "metadata": {
      "needs_background": "light"
     },
     "output_type": "display_data"
    }
   ],
   "source": [
    "plt.title('Distribucion de imagenes de test')\n",
    "pd.Series(test_dataset.targets).value_counts().plot.bar()\n",
    "plt.show()"
   ]
  },
  {
   "cell_type": "markdown",
   "id": "274b499f-e633-4a38-b2c2-79365d1aa450",
   "metadata": {},
   "source": [
    "### Model definition"
   ]
  },
  {
   "cell_type": "code",
   "execution_count": 10,
   "id": "f5215ba5-0bcb-48fe-a2eb-8f19736eaebc",
   "metadata": {},
   "outputs": [],
   "source": [
    "import torch.nn as nn\n",
    "import torch.nn.functional as F"
   ]
  },
  {
   "cell_type": "code",
   "execution_count": 11,
   "id": "a3a9e35e-f9ff-4b16-9a4e-fff43993cecf",
   "metadata": {},
   "outputs": [],
   "source": [
    "class BaselineModel(nn.Module):\n",
    "    def __init__(self):\n",
    "        \n",
    "        super().__init__()\n",
    "        \n",
    "        self.cnn = nn.Sequential(\n",
    "            nn.Conv2d(3,32, kernel_size=3),\n",
    "            nn.ReLU(),\n",
    "            nn.BatchNorm2d(32),\n",
    "            nn.MaxPool2d(2),\n",
    "            nn.Conv2d(32,64, kernel_size=3),\n",
    "            nn.ReLU(),\n",
    "            nn.BatchNorm2d(64),\n",
    "            nn.MaxPool2d(2),\n",
    "        )\n",
    "        \n",
    "        self.mlp = nn.Sequential(\n",
    "            nn.Linear(246016, 256),\n",
    "            nn.ReLU(),\n",
    "            nn.Linear(256,7)\n",
    "        )\n",
    "        \n",
    "        \n",
    "        self.apply(self.init_weights)\n",
    "        \n",
    "    def init_weights(self, m):\n",
    "        \n",
    "        gain = nn.init.calculate_gain('relu') \n",
    "        \n",
    "        if isinstance(m, nn.Linear) or isinstance(m, nn.Conv2d):\n",
    "            torch.nn.init.xavier_uniform_(m.weight, gain=gain)\n",
    "            m.bias.data.fill_(0)\n",
    "            \n",
    "        self.mlp[2].bias.data.fill_(1/7)\n",
    "\n",
    "    \n",
    "    def forward(self, x):\n",
    "        x = self.cnn(x)\n",
    "        x = x.reshape(-1, 246016)\n",
    "        x = self.mlp(x)\n",
    "        return x"
   ]
  },
  {
   "cell_type": "markdown",
   "id": "5f987e8f-909e-44ab-9626-781498522991",
   "metadata": {},
   "source": [
    "### Training functions"
   ]
  },
  {
   "cell_type": "code",
   "execution_count": 12,
   "id": "066dfd3c-384c-4884-a9cb-a6e6c3b79a26",
   "metadata": {},
   "outputs": [],
   "source": [
    "from tqdm import tqdm"
   ]
  },
  {
   "cell_type": "code",
   "execution_count": 13,
   "id": "40ec8e61-02ba-4656-a0ec-dda3aa705316",
   "metadata": {},
   "outputs": [],
   "source": [
    "def train(model, data_loader, criterion, optimizer, device):\n",
    "    model.train()\n",
    "    \n",
    "    fin_loss = 0\n",
    "    fin_preds = []\n",
    "    fin_targs = []\n",
    "\n",
    "    for data in tqdm(data_loader, total=len(data_loader)):\n",
    "        for k, v in data.items():\n",
    "            data[k] = v.to(device)\n",
    "\n",
    "        optimizer.zero_grad()\n",
    "      \n",
    "        logits = model(data[\"images\"])\n",
    "        \n",
    "        loss = criterion(logits, data[\"targets\"])\n",
    "        loss.backward()\n",
    "        \n",
    "        optimizer.step()\n",
    "        \n",
    "        fin_loss += loss.item()\n",
    "\n",
    "        batch_preds = F.softmax(logits, dim=1)\n",
    "        batch_preds = torch.argmax(batch_preds, dim=1)\n",
    "\n",
    "        fin_preds.append(batch_preds.cpu().numpy())\n",
    "        fin_targs.append(data[\"targets\"].cpu().numpy())\n",
    "\n",
    "    return (np.concatenate(fin_preds,axis=0), \n",
    "            np.concatenate(fin_targs,axis=0), \n",
    "            fin_loss / len(data_loader))\n",
    "    \n",
    "    \n",
    "def test(model, data_loader, criterion, device):\n",
    "    model.eval()\n",
    "    fin_loss = 0\n",
    "    fin_preds = []\n",
    "    fin_targs = []\n",
    "\n",
    "    with torch.no_grad():\n",
    "        for data in tqdm(data_loader, total=len(data_loader)):\n",
    "            for k, v in data.items():\n",
    "                data[k] = v.to(device)\n",
    "\n",
    "            logits = model(data[\"images\"])\n",
    "            loss = criterion(logits, data[\"targets\"])\n",
    "            fin_loss += loss.item()\n",
    "\n",
    "            batch_preds = F.softmax(logits, dim=1)\n",
    "            batch_preds = torch.argmax(batch_preds, dim=1)\n",
    "\n",
    "            fin_preds.append(batch_preds.cpu().numpy())\n",
    "            fin_targs.append(data[\"targets\"].cpu().numpy())\n",
    "\n",
    "    return (\n",
    "        np.concatenate(fin_preds,axis=0),\n",
    "        np.concatenate(fin_targs,axis=0),\n",
    "        fin_loss / len(data_loader),\n",
    "    )"
   ]
  },
  {
   "cell_type": "markdown",
   "id": "26139b24-70cf-491e-9361-8af613068190",
   "metadata": {},
   "source": [
    "### ✅ Loss @ init"
   ]
  },
  {
   "cell_type": "code",
   "execution_count": 14,
   "id": "9296db48-40e4-42fb-a3b9-a11f6f94534c",
   "metadata": {},
   "outputs": [
    {
     "name": "stdout",
     "output_type": "stream",
     "text": [
      "init\n"
     ]
    }
   ],
   "source": [
    "model = BaselineModel()\n",
    "\n",
    "device = config.DEVICE\n",
    "model.to(device)\n",
    "print('init')"
   ]
  },
  {
   "cell_type": "code",
   "execution_count": 15,
   "id": "acabe9d0-1912-49a5-855b-3a5db21f9970",
   "metadata": {},
   "outputs": [],
   "source": [
    "criterion = nn.CrossEntropyLoss()"
   ]
  },
  {
   "cell_type": "code",
   "execution_count": 16,
   "id": "04185f3c-cf0e-4559-b44c-779d65ec0922",
   "metadata": {},
   "outputs": [
    {
     "name": "stderr",
     "output_type": "stream",
     "text": [
      "100%|██████████| 282/282 [00:11<00:00, 24.38it/s]\n"
     ]
    }
   ],
   "source": [
    "predictions, targets, loss = test(model, test_loader, criterion, device)"
   ]
  },
  {
   "cell_type": "code",
   "execution_count": 17,
   "id": "f691e420-6034-49a2-8799-33d60ef990b0",
   "metadata": {},
   "outputs": [
    {
     "name": "stdout",
     "output_type": "stream",
     "text": [
      "Initialized Test Loss: 2.024602938205638\n",
      "Initialized Test Accuracy 19.83%\n"
     ]
    }
   ],
   "source": [
    "from sklearn.metrics import accuracy_score\n",
    "\n",
    "print(f\"Initialized Test Loss: {loss}\")\n",
    "print(f\"Initialized Test Accuracy {accuracy_score(targets, predictions):.2%}\")"
   ]
  },
  {
   "cell_type": "code",
   "execution_count": 18,
   "id": "ed374fc9-9946-4f21-bd68-88c3aec3756a",
   "metadata": {},
   "outputs": [
    {
     "data": {
      "text/plain": [
       "1.9459101490553135"
      ]
     },
     "execution_count": 18,
     "metadata": {},
     "output_type": "execute_result"
    }
   ],
   "source": [
    "-np.log(1/7)"
   ]
  },
  {
   "cell_type": "markdown",
   "id": "83c11b0a-404f-4888-b432-d5ad2e36d4fd",
   "metadata": {},
   "source": [
    "### Big train"
   ]
  },
  {
   "cell_type": "code",
   "execution_count": 19,
   "id": "0b054433-8d70-4991-9cbb-dc9641277dea",
   "metadata": {},
   "outputs": [
    {
     "name": "stdout",
     "output_type": "stream",
     "text": [
      "init\n"
     ]
    }
   ],
   "source": [
    "model = BaselineModel()\n",
    "\n",
    "device = config.DEVICE\n",
    "model.to(device)\n",
    "print('init')"
   ]
  },
  {
   "cell_type": "code",
   "execution_count": 20,
   "id": "f8478fc2-f06d-45f7-aa49-58381e74b5bc",
   "metadata": {},
   "outputs": [],
   "source": [
    "EPOCHS = 300\n",
    "\n",
    "criterion = nn.CrossEntropyLoss()\n",
    "optimizer = torch.optim.Adam(model.parameters(), 3e-4)"
   ]
  },
  {
   "cell_type": "code",
   "execution_count": 21,
   "id": "fd80eccf-9a93-4cb7-8164-cd4bc9b11746",
   "metadata": {},
   "outputs": [
    {
     "name": "stderr",
     "output_type": "stream",
     "text": [
      "100%|██████████| 313/313 [00:15<00:00, 19.66it/s]\n",
      "100%|██████████| 282/282 [00:11<00:00, 24.42it/s]\n"
     ]
    },
    {
     "name": "stdout",
     "output_type": "stream",
     "text": [
      "EPOCH 1: Train acc: 62.46% Train Loss: 22.4772 Test acc: 54.92% Test Loss: 22.3411\n"
     ]
    },
    {
     "name": "stderr",
     "output_type": "stream",
     "text": [
      "100%|██████████| 313/313 [00:15<00:00, 19.75it/s]\n",
      "100%|██████████| 282/282 [00:11<00:00, 24.27it/s]\n"
     ]
    },
    {
     "name": "stdout",
     "output_type": "stream",
     "text": [
      "EPOCH 2: Train acc: 67.96% Train Loss: 3.1217 Test acc: 52.44% Test Loss: 6.8362\n"
     ]
    },
    {
     "name": "stderr",
     "output_type": "stream",
     "text": [
      "100%|██████████| 313/313 [00:15<00:00, 19.79it/s]\n",
      "100%|██████████| 282/282 [00:11<00:00, 24.44it/s]\n"
     ]
    },
    {
     "name": "stdout",
     "output_type": "stream",
     "text": [
      "EPOCH 3: Train acc: 70.80% Train Loss: 1.1677 Test acc: 58.53% Test Loss: 4.0340\n"
     ]
    },
    {
     "name": "stderr",
     "output_type": "stream",
     "text": [
      "100%|██████████| 313/313 [00:15<00:00, 19.70it/s]\n",
      "100%|██████████| 282/282 [00:11<00:00, 24.32it/s]\n"
     ]
    },
    {
     "name": "stdout",
     "output_type": "stream",
     "text": [
      "EPOCH 4: Train acc: 75.41% Train Loss: 0.8736 Test acc: 55.24% Test Loss: 4.9378\n"
     ]
    },
    {
     "name": "stderr",
     "output_type": "stream",
     "text": [
      "100%|██████████| 313/313 [00:15<00:00, 19.90it/s]\n",
      "100%|██████████| 282/282 [00:11<00:00, 24.40it/s]\n"
     ]
    },
    {
     "name": "stdout",
     "output_type": "stream",
     "text": [
      "EPOCH 5: Train acc: 75.96% Train Loss: 0.9217 Test acc: 56.43% Test Loss: 3.6391\n"
     ]
    },
    {
     "name": "stderr",
     "output_type": "stream",
     "text": [
      "100%|██████████| 313/313 [00:15<00:00, 19.72it/s]\n",
      "100%|██████████| 282/282 [00:11<00:00, 24.44it/s]\n"
     ]
    },
    {
     "name": "stdout",
     "output_type": "stream",
     "text": [
      "EPOCH 6: Train acc: 77.34% Train Loss: 0.7078 Test acc: 56.64% Test Loss: 3.6331\n"
     ]
    },
    {
     "name": "stderr",
     "output_type": "stream",
     "text": [
      "100%|██████████| 313/313 [00:15<00:00, 19.91it/s]\n",
      "100%|██████████| 282/282 [00:11<00:00, 24.52it/s]\n"
     ]
    },
    {
     "name": "stdout",
     "output_type": "stream",
     "text": [
      "EPOCH 7: Train acc: 80.52% Train Loss: 0.6155 Test acc: 60.20% Test Loss: 4.3112\n"
     ]
    },
    {
     "name": "stderr",
     "output_type": "stream",
     "text": [
      "100%|██████████| 313/313 [00:15<00:00, 19.86it/s]\n",
      "100%|██████████| 282/282 [00:11<00:00, 24.14it/s]\n"
     ]
    },
    {
     "name": "stdout",
     "output_type": "stream",
     "text": [
      "EPOCH 8: Train acc: 81.73% Train Loss: 0.5653 Test acc: 59.14% Test Loss: 3.5462\n"
     ]
    },
    {
     "name": "stderr",
     "output_type": "stream",
     "text": [
      "100%|██████████| 313/313 [00:15<00:00, 19.78it/s]\n",
      "100%|██████████| 282/282 [00:11<00:00, 24.49it/s]\n"
     ]
    },
    {
     "name": "stdout",
     "output_type": "stream",
     "text": [
      "EPOCH 9: Train acc: 82.19% Train Loss: 0.5391 Test acc: 58.30% Test Loss: 6.4358\n"
     ]
    },
    {
     "name": "stderr",
     "output_type": "stream",
     "text": [
      "100%|██████████| 313/313 [00:15<00:00, 19.83it/s]\n",
      "100%|██████████| 282/282 [00:11<00:00, 24.07it/s]\n"
     ]
    },
    {
     "name": "stdout",
     "output_type": "stream",
     "text": [
      "EPOCH 10: Train acc: 76.80% Train Loss: 1.2968 Test acc: 50.16% Test Loss: 6.5625\n"
     ]
    },
    {
     "name": "stderr",
     "output_type": "stream",
     "text": [
      "100%|██████████| 313/313 [00:15<00:00, 19.83it/s]\n",
      "100%|██████████| 282/282 [00:11<00:00, 24.50it/s]\n"
     ]
    },
    {
     "name": "stdout",
     "output_type": "stream",
     "text": [
      "EPOCH 11: Train acc: 77.67% Train Loss: 0.7637 Test acc: 57.87% Test Loss: 5.0306\n"
     ]
    },
    {
     "name": "stderr",
     "output_type": "stream",
     "text": [
      "100%|██████████| 313/313 [00:15<00:00, 19.90it/s]\n",
      "100%|██████████| 282/282 [00:11<00:00, 24.46it/s]\n"
     ]
    },
    {
     "name": "stdout",
     "output_type": "stream",
     "text": [
      "EPOCH 12: Train acc: 83.25% Train Loss: 0.4675 Test acc: 61.96% Test Loss: 4.0934\n"
     ]
    },
    {
     "name": "stderr",
     "output_type": "stream",
     "text": [
      "100%|██████████| 313/313 [00:15<00:00, 19.90it/s]\n",
      "100%|██████████| 282/282 [00:11<00:00, 24.41it/s]\n"
     ]
    },
    {
     "name": "stdout",
     "output_type": "stream",
     "text": [
      "EPOCH 13: Train acc: 85.29% Train Loss: 0.4062 Test acc: 59.09% Test Loss: 3.7288\n"
     ]
    },
    {
     "name": "stderr",
     "output_type": "stream",
     "text": [
      "100%|██████████| 313/313 [00:15<00:00, 19.87it/s]\n",
      "100%|██████████| 282/282 [00:11<00:00, 24.45it/s]\n"
     ]
    },
    {
     "name": "stdout",
     "output_type": "stream",
     "text": [
      "EPOCH 14: Train acc: 86.47% Train Loss: 0.3634 Test acc: 60.12% Test Loss: 3.3996\n"
     ]
    },
    {
     "name": "stderr",
     "output_type": "stream",
     "text": [
      "100%|██████████| 313/313 [00:15<00:00, 19.75it/s]\n",
      "100%|██████████| 282/282 [00:11<00:00, 24.25it/s]\n"
     ]
    },
    {
     "name": "stdout",
     "output_type": "stream",
     "text": [
      "EPOCH 15: Train acc: 86.98% Train Loss: 0.3472 Test acc: 60.59% Test Loss: 3.7653\n"
     ]
    },
    {
     "name": "stderr",
     "output_type": "stream",
     "text": [
      "100%|██████████| 313/313 [00:15<00:00, 19.90it/s]\n",
      "100%|██████████| 282/282 [00:11<00:00, 24.25it/s]\n"
     ]
    },
    {
     "name": "stdout",
     "output_type": "stream",
     "text": [
      "EPOCH 16: Train acc: 87.61% Train Loss: 0.3607 Test acc: 60.08% Test Loss: 6.2504\n"
     ]
    },
    {
     "name": "stderr",
     "output_type": "stream",
     "text": [
      "100%|██████████| 313/313 [00:15<00:00, 19.73it/s]\n",
      "100%|██████████| 282/282 [00:11<00:00, 24.37it/s]\n"
     ]
    },
    {
     "name": "stdout",
     "output_type": "stream",
     "text": [
      "EPOCH 17: Train acc: 86.90% Train Loss: 0.4231 Test acc: 59.48% Test Loss: 4.7841\n"
     ]
    },
    {
     "name": "stderr",
     "output_type": "stream",
     "text": [
      "100%|██████████| 313/313 [00:15<00:00, 19.83it/s]\n",
      "100%|██████████| 282/282 [00:11<00:00, 24.48it/s]\n"
     ]
    },
    {
     "name": "stdout",
     "output_type": "stream",
     "text": [
      "EPOCH 18: Train acc: 88.83% Train Loss: 0.3199 Test acc: 57.30% Test Loss: 5.5373\n"
     ]
    },
    {
     "name": "stderr",
     "output_type": "stream",
     "text": [
      "100%|██████████| 313/313 [00:15<00:00, 19.83it/s]\n",
      "100%|██████████| 282/282 [00:11<00:00, 24.37it/s]\n"
     ]
    },
    {
     "name": "stdout",
     "output_type": "stream",
     "text": [
      "EPOCH 19: Train acc: 88.56% Train Loss: 0.3232 Test acc: 59.28% Test Loss: 4.1623\n"
     ]
    },
    {
     "name": "stderr",
     "output_type": "stream",
     "text": [
      "100%|██████████| 313/313 [00:15<00:00, 19.87it/s]\n",
      "100%|██████████| 282/282 [00:11<00:00, 24.39it/s]\n"
     ]
    },
    {
     "name": "stdout",
     "output_type": "stream",
     "text": [
      "EPOCH 20: Train acc: 90.09% Train Loss: 0.2905 Test acc: 59.83% Test Loss: 4.1809\n"
     ]
    },
    {
     "name": "stderr",
     "output_type": "stream",
     "text": [
      "100%|██████████| 313/313 [00:15<00:00, 19.90it/s]\n",
      "100%|██████████| 282/282 [00:11<00:00, 24.48it/s]\n"
     ]
    },
    {
     "name": "stdout",
     "output_type": "stream",
     "text": [
      "EPOCH 21: Train acc: 90.71% Train Loss: 0.2737 Test acc: 58.97% Test Loss: 4.1274\n"
     ]
    },
    {
     "name": "stderr",
     "output_type": "stream",
     "text": [
      "100%|██████████| 313/313 [00:15<00:00, 19.75it/s]\n",
      "100%|██████████| 282/282 [00:11<00:00, 24.39it/s]\n"
     ]
    },
    {
     "name": "stdout",
     "output_type": "stream",
     "text": [
      "EPOCH 22: Train acc: 80.26% Train Loss: 1.2915 Test acc: 56.40% Test Loss: 3.4324\n"
     ]
    },
    {
     "name": "stderr",
     "output_type": "stream",
     "text": [
      "100%|██████████| 313/313 [00:15<00:00, 19.77it/s]\n",
      "100%|██████████| 282/282 [00:11<00:00, 24.36it/s]\n"
     ]
    },
    {
     "name": "stdout",
     "output_type": "stream",
     "text": [
      "EPOCH 23: Train acc: 78.30% Train Loss: 0.6360 Test acc: 58.82% Test Loss: 3.3461\n"
     ]
    },
    {
     "name": "stderr",
     "output_type": "stream",
     "text": [
      "100%|██████████| 313/313 [00:15<00:00, 19.87it/s]\n",
      "100%|██████████| 282/282 [00:11<00:00, 24.46it/s]\n"
     ]
    },
    {
     "name": "stdout",
     "output_type": "stream",
     "text": [
      "EPOCH 24: Train acc: 84.12% Train Loss: 0.4507 Test acc: 59.64% Test Loss: 3.1566\n"
     ]
    },
    {
     "name": "stderr",
     "output_type": "stream",
     "text": [
      "100%|██████████| 313/313 [00:15<00:00, 19.81it/s]\n",
      "100%|██████████| 282/282 [00:11<00:00, 24.26it/s]\n"
     ]
    },
    {
     "name": "stdout",
     "output_type": "stream",
     "text": [
      "EPOCH 25: Train acc: 88.90% Train Loss: 0.3218 Test acc: 61.00% Test Loss: 4.1526\n"
     ]
    },
    {
     "name": "stderr",
     "output_type": "stream",
     "text": [
      "100%|██████████| 313/313 [00:15<00:00, 19.80it/s]\n",
      "100%|██████████| 282/282 [00:11<00:00, 24.39it/s]\n"
     ]
    },
    {
     "name": "stdout",
     "output_type": "stream",
     "text": [
      "EPOCH 26: Train acc: 90.52% Train Loss: 0.2683 Test acc: 60.20% Test Loss: 6.3742\n"
     ]
    },
    {
     "name": "stderr",
     "output_type": "stream",
     "text": [
      "100%|██████████| 313/313 [00:15<00:00, 19.80it/s]\n",
      "100%|██████████| 282/282 [00:11<00:00, 24.30it/s]\n"
     ]
    },
    {
     "name": "stdout",
     "output_type": "stream",
     "text": [
      "EPOCH 27: Train acc: 92.13% Train Loss: 0.2245 Test acc: 61.33% Test Loss: 4.5027\n"
     ]
    },
    {
     "name": "stderr",
     "output_type": "stream",
     "text": [
      "100%|██████████| 313/313 [00:15<00:00, 19.81it/s]\n",
      "100%|██████████| 282/282 [00:11<00:00, 24.46it/s]\n"
     ]
    },
    {
     "name": "stdout",
     "output_type": "stream",
     "text": [
      "EPOCH 28: Train acc: 93.67% Train Loss: 0.1762 Test acc: 60.93% Test Loss: 4.4177\n"
     ]
    },
    {
     "name": "stderr",
     "output_type": "stream",
     "text": [
      "100%|██████████| 313/313 [00:15<00:00, 19.77it/s]\n",
      "100%|██████████| 282/282 [00:11<00:00, 24.23it/s]\n"
     ]
    },
    {
     "name": "stdout",
     "output_type": "stream",
     "text": [
      "EPOCH 29: Train acc: 93.79% Train Loss: 0.1781 Test acc: 62.36% Test Loss: 4.3681\n"
     ]
    },
    {
     "name": "stderr",
     "output_type": "stream",
     "text": [
      "100%|██████████| 313/313 [00:15<00:00, 19.93it/s]\n",
      "100%|██████████| 282/282 [00:11<00:00, 24.27it/s]\n"
     ]
    },
    {
     "name": "stdout",
     "output_type": "stream",
     "text": [
      "EPOCH 30: Train acc: 95.55% Train Loss: 0.1320 Test acc: 59.62% Test Loss: 4.7229\n"
     ]
    },
    {
     "name": "stderr",
     "output_type": "stream",
     "text": [
      "100%|██████████| 313/313 [00:15<00:00, 19.86it/s]\n",
      "100%|██████████| 282/282 [00:11<00:00, 24.35it/s]\n"
     ]
    },
    {
     "name": "stdout",
     "output_type": "stream",
     "text": [
      "EPOCH 31: Train acc: 95.58% Train Loss: 0.1224 Test acc: 58.01% Test Loss: 5.0348\n"
     ]
    },
    {
     "name": "stderr",
     "output_type": "stream",
     "text": [
      "100%|██████████| 313/313 [00:15<00:00, 19.99it/s]\n",
      "100%|██████████| 282/282 [00:11<00:00, 24.29it/s]\n"
     ]
    },
    {
     "name": "stdout",
     "output_type": "stream",
     "text": [
      "EPOCH 32: Train acc: 95.93% Train Loss: 0.1281 Test acc: 61.49% Test Loss: 6.0942\n"
     ]
    },
    {
     "name": "stderr",
     "output_type": "stream",
     "text": [
      "100%|██████████| 313/313 [00:15<00:00, 19.69it/s]\n",
      "100%|██████████| 282/282 [00:11<00:00, 24.32it/s]\n"
     ]
    },
    {
     "name": "stdout",
     "output_type": "stream",
     "text": [
      "EPOCH 33: Train acc: 94.93% Train Loss: 0.1597 Test acc: 61.40% Test Loss: 4.2805\n"
     ]
    },
    {
     "name": "stderr",
     "output_type": "stream",
     "text": [
      "100%|██████████| 313/313 [00:15<00:00, 19.60it/s]\n",
      "100%|██████████| 282/282 [00:11<00:00, 24.34it/s]\n"
     ]
    },
    {
     "name": "stdout",
     "output_type": "stream",
     "text": [
      "EPOCH 34: Train acc: 96.28% Train Loss: 0.1209 Test acc: 60.29% Test Loss: 5.0973\n"
     ]
    },
    {
     "name": "stderr",
     "output_type": "stream",
     "text": [
      "100%|██████████| 313/313 [00:15<00:00, 19.85it/s]\n",
      "100%|██████████| 282/282 [00:11<00:00, 24.28it/s]\n"
     ]
    },
    {
     "name": "stdout",
     "output_type": "stream",
     "text": [
      "EPOCH 35: Train acc: 96.03% Train Loss: 0.1349 Test acc: 61.79% Test Loss: 5.2981\n"
     ]
    },
    {
     "name": "stderr",
     "output_type": "stream",
     "text": [
      "100%|██████████| 313/313 [00:15<00:00, 19.98it/s]\n",
      "100%|██████████| 282/282 [00:11<00:00, 24.35it/s]\n"
     ]
    },
    {
     "name": "stdout",
     "output_type": "stream",
     "text": [
      "EPOCH 36: Train acc: 94.99% Train Loss: 0.1714 Test acc: 59.38% Test Loss: 3.6429\n"
     ]
    },
    {
     "name": "stderr",
     "output_type": "stream",
     "text": [
      "100%|██████████| 313/313 [00:15<00:00, 19.91it/s]\n",
      "100%|██████████| 282/282 [00:11<00:00, 24.23it/s]\n"
     ]
    },
    {
     "name": "stdout",
     "output_type": "stream",
     "text": [
      "EPOCH 37: Train acc: 95.22% Train Loss: 0.1529 Test acc: 60.76% Test Loss: 5.0584\n"
     ]
    },
    {
     "name": "stderr",
     "output_type": "stream",
     "text": [
      "100%|██████████| 313/313 [00:15<00:00, 19.65it/s]\n",
      "100%|██████████| 282/282 [00:11<00:00, 24.30it/s]\n"
     ]
    },
    {
     "name": "stdout",
     "output_type": "stream",
     "text": [
      "EPOCH 38: Train acc: 95.95% Train Loss: 0.1257 Test acc: 61.16% Test Loss: 3.9358\n"
     ]
    },
    {
     "name": "stderr",
     "output_type": "stream",
     "text": [
      "100%|██████████| 313/313 [00:15<00:00, 19.95it/s]\n",
      "100%|██████████| 282/282 [00:11<00:00, 24.34it/s]\n"
     ]
    },
    {
     "name": "stdout",
     "output_type": "stream",
     "text": [
      "EPOCH 39: Train acc: 96.32% Train Loss: 0.1285 Test acc: 59.44% Test Loss: 4.1950\n"
     ]
    },
    {
     "name": "stderr",
     "output_type": "stream",
     "text": [
      "100%|██████████| 313/313 [00:15<00:00, 19.73it/s]\n",
      "100%|██████████| 282/282 [00:11<00:00, 24.38it/s]\n"
     ]
    },
    {
     "name": "stdout",
     "output_type": "stream",
     "text": [
      "EPOCH 40: Train acc: 94.39% Train Loss: 0.2204 Test acc: 60.50% Test Loss: 4.2148\n"
     ]
    },
    {
     "name": "stderr",
     "output_type": "stream",
     "text": [
      "100%|██████████| 313/313 [00:15<00:00, 19.64it/s]\n",
      "100%|██████████| 282/282 [00:11<00:00, 24.18it/s]\n"
     ]
    },
    {
     "name": "stdout",
     "output_type": "stream",
     "text": [
      "EPOCH 41: Train acc: 96.29% Train Loss: 0.1182 Test acc: 60.82% Test Loss: 4.5790\n"
     ]
    },
    {
     "name": "stderr",
     "output_type": "stream",
     "text": [
      "100%|██████████| 313/313 [00:15<00:00, 19.69it/s]\n",
      "100%|██████████| 282/282 [00:11<00:00, 24.42it/s]\n"
     ]
    },
    {
     "name": "stdout",
     "output_type": "stream",
     "text": [
      "EPOCH 42: Train acc: 96.28% Train Loss: 0.1444 Test acc: 60.67% Test Loss: 4.4903\n"
     ]
    },
    {
     "name": "stderr",
     "output_type": "stream",
     "text": [
      "100%|██████████| 313/313 [00:15<00:00, 19.88it/s]\n",
      "100%|██████████| 282/282 [00:11<00:00, 24.42it/s]\n"
     ]
    },
    {
     "name": "stdout",
     "output_type": "stream",
     "text": [
      "EPOCH 43: Train acc: 97.45% Train Loss: 0.0874 Test acc: 61.61% Test Loss: 4.4013\n"
     ]
    },
    {
     "name": "stderr",
     "output_type": "stream",
     "text": [
      "100%|██████████| 313/313 [00:15<00:00, 19.72it/s]\n",
      "100%|██████████| 282/282 [00:11<00:00, 24.50it/s]\n"
     ]
    },
    {
     "name": "stdout",
     "output_type": "stream",
     "text": [
      "EPOCH 44: Train acc: 97.04% Train Loss: 0.1000 Test acc: 61.82% Test Loss: 4.3974\n"
     ]
    },
    {
     "name": "stderr",
     "output_type": "stream",
     "text": [
      "100%|██████████| 313/313 [00:15<00:00, 19.65it/s]\n",
      "100%|██████████| 282/282 [00:11<00:00, 24.24it/s]\n"
     ]
    },
    {
     "name": "stdout",
     "output_type": "stream",
     "text": [
      "EPOCH 45: Train acc: 97.49% Train Loss: 0.0850 Test acc: 61.76% Test Loss: 4.7918\n"
     ]
    },
    {
     "name": "stderr",
     "output_type": "stream",
     "text": [
      "100%|██████████| 313/313 [00:15<00:00, 19.80it/s]\n",
      "100%|██████████| 282/282 [00:11<00:00, 24.29it/s]\n"
     ]
    },
    {
     "name": "stdout",
     "output_type": "stream",
     "text": [
      "EPOCH 46: Train acc: 98.66% Train Loss: 0.0462 Test acc: 60.88% Test Loss: 4.6841\n"
     ]
    },
    {
     "name": "stderr",
     "output_type": "stream",
     "text": [
      "100%|██████████| 313/313 [00:15<00:00, 19.85it/s]\n",
      "100%|██████████| 282/282 [00:11<00:00, 24.53it/s]\n"
     ]
    },
    {
     "name": "stdout",
     "output_type": "stream",
     "text": [
      "EPOCH 47: Train acc: 98.04% Train Loss: 0.0640 Test acc: 60.92% Test Loss: 4.4049\n"
     ]
    },
    {
     "name": "stderr",
     "output_type": "stream",
     "text": [
      "100%|██████████| 313/313 [00:15<00:00, 19.84it/s]\n",
      "100%|██████████| 282/282 [00:11<00:00, 24.36it/s]\n"
     ]
    },
    {
     "name": "stdout",
     "output_type": "stream",
     "text": [
      "EPOCH 48: Train acc: 97.70% Train Loss: 0.0696 Test acc: 61.09% Test Loss: 4.2211\n"
     ]
    },
    {
     "name": "stderr",
     "output_type": "stream",
     "text": [
      "100%|██████████| 313/313 [00:15<00:00, 19.77it/s]\n",
      "100%|██████████| 282/282 [00:11<00:00, 24.49it/s]\n"
     ]
    },
    {
     "name": "stdout",
     "output_type": "stream",
     "text": [
      "EPOCH 49: Train acc: 98.05% Train Loss: 0.0703 Test acc: 61.54% Test Loss: 4.6765\n"
     ]
    },
    {
     "name": "stderr",
     "output_type": "stream",
     "text": [
      "100%|██████████| 313/313 [00:15<00:00, 19.80it/s]\n",
      "100%|██████████| 282/282 [00:11<00:00, 24.49it/s]\n"
     ]
    },
    {
     "name": "stdout",
     "output_type": "stream",
     "text": [
      "EPOCH 50: Train acc: 97.99% Train Loss: 0.0736 Test acc: 61.02% Test Loss: 4.3029\n"
     ]
    },
    {
     "name": "stderr",
     "output_type": "stream",
     "text": [
      "100%|██████████| 313/313 [00:15<00:00, 19.79it/s]\n",
      "100%|██████████| 282/282 [00:11<00:00, 23.90it/s]\n"
     ]
    },
    {
     "name": "stdout",
     "output_type": "stream",
     "text": [
      "EPOCH 51: Train acc: 97.89% Train Loss: 0.0722 Test acc: 60.98% Test Loss: 5.1153\n"
     ]
    },
    {
     "name": "stderr",
     "output_type": "stream",
     "text": [
      "100%|██████████| 313/313 [00:15<00:00, 19.70it/s]\n",
      "100%|██████████| 282/282 [00:11<00:00, 24.34it/s]\n"
     ]
    },
    {
     "name": "stdout",
     "output_type": "stream",
     "text": [
      "EPOCH 52: Train acc: 96.88% Train Loss: 0.1131 Test acc: 62.57% Test Loss: 4.6931\n"
     ]
    },
    {
     "name": "stderr",
     "output_type": "stream",
     "text": [
      "100%|██████████| 313/313 [00:15<00:00, 19.81it/s]\n",
      "100%|██████████| 282/282 [00:11<00:00, 24.27it/s]\n"
     ]
    },
    {
     "name": "stdout",
     "output_type": "stream",
     "text": [
      "EPOCH 53: Train acc: 98.82% Train Loss: 0.0367 Test acc: 62.06% Test Loss: 5.1976\n"
     ]
    },
    {
     "name": "stderr",
     "output_type": "stream",
     "text": [
      "100%|██████████| 313/313 [00:15<00:00, 19.81it/s]\n",
      "100%|██████████| 282/282 [00:11<00:00, 24.25it/s]\n"
     ]
    },
    {
     "name": "stdout",
     "output_type": "stream",
     "text": [
      "EPOCH 54: Train acc: 96.51% Train Loss: 0.1292 Test acc: 57.46% Test Loss: 4.2500\n"
     ]
    },
    {
     "name": "stderr",
     "output_type": "stream",
     "text": [
      "100%|██████████| 313/313 [00:15<00:00, 19.67it/s]\n",
      "100%|██████████| 282/282 [00:11<00:00, 24.27it/s]\n"
     ]
    },
    {
     "name": "stdout",
     "output_type": "stream",
     "text": [
      "EPOCH 55: Train acc: 97.28% Train Loss: 0.0831 Test acc: 60.94% Test Loss: 4.7210\n"
     ]
    },
    {
     "name": "stderr",
     "output_type": "stream",
     "text": [
      "100%|██████████| 313/313 [00:15<00:00, 19.71it/s]\n",
      "100%|██████████| 282/282 [00:11<00:00, 24.46it/s]\n"
     ]
    },
    {
     "name": "stdout",
     "output_type": "stream",
     "text": [
      "EPOCH 56: Train acc: 98.64% Train Loss: 0.0506 Test acc: 60.38% Test Loss: 4.9574\n"
     ]
    },
    {
     "name": "stderr",
     "output_type": "stream",
     "text": [
      "100%|██████████| 313/313 [00:15<00:00, 19.71it/s]\n",
      "100%|██████████| 282/282 [00:11<00:00, 24.32it/s]\n"
     ]
    },
    {
     "name": "stdout",
     "output_type": "stream",
     "text": [
      "EPOCH 57: Train acc: 98.56% Train Loss: 0.0511 Test acc: 61.37% Test Loss: 5.7427\n"
     ]
    },
    {
     "name": "stderr",
     "output_type": "stream",
     "text": [
      "100%|██████████| 313/313 [00:15<00:00, 19.84it/s]\n",
      "100%|██████████| 282/282 [00:11<00:00, 24.32it/s]\n"
     ]
    },
    {
     "name": "stdout",
     "output_type": "stream",
     "text": [
      "EPOCH 58: Train acc: 98.51% Train Loss: 0.0535 Test acc: 61.06% Test Loss: 4.7627\n"
     ]
    },
    {
     "name": "stderr",
     "output_type": "stream",
     "text": [
      "100%|██████████| 313/313 [00:15<00:00, 19.65it/s]\n",
      "100%|██████████| 282/282 [00:11<00:00, 24.50it/s]\n"
     ]
    },
    {
     "name": "stdout",
     "output_type": "stream",
     "text": [
      "EPOCH 59: Train acc: 98.71% Train Loss: 0.0463 Test acc: 61.67% Test Loss: 5.0647\n"
     ]
    },
    {
     "name": "stderr",
     "output_type": "stream",
     "text": [
      "100%|██████████| 313/313 [00:15<00:00, 19.73it/s]\n",
      "100%|██████████| 282/282 [00:11<00:00, 24.22it/s]\n"
     ]
    },
    {
     "name": "stdout",
     "output_type": "stream",
     "text": [
      "EPOCH 60: Train acc: 98.78% Train Loss: 0.0383 Test acc: 61.79% Test Loss: 6.2842\n"
     ]
    },
    {
     "name": "stderr",
     "output_type": "stream",
     "text": [
      "100%|██████████| 313/313 [00:15<00:00, 19.80it/s]\n",
      "100%|██████████| 282/282 [00:11<00:00, 24.40it/s]\n"
     ]
    },
    {
     "name": "stdout",
     "output_type": "stream",
     "text": [
      "EPOCH 61: Train acc: 99.02% Train Loss: 0.0331 Test acc: 62.47% Test Loss: 5.5023\n"
     ]
    },
    {
     "name": "stderr",
     "output_type": "stream",
     "text": [
      "100%|██████████| 313/313 [00:15<00:00, 19.76it/s]\n",
      "100%|██████████| 282/282 [00:11<00:00, 24.34it/s]\n"
     ]
    },
    {
     "name": "stdout",
     "output_type": "stream",
     "text": [
      "EPOCH 62: Train acc: 99.18% Train Loss: 0.0310 Test acc: 62.06% Test Loss: 6.4970\n"
     ]
    },
    {
     "name": "stderr",
     "output_type": "stream",
     "text": [
      "100%|██████████| 313/313 [00:15<00:00, 19.75it/s]\n",
      "100%|██████████| 282/282 [00:11<00:00, 24.54it/s]\n"
     ]
    },
    {
     "name": "stdout",
     "output_type": "stream",
     "text": [
      "EPOCH 63: Train acc: 94.05% Train Loss: 0.2272 Test acc: 60.28% Test Loss: 5.1026\n"
     ]
    },
    {
     "name": "stderr",
     "output_type": "stream",
     "text": [
      "100%|██████████| 313/313 [00:15<00:00, 19.75it/s]\n",
      "100%|██████████| 282/282 [00:11<00:00, 24.37it/s]\n"
     ]
    },
    {
     "name": "stdout",
     "output_type": "stream",
     "text": [
      "EPOCH 64: Train acc: 98.97% Train Loss: 0.0342 Test acc: 60.66% Test Loss: 4.5376\n"
     ]
    },
    {
     "name": "stderr",
     "output_type": "stream",
     "text": [
      "100%|██████████| 313/313 [00:15<00:00, 19.81it/s]\n",
      "100%|██████████| 282/282 [00:11<00:00, 24.49it/s]\n"
     ]
    },
    {
     "name": "stdout",
     "output_type": "stream",
     "text": [
      "EPOCH 65: Train acc: 99.43% Train Loss: 0.0197 Test acc: 61.59% Test Loss: 5.2420\n"
     ]
    },
    {
     "name": "stderr",
     "output_type": "stream",
     "text": [
      "100%|██████████| 313/313 [00:15<00:00, 19.82it/s]\n",
      "100%|██████████| 282/282 [00:11<00:00, 24.38it/s]\n"
     ]
    },
    {
     "name": "stdout",
     "output_type": "stream",
     "text": [
      "EPOCH 66: Train acc: 98.61% Train Loss: 0.0518 Test acc: 60.88% Test Loss: 6.4261\n"
     ]
    },
    {
     "name": "stderr",
     "output_type": "stream",
     "text": [
      "100%|██████████| 313/313 [00:15<00:00, 19.72it/s]\n",
      "100%|██████████| 282/282 [00:11<00:00, 24.30it/s]\n"
     ]
    },
    {
     "name": "stdout",
     "output_type": "stream",
     "text": [
      "EPOCH 67: Train acc: 98.98% Train Loss: 0.0431 Test acc: 61.29% Test Loss: 6.2275\n"
     ]
    },
    {
     "name": "stderr",
     "output_type": "stream",
     "text": [
      "100%|██████████| 313/313 [00:15<00:00, 19.73it/s]\n",
      "100%|██████████| 282/282 [00:11<00:00, 24.41it/s]\n"
     ]
    },
    {
     "name": "stdout",
     "output_type": "stream",
     "text": [
      "EPOCH 68: Train acc: 98.19% Train Loss: 0.0811 Test acc: 61.80% Test Loss: 4.9602\n"
     ]
    },
    {
     "name": "stderr",
     "output_type": "stream",
     "text": [
      "100%|██████████| 313/313 [00:15<00:00, 19.87it/s]\n",
      "100%|██████████| 282/282 [00:11<00:00, 24.28it/s]\n"
     ]
    },
    {
     "name": "stdout",
     "output_type": "stream",
     "text": [
      "EPOCH 69: Train acc: 98.70% Train Loss: 0.0480 Test acc: 59.91% Test Loss: 5.9507\n"
     ]
    },
    {
     "name": "stderr",
     "output_type": "stream",
     "text": [
      "100%|██████████| 313/313 [00:15<00:00, 19.79it/s]\n",
      "100%|██████████| 282/282 [00:11<00:00, 24.35it/s]\n"
     ]
    },
    {
     "name": "stdout",
     "output_type": "stream",
     "text": [
      "EPOCH 70: Train acc: 99.13% Train Loss: 0.0318 Test acc: 61.27% Test Loss: 5.6097\n"
     ]
    },
    {
     "name": "stderr",
     "output_type": "stream",
     "text": [
      "100%|██████████| 313/313 [00:15<00:00, 19.78it/s]\n",
      "100%|██████████| 282/282 [00:11<00:00, 24.41it/s]\n"
     ]
    },
    {
     "name": "stdout",
     "output_type": "stream",
     "text": [
      "EPOCH 71: Train acc: 99.26% Train Loss: 0.0250 Test acc: 58.19% Test Loss: 5.8431\n"
     ]
    },
    {
     "name": "stderr",
     "output_type": "stream",
     "text": [
      "100%|██████████| 313/313 [00:15<00:00, 20.01it/s]\n",
      "100%|██████████| 282/282 [00:11<00:00, 24.15it/s]\n"
     ]
    },
    {
     "name": "stdout",
     "output_type": "stream",
     "text": [
      "EPOCH 72: Train acc: 97.53% Train Loss: 0.1238 Test acc: 59.27% Test Loss: 7.4737\n"
     ]
    },
    {
     "name": "stderr",
     "output_type": "stream",
     "text": [
      "100%|██████████| 313/313 [00:15<00:00, 19.80it/s]\n",
      "100%|██████████| 282/282 [00:11<00:00, 24.49it/s]\n"
     ]
    },
    {
     "name": "stdout",
     "output_type": "stream",
     "text": [
      "EPOCH 73: Train acc: 99.09% Train Loss: 0.0313 Test acc: 61.80% Test Loss: 7.8686\n"
     ]
    },
    {
     "name": "stderr",
     "output_type": "stream",
     "text": [
      "100%|██████████| 313/313 [00:15<00:00, 19.84it/s]\n",
      "100%|██████████| 282/282 [00:11<00:00, 24.23it/s]\n"
     ]
    },
    {
     "name": "stdout",
     "output_type": "stream",
     "text": [
      "EPOCH 74: Train acc: 99.42% Train Loss: 0.0246 Test acc: 61.58% Test Loss: 6.0579\n"
     ]
    },
    {
     "name": "stderr",
     "output_type": "stream",
     "text": [
      "100%|██████████| 313/313 [00:15<00:00, 19.81it/s]\n",
      "100%|██████████| 282/282 [00:11<00:00, 24.05it/s]\n"
     ]
    },
    {
     "name": "stdout",
     "output_type": "stream",
     "text": [
      "EPOCH 75: Train acc: 98.96% Train Loss: 0.0376 Test acc: 57.78% Test Loss: 6.1282\n"
     ]
    },
    {
     "name": "stderr",
     "output_type": "stream",
     "text": [
      "100%|██████████| 313/313 [00:15<00:00, 19.87it/s]\n",
      "100%|██████████| 282/282 [00:11<00:00, 24.30it/s]\n"
     ]
    },
    {
     "name": "stdout",
     "output_type": "stream",
     "text": [
      "EPOCH 76: Train acc: 98.82% Train Loss: 0.0454 Test acc: 60.47% Test Loss: 5.2763\n"
     ]
    },
    {
     "name": "stderr",
     "output_type": "stream",
     "text": [
      "100%|██████████| 313/313 [00:15<00:00, 19.94it/s]\n",
      "100%|██████████| 282/282 [00:11<00:00, 24.50it/s]\n"
     ]
    },
    {
     "name": "stdout",
     "output_type": "stream",
     "text": [
      "EPOCH 77: Train acc: 98.72% Train Loss: 0.0435 Test acc: 60.61% Test Loss: 6.4512\n"
     ]
    },
    {
     "name": "stderr",
     "output_type": "stream",
     "text": [
      "100%|██████████| 313/313 [00:15<00:00, 19.80it/s]\n",
      "100%|██████████| 282/282 [00:11<00:00, 24.38it/s]\n"
     ]
    },
    {
     "name": "stdout",
     "output_type": "stream",
     "text": [
      "EPOCH 78: Train acc: 99.30% Train Loss: 0.0262 Test acc: 61.43% Test Loss: 5.6013\n"
     ]
    },
    {
     "name": "stderr",
     "output_type": "stream",
     "text": [
      "100%|██████████| 313/313 [00:15<00:00, 19.68it/s]\n",
      "100%|██████████| 282/282 [00:11<00:00, 24.45it/s]\n"
     ]
    },
    {
     "name": "stdout",
     "output_type": "stream",
     "text": [
      "EPOCH 79: Train acc: 99.34% Train Loss: 0.0235 Test acc: 62.02% Test Loss: 6.2797\n"
     ]
    },
    {
     "name": "stderr",
     "output_type": "stream",
     "text": [
      "100%|██████████| 313/313 [00:15<00:00, 19.73it/s]\n",
      "100%|██████████| 282/282 [00:11<00:00, 24.10it/s]\n"
     ]
    },
    {
     "name": "stdout",
     "output_type": "stream",
     "text": [
      "EPOCH 80: Train acc: 98.69% Train Loss: 0.0542 Test acc: 61.04% Test Loss: 6.2032\n"
     ]
    },
    {
     "name": "stderr",
     "output_type": "stream",
     "text": [
      "100%|██████████| 313/313 [00:15<00:00, 19.80it/s]\n",
      "100%|██████████| 282/282 [00:11<00:00, 24.40it/s]\n"
     ]
    },
    {
     "name": "stdout",
     "output_type": "stream",
     "text": [
      "EPOCH 81: Train acc: 99.28% Train Loss: 0.0220 Test acc: 60.50% Test Loss: 8.1949\n"
     ]
    },
    {
     "name": "stderr",
     "output_type": "stream",
     "text": [
      "100%|██████████| 313/313 [00:15<00:00, 19.77it/s]\n",
      "100%|██████████| 282/282 [00:11<00:00, 24.36it/s]\n"
     ]
    },
    {
     "name": "stdout",
     "output_type": "stream",
     "text": [
      "EPOCH 82: Train acc: 98.71% Train Loss: 0.0482 Test acc: 60.61% Test Loss: 6.5754\n"
     ]
    },
    {
     "name": "stderr",
     "output_type": "stream",
     "text": [
      "100%|██████████| 313/313 [00:15<00:00, 19.78it/s]\n",
      "100%|██████████| 282/282 [00:11<00:00, 24.40it/s]\n"
     ]
    },
    {
     "name": "stdout",
     "output_type": "stream",
     "text": [
      "EPOCH 83: Train acc: 98.23% Train Loss: 0.0832 Test acc: 60.79% Test Loss: 5.7959\n"
     ]
    },
    {
     "name": "stderr",
     "output_type": "stream",
     "text": [
      "100%|██████████| 313/313 [00:15<00:00, 19.89it/s]\n",
      "100%|██████████| 282/282 [00:11<00:00, 24.35it/s]\n"
     ]
    },
    {
     "name": "stdout",
     "output_type": "stream",
     "text": [
      "EPOCH 84: Train acc: 99.45% Train Loss: 0.0179 Test acc: 59.23% Test Loss: 6.4252\n"
     ]
    },
    {
     "name": "stderr",
     "output_type": "stream",
     "text": [
      "100%|██████████| 313/313 [00:15<00:00, 19.80it/s]\n",
      "100%|██████████| 282/282 [00:11<00:00, 24.38it/s]\n"
     ]
    },
    {
     "name": "stdout",
     "output_type": "stream",
     "text": [
      "EPOCH 85: Train acc: 99.24% Train Loss: 0.0279 Test acc: 62.22% Test Loss: 6.3695\n"
     ]
    },
    {
     "name": "stderr",
     "output_type": "stream",
     "text": [
      "100%|██████████| 313/313 [00:15<00:00, 19.79it/s]\n",
      "100%|██████████| 282/282 [00:11<00:00, 24.38it/s]\n"
     ]
    },
    {
     "name": "stdout",
     "output_type": "stream",
     "text": [
      "EPOCH 86: Train acc: 99.57% Train Loss: 0.0123 Test acc: 60.41% Test Loss: 4.9232\n"
     ]
    },
    {
     "name": "stderr",
     "output_type": "stream",
     "text": [
      "100%|██████████| 313/313 [00:15<00:00, 19.86it/s]\n",
      "100%|██████████| 282/282 [00:11<00:00, 24.43it/s]\n"
     ]
    },
    {
     "name": "stdout",
     "output_type": "stream",
     "text": [
      "EPOCH 87: Train acc: 99.06% Train Loss: 0.0324 Test acc: 57.11% Test Loss: 6.5320\n"
     ]
    },
    {
     "name": "stderr",
     "output_type": "stream",
     "text": [
      "100%|██████████| 313/313 [00:15<00:00, 19.79it/s]\n",
      "100%|██████████| 282/282 [00:11<00:00, 24.46it/s]\n"
     ]
    },
    {
     "name": "stdout",
     "output_type": "stream",
     "text": [
      "EPOCH 88: Train acc: 99.10% Train Loss: 0.0273 Test acc: 61.09% Test Loss: 6.1336\n"
     ]
    },
    {
     "name": "stderr",
     "output_type": "stream",
     "text": [
      "100%|██████████| 313/313 [00:15<00:00, 19.71it/s]\n",
      "100%|██████████| 282/282 [00:11<00:00, 24.34it/s]\n"
     ]
    },
    {
     "name": "stdout",
     "output_type": "stream",
     "text": [
      "EPOCH 89: Train acc: 99.35% Train Loss: 0.0230 Test acc: 61.18% Test Loss: 6.0290\n"
     ]
    },
    {
     "name": "stderr",
     "output_type": "stream",
     "text": [
      "100%|██████████| 313/313 [00:15<00:00, 19.78it/s]\n",
      "100%|██████████| 282/282 [00:11<00:00, 24.34it/s]\n"
     ]
    },
    {
     "name": "stdout",
     "output_type": "stream",
     "text": [
      "EPOCH 90: Train acc: 98.85% Train Loss: 0.0337 Test acc: 61.51% Test Loss: 5.5496\n"
     ]
    },
    {
     "name": "stderr",
     "output_type": "stream",
     "text": [
      "100%|██████████| 313/313 [00:15<00:00, 19.94it/s]\n",
      "100%|██████████| 282/282 [00:11<00:00, 24.25it/s]\n"
     ]
    },
    {
     "name": "stdout",
     "output_type": "stream",
     "text": [
      "EPOCH 91: Train acc: 99.10% Train Loss: 0.0337 Test acc: 61.34% Test Loss: 6.2318\n"
     ]
    },
    {
     "name": "stderr",
     "output_type": "stream",
     "text": [
      "100%|██████████| 313/313 [00:15<00:00, 19.88it/s]\n",
      "100%|██████████| 282/282 [00:11<00:00, 24.41it/s]\n"
     ]
    },
    {
     "name": "stdout",
     "output_type": "stream",
     "text": [
      "EPOCH 92: Train acc: 98.95% Train Loss: 0.0427 Test acc: 60.47% Test Loss: 6.4729\n"
     ]
    },
    {
     "name": "stderr",
     "output_type": "stream",
     "text": [
      "100%|██████████| 313/313 [00:15<00:00, 19.82it/s]\n",
      "100%|██████████| 282/282 [00:11<00:00, 24.36it/s]\n"
     ]
    },
    {
     "name": "stdout",
     "output_type": "stream",
     "text": [
      "EPOCH 93: Train acc: 99.13% Train Loss: 0.0374 Test acc: 61.96% Test Loss: 7.8615\n"
     ]
    },
    {
     "name": "stderr",
     "output_type": "stream",
     "text": [
      "100%|██████████| 313/313 [00:15<00:00, 19.86it/s]\n",
      "100%|██████████| 282/282 [00:11<00:00, 24.41it/s]\n"
     ]
    },
    {
     "name": "stdout",
     "output_type": "stream",
     "text": [
      "EPOCH 94: Train acc: 99.11% Train Loss: 0.0270 Test acc: 61.11% Test Loss: 6.2792\n"
     ]
    },
    {
     "name": "stderr",
     "output_type": "stream",
     "text": [
      "100%|██████████| 313/313 [00:15<00:00, 19.83it/s]\n",
      "100%|██████████| 282/282 [00:11<00:00, 24.47it/s]\n"
     ]
    },
    {
     "name": "stdout",
     "output_type": "stream",
     "text": [
      "EPOCH 95: Train acc: 99.57% Train Loss: 0.0115 Test acc: 61.72% Test Loss: 6.9858\n"
     ]
    },
    {
     "name": "stderr",
     "output_type": "stream",
     "text": [
      "100%|██████████| 313/313 [00:15<00:00, 19.76it/s]\n",
      "100%|██████████| 282/282 [00:11<00:00, 24.43it/s]\n"
     ]
    },
    {
     "name": "stdout",
     "output_type": "stream",
     "text": [
      "EPOCH 96: Train acc: 98.81% Train Loss: 0.0475 Test acc: 57.62% Test Loss: 5.5841\n"
     ]
    },
    {
     "name": "stderr",
     "output_type": "stream",
     "text": [
      "100%|██████████| 313/313 [00:15<00:00, 19.95it/s]\n",
      "100%|██████████| 282/282 [00:11<00:00, 24.20it/s]\n"
     ]
    },
    {
     "name": "stdout",
     "output_type": "stream",
     "text": [
      "EPOCH 97: Train acc: 98.91% Train Loss: 0.0336 Test acc: 62.66% Test Loss: 5.8669\n"
     ]
    },
    {
     "name": "stderr",
     "output_type": "stream",
     "text": [
      "100%|██████████| 313/313 [00:15<00:00, 19.78it/s]\n",
      "100%|██████████| 282/282 [00:11<00:00, 24.46it/s]\n"
     ]
    },
    {
     "name": "stdout",
     "output_type": "stream",
     "text": [
      "EPOCH 98: Train acc: 99.53% Train Loss: 0.0134 Test acc: 61.97% Test Loss: 6.0490\n"
     ]
    },
    {
     "name": "stderr",
     "output_type": "stream",
     "text": [
      "100%|██████████| 313/313 [00:15<00:00, 19.66it/s]\n",
      "100%|██████████| 282/282 [00:11<00:00, 24.40it/s]\n"
     ]
    },
    {
     "name": "stdout",
     "output_type": "stream",
     "text": [
      "EPOCH 99: Train acc: 99.21% Train Loss: 0.0289 Test acc: 58.24% Test Loss: 8.5977\n"
     ]
    },
    {
     "name": "stderr",
     "output_type": "stream",
     "text": [
      "100%|██████████| 313/313 [00:15<00:00, 19.82it/s]\n",
      "100%|██████████| 282/282 [00:11<00:00, 24.43it/s]\n"
     ]
    },
    {
     "name": "stdout",
     "output_type": "stream",
     "text": [
      "EPOCH 100: Train acc: 98.76% Train Loss: 0.0480 Test acc: 61.27% Test Loss: 6.9970\n"
     ]
    },
    {
     "name": "stderr",
     "output_type": "stream",
     "text": [
      "100%|██████████| 313/313 [00:15<00:00, 19.84it/s]\n",
      "100%|██████████| 282/282 [00:11<00:00, 24.32it/s]\n"
     ]
    },
    {
     "name": "stdout",
     "output_type": "stream",
     "text": [
      "EPOCH 101: Train acc: 99.51% Train Loss: 0.0186 Test acc: 61.00% Test Loss: 5.9178\n"
     ]
    },
    {
     "name": "stderr",
     "output_type": "stream",
     "text": [
      "100%|██████████| 313/313 [00:15<00:00, 19.75it/s]\n",
      "100%|██████████| 282/282 [00:11<00:00, 24.42it/s]\n"
     ]
    },
    {
     "name": "stdout",
     "output_type": "stream",
     "text": [
      "EPOCH 102: Train acc: 99.57% Train Loss: 0.0141 Test acc: 60.84% Test Loss: 6.0613\n"
     ]
    },
    {
     "name": "stderr",
     "output_type": "stream",
     "text": [
      "100%|██████████| 313/313 [00:15<00:00, 19.89it/s]\n",
      "100%|██████████| 282/282 [00:11<00:00, 24.36it/s]\n"
     ]
    },
    {
     "name": "stdout",
     "output_type": "stream",
     "text": [
      "EPOCH 103: Train acc: 99.55% Train Loss: 0.0164 Test acc: 60.69% Test Loss: 6.4072\n"
     ]
    },
    {
     "name": "stderr",
     "output_type": "stream",
     "text": [
      "100%|██████████| 313/313 [00:15<00:00, 20.07it/s]\n",
      "100%|██████████| 282/282 [00:11<00:00, 24.27it/s]\n"
     ]
    },
    {
     "name": "stdout",
     "output_type": "stream",
     "text": [
      "EPOCH 104: Train acc: 99.59% Train Loss: 0.0102 Test acc: 60.63% Test Loss: 6.8935\n"
     ]
    },
    {
     "name": "stderr",
     "output_type": "stream",
     "text": [
      "100%|██████████| 313/313 [00:15<00:00, 19.77it/s]\n",
      "100%|██████████| 282/282 [00:11<00:00, 24.31it/s]\n"
     ]
    },
    {
     "name": "stdout",
     "output_type": "stream",
     "text": [
      "EPOCH 105: Train acc: 99.59% Train Loss: 0.0124 Test acc: 58.46% Test Loss: 6.9019\n"
     ]
    },
    {
     "name": "stderr",
     "output_type": "stream",
     "text": [
      "100%|██████████| 313/313 [00:15<00:00, 19.94it/s]\n",
      "100%|██████████| 282/282 [00:11<00:00, 24.45it/s]\n"
     ]
    },
    {
     "name": "stdout",
     "output_type": "stream",
     "text": [
      "EPOCH 106: Train acc: 98.61% Train Loss: 0.0533 Test acc: 57.59% Test Loss: 6.5785\n"
     ]
    },
    {
     "name": "stderr",
     "output_type": "stream",
     "text": [
      "100%|██████████| 313/313 [00:15<00:00, 19.68it/s]\n",
      "100%|██████████| 282/282 [00:11<00:00, 24.44it/s]\n"
     ]
    },
    {
     "name": "stdout",
     "output_type": "stream",
     "text": [
      "EPOCH 107: Train acc: 99.06% Train Loss: 0.0311 Test acc: 59.30% Test Loss: 6.6021\n"
     ]
    },
    {
     "name": "stderr",
     "output_type": "stream",
     "text": [
      "100%|██████████| 313/313 [00:15<00:00, 19.81it/s]\n",
      "100%|██████████| 282/282 [00:11<00:00, 24.32it/s]\n"
     ]
    },
    {
     "name": "stdout",
     "output_type": "stream",
     "text": [
      "EPOCH 108: Train acc: 99.07% Train Loss: 0.0373 Test acc: 56.87% Test Loss: 7.0821\n"
     ]
    },
    {
     "name": "stderr",
     "output_type": "stream",
     "text": [
      "100%|██████████| 313/313 [00:15<00:00, 19.74it/s]\n",
      "100%|██████████| 282/282 [00:11<00:00, 24.37it/s]\n"
     ]
    },
    {
     "name": "stdout",
     "output_type": "stream",
     "text": [
      "EPOCH 109: Train acc: 97.93% Train Loss: 0.1061 Test acc: 59.17% Test Loss: 6.2238\n"
     ]
    },
    {
     "name": "stderr",
     "output_type": "stream",
     "text": [
      "100%|██████████| 313/313 [00:15<00:00, 19.88it/s]\n",
      "100%|██████████| 282/282 [00:11<00:00, 24.52it/s]\n"
     ]
    },
    {
     "name": "stdout",
     "output_type": "stream",
     "text": [
      "EPOCH 110: Train acc: 99.07% Train Loss: 0.0365 Test acc: 59.46% Test Loss: 7.0341\n"
     ]
    },
    {
     "name": "stderr",
     "output_type": "stream",
     "text": [
      "100%|██████████| 313/313 [00:15<00:00, 19.87it/s]\n",
      "100%|██████████| 282/282 [00:11<00:00, 24.20it/s]\n"
     ]
    },
    {
     "name": "stdout",
     "output_type": "stream",
     "text": [
      "EPOCH 111: Train acc: 99.02% Train Loss: 0.0354 Test acc: 59.62% Test Loss: 5.7287\n"
     ]
    },
    {
     "name": "stderr",
     "output_type": "stream",
     "text": [
      "100%|██████████| 313/313 [00:15<00:00, 19.76it/s]\n",
      "100%|██████████| 282/282 [00:11<00:00, 24.32it/s]\n"
     ]
    },
    {
     "name": "stdout",
     "output_type": "stream",
     "text": [
      "EPOCH 112: Train acc: 99.71% Train Loss: 0.0092 Test acc: 60.70% Test Loss: 6.5319\n"
     ]
    },
    {
     "name": "stderr",
     "output_type": "stream",
     "text": [
      "100%|██████████| 313/313 [00:15<00:00, 19.76it/s]\n",
      "100%|██████████| 282/282 [00:11<00:00, 24.40it/s]\n"
     ]
    },
    {
     "name": "stdout",
     "output_type": "stream",
     "text": [
      "EPOCH 113: Train acc: 99.49% Train Loss: 0.0189 Test acc: 60.87% Test Loss: 6.2693\n"
     ]
    },
    {
     "name": "stderr",
     "output_type": "stream",
     "text": [
      "100%|██████████| 313/313 [00:15<00:00, 19.77it/s]\n",
      "100%|██████████| 282/282 [00:11<00:00, 24.29it/s]\n"
     ]
    },
    {
     "name": "stdout",
     "output_type": "stream",
     "text": [
      "EPOCH 114: Train acc: 99.74% Train Loss: 0.0082 Test acc: 61.58% Test Loss: 6.4629\n"
     ]
    },
    {
     "name": "stderr",
     "output_type": "stream",
     "text": [
      "100%|██████████| 313/313 [00:15<00:00, 19.89it/s]\n",
      "100%|██████████| 282/282 [00:11<00:00, 24.30it/s]\n"
     ]
    },
    {
     "name": "stdout",
     "output_type": "stream",
     "text": [
      "EPOCH 115: Train acc: 99.72% Train Loss: 0.0118 Test acc: 60.26% Test Loss: 6.6592\n"
     ]
    },
    {
     "name": "stderr",
     "output_type": "stream",
     "text": [
      "100%|██████████| 313/313 [00:15<00:00, 19.80it/s]\n",
      "100%|██████████| 282/282 [00:11<00:00, 24.39it/s]\n"
     ]
    },
    {
     "name": "stdout",
     "output_type": "stream",
     "text": [
      "EPOCH 116: Train acc: 99.46% Train Loss: 0.0187 Test acc: 60.33% Test Loss: 6.7604\n"
     ]
    },
    {
     "name": "stderr",
     "output_type": "stream",
     "text": [
      "100%|██████████| 313/313 [00:15<00:00, 19.82it/s]\n",
      "100%|██████████| 282/282 [00:11<00:00, 24.38it/s]\n"
     ]
    },
    {
     "name": "stdout",
     "output_type": "stream",
     "text": [
      "EPOCH 117: Train acc: 99.49% Train Loss: 0.0154 Test acc: 61.10% Test Loss: 6.5686\n"
     ]
    },
    {
     "name": "stderr",
     "output_type": "stream",
     "text": [
      "100%|██████████| 313/313 [00:15<00:00, 19.85it/s]\n",
      "100%|██████████| 282/282 [00:11<00:00, 24.46it/s]\n"
     ]
    },
    {
     "name": "stdout",
     "output_type": "stream",
     "text": [
      "EPOCH 118: Train acc: 99.03% Train Loss: 0.0409 Test acc: 60.87% Test Loss: 5.9666\n"
     ]
    },
    {
     "name": "stderr",
     "output_type": "stream",
     "text": [
      "100%|██████████| 313/313 [00:15<00:00, 19.79it/s]\n",
      "100%|██████████| 282/282 [00:11<00:00, 24.28it/s]\n"
     ]
    },
    {
     "name": "stdout",
     "output_type": "stream",
     "text": [
      "EPOCH 119: Train acc: 99.49% Train Loss: 0.0222 Test acc: 59.61% Test Loss: 6.6011\n"
     ]
    },
    {
     "name": "stderr",
     "output_type": "stream",
     "text": [
      "100%|██████████| 313/313 [00:15<00:00, 19.79it/s]\n",
      "100%|██████████| 282/282 [00:11<00:00, 24.45it/s]\n"
     ]
    },
    {
     "name": "stdout",
     "output_type": "stream",
     "text": [
      "EPOCH 120: Train acc: 99.34% Train Loss: 0.0222 Test acc: 61.44% Test Loss: 5.8936\n"
     ]
    },
    {
     "name": "stderr",
     "output_type": "stream",
     "text": [
      "100%|██████████| 313/313 [00:15<00:00, 19.65it/s]\n",
      "100%|██████████| 282/282 [00:11<00:00, 24.45it/s]\n"
     ]
    },
    {
     "name": "stdout",
     "output_type": "stream",
     "text": [
      "EPOCH 121: Train acc: 98.84% Train Loss: 0.0544 Test acc: 61.12% Test Loss: 5.2189\n"
     ]
    },
    {
     "name": "stderr",
     "output_type": "stream",
     "text": [
      "100%|██████████| 313/313 [00:15<00:00, 19.71it/s]\n",
      "100%|██████████| 282/282 [00:11<00:00, 24.30it/s]\n"
     ]
    },
    {
     "name": "stdout",
     "output_type": "stream",
     "text": [
      "EPOCH 122: Train acc: 99.39% Train Loss: 0.0221 Test acc: 60.04% Test Loss: 6.5232\n"
     ]
    },
    {
     "name": "stderr",
     "output_type": "stream",
     "text": [
      "100%|██████████| 313/313 [00:15<00:00, 19.81it/s]\n",
      "100%|██████████| 282/282 [00:11<00:00, 24.36it/s]\n"
     ]
    },
    {
     "name": "stdout",
     "output_type": "stream",
     "text": [
      "EPOCH 123: Train acc: 99.38% Train Loss: 0.0228 Test acc: 57.56% Test Loss: 6.7416\n"
     ]
    },
    {
     "name": "stderr",
     "output_type": "stream",
     "text": [
      "100%|██████████| 313/313 [00:15<00:00, 19.73it/s]\n",
      "100%|██████████| 282/282 [00:11<00:00, 24.35it/s]\n"
     ]
    },
    {
     "name": "stdout",
     "output_type": "stream",
     "text": [
      "EPOCH 124: Train acc: 99.47% Train Loss: 0.0174 Test acc: 60.89% Test Loss: 6.3775\n"
     ]
    },
    {
     "name": "stderr",
     "output_type": "stream",
     "text": [
      "100%|██████████| 313/313 [00:15<00:00, 19.75it/s]\n",
      "100%|██████████| 282/282 [00:11<00:00, 24.32it/s]\n"
     ]
    },
    {
     "name": "stdout",
     "output_type": "stream",
     "text": [
      "EPOCH 125: Train acc: 99.69% Train Loss: 0.0100 Test acc: 60.88% Test Loss: 6.3925\n"
     ]
    },
    {
     "name": "stderr",
     "output_type": "stream",
     "text": [
      "100%|██████████| 313/313 [00:15<00:00, 19.88it/s]\n",
      "100%|██████████| 282/282 [00:11<00:00, 24.40it/s]\n"
     ]
    },
    {
     "name": "stdout",
     "output_type": "stream",
     "text": [
      "EPOCH 126: Train acc: 99.52% Train Loss: 0.0186 Test acc: 61.34% Test Loss: 6.8476\n"
     ]
    },
    {
     "name": "stderr",
     "output_type": "stream",
     "text": [
      "100%|██████████| 313/313 [00:15<00:00, 19.77it/s]\n",
      "100%|██████████| 282/282 [00:11<00:00, 24.37it/s]\n"
     ]
    },
    {
     "name": "stdout",
     "output_type": "stream",
     "text": [
      "EPOCH 127: Train acc: 99.48% Train Loss: 0.0203 Test acc: 60.19% Test Loss: 6.6339\n"
     ]
    },
    {
     "name": "stderr",
     "output_type": "stream",
     "text": [
      "100%|██████████| 313/313 [00:15<00:00, 19.80it/s]\n",
      "100%|██████████| 282/282 [00:11<00:00, 24.17it/s]\n"
     ]
    },
    {
     "name": "stdout",
     "output_type": "stream",
     "text": [
      "EPOCH 128: Train acc: 98.89% Train Loss: 0.0464 Test acc: 59.52% Test Loss: 7.4889\n"
     ]
    },
    {
     "name": "stderr",
     "output_type": "stream",
     "text": [
      "100%|██████████| 313/313 [00:15<00:00, 19.92it/s]\n",
      "100%|██████████| 282/282 [00:11<00:00, 24.36it/s]\n"
     ]
    },
    {
     "name": "stdout",
     "output_type": "stream",
     "text": [
      "EPOCH 129: Train acc: 99.48% Train Loss: 0.0186 Test acc: 60.21% Test Loss: 7.7219\n"
     ]
    },
    {
     "name": "stderr",
     "output_type": "stream",
     "text": [
      "100%|██████████| 313/313 [00:15<00:00, 19.98it/s]\n",
      "100%|██████████| 282/282 [00:11<00:00, 24.26it/s]\n"
     ]
    },
    {
     "name": "stdout",
     "output_type": "stream",
     "text": [
      "EPOCH 130: Train acc: 99.65% Train Loss: 0.0254 Test acc: 60.76% Test Loss: 10.6957\n"
     ]
    },
    {
     "name": "stderr",
     "output_type": "stream",
     "text": [
      "100%|██████████| 313/313 [00:15<00:00, 19.78it/s]\n",
      "100%|██████████| 282/282 [00:11<00:00, 24.36it/s]\n"
     ]
    },
    {
     "name": "stdout",
     "output_type": "stream",
     "text": [
      "EPOCH 131: Train acc: 99.72% Train Loss: 0.0076 Test acc: 61.54% Test Loss: 7.8707\n"
     ]
    },
    {
     "name": "stderr",
     "output_type": "stream",
     "text": [
      "100%|██████████| 313/313 [00:15<00:00, 19.75it/s]\n",
      "100%|██████████| 282/282 [00:11<00:00, 24.49it/s]\n"
     ]
    },
    {
     "name": "stdout",
     "output_type": "stream",
     "text": [
      "EPOCH 132: Train acc: 99.71% Train Loss: 0.0164 Test acc: 60.98% Test Loss: 9.0697\n"
     ]
    },
    {
     "name": "stderr",
     "output_type": "stream",
     "text": [
      "100%|██████████| 313/313 [00:15<00:00, 19.71it/s]\n",
      "100%|██████████| 282/282 [00:11<00:00, 24.53it/s]\n"
     ]
    },
    {
     "name": "stdout",
     "output_type": "stream",
     "text": [
      "EPOCH 133: Train acc: 99.36% Train Loss: 0.0246 Test acc: 62.03% Test Loss: 7.2439\n"
     ]
    },
    {
     "name": "stderr",
     "output_type": "stream",
     "text": [
      "100%|██████████| 313/313 [00:15<00:00, 19.74it/s]\n",
      "100%|██████████| 282/282 [00:11<00:00, 24.54it/s]\n"
     ]
    },
    {
     "name": "stdout",
     "output_type": "stream",
     "text": [
      "EPOCH 134: Train acc: 99.42% Train Loss: 0.0197 Test acc: 56.52% Test Loss: 6.1646\n"
     ]
    },
    {
     "name": "stderr",
     "output_type": "stream",
     "text": [
      "100%|██████████| 313/313 [00:15<00:00, 19.79it/s]\n",
      "100%|██████████| 282/282 [00:11<00:00, 24.32it/s]\n"
     ]
    },
    {
     "name": "stdout",
     "output_type": "stream",
     "text": [
      "EPOCH 135: Train acc: 97.33% Train Loss: 0.1593 Test acc: 56.74% Test Loss: 8.1227\n"
     ]
    },
    {
     "name": "stderr",
     "output_type": "stream",
     "text": [
      "100%|██████████| 313/313 [00:15<00:00, 19.72it/s]\n",
      "100%|██████████| 282/282 [00:11<00:00, 24.27it/s]\n"
     ]
    },
    {
     "name": "stdout",
     "output_type": "stream",
     "text": [
      "EPOCH 136: Train acc: 99.35% Train Loss: 0.0278 Test acc: 60.43% Test Loss: 7.0647\n"
     ]
    },
    {
     "name": "stderr",
     "output_type": "stream",
     "text": [
      "100%|██████████| 313/313 [00:15<00:00, 19.95it/s]\n",
      "100%|██████████| 282/282 [00:11<00:00, 24.27it/s]\n"
     ]
    },
    {
     "name": "stdout",
     "output_type": "stream",
     "text": [
      "EPOCH 137: Train acc: 99.54% Train Loss: 0.0200 Test acc: 60.11% Test Loss: 7.6896\n"
     ]
    },
    {
     "name": "stderr",
     "output_type": "stream",
     "text": [
      "100%|██████████| 313/313 [00:15<00:00, 19.89it/s]\n",
      "100%|██████████| 282/282 [00:11<00:00, 24.58it/s]\n"
     ]
    },
    {
     "name": "stdout",
     "output_type": "stream",
     "text": [
      "EPOCH 138: Train acc: 99.59% Train Loss: 0.0129 Test acc: 60.50% Test Loss: 6.2317\n"
     ]
    },
    {
     "name": "stderr",
     "output_type": "stream",
     "text": [
      "100%|██████████| 313/313 [00:15<00:00, 19.73it/s]\n",
      "100%|██████████| 282/282 [00:11<00:00, 24.22it/s]\n"
     ]
    },
    {
     "name": "stdout",
     "output_type": "stream",
     "text": [
      "EPOCH 139: Train acc: 99.55% Train Loss: 0.0161 Test acc: 59.98% Test Loss: 7.3101\n"
     ]
    },
    {
     "name": "stderr",
     "output_type": "stream",
     "text": [
      "100%|██████████| 313/313 [00:15<00:00, 19.84it/s]\n",
      "100%|██████████| 282/282 [00:11<00:00, 24.39it/s]\n"
     ]
    },
    {
     "name": "stdout",
     "output_type": "stream",
     "text": [
      "EPOCH 140: Train acc: 99.79% Train Loss: 0.0059 Test acc: 61.13% Test Loss: 7.8131\n"
     ]
    },
    {
     "name": "stderr",
     "output_type": "stream",
     "text": [
      "100%|██████████| 313/313 [00:15<00:00, 19.61it/s]\n",
      "100%|██████████| 282/282 [00:11<00:00, 24.37it/s]\n"
     ]
    },
    {
     "name": "stdout",
     "output_type": "stream",
     "text": [
      "EPOCH 141: Train acc: 99.76% Train Loss: 0.0072 Test acc: 60.93% Test Loss: 9.0141\n"
     ]
    },
    {
     "name": "stderr",
     "output_type": "stream",
     "text": [
      "100%|██████████| 313/313 [00:15<00:00, 19.93it/s]\n",
      "100%|██████████| 282/282 [00:11<00:00, 24.31it/s]\n"
     ]
    },
    {
     "name": "stdout",
     "output_type": "stream",
     "text": [
      "EPOCH 142: Train acc: 99.49% Train Loss: 0.0217 Test acc: 58.66% Test Loss: 7.6173\n"
     ]
    },
    {
     "name": "stderr",
     "output_type": "stream",
     "text": [
      "100%|██████████| 313/313 [00:15<00:00, 19.89it/s]\n",
      "100%|██████████| 282/282 [00:11<00:00, 24.32it/s]\n"
     ]
    },
    {
     "name": "stdout",
     "output_type": "stream",
     "text": [
      "EPOCH 143: Train acc: 98.93% Train Loss: 0.0372 Test acc: 57.46% Test Loss: 10.4309\n"
     ]
    },
    {
     "name": "stderr",
     "output_type": "stream",
     "text": [
      "100%|██████████| 313/313 [00:15<00:00, 19.86it/s]\n",
      "100%|██████████| 282/282 [00:11<00:00, 24.36it/s]\n"
     ]
    },
    {
     "name": "stdout",
     "output_type": "stream",
     "text": [
      "EPOCH 144: Train acc: 99.62% Train Loss: 0.0136 Test acc: 61.00% Test Loss: 7.0932\n"
     ]
    },
    {
     "name": "stderr",
     "output_type": "stream",
     "text": [
      "100%|██████████| 313/313 [00:15<00:00, 19.85it/s]\n",
      "100%|██████████| 282/282 [00:11<00:00, 24.49it/s]\n"
     ]
    },
    {
     "name": "stdout",
     "output_type": "stream",
     "text": [
      "EPOCH 145: Train acc: 99.69% Train Loss: 0.0093 Test acc: 60.84% Test Loss: 8.1301\n"
     ]
    },
    {
     "name": "stderr",
     "output_type": "stream",
     "text": [
      "100%|██████████| 313/313 [00:15<00:00, 19.77it/s]\n",
      "100%|██████████| 282/282 [00:11<00:00, 24.33it/s]\n"
     ]
    },
    {
     "name": "stdout",
     "output_type": "stream",
     "text": [
      "EPOCH 146: Train acc: 99.74% Train Loss: 0.0089 Test acc: 61.31% Test Loss: 7.6859\n"
     ]
    },
    {
     "name": "stderr",
     "output_type": "stream",
     "text": [
      "100%|██████████| 313/313 [00:15<00:00, 19.78it/s]\n",
      "100%|██████████| 282/282 [00:11<00:00, 24.23it/s]\n"
     ]
    },
    {
     "name": "stdout",
     "output_type": "stream",
     "text": [
      "EPOCH 147: Train acc: 98.83% Train Loss: 0.0552 Test acc: 59.90% Test Loss: 5.8359\n"
     ]
    },
    {
     "name": "stderr",
     "output_type": "stream",
     "text": [
      "100%|██████████| 313/313 [00:15<00:00, 19.87it/s]\n",
      "100%|██████████| 282/282 [00:11<00:00, 23.69it/s]\n"
     ]
    },
    {
     "name": "stdout",
     "output_type": "stream",
     "text": [
      "EPOCH 148: Train acc: 99.19% Train Loss: 0.0357 Test acc: 59.67% Test Loss: 8.3100\n"
     ]
    },
    {
     "name": "stderr",
     "output_type": "stream",
     "text": [
      "100%|██████████| 313/313 [00:15<00:00, 19.87it/s]\n",
      "100%|██████████| 282/282 [00:11<00:00, 24.38it/s]\n"
     ]
    },
    {
     "name": "stdout",
     "output_type": "stream",
     "text": [
      "EPOCH 149: Train acc: 99.36% Train Loss: 0.0228 Test acc: 59.97% Test Loss: 7.9790\n"
     ]
    },
    {
     "name": "stderr",
     "output_type": "stream",
     "text": [
      "100%|██████████| 313/313 [00:15<00:00, 19.75it/s]\n",
      "100%|██████████| 282/282 [00:11<00:00, 24.47it/s]\n"
     ]
    },
    {
     "name": "stdout",
     "output_type": "stream",
     "text": [
      "EPOCH 150: Train acc: 99.60% Train Loss: 0.0119 Test acc: 60.40% Test Loss: 7.5280\n"
     ]
    },
    {
     "name": "stderr",
     "output_type": "stream",
     "text": [
      "100%|██████████| 313/313 [00:15<00:00, 19.72it/s]\n",
      "100%|██████████| 282/282 [00:11<00:00, 24.53it/s]\n"
     ]
    },
    {
     "name": "stdout",
     "output_type": "stream",
     "text": [
      "EPOCH 151: Train acc: 99.72% Train Loss: 0.0091 Test acc: 60.07% Test Loss: 8.8027\n"
     ]
    },
    {
     "name": "stderr",
     "output_type": "stream",
     "text": [
      "100%|██████████| 313/313 [00:15<00:00, 19.68it/s]\n",
      "100%|██████████| 282/282 [00:11<00:00, 24.24it/s]\n"
     ]
    },
    {
     "name": "stdout",
     "output_type": "stream",
     "text": [
      "EPOCH 152: Train acc: 99.69% Train Loss: 0.0088 Test acc: 61.51% Test Loss: 8.9715\n"
     ]
    },
    {
     "name": "stderr",
     "output_type": "stream",
     "text": [
      "100%|██████████| 313/313 [00:15<00:00, 19.64it/s]\n",
      "100%|██████████| 282/282 [00:11<00:00, 24.47it/s]\n"
     ]
    },
    {
     "name": "stdout",
     "output_type": "stream",
     "text": [
      "EPOCH 153: Train acc: 99.47% Train Loss: 0.0226 Test acc: 59.13% Test Loss: 6.9750\n"
     ]
    },
    {
     "name": "stderr",
     "output_type": "stream",
     "text": [
      "100%|██████████| 313/313 [00:15<00:00, 19.71it/s]\n",
      "100%|██████████| 282/282 [00:11<00:00, 24.48it/s]\n"
     ]
    },
    {
     "name": "stdout",
     "output_type": "stream",
     "text": [
      "EPOCH 154: Train acc: 99.70% Train Loss: 0.0078 Test acc: 60.10% Test Loss: 8.7154\n"
     ]
    },
    {
     "name": "stderr",
     "output_type": "stream",
     "text": [
      "100%|██████████| 313/313 [00:15<00:00, 19.76it/s]\n",
      "100%|██████████| 282/282 [00:11<00:00, 24.07it/s]\n"
     ]
    },
    {
     "name": "stdout",
     "output_type": "stream",
     "text": [
      "EPOCH 155: Train acc: 99.11% Train Loss: 0.0300 Test acc: 59.92% Test Loss: 8.3286\n"
     ]
    },
    {
     "name": "stderr",
     "output_type": "stream",
     "text": [
      "100%|██████████| 313/313 [00:15<00:00, 19.87it/s]\n",
      "100%|██████████| 282/282 [00:11<00:00, 24.26it/s]\n"
     ]
    },
    {
     "name": "stdout",
     "output_type": "stream",
     "text": [
      "EPOCH 156: Train acc: 99.67% Train Loss: 0.0118 Test acc: 57.53% Test Loss: 8.1357\n"
     ]
    },
    {
     "name": "stderr",
     "output_type": "stream",
     "text": [
      "100%|██████████| 313/313 [00:15<00:00, 19.76it/s]\n",
      "100%|██████████| 282/282 [00:11<00:00, 24.39it/s]\n"
     ]
    },
    {
     "name": "stdout",
     "output_type": "stream",
     "text": [
      "EPOCH 157: Train acc: 99.69% Train Loss: 0.0105 Test acc: 59.91% Test Loss: 7.5171\n"
     ]
    },
    {
     "name": "stderr",
     "output_type": "stream",
     "text": [
      "100%|██████████| 313/313 [00:15<00:00, 19.77it/s]\n",
      "100%|██████████| 282/282 [00:11<00:00, 24.47it/s]\n"
     ]
    },
    {
     "name": "stdout",
     "output_type": "stream",
     "text": [
      "EPOCH 158: Train acc: 99.27% Train Loss: 0.0385 Test acc: 58.13% Test Loss: 8.0563\n"
     ]
    },
    {
     "name": "stderr",
     "output_type": "stream",
     "text": [
      "100%|██████████| 313/313 [00:15<00:00, 19.80it/s]\n",
      "100%|██████████| 282/282 [00:11<00:00, 24.45it/s]\n"
     ]
    },
    {
     "name": "stdout",
     "output_type": "stream",
     "text": [
      "EPOCH 159: Train acc: 99.50% Train Loss: 0.0206 Test acc: 61.60% Test Loss: 6.1648\n"
     ]
    },
    {
     "name": "stderr",
     "output_type": "stream",
     "text": [
      "100%|██████████| 313/313 [00:15<00:00, 19.93it/s]\n",
      "100%|██████████| 282/282 [00:11<00:00, 24.32it/s]\n"
     ]
    },
    {
     "name": "stdout",
     "output_type": "stream",
     "text": [
      "EPOCH 160: Train acc: 99.43% Train Loss: 0.0251 Test acc: 60.58% Test Loss: 8.8521\n"
     ]
    },
    {
     "name": "stderr",
     "output_type": "stream",
     "text": [
      "100%|██████████| 313/313 [00:15<00:00, 19.76it/s]\n",
      "100%|██████████| 282/282 [00:11<00:00, 24.28it/s]\n"
     ]
    },
    {
     "name": "stdout",
     "output_type": "stream",
     "text": [
      "EPOCH 161: Train acc: 99.58% Train Loss: 0.0182 Test acc: 60.44% Test Loss: 7.9320\n"
     ]
    },
    {
     "name": "stderr",
     "output_type": "stream",
     "text": [
      "100%|██████████| 313/313 [00:15<00:00, 19.88it/s]\n",
      "100%|██████████| 282/282 [00:11<00:00, 24.39it/s]\n"
     ]
    },
    {
     "name": "stdout",
     "output_type": "stream",
     "text": [
      "EPOCH 162: Train acc: 99.65% Train Loss: 0.0120 Test acc: 60.53% Test Loss: 8.5854\n"
     ]
    },
    {
     "name": "stderr",
     "output_type": "stream",
     "text": [
      "100%|██████████| 313/313 [00:15<00:00, 19.85it/s]\n",
      "100%|██████████| 282/282 [00:11<00:00, 24.32it/s]\n"
     ]
    },
    {
     "name": "stdout",
     "output_type": "stream",
     "text": [
      "EPOCH 163: Train acc: 99.63% Train Loss: 0.0133 Test acc: 60.14% Test Loss: 6.6820\n"
     ]
    },
    {
     "name": "stderr",
     "output_type": "stream",
     "text": [
      "100%|██████████| 313/313 [00:15<00:00, 19.60it/s]\n",
      "100%|██████████| 282/282 [00:11<00:00, 24.28it/s]\n"
     ]
    },
    {
     "name": "stdout",
     "output_type": "stream",
     "text": [
      "EPOCH 164: Train acc: 99.68% Train Loss: 0.0107 Test acc: 57.73% Test Loss: 8.9037\n"
     ]
    },
    {
     "name": "stderr",
     "output_type": "stream",
     "text": [
      "100%|██████████| 313/313 [00:15<00:00, 19.78it/s]\n",
      "100%|██████████| 282/282 [00:11<00:00, 24.24it/s]\n"
     ]
    },
    {
     "name": "stdout",
     "output_type": "stream",
     "text": [
      "EPOCH 165: Train acc: 99.06% Train Loss: 0.0617 Test acc: 57.94% Test Loss: 10.1884\n"
     ]
    },
    {
     "name": "stderr",
     "output_type": "stream",
     "text": [
      "100%|██████████| 313/313 [00:15<00:00, 19.87it/s]\n",
      "100%|██████████| 282/282 [00:11<00:00, 24.18it/s]\n"
     ]
    },
    {
     "name": "stdout",
     "output_type": "stream",
     "text": [
      "EPOCH 166: Train acc: 99.18% Train Loss: 0.0372 Test acc: 61.32% Test Loss: 8.5542\n"
     ]
    },
    {
     "name": "stderr",
     "output_type": "stream",
     "text": [
      "100%|██████████| 313/313 [00:15<00:00, 19.83it/s]\n",
      "100%|██████████| 282/282 [00:11<00:00, 24.51it/s]\n"
     ]
    },
    {
     "name": "stdout",
     "output_type": "stream",
     "text": [
      "EPOCH 167: Train acc: 99.51% Train Loss: 0.0200 Test acc: 59.68% Test Loss: 8.1355\n"
     ]
    },
    {
     "name": "stderr",
     "output_type": "stream",
     "text": [
      "100%|██████████| 313/313 [00:15<00:00, 19.71it/s]\n",
      "100%|██████████| 282/282 [00:11<00:00, 24.26it/s]\n"
     ]
    },
    {
     "name": "stdout",
     "output_type": "stream",
     "text": [
      "EPOCH 168: Train acc: 99.61% Train Loss: 0.0189 Test acc: 60.92% Test Loss: 7.3660\n"
     ]
    },
    {
     "name": "stderr",
     "output_type": "stream",
     "text": [
      "100%|██████████| 313/313 [00:15<00:00, 19.98it/s]\n",
      "100%|██████████| 282/282 [00:11<00:00, 24.27it/s]\n"
     ]
    },
    {
     "name": "stdout",
     "output_type": "stream",
     "text": [
      "EPOCH 169: Train acc: 99.68% Train Loss: 0.0137 Test acc: 59.68% Test Loss: 8.1080\n"
     ]
    },
    {
     "name": "stderr",
     "output_type": "stream",
     "text": [
      "100%|██████████| 313/313 [00:15<00:00, 19.68it/s]\n",
      "100%|██████████| 282/282 [00:11<00:00, 24.37it/s]\n"
     ]
    },
    {
     "name": "stdout",
     "output_type": "stream",
     "text": [
      "EPOCH 170: Train acc: 99.61% Train Loss: 0.0163 Test acc: 58.03% Test Loss: 8.3232\n"
     ]
    },
    {
     "name": "stderr",
     "output_type": "stream",
     "text": [
      "100%|██████████| 313/313 [00:15<00:00, 19.68it/s]\n",
      "100%|██████████| 282/282 [00:11<00:00, 24.21it/s]\n"
     ]
    },
    {
     "name": "stdout",
     "output_type": "stream",
     "text": [
      "EPOCH 171: Train acc: 99.63% Train Loss: 0.0188 Test acc: 60.31% Test Loss: 7.4574\n"
     ]
    },
    {
     "name": "stderr",
     "output_type": "stream",
     "text": [
      "100%|██████████| 313/313 [00:15<00:00, 19.93it/s]\n",
      "100%|██████████| 282/282 [00:11<00:00, 24.22it/s]\n"
     ]
    },
    {
     "name": "stdout",
     "output_type": "stream",
     "text": [
      "EPOCH 172: Train acc: 99.81% Train Loss: 0.0074 Test acc: 60.09% Test Loss: 8.0158\n"
     ]
    },
    {
     "name": "stderr",
     "output_type": "stream",
     "text": [
      "100%|██████████| 313/313 [00:15<00:00, 19.80it/s]\n",
      "100%|██████████| 282/282 [00:11<00:00, 24.37it/s]\n"
     ]
    },
    {
     "name": "stdout",
     "output_type": "stream",
     "text": [
      "EPOCH 173: Train acc: 99.78% Train Loss: 0.0134 Test acc: 58.29% Test Loss: 7.6895\n"
     ]
    },
    {
     "name": "stderr",
     "output_type": "stream",
     "text": [
      "100%|██████████| 313/313 [00:15<00:00, 19.69it/s]\n",
      "100%|██████████| 282/282 [00:11<00:00, 24.31it/s]\n"
     ]
    },
    {
     "name": "stdout",
     "output_type": "stream",
     "text": [
      "EPOCH 174: Train acc: 99.82% Train Loss: 0.0090 Test acc: 60.11% Test Loss: 8.1423\n"
     ]
    },
    {
     "name": "stderr",
     "output_type": "stream",
     "text": [
      "100%|██████████| 313/313 [00:15<00:00, 19.68it/s]\n",
      "100%|██████████| 282/282 [00:11<00:00, 24.31it/s]\n"
     ]
    },
    {
     "name": "stdout",
     "output_type": "stream",
     "text": [
      "EPOCH 175: Train acc: 99.82% Train Loss: 0.0051 Test acc: 60.94% Test Loss: 8.1012\n"
     ]
    },
    {
     "name": "stderr",
     "output_type": "stream",
     "text": [
      "100%|██████████| 313/313 [00:15<00:00, 19.75it/s]\n",
      "100%|██████████| 282/282 [00:11<00:00, 24.40it/s]\n"
     ]
    },
    {
     "name": "stdout",
     "output_type": "stream",
     "text": [
      "EPOCH 176: Train acc: 99.86% Train Loss: 0.0043 Test acc: 61.67% Test Loss: 7.9844\n"
     ]
    },
    {
     "name": "stderr",
     "output_type": "stream",
     "text": [
      "100%|██████████| 313/313 [00:15<00:00, 19.79it/s]\n",
      "100%|██████████| 282/282 [00:11<00:00, 24.38it/s]\n"
     ]
    },
    {
     "name": "stdout",
     "output_type": "stream",
     "text": [
      "EPOCH 177: Train acc: 99.84% Train Loss: 0.0047 Test acc: 61.61% Test Loss: 8.6885\n"
     ]
    },
    {
     "name": "stderr",
     "output_type": "stream",
     "text": [
      "100%|██████████| 313/313 [00:15<00:00, 19.78it/s]\n",
      "100%|██████████| 282/282 [00:11<00:00, 24.31it/s]\n"
     ]
    },
    {
     "name": "stdout",
     "output_type": "stream",
     "text": [
      "EPOCH 178: Train acc: 99.17% Train Loss: 0.0328 Test acc: 59.03% Test Loss: 8.8059\n"
     ]
    },
    {
     "name": "stderr",
     "output_type": "stream",
     "text": [
      "100%|██████████| 313/313 [00:15<00:00, 19.79it/s]\n",
      "100%|██████████| 282/282 [00:11<00:00, 24.36it/s]\n"
     ]
    },
    {
     "name": "stdout",
     "output_type": "stream",
     "text": [
      "EPOCH 179: Train acc: 99.03% Train Loss: 0.0493 Test acc: 59.13% Test Loss: 7.1441\n"
     ]
    },
    {
     "name": "stderr",
     "output_type": "stream",
     "text": [
      "100%|██████████| 313/313 [00:15<00:00, 19.66it/s]\n",
      "100%|██████████| 282/282 [00:11<00:00, 24.21it/s]\n"
     ]
    },
    {
     "name": "stdout",
     "output_type": "stream",
     "text": [
      "EPOCH 180: Train acc: 99.37% Train Loss: 0.0271 Test acc: 60.88% Test Loss: 6.9906\n"
     ]
    },
    {
     "name": "stderr",
     "output_type": "stream",
     "text": [
      "100%|██████████| 313/313 [00:15<00:00, 19.74it/s]\n",
      "100%|██████████| 282/282 [00:11<00:00, 24.32it/s]\n"
     ]
    },
    {
     "name": "stdout",
     "output_type": "stream",
     "text": [
      "EPOCH 181: Train acc: 99.68% Train Loss: 0.0092 Test acc: 59.81% Test Loss: 6.7167\n"
     ]
    },
    {
     "name": "stderr",
     "output_type": "stream",
     "text": [
      "100%|██████████| 313/313 [00:15<00:00, 19.90it/s]\n",
      "100%|██████████| 282/282 [00:11<00:00, 24.30it/s]\n"
     ]
    },
    {
     "name": "stdout",
     "output_type": "stream",
     "text": [
      "EPOCH 182: Train acc: 99.85% Train Loss: 0.0046 Test acc: 60.79% Test Loss: 7.7319\n"
     ]
    },
    {
     "name": "stderr",
     "output_type": "stream",
     "text": [
      "100%|██████████| 313/313 [00:15<00:00, 19.67it/s]\n",
      "100%|██████████| 282/282 [00:11<00:00, 24.27it/s]\n"
     ]
    },
    {
     "name": "stdout",
     "output_type": "stream",
     "text": [
      "EPOCH 183: Train acc: 99.87% Train Loss: 0.0041 Test acc: 61.40% Test Loss: 7.5559\n"
     ]
    },
    {
     "name": "stderr",
     "output_type": "stream",
     "text": [
      "100%|██████████| 313/313 [00:15<00:00, 19.82it/s]\n",
      "100%|██████████| 282/282 [00:11<00:00, 24.46it/s]\n"
     ]
    },
    {
     "name": "stdout",
     "output_type": "stream",
     "text": [
      "EPOCH 184: Train acc: 99.87% Train Loss: 0.0039 Test acc: 61.61% Test Loss: 7.9236\n"
     ]
    },
    {
     "name": "stderr",
     "output_type": "stream",
     "text": [
      "100%|██████████| 313/313 [00:15<00:00, 19.82it/s]\n",
      "100%|██████████| 282/282 [00:11<00:00, 24.22it/s]\n"
     ]
    },
    {
     "name": "stdout",
     "output_type": "stream",
     "text": [
      "EPOCH 185: Train acc: 99.87% Train Loss: 0.0039 Test acc: 61.58% Test Loss: 7.7989\n"
     ]
    },
    {
     "name": "stderr",
     "output_type": "stream",
     "text": [
      "100%|██████████| 313/313 [00:16<00:00, 19.55it/s]\n",
      "100%|██████████| 282/282 [00:11<00:00, 24.25it/s]\n"
     ]
    },
    {
     "name": "stdout",
     "output_type": "stream",
     "text": [
      "EPOCH 186: Train acc: 99.86% Train Loss: 0.0045 Test acc: 60.96% Test Loss: 7.2050\n"
     ]
    },
    {
     "name": "stderr",
     "output_type": "stream",
     "text": [
      "100%|██████████| 313/313 [00:15<00:00, 19.72it/s]\n",
      "100%|██████████| 282/282 [00:11<00:00, 24.33it/s]\n"
     ]
    },
    {
     "name": "stdout",
     "output_type": "stream",
     "text": [
      "EPOCH 187: Train acc: 99.87% Train Loss: 0.0040 Test acc: 61.48% Test Loss: 8.3186\n"
     ]
    },
    {
     "name": "stderr",
     "output_type": "stream",
     "text": [
      "100%|██████████| 313/313 [00:15<00:00, 19.73it/s]\n",
      "100%|██████████| 282/282 [00:11<00:00, 24.16it/s]\n"
     ]
    },
    {
     "name": "stdout",
     "output_type": "stream",
     "text": [
      "EPOCH 188: Train acc: 99.86% Train Loss: 0.0041 Test acc: 61.68% Test Loss: 7.4515\n"
     ]
    },
    {
     "name": "stderr",
     "output_type": "stream",
     "text": [
      "100%|██████████| 313/313 [00:15<00:00, 19.83it/s]\n",
      "100%|██████████| 282/282 [00:11<00:00, 24.50it/s]\n"
     ]
    },
    {
     "name": "stdout",
     "output_type": "stream",
     "text": [
      "EPOCH 189: Train acc: 99.87% Train Loss: 0.0040 Test acc: 61.98% Test Loss: 8.4333\n"
     ]
    },
    {
     "name": "stderr",
     "output_type": "stream",
     "text": [
      "100%|██████████| 313/313 [00:15<00:00, 19.77it/s]\n",
      "100%|██████████| 282/282 [00:11<00:00, 24.01it/s]\n"
     ]
    },
    {
     "name": "stdout",
     "output_type": "stream",
     "text": [
      "EPOCH 190: Train acc: 99.65% Train Loss: 0.0206 Test acc: 57.34% Test Loss: 8.7013\n"
     ]
    },
    {
     "name": "stderr",
     "output_type": "stream",
     "text": [
      "100%|██████████| 313/313 [00:15<00:00, 19.87it/s]\n",
      "100%|██████████| 282/282 [00:11<00:00, 24.53it/s]\n"
     ]
    },
    {
     "name": "stdout",
     "output_type": "stream",
     "text": [
      "EPOCH 191: Train acc: 98.53% Train Loss: 0.0627 Test acc: 59.78% Test Loss: 11.0603\n"
     ]
    },
    {
     "name": "stderr",
     "output_type": "stream",
     "text": [
      "100%|██████████| 313/313 [00:15<00:00, 19.67it/s]\n",
      "100%|██████████| 282/282 [00:11<00:00, 24.17it/s]\n"
     ]
    },
    {
     "name": "stdout",
     "output_type": "stream",
     "text": [
      "EPOCH 192: Train acc: 99.38% Train Loss: 0.0343 Test acc: 59.09% Test Loss: 10.6295\n"
     ]
    },
    {
     "name": "stderr",
     "output_type": "stream",
     "text": [
      "100%|██████████| 313/313 [00:15<00:00, 19.69it/s]\n",
      "100%|██████████| 282/282 [00:11<00:00, 24.47it/s]\n"
     ]
    },
    {
     "name": "stdout",
     "output_type": "stream",
     "text": [
      "EPOCH 193: Train acc: 99.59% Train Loss: 0.0153 Test acc: 59.34% Test Loss: 10.1100\n"
     ]
    },
    {
     "name": "stderr",
     "output_type": "stream",
     "text": [
      "100%|██████████| 313/313 [00:15<00:00, 19.91it/s]\n",
      "100%|██████████| 282/282 [00:11<00:00, 24.10it/s]\n"
     ]
    },
    {
     "name": "stdout",
     "output_type": "stream",
     "text": [
      "EPOCH 194: Train acc: 99.64% Train Loss: 0.0133 Test acc: 60.09% Test Loss: 9.2090\n"
     ]
    },
    {
     "name": "stderr",
     "output_type": "stream",
     "text": [
      "100%|██████████| 313/313 [00:15<00:00, 19.73it/s]\n",
      "100%|██████████| 282/282 [00:11<00:00, 24.37it/s]\n"
     ]
    },
    {
     "name": "stdout",
     "output_type": "stream",
     "text": [
      "EPOCH 195: Train acc: 99.80% Train Loss: 0.0061 Test acc: 60.36% Test Loss: 10.7391\n"
     ]
    },
    {
     "name": "stderr",
     "output_type": "stream",
     "text": [
      "100%|██████████| 313/313 [00:15<00:00, 19.68it/s]\n",
      "100%|██████████| 282/282 [00:11<00:00, 24.46it/s]\n"
     ]
    },
    {
     "name": "stdout",
     "output_type": "stream",
     "text": [
      "EPOCH 196: Train acc: 99.76% Train Loss: 0.0064 Test acc: 60.23% Test Loss: 10.7316\n"
     ]
    },
    {
     "name": "stderr",
     "output_type": "stream",
     "text": [
      "100%|██████████| 313/313 [00:15<00:00, 19.85it/s]\n",
      "100%|██████████| 282/282 [00:11<00:00, 24.39it/s]\n"
     ]
    },
    {
     "name": "stdout",
     "output_type": "stream",
     "text": [
      "EPOCH 197: Train acc: 99.80% Train Loss: 0.0062 Test acc: 57.19% Test Loss: 8.5806\n"
     ]
    },
    {
     "name": "stderr",
     "output_type": "stream",
     "text": [
      "100%|██████████| 313/313 [00:15<00:00, 19.85it/s]\n",
      "100%|██████████| 282/282 [00:11<00:00, 24.18it/s]\n"
     ]
    },
    {
     "name": "stdout",
     "output_type": "stream",
     "text": [
      "EPOCH 198: Train acc: 99.67% Train Loss: 0.0125 Test acc: 57.33% Test Loss: 9.1159\n"
     ]
    },
    {
     "name": "stderr",
     "output_type": "stream",
     "text": [
      "100%|██████████| 313/313 [00:15<00:00, 19.84it/s]\n",
      "100%|██████████| 282/282 [00:11<00:00, 24.32it/s]\n"
     ]
    },
    {
     "name": "stdout",
     "output_type": "stream",
     "text": [
      "EPOCH 199: Train acc: 99.49% Train Loss: 0.0259 Test acc: 60.01% Test Loss: 8.4959\n"
     ]
    },
    {
     "name": "stderr",
     "output_type": "stream",
     "text": [
      "100%|██████████| 313/313 [00:15<00:00, 19.90it/s]\n",
      "100%|██████████| 282/282 [00:11<00:00, 24.37it/s]\n"
     ]
    },
    {
     "name": "stdout",
     "output_type": "stream",
     "text": [
      "EPOCH 200: Train acc: 99.55% Train Loss: 0.0138 Test acc: 59.77% Test Loss: 9.6378\n"
     ]
    },
    {
     "name": "stderr",
     "output_type": "stream",
     "text": [
      "100%|██████████| 313/313 [00:15<00:00, 19.60it/s]\n",
      "100%|██████████| 282/282 [00:11<00:00, 24.26it/s]\n"
     ]
    },
    {
     "name": "stdout",
     "output_type": "stream",
     "text": [
      "EPOCH 201: Train acc: 99.79% Train Loss: 0.0096 Test acc: 59.86% Test Loss: 10.7261\n"
     ]
    },
    {
     "name": "stderr",
     "output_type": "stream",
     "text": [
      "100%|██████████| 313/313 [00:15<00:00, 19.86it/s]\n",
      "100%|██████████| 282/282 [00:11<00:00, 24.41it/s]\n"
     ]
    },
    {
     "name": "stdout",
     "output_type": "stream",
     "text": [
      "EPOCH 202: Train acc: 99.59% Train Loss: 0.0167 Test acc: 57.72% Test Loss: 7.8469\n"
     ]
    },
    {
     "name": "stderr",
     "output_type": "stream",
     "text": [
      "100%|██████████| 313/313 [00:15<00:00, 19.77it/s]\n",
      "100%|██████████| 282/282 [00:11<00:00, 24.34it/s]\n"
     ]
    },
    {
     "name": "stdout",
     "output_type": "stream",
     "text": [
      "EPOCH 203: Train acc: 99.41% Train Loss: 0.0271 Test acc: 58.80% Test Loss: 8.2946\n"
     ]
    },
    {
     "name": "stderr",
     "output_type": "stream",
     "text": [
      "100%|██████████| 313/313 [00:15<00:00, 19.67it/s]\n",
      "100%|██████████| 282/282 [00:11<00:00, 24.43it/s]\n"
     ]
    },
    {
     "name": "stdout",
     "output_type": "stream",
     "text": [
      "EPOCH 204: Train acc: 99.72% Train Loss: 0.0152 Test acc: 57.56% Test Loss: 9.8866\n"
     ]
    },
    {
     "name": "stderr",
     "output_type": "stream",
     "text": [
      "100%|██████████| 313/313 [00:15<00:00, 19.79it/s]\n",
      "100%|██████████| 282/282 [00:11<00:00, 24.38it/s]\n"
     ]
    },
    {
     "name": "stdout",
     "output_type": "stream",
     "text": [
      "EPOCH 205: Train acc: 99.64% Train Loss: 0.0104 Test acc: 60.92% Test Loss: 8.7815\n"
     ]
    },
    {
     "name": "stderr",
     "output_type": "stream",
     "text": [
      "100%|██████████| 313/313 [00:15<00:00, 19.71it/s]\n",
      "100%|██████████| 282/282 [00:11<00:00, 24.42it/s]\n"
     ]
    },
    {
     "name": "stdout",
     "output_type": "stream",
     "text": [
      "EPOCH 206: Train acc: 99.78% Train Loss: 0.0070 Test acc: 59.33% Test Loss: 7.9203\n"
     ]
    },
    {
     "name": "stderr",
     "output_type": "stream",
     "text": [
      "100%|██████████| 313/313 [00:15<00:00, 19.73it/s]\n",
      "100%|██████████| 282/282 [00:11<00:00, 24.33it/s]\n"
     ]
    },
    {
     "name": "stdout",
     "output_type": "stream",
     "text": [
      "EPOCH 207: Train acc: 99.77% Train Loss: 0.0063 Test acc: 60.52% Test Loss: 10.2848\n"
     ]
    },
    {
     "name": "stderr",
     "output_type": "stream",
     "text": [
      "100%|██████████| 313/313 [00:15<00:00, 19.72it/s]\n",
      "100%|██████████| 282/282 [00:11<00:00, 24.37it/s]\n"
     ]
    },
    {
     "name": "stdout",
     "output_type": "stream",
     "text": [
      "EPOCH 208: Train acc: 99.50% Train Loss: 0.0202 Test acc: 57.73% Test Loss: 9.9995\n"
     ]
    },
    {
     "name": "stderr",
     "output_type": "stream",
     "text": [
      "100%|██████████| 313/313 [00:15<00:00, 19.99it/s]\n",
      "100%|██████████| 282/282 [00:11<00:00, 24.23it/s]\n"
     ]
    },
    {
     "name": "stdout",
     "output_type": "stream",
     "text": [
      "EPOCH 209: Train acc: 99.52% Train Loss: 0.0202 Test acc: 58.09% Test Loss: 8.9232\n"
     ]
    },
    {
     "name": "stderr",
     "output_type": "stream",
     "text": [
      "100%|██████████| 313/313 [00:15<00:00, 19.78it/s]\n",
      "100%|██████████| 282/282 [00:11<00:00, 24.38it/s]\n"
     ]
    },
    {
     "name": "stdout",
     "output_type": "stream",
     "text": [
      "EPOCH 210: Train acc: 99.69% Train Loss: 0.0136 Test acc: 57.92% Test Loss: 8.4627\n"
     ]
    },
    {
     "name": "stderr",
     "output_type": "stream",
     "text": [
      "100%|██████████| 313/313 [00:15<00:00, 19.71it/s]\n",
      "100%|██████████| 282/282 [00:11<00:00, 24.53it/s]\n"
     ]
    },
    {
     "name": "stdout",
     "output_type": "stream",
     "text": [
      "EPOCH 211: Train acc: 99.80% Train Loss: 0.0059 Test acc: 59.23% Test Loss: 10.0727\n"
     ]
    },
    {
     "name": "stderr",
     "output_type": "stream",
     "text": [
      "100%|██████████| 313/313 [00:15<00:00, 19.87it/s]\n",
      "100%|██████████| 282/282 [00:11<00:00, 24.39it/s]\n"
     ]
    },
    {
     "name": "stdout",
     "output_type": "stream",
     "text": [
      "EPOCH 212: Train acc: 99.58% Train Loss: 0.0194 Test acc: 57.59% Test Loss: 9.2204\n"
     ]
    },
    {
     "name": "stderr",
     "output_type": "stream",
     "text": [
      "100%|██████████| 313/313 [00:15<00:00, 19.81it/s]\n",
      "100%|██████████| 282/282 [00:11<00:00, 24.03it/s]\n"
     ]
    },
    {
     "name": "stdout",
     "output_type": "stream",
     "text": [
      "EPOCH 213: Train acc: 99.68% Train Loss: 0.0116 Test acc: 56.77% Test Loss: 10.4067\n"
     ]
    },
    {
     "name": "stderr",
     "output_type": "stream",
     "text": [
      "100%|██████████| 313/313 [00:15<00:00, 19.85it/s]\n",
      "100%|██████████| 282/282 [00:11<00:00, 24.28it/s]\n"
     ]
    },
    {
     "name": "stdout",
     "output_type": "stream",
     "text": [
      "EPOCH 214: Train acc: 99.09% Train Loss: 0.0516 Test acc: 58.64% Test Loss: 9.9055\n"
     ]
    },
    {
     "name": "stderr",
     "output_type": "stream",
     "text": [
      "100%|██████████| 313/313 [00:15<00:00, 19.70it/s]\n",
      "100%|██████████| 282/282 [00:11<00:00, 24.52it/s]\n"
     ]
    },
    {
     "name": "stdout",
     "output_type": "stream",
     "text": [
      "EPOCH 215: Train acc: 99.48% Train Loss: 0.0248 Test acc: 58.72% Test Loss: 13.5429\n"
     ]
    },
    {
     "name": "stderr",
     "output_type": "stream",
     "text": [
      "100%|██████████| 313/313 [00:15<00:00, 19.73it/s]\n",
      "100%|██████████| 282/282 [00:11<00:00, 24.37it/s]\n"
     ]
    },
    {
     "name": "stdout",
     "output_type": "stream",
     "text": [
      "EPOCH 216: Train acc: 99.66% Train Loss: 0.0162 Test acc: 59.51% Test Loss: 18.6349\n"
     ]
    },
    {
     "name": "stderr",
     "output_type": "stream",
     "text": [
      "100%|██████████| 313/313 [00:15<00:00, 19.87it/s]\n",
      "100%|██████████| 282/282 [00:11<00:00, 24.38it/s]\n"
     ]
    },
    {
     "name": "stdout",
     "output_type": "stream",
     "text": [
      "EPOCH 217: Train acc: 99.85% Train Loss: 0.0043 Test acc: 59.53% Test Loss: 18.9568\n"
     ]
    },
    {
     "name": "stderr",
     "output_type": "stream",
     "text": [
      "100%|██████████| 313/313 [00:15<00:00, 19.93it/s]\n",
      "100%|██████████| 282/282 [00:11<00:00, 24.49it/s]\n"
     ]
    },
    {
     "name": "stdout",
     "output_type": "stream",
     "text": [
      "EPOCH 218: Train acc: 99.77% Train Loss: 0.0103 Test acc: 59.72% Test Loss: 18.1803\n"
     ]
    },
    {
     "name": "stderr",
     "output_type": "stream",
     "text": [
      "100%|██████████| 313/313 [00:15<00:00, 19.85it/s]\n",
      "100%|██████████| 282/282 [00:11<00:00, 24.44it/s]\n"
     ]
    },
    {
     "name": "stdout",
     "output_type": "stream",
     "text": [
      "EPOCH 219: Train acc: 99.66% Train Loss: 0.0172 Test acc: 59.42% Test Loss: 22.5333\n"
     ]
    },
    {
     "name": "stderr",
     "output_type": "stream",
     "text": [
      "100%|██████████| 313/313 [00:15<00:00, 19.78it/s]\n",
      "100%|██████████| 282/282 [00:11<00:00, 24.36it/s]\n"
     ]
    },
    {
     "name": "stdout",
     "output_type": "stream",
     "text": [
      "EPOCH 220: Train acc: 99.76% Train Loss: 0.0074 Test acc: 57.84% Test Loss: 9.9862\n"
     ]
    },
    {
     "name": "stderr",
     "output_type": "stream",
     "text": [
      "100%|██████████| 313/313 [00:15<00:00, 19.85it/s]\n",
      "100%|██████████| 282/282 [00:11<00:00, 24.30it/s]\n"
     ]
    },
    {
     "name": "stdout",
     "output_type": "stream",
     "text": [
      "EPOCH 221: Train acc: 99.83% Train Loss: 0.0050 Test acc: 60.06% Test Loss: 9.6555\n"
     ]
    },
    {
     "name": "stderr",
     "output_type": "stream",
     "text": [
      "100%|██████████| 313/313 [00:15<00:00, 19.74it/s]\n",
      "100%|██████████| 282/282 [00:11<00:00, 24.40it/s]\n"
     ]
    },
    {
     "name": "stdout",
     "output_type": "stream",
     "text": [
      "EPOCH 222: Train acc: 99.63% Train Loss: 0.0171 Test acc: 59.12% Test Loss: 9.9956\n"
     ]
    },
    {
     "name": "stderr",
     "output_type": "stream",
     "text": [
      "100%|██████████| 313/313 [00:15<00:00, 19.71it/s]\n",
      "100%|██████████| 282/282 [00:11<00:00, 24.46it/s]\n"
     ]
    },
    {
     "name": "stdout",
     "output_type": "stream",
     "text": [
      "EPOCH 223: Train acc: 99.85% Train Loss: 0.0043 Test acc: 59.09% Test Loss: 10.0878\n"
     ]
    },
    {
     "name": "stderr",
     "output_type": "stream",
     "text": [
      "100%|██████████| 313/313 [00:15<00:00, 19.86it/s]\n",
      "100%|██████████| 282/282 [00:11<00:00, 24.21it/s]\n"
     ]
    },
    {
     "name": "stdout",
     "output_type": "stream",
     "text": [
      "EPOCH 224: Train acc: 99.24% Train Loss: 0.0424 Test acc: 59.99% Test Loss: 9.9999\n"
     ]
    },
    {
     "name": "stderr",
     "output_type": "stream",
     "text": [
      "100%|██████████| 313/313 [00:15<00:00, 19.84it/s]\n",
      "100%|██████████| 282/282 [00:11<00:00, 24.25it/s]\n"
     ]
    },
    {
     "name": "stdout",
     "output_type": "stream",
     "text": [
      "EPOCH 225: Train acc: 99.42% Train Loss: 0.0247 Test acc: 58.71% Test Loss: 10.4871\n"
     ]
    },
    {
     "name": "stderr",
     "output_type": "stream",
     "text": [
      "100%|██████████| 313/313 [00:15<00:00, 19.87it/s]\n",
      "100%|██████████| 282/282 [00:11<00:00, 24.23it/s]\n"
     ]
    },
    {
     "name": "stdout",
     "output_type": "stream",
     "text": [
      "EPOCH 226: Train acc: 99.41% Train Loss: 0.0363 Test acc: 57.22% Test Loss: 10.5600\n"
     ]
    },
    {
     "name": "stderr",
     "output_type": "stream",
     "text": [
      "100%|██████████| 313/313 [00:15<00:00, 19.93it/s]\n",
      "100%|██████████| 282/282 [00:11<00:00, 24.41it/s]\n"
     ]
    },
    {
     "name": "stdout",
     "output_type": "stream",
     "text": [
      "EPOCH 227: Train acc: 99.71% Train Loss: 0.0148 Test acc: 59.02% Test Loss: 9.3511\n"
     ]
    },
    {
     "name": "stderr",
     "output_type": "stream",
     "text": [
      "100%|██████████| 313/313 [00:15<00:00, 19.79it/s]\n",
      "100%|██████████| 282/282 [00:11<00:00, 24.58it/s]\n"
     ]
    },
    {
     "name": "stdout",
     "output_type": "stream",
     "text": [
      "EPOCH 228: Train acc: 99.81% Train Loss: 0.0057 Test acc: 59.02% Test Loss: 8.1308\n"
     ]
    },
    {
     "name": "stderr",
     "output_type": "stream",
     "text": [
      "100%|██████████| 313/313 [00:15<00:00, 19.92it/s]\n",
      "100%|██████████| 282/282 [00:11<00:00, 24.50it/s]\n"
     ]
    },
    {
     "name": "stdout",
     "output_type": "stream",
     "text": [
      "EPOCH 229: Train acc: 99.66% Train Loss: 0.0138 Test acc: 59.08% Test Loss: 10.1511\n"
     ]
    },
    {
     "name": "stderr",
     "output_type": "stream",
     "text": [
      "100%|██████████| 313/313 [00:15<00:00, 19.74it/s]\n",
      "100%|██████████| 282/282 [00:11<00:00, 24.40it/s]\n"
     ]
    },
    {
     "name": "stdout",
     "output_type": "stream",
     "text": [
      "EPOCH 230: Train acc: 99.84% Train Loss: 0.0047 Test acc: 60.37% Test Loss: 9.2273\n"
     ]
    },
    {
     "name": "stderr",
     "output_type": "stream",
     "text": [
      "100%|██████████| 313/313 [00:15<00:00, 19.91it/s]\n",
      "100%|██████████| 282/282 [00:11<00:00, 24.43it/s]\n"
     ]
    },
    {
     "name": "stdout",
     "output_type": "stream",
     "text": [
      "EPOCH 231: Train acc: 99.55% Train Loss: 0.0174 Test acc: 57.88% Test Loss: 9.3229\n"
     ]
    },
    {
     "name": "stderr",
     "output_type": "stream",
     "text": [
      "100%|██████████| 313/313 [00:15<00:00, 19.88it/s]\n",
      "100%|██████████| 282/282 [00:11<00:00, 24.30it/s]\n"
     ]
    },
    {
     "name": "stdout",
     "output_type": "stream",
     "text": [
      "EPOCH 232: Train acc: 99.68% Train Loss: 0.0108 Test acc: 60.62% Test Loss: 8.9693\n"
     ]
    },
    {
     "name": "stderr",
     "output_type": "stream",
     "text": [
      "100%|██████████| 313/313 [00:15<00:00, 19.95it/s]\n",
      "100%|██████████| 282/282 [00:11<00:00, 24.29it/s]\n"
     ]
    },
    {
     "name": "stdout",
     "output_type": "stream",
     "text": [
      "EPOCH 233: Train acc: 99.78% Train Loss: 0.0064 Test acc: 57.60% Test Loss: 9.2021\n"
     ]
    },
    {
     "name": "stderr",
     "output_type": "stream",
     "text": [
      "100%|██████████| 313/313 [00:15<00:00, 19.78it/s]\n",
      "100%|██████████| 282/282 [00:11<00:00, 24.35it/s]\n"
     ]
    },
    {
     "name": "stdout",
     "output_type": "stream",
     "text": [
      "EPOCH 234: Train acc: 99.80% Train Loss: 0.0077 Test acc: 60.01% Test Loss: 9.0308\n"
     ]
    },
    {
     "name": "stderr",
     "output_type": "stream",
     "text": [
      "100%|██████████| 313/313 [00:15<00:00, 19.81it/s]\n",
      "100%|██████████| 282/282 [00:11<00:00, 24.43it/s]\n"
     ]
    },
    {
     "name": "stdout",
     "output_type": "stream",
     "text": [
      "EPOCH 235: Train acc: 99.52% Train Loss: 0.0282 Test acc: 57.90% Test Loss: 13.3094\n"
     ]
    },
    {
     "name": "stderr",
     "output_type": "stream",
     "text": [
      "100%|██████████| 313/313 [00:15<00:00, 19.64it/s]\n",
      "100%|██████████| 282/282 [00:11<00:00, 24.45it/s]\n"
     ]
    },
    {
     "name": "stdout",
     "output_type": "stream",
     "text": [
      "EPOCH 236: Train acc: 99.43% Train Loss: 0.0303 Test acc: 58.10% Test Loss: 8.1745\n"
     ]
    },
    {
     "name": "stderr",
     "output_type": "stream",
     "text": [
      "100%|██████████| 313/313 [00:15<00:00, 19.68it/s]\n",
      "100%|██████████| 282/282 [00:11<00:00, 24.38it/s]\n"
     ]
    },
    {
     "name": "stdout",
     "output_type": "stream",
     "text": [
      "EPOCH 237: Train acc: 99.49% Train Loss: 0.0185 Test acc: 58.87% Test Loss: 9.3594\n"
     ]
    },
    {
     "name": "stderr",
     "output_type": "stream",
     "text": [
      "100%|██████████| 313/313 [00:15<00:00, 19.87it/s]\n",
      "100%|██████████| 282/282 [00:11<00:00, 24.59it/s]\n"
     ]
    },
    {
     "name": "stdout",
     "output_type": "stream",
     "text": [
      "EPOCH 238: Train acc: 99.43% Train Loss: 0.0230 Test acc: 59.39% Test Loss: 8.0503\n"
     ]
    },
    {
     "name": "stderr",
     "output_type": "stream",
     "text": [
      "100%|██████████| 313/313 [00:15<00:00, 19.72it/s]\n",
      "100%|██████████| 282/282 [00:11<00:00, 24.55it/s]\n"
     ]
    },
    {
     "name": "stdout",
     "output_type": "stream",
     "text": [
      "EPOCH 239: Train acc: 99.72% Train Loss: 0.0095 Test acc: 58.70% Test Loss: 9.1380\n"
     ]
    },
    {
     "name": "stderr",
     "output_type": "stream",
     "text": [
      "100%|██████████| 313/313 [00:15<00:00, 19.86it/s]\n",
      "100%|██████████| 282/282 [00:11<00:00, 24.46it/s]\n"
     ]
    },
    {
     "name": "stdout",
     "output_type": "stream",
     "text": [
      "EPOCH 240: Train acc: 99.65% Train Loss: 0.0158 Test acc: 57.12% Test Loss: 14.6998\n"
     ]
    },
    {
     "name": "stderr",
     "output_type": "stream",
     "text": [
      "100%|██████████| 313/313 [00:15<00:00, 19.83it/s]\n",
      "100%|██████████| 282/282 [00:11<00:00, 24.06it/s]\n"
     ]
    },
    {
     "name": "stdout",
     "output_type": "stream",
     "text": [
      "EPOCH 241: Train acc: 99.57% Train Loss: 0.0261 Test acc: 59.24% Test Loss: 10.6700\n"
     ]
    },
    {
     "name": "stderr",
     "output_type": "stream",
     "text": [
      "100%|██████████| 313/313 [00:15<00:00, 19.72it/s]\n",
      "100%|██████████| 282/282 [00:11<00:00, 24.34it/s]\n"
     ]
    },
    {
     "name": "stdout",
     "output_type": "stream",
     "text": [
      "EPOCH 242: Train acc: 99.74% Train Loss: 0.0075 Test acc: 58.22% Test Loss: 10.1892\n"
     ]
    },
    {
     "name": "stderr",
     "output_type": "stream",
     "text": [
      "100%|██████████| 313/313 [00:15<00:00, 19.78it/s]\n",
      "100%|██████████| 282/282 [00:11<00:00, 24.20it/s]\n"
     ]
    },
    {
     "name": "stdout",
     "output_type": "stream",
     "text": [
      "EPOCH 243: Train acc: 99.76% Train Loss: 0.0077 Test acc: 59.32% Test Loss: 9.2174\n"
     ]
    },
    {
     "name": "stderr",
     "output_type": "stream",
     "text": [
      "100%|██████████| 313/313 [00:15<00:00, 19.94it/s]\n",
      "100%|██████████| 282/282 [00:11<00:00, 24.47it/s]\n"
     ]
    },
    {
     "name": "stdout",
     "output_type": "stream",
     "text": [
      "EPOCH 244: Train acc: 99.74% Train Loss: 0.0078 Test acc: 59.03% Test Loss: 10.2636\n"
     ]
    },
    {
     "name": "stderr",
     "output_type": "stream",
     "text": [
      "100%|██████████| 313/313 [00:15<00:00, 19.72it/s]\n",
      "100%|██████████| 282/282 [00:11<00:00, 24.50it/s]\n"
     ]
    },
    {
     "name": "stdout",
     "output_type": "stream",
     "text": [
      "EPOCH 245: Train acc: 99.84% Train Loss: 0.0050 Test acc: 59.69% Test Loss: 10.3414\n"
     ]
    },
    {
     "name": "stderr",
     "output_type": "stream",
     "text": [
      "100%|██████████| 313/313 [00:15<00:00, 19.85it/s]\n",
      "100%|██████████| 282/282 [00:11<00:00, 24.41it/s]\n"
     ]
    },
    {
     "name": "stdout",
     "output_type": "stream",
     "text": [
      "EPOCH 246: Train acc: 99.87% Train Loss: 0.0039 Test acc: 60.34% Test Loss: 10.6438\n"
     ]
    },
    {
     "name": "stderr",
     "output_type": "stream",
     "text": [
      "100%|██████████| 313/313 [00:15<00:00, 19.87it/s]\n",
      "100%|██████████| 282/282 [00:11<00:00, 24.42it/s]\n"
     ]
    },
    {
     "name": "stdout",
     "output_type": "stream",
     "text": [
      "EPOCH 247: Train acc: 99.87% Train Loss: 0.0038 Test acc: 59.83% Test Loss: 10.3593\n"
     ]
    },
    {
     "name": "stderr",
     "output_type": "stream",
     "text": [
      "100%|██████████| 313/313 [00:15<00:00, 19.91it/s]\n",
      "100%|██████████| 282/282 [00:11<00:00, 24.50it/s]\n"
     ]
    },
    {
     "name": "stdout",
     "output_type": "stream",
     "text": [
      "EPOCH 248: Train acc: 99.84% Train Loss: 0.0046 Test acc: 60.48% Test Loss: 8.9399\n"
     ]
    },
    {
     "name": "stderr",
     "output_type": "stream",
     "text": [
      "100%|██████████| 313/313 [00:15<00:00, 19.87it/s]\n",
      "100%|██████████| 282/282 [00:11<00:00, 24.52it/s]\n"
     ]
    },
    {
     "name": "stdout",
     "output_type": "stream",
     "text": [
      "EPOCH 249: Train acc: 99.48% Train Loss: 0.0274 Test acc: 56.01% Test Loss: 9.3877\n"
     ]
    },
    {
     "name": "stderr",
     "output_type": "stream",
     "text": [
      "100%|██████████| 313/313 [00:15<00:00, 19.80it/s]\n",
      "100%|██████████| 282/282 [00:11<00:00, 24.46it/s]\n"
     ]
    },
    {
     "name": "stdout",
     "output_type": "stream",
     "text": [
      "EPOCH 250: Train acc: 99.54% Train Loss: 0.0179 Test acc: 58.37% Test Loss: 7.6019\n"
     ]
    },
    {
     "name": "stderr",
     "output_type": "stream",
     "text": [
      "100%|██████████| 313/313 [00:15<00:00, 19.76it/s]\n",
      "100%|██████████| 282/282 [00:11<00:00, 24.42it/s]\n"
     ]
    },
    {
     "name": "stdout",
     "output_type": "stream",
     "text": [
      "EPOCH 251: Train acc: 99.59% Train Loss: 0.0250 Test acc: 59.81% Test Loss: 11.4448\n"
     ]
    },
    {
     "name": "stderr",
     "output_type": "stream",
     "text": [
      "100%|██████████| 313/313 [00:15<00:00, 19.92it/s]\n",
      "100%|██████████| 282/282 [00:11<00:00, 24.29it/s]\n"
     ]
    },
    {
     "name": "stdout",
     "output_type": "stream",
     "text": [
      "EPOCH 252: Train acc: 99.58% Train Loss: 0.0295 Test acc: 57.89% Test Loss: 8.4734\n"
     ]
    },
    {
     "name": "stderr",
     "output_type": "stream",
     "text": [
      "100%|██████████| 313/313 [00:15<00:00, 19.88it/s]\n",
      "100%|██████████| 282/282 [00:11<00:00, 24.27it/s]\n"
     ]
    },
    {
     "name": "stdout",
     "output_type": "stream",
     "text": [
      "EPOCH 253: Train acc: 99.76% Train Loss: 0.0124 Test acc: 58.96% Test Loss: 10.0286\n"
     ]
    },
    {
     "name": "stderr",
     "output_type": "stream",
     "text": [
      "100%|██████████| 313/313 [00:15<00:00, 19.86it/s]\n",
      "100%|██████████| 282/282 [00:11<00:00, 24.28it/s]\n"
     ]
    },
    {
     "name": "stdout",
     "output_type": "stream",
     "text": [
      "EPOCH 254: Train acc: 99.76% Train Loss: 0.0096 Test acc: 59.47% Test Loss: 11.0200\n"
     ]
    },
    {
     "name": "stderr",
     "output_type": "stream",
     "text": [
      "100%|██████████| 313/313 [00:15<00:00, 19.89it/s]\n",
      "100%|██████████| 282/282 [00:11<00:00, 24.54it/s]\n"
     ]
    },
    {
     "name": "stdout",
     "output_type": "stream",
     "text": [
      "EPOCH 255: Train acc: 99.58% Train Loss: 0.0208 Test acc: 57.31% Test Loss: 9.8150\n"
     ]
    },
    {
     "name": "stderr",
     "output_type": "stream",
     "text": [
      "100%|██████████| 313/313 [00:15<00:00, 19.84it/s]\n",
      "100%|██████████| 282/282 [00:11<00:00, 24.50it/s]\n"
     ]
    },
    {
     "name": "stdout",
     "output_type": "stream",
     "text": [
      "EPOCH 256: Train acc: 99.84% Train Loss: 0.0068 Test acc: 59.17% Test Loss: 8.8609\n"
     ]
    },
    {
     "name": "stderr",
     "output_type": "stream",
     "text": [
      "100%|██████████| 313/313 [00:15<00:00, 19.77it/s]\n",
      "100%|██████████| 282/282 [00:11<00:00, 24.27it/s]\n"
     ]
    },
    {
     "name": "stdout",
     "output_type": "stream",
     "text": [
      "EPOCH 257: Train acc: 99.55% Train Loss: 0.0237 Test acc: 57.52% Test Loss: 10.1027\n"
     ]
    },
    {
     "name": "stderr",
     "output_type": "stream",
     "text": [
      "100%|██████████| 313/313 [00:15<00:00, 19.89it/s]\n",
      "100%|██████████| 282/282 [00:11<00:00, 24.38it/s]\n"
     ]
    },
    {
     "name": "stdout",
     "output_type": "stream",
     "text": [
      "EPOCH 258: Train acc: 99.82% Train Loss: 0.0081 Test acc: 59.20% Test Loss: 9.4172\n"
     ]
    },
    {
     "name": "stderr",
     "output_type": "stream",
     "text": [
      "100%|██████████| 313/313 [00:15<00:00, 19.80it/s]\n",
      "100%|██████████| 282/282 [00:11<00:00, 24.39it/s]\n"
     ]
    },
    {
     "name": "stdout",
     "output_type": "stream",
     "text": [
      "EPOCH 259: Train acc: 99.86% Train Loss: 0.0040 Test acc: 59.16% Test Loss: 9.3271\n"
     ]
    },
    {
     "name": "stderr",
     "output_type": "stream",
     "text": [
      "100%|██████████| 313/313 [00:15<00:00, 19.93it/s]\n",
      "100%|██████████| 282/282 [00:11<00:00, 24.08it/s]\n"
     ]
    },
    {
     "name": "stdout",
     "output_type": "stream",
     "text": [
      "EPOCH 260: Train acc: 99.88% Train Loss: 0.0036 Test acc: 58.98% Test Loss: 9.0802\n"
     ]
    },
    {
     "name": "stderr",
     "output_type": "stream",
     "text": [
      "100%|██████████| 313/313 [00:15<00:00, 19.88it/s]\n",
      "100%|██████████| 282/282 [00:11<00:00, 24.53it/s]\n"
     ]
    },
    {
     "name": "stdout",
     "output_type": "stream",
     "text": [
      "EPOCH 261: Train acc: 99.88% Train Loss: 0.0036 Test acc: 59.27% Test Loss: 9.3627\n"
     ]
    },
    {
     "name": "stderr",
     "output_type": "stream",
     "text": [
      "100%|██████████| 313/313 [00:15<00:00, 19.87it/s]\n",
      "100%|██████████| 282/282 [00:11<00:00, 24.26it/s]\n"
     ]
    },
    {
     "name": "stdout",
     "output_type": "stream",
     "text": [
      "EPOCH 262: Train acc: 99.85% Train Loss: 0.0044 Test acc: 59.66% Test Loss: 9.0852\n"
     ]
    },
    {
     "name": "stderr",
     "output_type": "stream",
     "text": [
      "100%|██████████| 313/313 [00:15<00:00, 19.77it/s]\n",
      "100%|██████████| 282/282 [00:11<00:00, 24.37it/s]\n"
     ]
    },
    {
     "name": "stdout",
     "output_type": "stream",
     "text": [
      "EPOCH 263: Train acc: 98.93% Train Loss: 0.0637 Test acc: 58.60% Test Loss: 10.9958\n"
     ]
    },
    {
     "name": "stderr",
     "output_type": "stream",
     "text": [
      "100%|██████████| 313/313 [00:15<00:00, 19.86it/s]\n",
      "100%|██████████| 282/282 [00:11<00:00, 24.26it/s]\n"
     ]
    },
    {
     "name": "stdout",
     "output_type": "stream",
     "text": [
      "EPOCH 264: Train acc: 99.55% Train Loss: 0.0281 Test acc: 59.13% Test Loss: 9.2133\n"
     ]
    },
    {
     "name": "stderr",
     "output_type": "stream",
     "text": [
      "100%|██████████| 313/313 [00:15<00:00, 19.83it/s]\n",
      "100%|██████████| 282/282 [00:11<00:00, 24.33it/s]\n"
     ]
    },
    {
     "name": "stdout",
     "output_type": "stream",
     "text": [
      "EPOCH 265: Train acc: 99.78% Train Loss: 0.0094 Test acc: 59.80% Test Loss: 8.1453\n"
     ]
    },
    {
     "name": "stderr",
     "output_type": "stream",
     "text": [
      "100%|██████████| 313/313 [00:15<00:00, 19.82it/s]\n",
      "100%|██████████| 282/282 [00:11<00:00, 24.30it/s]\n"
     ]
    },
    {
     "name": "stdout",
     "output_type": "stream",
     "text": [
      "EPOCH 266: Train acc: 99.82% Train Loss: 0.0067 Test acc: 58.57% Test Loss: 9.4403\n"
     ]
    },
    {
     "name": "stderr",
     "output_type": "stream",
     "text": [
      "100%|██████████| 313/313 [00:15<00:00, 19.99it/s]\n",
      "100%|██████████| 282/282 [00:11<00:00, 24.27it/s]\n"
     ]
    },
    {
     "name": "stdout",
     "output_type": "stream",
     "text": [
      "EPOCH 267: Train acc: 99.85% Train Loss: 0.0059 Test acc: 58.94% Test Loss: 8.9853\n"
     ]
    },
    {
     "name": "stderr",
     "output_type": "stream",
     "text": [
      "100%|██████████| 313/313 [00:15<00:00, 19.79it/s]\n",
      "100%|██████████| 282/282 [00:11<00:00, 24.31it/s]\n"
     ]
    },
    {
     "name": "stdout",
     "output_type": "stream",
     "text": [
      "EPOCH 268: Train acc: 99.78% Train Loss: 0.0092 Test acc: 59.59% Test Loss: 9.0404\n"
     ]
    },
    {
     "name": "stderr",
     "output_type": "stream",
     "text": [
      "100%|██████████| 313/313 [00:15<00:00, 19.86it/s]\n",
      "100%|██████████| 282/282 [00:11<00:00, 24.36it/s]\n"
     ]
    },
    {
     "name": "stdout",
     "output_type": "stream",
     "text": [
      "EPOCH 269: Train acc: 99.82% Train Loss: 0.0089 Test acc: 60.12% Test Loss: 9.6151\n"
     ]
    },
    {
     "name": "stderr",
     "output_type": "stream",
     "text": [
      "100%|██████████| 313/313 [00:15<00:00, 19.82it/s]\n",
      "100%|██████████| 282/282 [00:11<00:00, 24.40it/s]\n"
     ]
    },
    {
     "name": "stdout",
     "output_type": "stream",
     "text": [
      "EPOCH 270: Train acc: 99.81% Train Loss: 0.0056 Test acc: 59.38% Test Loss: 9.8931\n"
     ]
    },
    {
     "name": "stderr",
     "output_type": "stream",
     "text": [
      "100%|██████████| 313/313 [00:15<00:00, 19.77it/s]\n",
      "100%|██████████| 282/282 [00:11<00:00, 24.38it/s]\n"
     ]
    },
    {
     "name": "stdout",
     "output_type": "stream",
     "text": [
      "EPOCH 271: Train acc: 99.84% Train Loss: 0.0043 Test acc: 59.51% Test Loss: 8.6808\n"
     ]
    },
    {
     "name": "stderr",
     "output_type": "stream",
     "text": [
      "100%|██████████| 313/313 [00:15<00:00, 19.77it/s]\n",
      "100%|██████████| 282/282 [00:11<00:00, 24.37it/s]\n"
     ]
    },
    {
     "name": "stdout",
     "output_type": "stream",
     "text": [
      "EPOCH 272: Train acc: 99.86% Train Loss: 0.0038 Test acc: 60.26% Test Loss: 8.6715\n"
     ]
    },
    {
     "name": "stderr",
     "output_type": "stream",
     "text": [
      "100%|██████████| 313/313 [00:15<00:00, 19.75it/s]\n",
      "100%|██████████| 282/282 [00:11<00:00, 24.31it/s]\n"
     ]
    },
    {
     "name": "stdout",
     "output_type": "stream",
     "text": [
      "EPOCH 273: Train acc: 99.88% Train Loss: 0.0036 Test acc: 60.06% Test Loss: 9.4156\n"
     ]
    },
    {
     "name": "stderr",
     "output_type": "stream",
     "text": [
      "100%|██████████| 313/313 [00:15<00:00, 19.89it/s]\n",
      "100%|██████████| 282/282 [00:11<00:00, 24.32it/s]\n"
     ]
    },
    {
     "name": "stdout",
     "output_type": "stream",
     "text": [
      "EPOCH 274: Train acc: 99.87% Train Loss: 0.0038 Test acc: 59.73% Test Loss: 9.0429\n"
     ]
    },
    {
     "name": "stderr",
     "output_type": "stream",
     "text": [
      "100%|██████████| 313/313 [00:15<00:00, 19.82it/s]\n",
      "100%|██████████| 282/282 [00:11<00:00, 24.44it/s]\n"
     ]
    },
    {
     "name": "stdout",
     "output_type": "stream",
     "text": [
      "EPOCH 275: Train acc: 99.87% Train Loss: 0.0037 Test acc: 59.74% Test Loss: 9.5764\n"
     ]
    },
    {
     "name": "stderr",
     "output_type": "stream",
     "text": [
      "100%|██████████| 313/313 [00:15<00:00, 19.77it/s]\n",
      "100%|██████████| 282/282 [00:11<00:00, 24.34it/s]\n"
     ]
    },
    {
     "name": "stdout",
     "output_type": "stream",
     "text": [
      "EPOCH 276: Train acc: 99.65% Train Loss: 0.0118 Test acc: 59.00% Test Loss: 10.7260\n"
     ]
    },
    {
     "name": "stderr",
     "output_type": "stream",
     "text": [
      "100%|██████████| 313/313 [00:15<00:00, 19.74it/s]\n",
      "100%|██████████| 282/282 [00:11<00:00, 24.13it/s]\n"
     ]
    },
    {
     "name": "stdout",
     "output_type": "stream",
     "text": [
      "EPOCH 277: Train acc: 99.14% Train Loss: 0.0465 Test acc: 60.01% Test Loss: 7.9789\n"
     ]
    },
    {
     "name": "stderr",
     "output_type": "stream",
     "text": [
      "100%|██████████| 313/313 [00:15<00:00, 19.74it/s]\n",
      "100%|██████████| 282/282 [00:11<00:00, 24.15it/s]\n"
     ]
    },
    {
     "name": "stdout",
     "output_type": "stream",
     "text": [
      "EPOCH 278: Train acc: 99.72% Train Loss: 0.0094 Test acc: 58.98% Test Loss: 9.0362\n"
     ]
    },
    {
     "name": "stderr",
     "output_type": "stream",
     "text": [
      "100%|██████████| 313/313 [00:15<00:00, 19.76it/s]\n",
      "100%|██████████| 282/282 [00:11<00:00, 24.39it/s]\n"
     ]
    },
    {
     "name": "stdout",
     "output_type": "stream",
     "text": [
      "EPOCH 279: Train acc: 99.43% Train Loss: 0.0221 Test acc: 57.93% Test Loss: 7.9548\n"
     ]
    },
    {
     "name": "stderr",
     "output_type": "stream",
     "text": [
      "100%|██████████| 313/313 [00:15<00:00, 19.93it/s]\n",
      "100%|██████████| 282/282 [00:11<00:00, 24.38it/s]\n"
     ]
    },
    {
     "name": "stdout",
     "output_type": "stream",
     "text": [
      "EPOCH 280: Train acc: 99.77% Train Loss: 0.0092 Test acc: 59.77% Test Loss: 9.2997\n"
     ]
    },
    {
     "name": "stderr",
     "output_type": "stream",
     "text": [
      "100%|██████████| 313/313 [00:15<00:00, 19.68it/s]\n",
      "100%|██████████| 282/282 [00:11<00:00, 24.33it/s]\n"
     ]
    },
    {
     "name": "stdout",
     "output_type": "stream",
     "text": [
      "EPOCH 281: Train acc: 99.78% Train Loss: 0.0076 Test acc: 58.00% Test Loss: 8.2250\n"
     ]
    },
    {
     "name": "stderr",
     "output_type": "stream",
     "text": [
      "100%|██████████| 313/313 [00:15<00:00, 19.86it/s]\n",
      "100%|██████████| 282/282 [00:11<00:00, 24.30it/s]\n"
     ]
    },
    {
     "name": "stdout",
     "output_type": "stream",
     "text": [
      "EPOCH 282: Train acc: 99.72% Train Loss: 0.0096 Test acc: 58.91% Test Loss: 11.0958\n"
     ]
    },
    {
     "name": "stderr",
     "output_type": "stream",
     "text": [
      "100%|██████████| 313/313 [00:15<00:00, 19.81it/s]\n",
      "100%|██████████| 282/282 [00:11<00:00, 24.37it/s]\n"
     ]
    },
    {
     "name": "stdout",
     "output_type": "stream",
     "text": [
      "EPOCH 283: Train acc: 99.74% Train Loss: 0.0163 Test acc: 59.71% Test Loss: 10.9397\n"
     ]
    },
    {
     "name": "stderr",
     "output_type": "stream",
     "text": [
      "100%|██████████| 313/313 [00:15<00:00, 19.85it/s]\n",
      "100%|██████████| 282/282 [00:11<00:00, 24.43it/s]\n"
     ]
    },
    {
     "name": "stdout",
     "output_type": "stream",
     "text": [
      "EPOCH 284: Train acc: 99.47% Train Loss: 0.0287 Test acc: 56.57% Test Loss: 10.0016\n"
     ]
    },
    {
     "name": "stderr",
     "output_type": "stream",
     "text": [
      "100%|██████████| 313/313 [00:15<00:00, 19.95it/s]\n",
      "100%|██████████| 282/282 [00:11<00:00, 24.40it/s]\n"
     ]
    },
    {
     "name": "stdout",
     "output_type": "stream",
     "text": [
      "EPOCH 285: Train acc: 99.82% Train Loss: 0.0107 Test acc: 59.46% Test Loss: 8.6861\n"
     ]
    },
    {
     "name": "stderr",
     "output_type": "stream",
     "text": [
      "100%|██████████| 313/313 [00:15<00:00, 19.69it/s]\n",
      "100%|██████████| 282/282 [00:11<00:00, 24.41it/s]\n"
     ]
    },
    {
     "name": "stdout",
     "output_type": "stream",
     "text": [
      "EPOCH 286: Train acc: 99.71% Train Loss: 0.0125 Test acc: 58.79% Test Loss: 9.4370\n"
     ]
    },
    {
     "name": "stderr",
     "output_type": "stream",
     "text": [
      "100%|██████████| 313/313 [00:15<00:00, 19.74it/s]\n",
      "100%|██████████| 282/282 [00:11<00:00, 24.45it/s]\n"
     ]
    },
    {
     "name": "stdout",
     "output_type": "stream",
     "text": [
      "EPOCH 287: Train acc: 99.76% Train Loss: 0.0130 Test acc: 56.72% Test Loss: 8.3967\n"
     ]
    },
    {
     "name": "stderr",
     "output_type": "stream",
     "text": [
      "100%|██████████| 313/313 [00:15<00:00, 19.83it/s]\n",
      "100%|██████████| 282/282 [00:11<00:00, 24.37it/s]\n"
     ]
    },
    {
     "name": "stdout",
     "output_type": "stream",
     "text": [
      "EPOCH 288: Train acc: 99.59% Train Loss: 0.0194 Test acc: 59.61% Test Loss: 8.1531\n"
     ]
    },
    {
     "name": "stderr",
     "output_type": "stream",
     "text": [
      "100%|██████████| 313/313 [00:15<00:00, 19.75it/s]\n",
      "100%|██████████| 282/282 [00:11<00:00, 24.43it/s]\n"
     ]
    },
    {
     "name": "stdout",
     "output_type": "stream",
     "text": [
      "EPOCH 289: Train acc: 99.85% Train Loss: 0.0043 Test acc: 58.94% Test Loss: 9.2564\n"
     ]
    },
    {
     "name": "stderr",
     "output_type": "stream",
     "text": [
      "100%|██████████| 313/313 [00:15<00:00, 19.64it/s]\n",
      "100%|██████████| 282/282 [00:11<00:00, 24.46it/s]\n"
     ]
    },
    {
     "name": "stdout",
     "output_type": "stream",
     "text": [
      "EPOCH 290: Train acc: 99.88% Train Loss: 0.0035 Test acc: 59.32% Test Loss: 10.1118\n"
     ]
    },
    {
     "name": "stderr",
     "output_type": "stream",
     "text": [
      "100%|██████████| 313/313 [00:15<00:00, 19.97it/s]\n",
      "100%|██████████| 282/282 [00:11<00:00, 24.64it/s]\n"
     ]
    },
    {
     "name": "stdout",
     "output_type": "stream",
     "text": [
      "EPOCH 291: Train acc: 99.86% Train Loss: 0.0046 Test acc: 58.22% Test Loss: 9.6670\n"
     ]
    },
    {
     "name": "stderr",
     "output_type": "stream",
     "text": [
      "100%|██████████| 313/313 [00:15<00:00, 19.70it/s]\n",
      "100%|██████████| 282/282 [00:11<00:00, 24.43it/s]\n"
     ]
    },
    {
     "name": "stdout",
     "output_type": "stream",
     "text": [
      "EPOCH 292: Train acc: 99.43% Train Loss: 0.0355 Test acc: 57.18% Test Loss: 12.6005\n"
     ]
    },
    {
     "name": "stderr",
     "output_type": "stream",
     "text": [
      "100%|██████████| 313/313 [00:15<00:00, 19.85it/s]\n",
      "100%|██████████| 282/282 [00:11<00:00, 24.43it/s]\n"
     ]
    },
    {
     "name": "stdout",
     "output_type": "stream",
     "text": [
      "EPOCH 293: Train acc: 99.37% Train Loss: 0.0336 Test acc: 59.76% Test Loss: 8.2639\n"
     ]
    },
    {
     "name": "stderr",
     "output_type": "stream",
     "text": [
      "100%|██████████| 313/313 [00:15<00:00, 19.72it/s]\n",
      "100%|██████████| 282/282 [00:11<00:00, 24.43it/s]\n"
     ]
    },
    {
     "name": "stdout",
     "output_type": "stream",
     "text": [
      "EPOCH 294: Train acc: 99.68% Train Loss: 0.0188 Test acc: 60.29% Test Loss: 10.2427\n"
     ]
    },
    {
     "name": "stderr",
     "output_type": "stream",
     "text": [
      "100%|██████████| 313/313 [00:15<00:00, 20.02it/s]\n",
      "100%|██████████| 282/282 [00:11<00:00, 24.38it/s]\n"
     ]
    },
    {
     "name": "stdout",
     "output_type": "stream",
     "text": [
      "EPOCH 295: Train acc: 99.79% Train Loss: 0.0071 Test acc: 59.78% Test Loss: 9.2697\n"
     ]
    },
    {
     "name": "stderr",
     "output_type": "stream",
     "text": [
      "100%|██████████| 313/313 [00:15<00:00, 19.89it/s]\n",
      "100%|██████████| 282/282 [00:11<00:00, 24.33it/s]\n"
     ]
    },
    {
     "name": "stdout",
     "output_type": "stream",
     "text": [
      "EPOCH 296: Train acc: 99.80% Train Loss: 0.0071 Test acc: 60.41% Test Loss: 10.3868\n"
     ]
    },
    {
     "name": "stderr",
     "output_type": "stream",
     "text": [
      "100%|██████████| 313/313 [00:15<00:00, 19.83it/s]\n",
      "100%|██████████| 282/282 [00:11<00:00, 24.37it/s]\n"
     ]
    },
    {
     "name": "stdout",
     "output_type": "stream",
     "text": [
      "EPOCH 297: Train acc: 99.83% Train Loss: 0.0094 Test acc: 59.84% Test Loss: 8.9367\n"
     ]
    },
    {
     "name": "stderr",
     "output_type": "stream",
     "text": [
      "100%|██████████| 313/313 [00:15<00:00, 19.57it/s]\n",
      "100%|██████████| 282/282 [00:11<00:00, 24.47it/s]\n"
     ]
    },
    {
     "name": "stdout",
     "output_type": "stream",
     "text": [
      "EPOCH 298: Train acc: 99.71% Train Loss: 0.0129 Test acc: 58.76% Test Loss: 10.5796\n"
     ]
    },
    {
     "name": "stderr",
     "output_type": "stream",
     "text": [
      "100%|██████████| 313/313 [00:15<00:00, 19.67it/s]\n",
      "100%|██████████| 282/282 [00:11<00:00, 24.43it/s]\n"
     ]
    },
    {
     "name": "stdout",
     "output_type": "stream",
     "text": [
      "EPOCH 299: Train acc: 99.60% Train Loss: 0.0206 Test acc: 60.46% Test Loss: 9.5729\n"
     ]
    },
    {
     "name": "stderr",
     "output_type": "stream",
     "text": [
      "100%|██████████| 313/313 [00:15<00:00, 19.69it/s]\n",
      "100%|██████████| 282/282 [00:11<00:00, 24.22it/s]"
     ]
    },
    {
     "name": "stdout",
     "output_type": "stream",
     "text": [
      "EPOCH 300: Train acc: 99.70% Train Loss: 0.0182 Test acc: 59.63% Test Loss: 9.7129\n"
     ]
    },
    {
     "name": "stderr",
     "output_type": "stream",
     "text": [
      "\n"
     ]
    }
   ],
   "source": [
    "train_losses = []\n",
    "test_losses = []\n",
    "\n",
    "for e in range(EPOCHS):\n",
    "    train_predictions, train_targets, train_loss = train(model, train_loader, criterion, optimizer, device)\n",
    "    test_predictions, test_targets, test_loss = test(model, test_loader, criterion, device)\n",
    "    \n",
    "    \n",
    "    train_acc = accuracy_score(train_targets, train_predictions)\n",
    "    test_acc = accuracy_score(test_targets, test_predictions)\n",
    "    \n",
    "    print(\"EPOCH {}: Train acc: {:.2%} Train Loss: {:.4f} Test acc: {:.2%} Test Loss: {:.4f}\".format(\n",
    "        e+1,\n",
    "        train_acc,\n",
    "        train_loss,\n",
    "        test_acc,\n",
    "        test_loss\n",
    "    ))\n",
    "    \n",
    "    train_losses.append(train_loss)\n",
    "    test_losses.append(test_loss)"
   ]
  },
  {
   "cell_type": "code",
   "execution_count": 22,
   "id": "8ce3d44c-d082-44bf-96a8-3425dbc7186e",
   "metadata": {},
   "outputs": [
    {
     "data": {
      "text/plain": [
       "<AxesSubplot:>"
      ]
     },
     "execution_count": 22,
     "metadata": {},
     "output_type": "execute_result"
    },
    {
     "data": {
      "image/png": "[encoded data removed]",
      "text/plain": [
       "<Figure size 432x288 with 1 Axes>"
      ]
     },
     "metadata": {
      "needs_background": "light"
     },
     "output_type": "display_data"
    }
   ],
   "source": [
    "pd.Series(test_losses).plot.line()"
   ]
  },
  {
   "cell_type": "code",
   "execution_count": 23,
   "id": "54b19f44-819b-4893-98bc-f50c6a5d55af",
   "metadata": {},
   "outputs": [
    {
     "data": {
      "text/plain": [
       "<AxesSubplot:>"
      ]
     },
     "execution_count": 23,
     "metadata": {},
     "output_type": "execute_result"
    },
    {
     "data": {
      "image/png": "[encoded data removed]",
      "text/plain": [
       "<Figure size 432x288 with 1 Axes>"
      ]
     },
     "metadata": {
      "needs_background": "light"
     },
     "output_type": "display_data"
    }
   ],
   "source": [
    "pd.Series(train_losses).plot.line()"
   ]
  },
  {
   "cell_type": "code",
   "execution_count": null,
   "id": "b71a5af5-af20-4c71-98a7-5ef206ce0f41",
   "metadata": {},
   "outputs": [],
   "source": []
  }
 ],
 "metadata": {
  "kernelspec": {
   "display_name": "Python 3",
   "language": "python",
   "name": "python3"
  },
  "language_info": {
   "codemirror_mode": {
    "name": "ipython",
    "version": 3
   },
   "file_extension": ".py",
   "mimetype": "text/x-python",
   "name": "python",
   "nbconvert_exporter": "python",
   "pygments_lexer": "ipython3",
   "version": "3.9.7"
  }
 },
 "nbformat": 4,
 "nbformat_minor": 5
}
