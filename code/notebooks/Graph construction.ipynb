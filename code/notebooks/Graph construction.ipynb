{
 "cells": [
  {
   "cell_type": "code",
   "execution_count": null,
   "id": "93da2af9-ad29-4391-a6d6-dd1803d50889",
   "metadata": {},
   "outputs": [],
   "source": [
    "%cd .."
   ]
  },
  {
   "cell_type": "code",
   "execution_count": null,
   "id": "a0b39fce",
   "metadata": {},
   "outputs": [],
   "source": [
    "import numpy as np\n",
    "import pandas as pd\n",
    "import matplotlib.pyplot as plt\n",
    "import seaborn as sns\n",
    "import os\n",
    "import glob\n",
    "import random\n",
    "import networkx as nx\n",
    "from sklearn import preprocessing\n",
    "import dgl\n",
    "import torch\n",
    "import torch.nn as nn\n",
    "import torch.nn.functional as F\n",
    "import torchvision.models as models\n",
    "import dgl.function as fn\n",
    "from dgl.nn.functional import edge_softmax"
   ]
  },
  {
   "cell_type": "code",
   "execution_count": null,
   "id": "1d7402b9-33ab-4804-ac3f-27201530eff6",
   "metadata": {},
   "outputs": [],
   "source": [
    "from src import config\n",
    "from src.utils import *"
   ]
  },
  {
   "cell_type": "code",
   "execution_count": null,
   "id": "2d686783-d1a2-4e70-afbb-538f9ce911d3",
   "metadata": {},
   "outputs": [],
   "source": [
    "%load_ext autoreload\n",
    "%autoreload 2"
   ]
  },
  {
   "cell_type": "markdown",
   "id": "0c5d8a70",
   "metadata": {},
   "source": [
    "---"
   ]
  },
  {
   "cell_type": "code",
   "execution_count": null,
   "id": "540d7c79",
   "metadata": {},
   "outputs": [],
   "source": [
    "path = f\"{config.DATA_DIR}/GCD/train\""
   ]
  },
  {
   "cell_type": "code",
   "execution_count": null,
   "id": "c8d0253a",
   "metadata": {},
   "outputs": [],
   "source": [
    "image_files = glob.glob(\n",
    "        os.path.join(path,\"**/*.jpg\"), recursive=True\n",
    "    )"
   ]
  },
  {
   "cell_type": "code",
   "execution_count": null,
   "id": "af1b4647",
   "metadata": {},
   "outputs": [],
   "source": [
    "random.shuffle(image_files)"
   ]
  },
  {
   "cell_type": "code",
   "execution_count": null,
   "id": "22781748",
   "metadata": {},
   "outputs": [],
   "source": [
    "batch_size = 16\n",
    "batch_img_paths = image_files[:batch_size]"
   ]
  },
  {
   "cell_type": "code",
   "execution_count": null,
   "id": "8df15ba0",
   "metadata": {},
   "outputs": [],
   "source": [
    "targets = [os.path.basename(x).split(\"_\")[1] for x in batch_img_paths]"
   ]
  },
  {
   "cell_type": "code",
   "execution_count": null,
   "id": "99f01c16",
   "metadata": {},
   "outputs": [],
   "source": [
    "df = pd.DataFrame({\"img_path\":batch_img_paths, \"target\": targets})"
   ]
  },
  {
   "cell_type": "code",
   "execution_count": null,
   "id": "4f4aa421",
   "metadata": {},
   "outputs": [],
   "source": [
    "le = preprocessing.LabelEncoder()\n",
    "df['label']= le.fit_transform(df['target'])"
   ]
  },
  {
   "cell_type": "markdown",
   "id": "76d3b620",
   "metadata": {},
   "source": [
    "### Read images"
   ]
  },
  {
   "cell_type": "code",
   "execution_count": null,
   "id": "fa2db733",
   "metadata": {},
   "outputs": [],
   "source": [
    "images = np.array([readImage(path) for path in batch_img_paths])\n",
    "\n",
    "#NORM\n",
    "images=(images-np.mean(images))/np.std(images)"
   ]
  },
  {
   "cell_type": "code",
   "execution_count": null,
   "id": "fe9971bb",
   "metadata": {},
   "outputs": [],
   "source": [
    "df['target'].value_counts()"
   ]
  },
  {
   "cell_type": "code",
   "execution_count": null,
   "id": "7cb7f08c",
   "metadata": {},
   "outputs": [],
   "source": [
    "plt.figure(figsize=(8,4))\n",
    "df['target'].value_counts().plot.bar()\n",
    "plt.grid(axis='x')\n",
    "plt.xticks(rotation=0)\n",
    "plt.title('Numero de imagenes por tipo en el batch')\n",
    "plt.show()"
   ]
  },
  {
   "cell_type": "markdown",
   "id": "ffa4d499",
   "metadata": {},
   "source": [
    "### DEEP FEATURES"
   ]
  },
  {
   "cell_type": "code",
   "execution_count": null,
   "id": "d16263ce",
   "metadata": {},
   "outputs": [],
   "source": [
    "cnn = nn.Sequential(*(list(models.resnet50(pretrained=True).children())[:-1]))"
   ]
  },
  {
   "cell_type": "code",
   "execution_count": null,
   "id": "84a2fc68",
   "metadata": {},
   "outputs": [],
   "source": [
    "batch_images = torch.tensor(images ,dtype=torch.float)"
   ]
  },
  {
   "cell_type": "code",
   "execution_count": null,
   "id": "8699690a",
   "metadata": {},
   "outputs": [],
   "source": [
    "with torch.no_grad():\n",
    "    features = cnn(torch.tensor(images).float()).reshape(-1,2048)"
   ]
  },
  {
   "cell_type": "code",
   "execution_count": null,
   "id": "4a146ddd-6a83-416b-bf11-26f93921316b",
   "metadata": {},
   "outputs": [],
   "source": [
    "features.shape"
   ]
  },
  {
   "cell_type": "markdown",
   "id": "23641257",
   "metadata": {},
   "source": [
    "### SIMILARITY AND ADJACENCY MATRIX"
   ]
  },
  {
   "cell_type": "code",
   "execution_count": null,
   "id": "7974a3f2",
   "metadata": {},
   "outputs": [],
   "source": [
    "THRESHOLD=0.7"
   ]
  },
  {
   "cell_type": "code",
   "execution_count": null,
   "id": "2a4a92ef",
   "metadata": {},
   "outputs": [],
   "source": [
    "# Normalization\n",
    "norm = features.norm(dim=1).view(-1,1)\n",
    "batch = features/norm\n",
    "\n",
    "# Cosine Similarity Matrix NxN\n",
    "sim_matrix = batch @ batch.T\n",
    "\n",
    "#Adjacency Matrix NxN\n",
    "adj_matrix = torch.where(sim_matrix>THRESHOLD, 1, 0)"
   ]
  },
  {
   "cell_type": "code",
   "execution_count": null,
   "id": "f515f904-8a0f-4e40-a600-5419a65ddf7d",
   "metadata": {},
   "outputs": [],
   "source": [
    "adj_matrix"
   ]
  },
  {
   "cell_type": "markdown",
   "id": "8adc983f",
   "metadata": {},
   "source": [
    "### Plot"
   ]
  },
  {
   "cell_type": "code",
   "execution_count": null,
   "id": "1feb7a52",
   "metadata": {},
   "outputs": [],
   "source": [
    "G = nx.from_numpy_matrix(adj_matrix.numpy(), create_using=nx.Graph)"
   ]
  },
  {
   "cell_type": "code",
   "execution_count": null,
   "id": "f11ae7a9",
   "metadata": {},
   "outputs": [],
   "source": [
    "plt.figure(1,figsize=(7,5)) \n",
    "nx.draw(G, nx.spring_layout(G, k=10/np.sqrt(G.number_of_nodes())), with_labels=True, node_color=df['label'], font_color=\"white\", font_weight=\"bold\")\n",
    "plt.title('Grafo de representacion de imagenes de nubes')\n",
    "plt.show()"
   ]
  },
  {
   "cell_type": "markdown",
   "id": "cc34c221",
   "metadata": {},
   "source": [
    "#### DGL"
   ]
  },
  {
   "cell_type": "code",
   "execution_count": null,
   "id": "4c3ae752",
   "metadata": {},
   "outputs": [],
   "source": [
    "row, col = torch.where(adj_matrix==1)"
   ]
  },
  {
   "cell_type": "code",
   "execution_count": null,
   "id": "16159ced",
   "metadata": {},
   "outputs": [],
   "source": [
    "g = dgl.graph((row, col))"
   ]
  },
  {
   "cell_type": "code",
   "execution_count": null,
   "id": "69f5de8e-9da1-48c0-9364-eaa02bb0583d",
   "metadata": {},
   "outputs": [],
   "source": [
    "g "
   ]
  },
  {
   "cell_type": "markdown",
   "id": "cb08f71e-6e90-4ae6-a682-bca3ec4c5aa6",
   "metadata": {},
   "source": [
    "### GCN Layer test"
   ]
  },
  {
   "cell_type": "code",
   "execution_count": null,
   "id": "cb0d7153-6c6a-48c6-8541-bffee1f15f21",
   "metadata": {},
   "outputs": [],
   "source": [
    "gcd_layer = dgl.nn.GraphConv(2048, 512)\n",
    "\n",
    "mp_features = gcd_layer(g, features)\n",
    "print(mp_features.shape)"
   ]
  },
  {
   "cell_type": "markdown",
   "id": "2778cebb-ebfa-4cf5-b20c-7a89a078cc18",
   "metadata": {},
   "source": [
    "---"
   ]
  },
  {
   "cell_type": "markdown",
   "id": "d06c2da2",
   "metadata": {},
   "source": [
    "## CAC COEFFICIENTS"
   ]
  },
  {
   "cell_type": "markdown",
   "id": "b67c6709",
   "metadata": {},
   "source": [
    "#### 1. Sample z neighbours for each node, excluding itself"
   ]
  },
  {
   "cell_type": "code",
   "execution_count": null,
   "id": "8d37836c",
   "metadata": {},
   "outputs": [],
   "source": [
    "#OVERWRITE \n",
    "sim_matrix.fill_diagonal_(0)\n",
    "\n",
    "num_neighbours = 2\n",
    "indices = torch.topk(sim_matrix, num_neighbours, dim=1).indices"
   ]
  },
  {
   "cell_type": "code",
   "execution_count": null,
   "id": "eac4f3a2",
   "metadata": {},
   "outputs": [],
   "source": [
    "# SAMPLE NEIGHBOURHOOD \n",
    "neighbours = features[indices]"
   ]
  },
  {
   "cell_type": "markdown",
   "id": "f5bdb8c6",
   "metadata": {},
   "source": [
    "### CAC computation"
   ]
  },
  {
   "cell_type": "code",
   "execution_count": null,
   "id": "cbbd23bb",
   "metadata": {},
   "outputs": [],
   "source": [
    "u1 = nn.Linear(2048, 256, bias=False)\n",
    "v1 = nn.Linear(2048, 256, bias=False)\n",
    "\n",
    "u2 = nn.Linear(2048, 256, bias=False)\n",
    "v2 = nn.Linear(2048, 256, bias=False)"
   ]
  },
  {
   "cell_type": "code",
   "execution_count": null,
   "id": "a0067621",
   "metadata": {},
   "outputs": [],
   "source": [
    "feat_src = u1(features)\n",
    "feat_dst = v1(features)\n",
    "\n",
    "neigh_src = u2(neighbours).mean(1)\n",
    "neigh_dst = v2(neighbours).mean(1)"
   ]
  },
  {
   "cell_type": "code",
   "execution_count": null,
   "id": "dc678f3a",
   "metadata": {},
   "outputs": [],
   "source": [
    "def edge_udf(edges):\n",
    "    return {'raw_coef': (edges.src['feat_src']*edges.src['feat_dst']).sum(1) + (edges.dst['neigh_src']*edges.dst['neigh_dst']).sum(1)/num_neighbours**2}"
   ]
  },
  {
   "cell_type": "code",
   "execution_count": null,
   "id": "cb124faa",
   "metadata": {},
   "outputs": [],
   "source": [
    "with g.local_scope():\n",
    "    \n",
    "    g.ndata['feat_src'] = feat_src\n",
    "    g.ndata['feat_dst'] = feat_dst\n",
    "    g.ndata['neigh_src'] = neigh_src\n",
    "    g.ndata['neigh_dst'] = neigh_dst\n",
    "    \n",
    "    g.apply_edges(edge_udf)\n",
    "    g.edata['cac'] = edge_softmax(g, g.edata['raw_coef'])\n",
    "    g.update_all(fn.u_mul_e('feat_src', 'cac', 'm'), fn.mean('m', 'h'))\n",
    "    \n",
    "    print(g.dstdata['h'].shape)"
   ]
  }
 ],
 "metadata": {
  "kernelspec": {
   "display_name": "Python 3",
   "language": "python",
   "name": "python3"
  },
  "language_info": {
   "codemirror_mode": {
    "name": "ipython",
    "version": 3
   },
   "file_extension": ".py",
   "mimetype": "text/x-python",
   "name": "python",
   "nbconvert_exporter": "python",
   "pygments_lexer": "ipython3",
   "version": "3.9.7"
  }
 },
 "nbformat": 4,
 "nbformat_minor": 5
}
