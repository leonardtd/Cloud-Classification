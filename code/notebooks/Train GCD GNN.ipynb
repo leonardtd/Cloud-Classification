{
 "cells": [
  {
   "cell_type": "code",
   "execution_count": 1,
   "id": "e77ccc5d-e07e-406a-aac0-a8ae99ffedae",
   "metadata": {},
   "outputs": [
    {
     "name": "stdout",
     "output_type": "stream",
     "text": [
      "/home/ltorres/leo/tesis/cloud-classification/code\n"
     ]
    }
   ],
   "source": [
    "%cd .."
   ]
  },
  {
   "cell_type": "code",
   "execution_count": 2,
   "id": "df066a8e-ed76-4b62-b9be-b3e8e3379b8b",
   "metadata": {},
   "outputs": [],
   "source": [
    "%load_ext autoreload\n",
    "%autoreload 2"
   ]
  },
  {
   "cell_type": "code",
   "execution_count": 3,
   "id": "36811c7d-0c3b-4845-a702-4de962035cb9",
   "metadata": {},
   "outputs": [],
   "source": [
    "from torchvision.io import read_image\n",
    "import glob\n",
    "import os\n",
    "import numpy as np\n",
    "import pandas as pd\n",
    "import matplotlib.pyplot as plt\n",
    "import seaborn as sns\n",
    "\n",
    "from random import sample\n",
    "import torch\n",
    "import torch.nn as nn"
   ]
  },
  {
   "cell_type": "code",
   "execution_count": 15,
   "id": "a2cfa629-84c4-45ab-84ff-f8a4bdeacf75",
   "metadata": {},
   "outputs": [],
   "source": [
    "from src.dataset import GCD\n",
    "from src import config\n",
    "from src import engine_gnn as engine\n",
    "from src import utils\n",
    "\n",
    "from src.models.old.initial_graphnets import GraphConvGNN, GATConvGNN"
   ]
  },
  {
   "cell_type": "code",
   "execution_count": 5,
   "id": "d4e1acb2-496d-45e5-9e66-92dda51e7888",
   "metadata": {},
   "outputs": [],
   "source": [
    "from sklearn.metrics import accuracy_score"
   ]
  },
  {
   "cell_type": "code",
   "execution_count": 6,
   "id": "93fc98c7-f864-4fa2-b595-773aeedce8de",
   "metadata": {},
   "outputs": [],
   "source": [
    "device = config.DEVICE"
   ]
  },
  {
   "cell_type": "markdown",
   "id": "0261f5e1-e6d9-453a-8d44-8f3202368c9f",
   "metadata": {},
   "source": [
    "#### Data loaders"
   ]
  },
  {
   "cell_type": "code",
   "execution_count": 7,
   "id": "38fde725-5100-4b57-903f-161c66a03b16",
   "metadata": {},
   "outputs": [],
   "source": [
    "path_train_images = utils.get_gcd_paths(config.DATA_DIR,'train')"
   ]
  },
  {
   "cell_type": "code",
   "execution_count": 8,
   "id": "1dc3d187-e1f5-41ed-8d82-7c96fb57abdf",
   "metadata": {},
   "outputs": [],
   "source": [
    "train_dataset = GCD(path_train_images, resize=256)\n",
    "\n",
    "train_loader = torch.utils.data.DataLoader(\n",
    "        train_dataset,\n",
    "        batch_size=config.BATCH_SIZE,\n",
    "        num_workers=4,\n",
    "        shuffle=True,\n",
    "    )"
   ]
  },
  {
   "cell_type": "code",
   "execution_count": 26,
   "id": "e6dde255-d33b-4843-a0dd-b95272ad6a35",
   "metadata": {},
   "outputs": [],
   "source": [
    "path_test_images = utils.get_gcd_paths(config.DATA_DIR,'test')\n",
    "\n",
    "test_dataset = GCD(path_test_images, resize=256)\n",
    "\n",
    "test_loader = torch.utils.data.DataLoader(\n",
    "        test_dataset,\n",
    "        batch_size=config.BATCH_SIZE,\n",
    "        num_workers=4,\n",
    "        shuffle=True,\n",
    "    )"
   ]
  },
  {
   "cell_type": "markdown",
   "id": "b600c484-fc76-4d47-bf2e-e7826ca1dc04",
   "metadata": {},
   "source": [
    "### Data augmentation data loaders"
   ]
  },
  {
   "cell_type": "code",
   "execution_count": 10,
   "id": "f0ed9cf9-7b4c-4378-8732-9c397fe3bc45",
   "metadata": {},
   "outputs": [],
   "source": [
    "augmentation_datasets = [\n",
    "    GCD(utils.random_sample(path_train_images), resize=256, aug_types= atype)\n",
    "    for atype in config.AUGMENTATION_TYPES\n",
    "    ]"
   ]
  },
  {
   "cell_type": "code",
   "execution_count": 11,
   "id": "a0127b64-0ac5-4560-aec2-2785cc50f5bd",
   "metadata": {},
   "outputs": [],
   "source": [
    "augmentation_loaders = [\n",
    "    torch.utils.data.DataLoader(\n",
    "            aug_dataset,\n",
    "            batch_size=config.BATCH_SIZE,\n",
    "            num_workers=4,\n",
    "            shuffle=True,\n",
    "        )\n",
    "for aug_dataset in augmentation_datasets\n",
    "]"
   ]
  },
  {
   "cell_type": "markdown",
   "id": "95707389-de47-4914-8b87-edc394cb4202",
   "metadata": {},
   "source": [
    "#### Model"
   ]
  },
  {
   "cell_type": "code",
   "execution_count": 12,
   "id": "b0757e6e-31f1-461a-a21d-496f7f98bcff",
   "metadata": {},
   "outputs": [],
   "source": [
    "from torchvision import models"
   ]
  },
  {
   "cell_type": "code",
   "execution_count": 17,
   "id": "4b3e7ae9-681e-4806-85d9-c9b37164da11",
   "metadata": {},
   "outputs": [],
   "source": [
    "torch.cuda.empty_cache()"
   ]
  },
  {
   "cell_type": "code",
   "execution_count": 18,
   "id": "afe7e632-6f51-4ae5-ab71-bae05960cf78",
   "metadata": {},
   "outputs": [],
   "source": [
    "model = GATConvGNN(7).to(config.DEVICE)"
   ]
  },
  {
   "cell_type": "code",
   "execution_count": 12,
   "id": "19f68d2a-96ac-4801-ba11-9614058a98ea",
   "metadata": {},
   "outputs": [],
   "source": [
    "#criterion = nn.CrossEntropyLoss()\n",
    "criterion = utils.loge_loss\n",
    "#optimizer  = torch.optim.Adam(model.parameters(), lr=3e-4)\n",
    "optimizer  = torch.optim.SGD(model.parameters(), lr=3e-4, momentum=0.9)"
   ]
  },
  {
   "cell_type": "code",
   "execution_count": 13,
   "id": "07066fa0-5360-4627-989b-1904eeb5c022",
   "metadata": {},
   "outputs": [],
   "source": [
    "model_filename = '/gcd_gnn/1_GATConvGNN_LOGE_SGD_27_03_22.pt'"
   ]
  },
  {
   "cell_type": "markdown",
   "id": "645a8b99-0592-485b-ac50-6e66fd65d75a",
   "metadata": {},
   "source": [
    "### Train"
   ]
  },
  {
   "cell_type": "code",
   "execution_count": 17,
   "id": "52819030-77e0-4312-b0c6-b786da2fc2f8",
   "metadata": {
    "tags": []
   },
   "outputs": [
    {
     "name": "stderr",
     "output_type": "stream",
     "text": [
      "100%|██████████| 313/313 [00:56<00:00,  5.54it/s]\n",
      "100%|██████████| 157/157 [00:27<00:00,  5.74it/s]\n",
      "100%|██████████| 157/157 [00:27<00:00,  5.72it/s]\n",
      "100%|██████████| 157/157 [00:27<00:00,  5.68it/s]\n",
      "100%|██████████| 157/157 [00:27<00:00,  5.69it/s]\n",
      "100%|██████████| 282/282 [00:17<00:00, 16.26it/s]\n"
     ]
    },
    {
     "name": "stdout",
     "output_type": "stream",
     "text": [
      "Saved best parameters at epoch 1\n",
      "EPOCH 1: Train acc: 65.14% Train Loss: 2.0851 Test acc: 78.53% Test Loss: 1.3435\n"
     ]
    },
    {
     "name": "stderr",
     "output_type": "stream",
     "text": [
      "100%|██████████| 313/313 [00:56<00:00,  5.56it/s]\n",
      "100%|██████████| 157/157 [00:27<00:00,  5.72it/s]\n",
      "100%|██████████| 157/157 [00:27<00:00,  5.72it/s]\n",
      "100%|██████████| 157/157 [00:27<00:00,  5.68it/s]\n",
      "100%|██████████| 157/157 [00:27<00:00,  5.69it/s]\n",
      "100%|██████████| 282/282 [00:17<00:00, 16.24it/s]\n"
     ]
    },
    {
     "name": "stdout",
     "output_type": "stream",
     "text": [
      "Saved best parameters at epoch 2\n",
      "EPOCH 2: Train acc: 87.75% Train Loss: 0.7414 Test acc: 80.62% Test Loss: 1.2869\n"
     ]
    },
    {
     "name": "stderr",
     "output_type": "stream",
     "text": [
      "100%|██████████| 313/313 [00:56<00:00,  5.58it/s]\n",
      "100%|██████████| 157/157 [00:27<00:00,  5.73it/s]\n",
      "100%|██████████| 157/157 [00:27<00:00,  5.73it/s]\n",
      "100%|██████████| 157/157 [00:27<00:00,  5.65it/s]\n",
      "100%|██████████| 157/157 [00:27<00:00,  5.69it/s]\n",
      "100%|██████████| 282/282 [00:17<00:00, 16.20it/s]\n"
     ]
    },
    {
     "name": "stdout",
     "output_type": "stream",
     "text": [
      "Saved best parameters at epoch 3\n",
      "EPOCH 3: Train acc: 90.50% Train Loss: 0.5786 Test acc: 80.98% Test Loss: 1.2251\n"
     ]
    },
    {
     "name": "stderr",
     "output_type": "stream",
     "text": [
      "100%|██████████| 313/313 [00:56<00:00,  5.57it/s]\n",
      "100%|██████████| 157/157 [00:27<00:00,  5.74it/s]\n",
      "100%|██████████| 157/157 [00:27<00:00,  5.73it/s]\n",
      "100%|██████████| 157/157 [00:27<00:00,  5.68it/s]\n",
      "100%|██████████| 157/157 [00:27<00:00,  5.69it/s]\n",
      "100%|██████████| 282/282 [00:17<00:00, 16.20it/s]\n"
     ]
    },
    {
     "name": "stdout",
     "output_type": "stream",
     "text": [
      "EPOCH 4: Train acc: 92.42% Train Loss: 0.4575 Test acc: 79.68% Test Loss: 1.3246\n"
     ]
    },
    {
     "name": "stderr",
     "output_type": "stream",
     "text": [
      "100%|██████████| 313/313 [00:56<00:00,  5.57it/s]\n",
      "100%|██████████| 157/157 [00:27<00:00,  5.73it/s]\n",
      "100%|██████████| 157/157 [00:27<00:00,  5.73it/s]\n",
      "100%|██████████| 157/157 [00:27<00:00,  5.68it/s]\n",
      "100%|██████████| 157/157 [00:27<00:00,  5.69it/s]\n",
      "100%|██████████| 282/282 [00:17<00:00, 16.16it/s]\n"
     ]
    },
    {
     "name": "stdout",
     "output_type": "stream",
     "text": [
      "EPOCH 5: Train acc: 93.95% Train Loss: 0.3801 Test acc: 80.07% Test Loss: 1.2853\n"
     ]
    },
    {
     "name": "stderr",
     "output_type": "stream",
     "text": [
      "100%|██████████| 313/313 [00:56<00:00,  5.58it/s]\n",
      "100%|██████████| 157/157 [00:27<00:00,  5.73it/s]\n",
      "100%|██████████| 157/157 [00:27<00:00,  5.72it/s]\n",
      "100%|██████████| 157/157 [00:27<00:00,  5.69it/s]\n",
      "100%|██████████| 157/157 [00:27<00:00,  5.69it/s]\n",
      "100%|██████████| 282/282 [00:17<00:00, 16.09it/s]\n"
     ]
    },
    {
     "name": "stdout",
     "output_type": "stream",
     "text": [
      "EPOCH 6: Train acc: 94.75% Train Loss: 0.3264 Test acc: 79.46% Test Loss: 1.3158\n"
     ]
    },
    {
     "name": "stderr",
     "output_type": "stream",
     "text": [
      "100%|██████████| 313/313 [00:56<00:00,  5.56it/s]\n",
      "100%|██████████| 157/157 [00:27<00:00,  5.73it/s]\n",
      "100%|██████████| 157/157 [00:27<00:00,  5.72it/s]\n",
      "100%|██████████| 157/157 [00:27<00:00,  5.69it/s]\n",
      "100%|██████████| 157/157 [00:27<00:00,  5.69it/s]\n",
      "100%|██████████| 282/282 [00:17<00:00, 16.17it/s]\n"
     ]
    },
    {
     "name": "stdout",
     "output_type": "stream",
     "text": [
      "EPOCH 7: Train acc: 95.55% Train Loss: 0.2837 Test acc: 78.42% Test Loss: 1.4053\n"
     ]
    },
    {
     "name": "stderr",
     "output_type": "stream",
     "text": [
      "100%|██████████| 313/313 [00:56<00:00,  5.57it/s]\n",
      "100%|██████████| 157/157 [00:27<00:00,  5.73it/s]\n",
      "100%|██████████| 157/157 [00:27<00:00,  5.73it/s]\n",
      "100%|██████████| 157/157 [00:27<00:00,  5.68it/s]\n",
      "100%|██████████| 157/157 [00:27<00:00,  5.69it/s]\n",
      "100%|██████████| 282/282 [00:17<00:00, 16.15it/s]\n"
     ]
    },
    {
     "name": "stdout",
     "output_type": "stream",
     "text": [
      "EPOCH 8: Train acc: 96.30% Train Loss: 0.2342 Test acc: 80.34% Test Loss: 1.3403\n"
     ]
    },
    {
     "name": "stderr",
     "output_type": "stream",
     "text": [
      "100%|██████████| 313/313 [00:55<00:00,  5.59it/s]\n",
      "100%|██████████| 157/157 [00:27<00:00,  5.73it/s]\n",
      "100%|██████████| 157/157 [00:27<00:00,  5.73it/s]\n",
      "100%|██████████| 157/157 [00:27<00:00,  5.68it/s]\n",
      "100%|██████████| 157/157 [00:27<00:00,  5.68it/s]\n",
      "100%|██████████| 282/282 [00:17<00:00, 16.11it/s]\n"
     ]
    },
    {
     "name": "stdout",
     "output_type": "stream",
     "text": [
      "EPOCH 9: Train acc: 97.20% Train Loss: 0.1842 Test acc: 79.30% Test Loss: 1.3707\n"
     ]
    },
    {
     "name": "stderr",
     "output_type": "stream",
     "text": [
      "100%|██████████| 313/313 [00:56<00:00,  5.57it/s]\n",
      "100%|██████████| 157/157 [00:27<00:00,  5.73it/s]\n",
      "100%|██████████| 157/157 [00:27<00:00,  5.73it/s]\n",
      "100%|██████████| 157/157 [00:27<00:00,  5.69it/s]\n",
      "100%|██████████| 157/157 [00:27<00:00,  5.68it/s]\n",
      "100%|██████████| 282/282 [00:17<00:00, 16.14it/s]\n"
     ]
    },
    {
     "name": "stdout",
     "output_type": "stream",
     "text": [
      "EPOCH 10: Train acc: 97.49% Train Loss: 0.1632 Test acc: 78.90% Test Loss: 1.3969\n"
     ]
    },
    {
     "name": "stderr",
     "output_type": "stream",
     "text": [
      "100%|██████████| 313/313 [00:56<00:00,  5.56it/s]\n",
      "100%|██████████| 157/157 [00:27<00:00,  5.74it/s]\n",
      "100%|██████████| 157/157 [00:27<00:00,  5.73it/s]\n",
      "100%|██████████| 157/157 [00:27<00:00,  5.69it/s]\n",
      "100%|██████████| 157/157 [00:27<00:00,  5.68it/s]\n",
      "100%|██████████| 282/282 [00:17<00:00, 16.19it/s]\n"
     ]
    },
    {
     "name": "stdout",
     "output_type": "stream",
     "text": [
      "EPOCH 11: Train acc: 98.25% Train Loss: 0.1307 Test acc: 80.01% Test Loss: 1.3570\n"
     ]
    },
    {
     "name": "stderr",
     "output_type": "stream",
     "text": [
      "100%|██████████| 313/313 [00:56<00:00,  5.58it/s]\n",
      "100%|██████████| 157/157 [00:27<00:00,  5.72it/s]\n",
      "100%|██████████| 157/157 [00:27<00:00,  5.73it/s]\n",
      "100%|██████████| 157/157 [00:27<00:00,  5.68it/s]\n",
      "100%|██████████| 157/157 [00:27<00:00,  5.69it/s]\n",
      "100%|██████████| 282/282 [00:17<00:00, 16.25it/s]\n"
     ]
    },
    {
     "name": "stdout",
     "output_type": "stream",
     "text": [
      "EPOCH 12: Train acc: 98.47% Train Loss: 0.1110 Test acc: 80.18% Test Loss: 1.3804\n"
     ]
    },
    {
     "name": "stderr",
     "output_type": "stream",
     "text": [
      "100%|██████████| 313/313 [00:56<00:00,  5.56it/s]\n",
      "100%|██████████| 157/157 [00:27<00:00,  5.73it/s]\n",
      "100%|██████████| 157/157 [00:27<00:00,  5.73it/s]\n",
      "100%|██████████| 157/157 [00:27<00:00,  5.68it/s]\n",
      "100%|██████████| 157/157 [00:27<00:00,  5.68it/s]\n",
      "100%|██████████| 282/282 [00:17<00:00, 16.23it/s]\n"
     ]
    },
    {
     "name": "stdout",
     "output_type": "stream",
     "text": [
      "EPOCH 13: Train acc: 98.51% Train Loss: 0.1014 Test acc: 79.49% Test Loss: 1.4196\n"
     ]
    },
    {
     "name": "stderr",
     "output_type": "stream",
     "text": [
      "100%|██████████| 313/313 [00:56<00:00,  5.57it/s]\n",
      "100%|██████████| 157/157 [00:27<00:00,  5.73it/s]\n",
      "100%|██████████| 157/157 [00:27<00:00,  5.73it/s]\n",
      "100%|██████████| 157/157 [00:27<00:00,  5.67it/s]\n",
      "100%|██████████| 157/157 [00:27<00:00,  5.68it/s]\n",
      "100%|██████████| 282/282 [00:17<00:00, 16.14it/s]\n"
     ]
    },
    {
     "name": "stdout",
     "output_type": "stream",
     "text": [
      "EPOCH 14: Train acc: 99.11% Train Loss: 0.0698 Test acc: 80.09% Test Loss: 1.3489\n"
     ]
    },
    {
     "name": "stderr",
     "output_type": "stream",
     "text": [
      "100%|██████████| 313/313 [00:56<00:00,  5.55it/s]\n",
      "100%|██████████| 157/157 [00:27<00:00,  5.73it/s]\n",
      "100%|██████████| 157/157 [00:27<00:00,  5.73it/s]\n",
      "100%|██████████| 157/157 [00:27<00:00,  5.69it/s]\n",
      "100%|██████████| 157/157 [00:27<00:00,  5.68it/s]\n",
      "100%|██████████| 282/282 [00:17<00:00, 16.19it/s]\n"
     ]
    },
    {
     "name": "stdout",
     "output_type": "stream",
     "text": [
      "EPOCH 15: Train acc: 99.11% Train Loss: 0.0700 Test acc: 80.66% Test Loss: 1.3808\n"
     ]
    },
    {
     "name": "stderr",
     "output_type": "stream",
     "text": [
      "100%|██████████| 313/313 [00:56<00:00,  5.57it/s]\n",
      "100%|██████████| 157/157 [00:27<00:00,  5.73it/s]\n",
      "100%|██████████| 157/157 [00:27<00:00,  5.74it/s]\n",
      "100%|██████████| 157/157 [00:27<00:00,  5.67it/s]\n",
      "100%|██████████| 157/157 [00:27<00:00,  5.69it/s]\n",
      "100%|██████████| 282/282 [00:17<00:00, 16.24it/s]\n"
     ]
    },
    {
     "name": "stdout",
     "output_type": "stream",
     "text": [
      "EPOCH 16: Train acc: 99.13% Train Loss: 0.0653 Test acc: 79.99% Test Loss: 1.4061\n"
     ]
    },
    {
     "name": "stderr",
     "output_type": "stream",
     "text": [
      "100%|██████████| 313/313 [00:56<00:00,  5.56it/s]\n",
      "100%|██████████| 157/157 [00:27<00:00,  5.72it/s]\n",
      "100%|██████████| 157/157 [00:27<00:00,  5.73it/s]\n",
      "100%|██████████| 157/157 [00:27<00:00,  5.68it/s]\n",
      "100%|██████████| 157/157 [00:27<00:00,  5.69it/s]\n",
      "100%|██████████| 282/282 [00:17<00:00, 16.20it/s]\n"
     ]
    },
    {
     "name": "stdout",
     "output_type": "stream",
     "text": [
      "EPOCH 17: Train acc: 99.19% Train Loss: 0.0581 Test acc: 80.96% Test Loss: 1.3616\n"
     ]
    },
    {
     "name": "stderr",
     "output_type": "stream",
     "text": [
      "100%|██████████| 313/313 [00:56<00:00,  5.57it/s]\n",
      "100%|██████████| 157/157 [00:27<00:00,  5.73it/s]\n",
      "100%|██████████| 157/157 [00:27<00:00,  5.73it/s]\n",
      "100%|██████████| 157/157 [00:27<00:00,  5.68it/s]\n",
      "100%|██████████| 157/157 [00:27<00:00,  5.68it/s]\n",
      "100%|██████████| 282/282 [00:17<00:00, 16.21it/s]\n"
     ]
    },
    {
     "name": "stdout",
     "output_type": "stream",
     "text": [
      "EPOCH 18: Train acc: 99.40% Train Loss: 0.0490 Test acc: 80.13% Test Loss: 1.3814\n"
     ]
    },
    {
     "name": "stderr",
     "output_type": "stream",
     "text": [
      "100%|██████████| 313/313 [00:56<00:00,  5.55it/s]\n",
      "100%|██████████| 157/157 [00:27<00:00,  5.74it/s]\n",
      "100%|██████████| 157/157 [00:27<00:00,  5.72it/s]\n",
      "100%|██████████| 157/157 [00:27<00:00,  5.68it/s]\n",
      "100%|██████████| 157/157 [00:27<00:00,  5.68it/s]\n",
      "100%|██████████| 282/282 [00:17<00:00, 16.24it/s]\n"
     ]
    },
    {
     "name": "stdout",
     "output_type": "stream",
     "text": [
      "EPOCH 19: Train acc: 99.41% Train Loss: 0.0485 Test acc: 80.53% Test Loss: 1.3862\n"
     ]
    },
    {
     "name": "stderr",
     "output_type": "stream",
     "text": [
      "100%|██████████| 313/313 [00:56<00:00,  5.57it/s]\n",
      "100%|██████████| 157/157 [00:27<00:00,  5.73it/s]\n",
      "100%|██████████| 157/157 [00:27<00:00,  5.73it/s]\n",
      "100%|██████████| 157/157 [00:27<00:00,  5.68it/s]\n",
      "100%|██████████| 157/157 [00:27<00:00,  5.68it/s]\n",
      "100%|██████████| 282/282 [00:17<00:00, 16.22it/s]\n"
     ]
    },
    {
     "name": "stdout",
     "output_type": "stream",
     "text": [
      "Saved best parameters at epoch 20\n",
      "EPOCH 20: Train acc: 99.40% Train Loss: 0.0501 Test acc: 82.73% Test Loss: 1.2270\n"
     ]
    },
    {
     "name": "stderr",
     "output_type": "stream",
     "text": [
      "100%|██████████| 313/313 [00:56<00:00,  5.57it/s]\n",
      "100%|██████████| 157/157 [00:27<00:00,  5.72it/s]\n",
      "100%|██████████| 157/157 [00:27<00:00,  5.73it/s]\n",
      "100%|██████████| 157/157 [00:27<00:00,  5.69it/s]\n",
      "100%|██████████| 157/157 [00:27<00:00,  5.69it/s]\n",
      "100%|██████████| 282/282 [00:17<00:00, 16.06it/s]\n"
     ]
    },
    {
     "name": "stdout",
     "output_type": "stream",
     "text": [
      "EPOCH 21: Train acc: 99.56% Train Loss: 0.0368 Test acc: 79.41% Test Loss: 1.4376\n"
     ]
    },
    {
     "name": "stderr",
     "output_type": "stream",
     "text": [
      "100%|██████████| 313/313 [00:56<00:00,  5.59it/s]\n",
      "100%|██████████| 157/157 [00:27<00:00,  5.73it/s]\n",
      "100%|██████████| 157/157 [00:27<00:00,  5.73it/s]\n",
      "100%|██████████| 157/157 [00:27<00:00,  5.68it/s]\n",
      "100%|██████████| 157/157 [00:27<00:00,  5.69it/s]\n",
      "100%|██████████| 282/282 [00:17<00:00, 16.10it/s]\n"
     ]
    },
    {
     "name": "stdout",
     "output_type": "stream",
     "text": [
      "EPOCH 22: Train acc: 99.65% Train Loss: 0.0335 Test acc: 79.64% Test Loss: 1.4074\n"
     ]
    },
    {
     "name": "stderr",
     "output_type": "stream",
     "text": [
      "100%|██████████| 313/313 [00:56<00:00,  5.56it/s]\n",
      "100%|██████████| 157/157 [00:27<00:00,  5.73it/s]\n",
      "100%|██████████| 157/157 [00:27<00:00,  5.73it/s]\n",
      "100%|██████████| 157/157 [00:27<00:00,  5.70it/s]\n",
      "100%|██████████| 157/157 [00:27<00:00,  5.70it/s]\n",
      "100%|██████████| 282/282 [00:17<00:00, 16.16it/s]\n"
     ]
    },
    {
     "name": "stdout",
     "output_type": "stream",
     "text": [
      "EPOCH 23: Train acc: 99.65% Train Loss: 0.0282 Test acc: 82.17% Test Loss: 1.2762\n"
     ]
    },
    {
     "name": "stderr",
     "output_type": "stream",
     "text": [
      "100%|██████████| 313/313 [00:56<00:00,  5.56it/s]\n",
      "100%|██████████| 157/157 [00:27<00:00,  5.73it/s]\n",
      "100%|██████████| 157/157 [00:27<00:00,  5.73it/s]\n",
      "100%|██████████| 157/157 [00:27<00:00,  5.68it/s]\n",
      "100%|██████████| 157/157 [00:27<00:00,  5.69it/s]\n",
      "100%|██████████| 282/282 [00:17<00:00, 16.21it/s]\n"
     ]
    },
    {
     "name": "stdout",
     "output_type": "stream",
     "text": [
      "EPOCH 24: Train acc: 99.71% Train Loss: 0.0255 Test acc: 79.69% Test Loss: 1.4248\n"
     ]
    },
    {
     "name": "stderr",
     "output_type": "stream",
     "text": [
      "100%|██████████| 313/313 [00:56<00:00,  5.58it/s]\n",
      "100%|██████████| 157/157 [00:27<00:00,  5.72it/s]\n",
      "100%|██████████| 157/157 [00:27<00:00,  5.72it/s]\n",
      "100%|██████████| 157/157 [00:27<00:00,  5.68it/s]\n",
      "100%|██████████| 157/157 [00:27<00:00,  5.69it/s]\n",
      "100%|██████████| 282/282 [00:17<00:00, 16.20it/s]\n"
     ]
    },
    {
     "name": "stdout",
     "output_type": "stream",
     "text": [
      "EPOCH 25: Train acc: 99.65% Train Loss: 0.0272 Test acc: 81.52% Test Loss: 1.3352\n"
     ]
    }
   ],
   "source": [
    "best_accuracy=0\n",
    "best_iteration=0\n",
    "best_params={}\n",
    "\n",
    "for e in range(config.EPOCHS):\n",
    "    ### TRAIN DATASET\n",
    "    preds, targets, loss = engine.train_fn(model, train_loader, criterion, optimizer, device=device)\n",
    "    train_acc = accuracy_score(targets, preds)\n",
    "    \n",
    "    ### AUGMENTATION IMAGES\n",
    "    for _loader in augmentation_loaders:\n",
    "        engine.forward_backward_pass(model, _loader, criterion, optimizer, device=device)\n",
    "    \n",
    "    test_preds, test_targets, test_loss = engine.eval_fn(model, test_loader, criterion, device=device)\n",
    "    test_acc = accuracy_score(test_targets, test_preds)\n",
    "    \n",
    "    if test_acc > best_accuracy:\n",
    "        torch.save(model.state_dict(), config.SAVE_PATH+model_filename)\n",
    "        print(f\"Saved best parameters at epoch {e+1}\")\n",
    "        best_accuracy = test_acc\n",
    "        best_iteration = e+1\n",
    "        best_params = model.state_dict()\n",
    "    \n",
    "    print(\"EPOCH {}: Train acc: {:.2%} Train Loss: {:.4f} Test acc: {:.2%} Test Loss: {:.4f}\".format(\n",
    "        e+1,\n",
    "        train_acc,\n",
    "        loss,\n",
    "        test_acc,\n",
    "        test_loss\n",
    "    ))\n"
   ]
  },
  {
   "cell_type": "code",
   "execution_count": 19,
   "id": "a95ce9c3-b973-42dd-a3c1-8e2e43aa348f",
   "metadata": {},
   "outputs": [
    {
     "data": {
      "text/plain": [
       "<All keys matched successfully>"
      ]
     },
     "execution_count": 19,
     "metadata": {},
     "output_type": "execute_result"
    }
   ],
   "source": [
    "model.load_state_dict(torch.load(config.SAVE_PATH+model_filename))"
   ]
  },
  {
   "cell_type": "code",
   "execution_count": 27,
   "id": "c49d971c-7e97-4326-b1ec-dffb96e89baa",
   "metadata": {},
   "outputs": [
    {
     "name": "stderr",
     "output_type": "stream",
     "text": [
      "100%|██████████| 282/282 [00:17<00:00, 16.28it/s]\n"
     ]
    }
   ],
   "source": [
    "test_preds, test_targets, test_loss = engine.eval_fn(model, test_loader, criterion, device=device)"
   ]
  },
  {
   "cell_type": "code",
   "execution_count": 28,
   "id": "3caf4e20-e50a-49bf-9308-71969545dc1b",
   "metadata": {},
   "outputs": [
    {
     "data": {
      "text/plain": [
       "0.7514444444444445"
      ]
     },
     "execution_count": 28,
     "metadata": {},
     "output_type": "execute_result"
    }
   ],
   "source": [
    "accuracy_score(test_targets, test_preds)"
   ]
  },
  {
   "cell_type": "markdown",
   "id": "23545e85-0d80-4361-8517-17f059952909",
   "metadata": {},
   "source": [
    "---"
   ]
  },
  {
   "cell_type": "markdown",
   "id": "abb58d00-a42c-48e2-88b4-fd4640f4c90d",
   "metadata": {},
   "source": [
    "### Accuracy per class and confusion matrix"
   ]
  },
  {
   "cell_type": "code",
   "execution_count": 29,
   "id": "eb2b3ab2-fa60-460d-b862-3f1e099d011b",
   "metadata": {},
   "outputs": [],
   "source": [
    "class_mapper = {\n",
    "    0: '1_cumulus',\n",
    "    1: '2_altocumulus',\n",
    "    2: '3_cirrus',\n",
    "    3: '4_clearsky',\n",
    "    4: '5_stratocumulus',\n",
    "    5: '6_cumulonimbus',\n",
    "    6: '7_mixed',\n",
    "}"
   ]
  },
  {
   "cell_type": "code",
   "execution_count": 30,
   "id": "27dda4e5-665b-4cf0-b6c1-0fd1be50c33e",
   "metadata": {},
   "outputs": [],
   "source": [
    "class_acc = dict()\n",
    "matrix = np.zeros((7,7), dtype=int)\n",
    "\n",
    "for i in range(7):\n",
    "    pred_index = np.where(test_targets==i)[0]\n",
    "    class_acc[class_mapper[i]] = accuracy_score(test_targets[pred_index], test_preds[pred_index])\n",
    "    \n",
    "    for j in test_preds[pred_index]:\n",
    "        matrix[i,j]+=1 "
   ]
  },
  {
   "cell_type": "code",
   "execution_count": 31,
   "id": "9c7eb947-cf08-4442-b098-86e95438bfee",
   "metadata": {},
   "outputs": [
    {
     "data": {
      "text/plain": [
       "{'1_cumulus': 0.6866666666666666,\n",
       " '2_altocumulus': 0.39066666666666666,\n",
       " '3_cirrus': 0.7888446215139442,\n",
       " '4_clearsky': 0.9565764631843927,\n",
       " '5_stratocumulus': 0.6810055865921788,\n",
       " '6_cumulonimbus': 0.8134733792104311,\n",
       " '7_mixed': 0.6194398682042833}"
      ]
     },
     "execution_count": 31,
     "metadata": {},
     "output_type": "execute_result"
    }
   ],
   "source": [
    "class_acc"
   ]
  },
  {
   "cell_type": "code",
   "execution_count": 32,
   "id": "9e70f591-6821-40d9-aca6-b91e80ae1eb0",
   "metadata": {},
   "outputs": [
    {
     "name": "stdout",
     "output_type": "stream",
     "text": [
      "Global Test accuracy 0.7514444444444445\n"
     ]
    },
    {
     "data": {
      "text/plain": [
       "<AxesSubplot:title={'center':'Confusion Matrix (Accuracy %)'}>"
      ]
     },
     "execution_count": 32,
     "metadata": {},
     "output_type": "execute_result"
    },
    {
     "data": {
      "image/png": "[encoded data removed]",
      "text/plain": [
       "<Figure size 576x360 with 2 Axes>"
      ]
     },
     "metadata": {
      "needs_background": "light"
     },
     "output_type": "display_data"
    }
   ],
   "source": [
    "print(f\"Global Test accuracy {accuracy_score(test_targets, test_preds)}\")\n",
    "\n",
    "sum_of_rows = matrix.sum(axis=1)\n",
    "conf_mat = 100*matrix / sum_of_rows[:, np.newaxis]\n",
    "\n",
    "df_cm = pd.DataFrame(conf_mat, index = class_acc.keys(),\n",
    "                  columns = class_acc.keys())\n",
    "\n",
    "plt.figure(figsize = (8,5))\n",
    "plt.title(\"Confusion Matrix (Accuracy %)\")\n",
    "sns.heatmap(df_cm, annot=True)"
   ]
  },
  {
   "cell_type": "code",
   "execution_count": null,
   "id": "58d120b4-789f-4261-ac93-226d20b2289c",
   "metadata": {},
   "outputs": [],
   "source": []
  },
  {
   "cell_type": "code",
   "execution_count": null,
   "id": "2837b546-e68b-4d80-8971-e4c90f9716d7",
   "metadata": {},
   "outputs": [],
   "source": []
  }
 ],
 "metadata": {
  "kernelspec": {
   "display_name": "Python 3",
   "language": "python",
   "name": "python3"
  },
  "language_info": {
   "codemirror_mode": {
    "name": "ipython",
    "version": 3
   },
   "file_extension": ".py",
   "mimetype": "text/x-python",
   "name": "python",
   "nbconvert_exporter": "python",
   "pygments_lexer": "ipython3",
   "version": "3.9.7"
  }
 },
 "nbformat": 4,
 "nbformat_minor": 5
}
