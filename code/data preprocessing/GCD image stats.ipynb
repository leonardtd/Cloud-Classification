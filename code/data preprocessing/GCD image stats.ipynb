{
 "cells": [
  {
   "cell_type": "code",
   "execution_count": 1,
   "id": "0fbaa93f",
   "metadata": {},
   "outputs": [
    {
     "name": "stdout",
     "output_type": "stream",
     "text": [
      "D:\\Tesis\\REPO\\Cloud-Classification\\code\n"
     ]
    }
   ],
   "source": [
    "%cd .."
   ]
  },
  {
   "cell_type": "code",
   "execution_count": 2,
   "id": "5ec5d1d0",
   "metadata": {},
   "outputs": [],
   "source": [
    "%load_ext autoreload\n",
    "%autoreload 2"
   ]
  },
  {
   "cell_type": "code",
   "execution_count": 3,
   "id": "204a3d70",
   "metadata": {},
   "outputs": [],
   "source": [
    "import pandas as pd\n",
    "import numpy as np\n",
    "import torch\n",
    "import matplotlib.pyplot as plt"
   ]
  },
  {
   "cell_type": "code",
   "execution_count": 4,
   "id": "f2f564f3",
   "metadata": {},
   "outputs": [],
   "source": [
    "import os\n",
    "from torchvision.io import read_image\n",
    "import torchvision.transforms as T\n",
    "import torch.nn as nn\n",
    "import torch.nn.functional as F\n",
    "import networkx as nx"
   ]
  },
  {
   "cell_type": "code",
   "execution_count": 46,
   "id": "b305d341",
   "metadata": {},
   "outputs": [],
   "source": [
    "from tqdm import tqdm\n",
    "from scipy import stats"
   ]
  },
  {
   "cell_type": "code",
   "execution_count": 6,
   "id": "2b7a53f3",
   "metadata": {},
   "outputs": [
    {
     "name": "stderr",
     "output_type": "stream",
     "text": [
      "Using backend: pytorch\n"
     ]
    }
   ],
   "source": [
    "from src import config\n",
    "from src import engine\n",
    "from src import utils"
   ]
  },
  {
   "cell_type": "code",
   "execution_count": 7,
   "id": "ed1fe226",
   "metadata": {},
   "outputs": [],
   "source": [
    "from recipe.utils import *"
   ]
  },
  {
   "cell_type": "code",
   "execution_count": 8,
   "id": "c9884076",
   "metadata": {},
   "outputs": [],
   "source": [
    "torch.manual_seed(7)\n",
    "np.random.seed(7)"
   ]
  },
  {
   "cell_type": "markdown",
   "id": "32609ada",
   "metadata": {},
   "source": [
    "---"
   ]
  },
  {
   "cell_type": "code",
   "execution_count": 9,
   "id": "451abf8d",
   "metadata": {},
   "outputs": [],
   "source": [
    "def get_targets(paths):\n",
    "        return list(map(int,list(map(int,[os.path.basename(x).split('_')[0] \n",
    "                                          for x in paths]))))"
   ]
  },
  {
   "cell_type": "markdown",
   "id": "79dae28e",
   "metadata": {},
   "source": [
    "---"
   ]
  },
  {
   "cell_type": "markdown",
   "id": "ed9f1f81",
   "metadata": {},
   "source": [
    "# Read Data"
   ]
  },
  {
   "cell_type": "code",
   "execution_count": 10,
   "id": "0e6809b4",
   "metadata": {},
   "outputs": [],
   "source": [
    "paths = utils.get_gcd_paths('D:\\Tesis\\REPO','train')\n",
    "targets = get_targets(paths)\n",
    "\n",
    "df_train = pd.DataFrame({'path':paths, 'target':targets})"
   ]
  },
  {
   "cell_type": "markdown",
   "id": "e6326a88",
   "metadata": {},
   "source": [
    "# Mean and STD by channel"
   ]
  },
  {
   "cell_type": "code",
   "execution_count": 34,
   "id": "1f18805c",
   "metadata": {},
   "outputs": [
    {
     "name": "stderr",
     "output_type": "stream",
     "text": [
      "100%|███████████████████████████████████████████████████████████████████████████| 10000/10000 [00:29<00:00, 344.56it/s]\n"
     ]
    }
   ],
   "source": [
    "meanR = list()\n",
    "stdR = list()\n",
    "\n",
    "meanG = list()\n",
    "stdG = list()\n",
    "\n",
    "meanB = list()\n",
    "stdB = list()\n",
    "\n",
    "for path in tqdm(paths):\n",
    "    \n",
    "    img = read_image(path).float()\n",
    "    \n",
    "    meanR.append(img[0,:,:].mean().item())\n",
    "    meanG.append(img[1,:,:].mean().item())\n",
    "    meanB.append(img[2,:,:].mean().item())\n",
    "    \n",
    "    \n",
    "    stdR.append(img[0,:,:].std().item())\n",
    "    stdG.append(img[1,:,:].std().item())\n",
    "    stdB.append(img[2,:,:].std().item())\n",
    "\n",
    "df_stats = pd.DataFrame(\n",
    "    {\n",
    "        #mean\n",
    "        'meanR': meanR,\n",
    "        'meanG': meanG,\n",
    "        'meanB': meanB,\n",
    "        #std\n",
    "        'stdR': stdR,\n",
    "        'stdG': stdG,\n",
    "        'stdB': stdB,\n",
    "    }\n",
    ")"
   ]
  },
  {
   "cell_type": "code",
   "execution_count": 39,
   "id": "72933b80",
   "metadata": {},
   "outputs": [],
   "source": [
    "final_stats = df_stats.mean(0).to_dict()"
   ]
  },
  {
   "attachments": {
    "image.png": {
     "image/png": "[encoded data removed]"
    }
   },
   "cell_type": "markdown",
   "id": "59626dc1",
   "metadata": {},
   "source": [
    "![image.png](attachment:image.png)"
   ]
  },
  {
   "cell_type": "code",
   "execution_count": 40,
   "id": "22568eba",
   "metadata": {},
   "outputs": [
    {
     "data": {
      "text/plain": [
       "{'meanR': 123.07674449272156,\n",
       " 'meanG': 156.92777380638123,\n",
       " 'meanB': 195.62965230941774,\n",
       " 'stdR': 22.000822808259727,\n",
       " 'stdG': 19.752013968789576,\n",
       " 'stdB': 17.5623572260499}"
      ]
     },
     "execution_count": 40,
     "metadata": {},
     "output_type": "execute_result"
    }
   ],
   "source": [
    "final_stats"
   ]
  },
  {
   "cell_type": "code",
   "execution_count": 41,
   "id": "e3c70eda",
   "metadata": {},
   "outputs": [],
   "source": [
    "def norm_plot(curves, title):\n",
    "    \"\"\"\n",
    "    Plots normal distribution curves\n",
    "    curves: list of tuples like: (mu, sigma, label)\n",
    "    \"\"\"\n",
    "    fig, ax = plt.subplots()\n",
    "    for mu, sigma, label in curves:\n",
    "        x = np.linspace(mu - 3 * sigma, mu + 3 * sigma, 100)\n",
    "        ax.plot(x, stats.norm.pdf(x, mu, sigma), label=label)\n",
    "\n",
    "    ax.set_title(title)\n",
    "    ax.legend()"
   ]
  },
  {
   "cell_type": "code",
   "execution_count": 44,
   "id": "0a9477c1",
   "metadata": {},
   "outputs": [],
   "source": [
    "curves = [\n",
    "    (final_stats[\"meanR\"],final_stats[\"stdR\"],'R Channel'),\n",
    "    (final_stats[\"meanG\"],final_stats[\"stdG\"],'G Channel'),\n",
    "    (final_stats[\"meanB\"],final_stats[\"stdB\"],'B Channel'),\n",
    "]"
   ]
  },
  {
   "cell_type": "code",
   "execution_count": 49,
   "id": "31441a97",
   "metadata": {},
   "outputs": [
    {
     "data": {
      "image/png": "[encoded data removed]",
      "text/plain": [
       "<Figure size 432x288 with 1 Axes>"
      ]
     },
     "metadata": {
      "needs_background": "light"
     },
     "output_type": "display_data"
    }
   ],
   "source": [
    "norm_plot(curves, 'Distribution by channel on train images')"
   ]
  }
 ],
 "metadata": {
  "kernelspec": {
   "display_name": "Python 3",
   "language": "python",
   "name": "python3"
  },
  "language_info": {
   "codemirror_mode": {
    "name": "ipython",
    "version": 3
   },
   "file_extension": ".py",
   "mimetype": "text/x-python",
   "name": "python",
   "nbconvert_exporter": "python",
   "pygments_lexer": "ipython3",
   "version": "3.9.7"
  }
 },
 "nbformat": 4,
 "nbformat_minor": 5
}
