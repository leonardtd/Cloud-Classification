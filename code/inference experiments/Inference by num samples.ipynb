{
 "cells": [
  {
   "cell_type": "code",
   "execution_count": 1,
   "id": "8432ac30",
   "metadata": {},
   "outputs": [
    {
     "name": "stdout",
     "output_type": "stream",
     "text": [
      "/home/ltorres/leo/Cloud-Classification/code\n"
     ]
    }
   ],
   "source": [
    "%cd .."
   ]
  },
  {
   "cell_type": "code",
   "execution_count": 2,
   "id": "c59c2d5b",
   "metadata": {},
   "outputs": [],
   "source": [
    "%load_ext autoreload\n",
    "%autoreload 2"
   ]
  },
  {
   "cell_type": "code",
   "execution_count": 3,
   "id": "6b63589e",
   "metadata": {},
   "outputs": [],
   "source": [
    "import pandas as pd\n",
    "import numpy as np\n",
    "import torch\n",
    "import matplotlib.pyplot as plt"
   ]
  },
  {
   "cell_type": "code",
   "execution_count": 4,
   "id": "641494fc",
   "metadata": {},
   "outputs": [],
   "source": [
    "import os\n",
    "from torchvision.io import read_image\n",
    "import torchvision.transforms as T\n",
    "import torch.nn as nn\n",
    "import torch.nn.functional as F\n",
    "import networkx as nx"
   ]
  },
  {
   "cell_type": "code",
   "execution_count": 5,
   "id": "ca6c4898",
   "metadata": {},
   "outputs": [],
   "source": [
    "from src import config\n",
    "from src import engine\n",
    "from src import utils"
   ]
  },
  {
   "cell_type": "code",
   "execution_count": 7,
   "id": "8dae239d",
   "metadata": {},
   "outputs": [],
   "source": [
    "from recipe.utils import *\n",
    "from recipe.graph_modules import GraphClassifierF"
   ]
  },
  {
   "cell_type": "code",
   "execution_count": 8,
   "id": "4cfb395b",
   "metadata": {},
   "outputs": [],
   "source": [
    "import random\n",
    "from random import sample\n",
    "from sklearn.metrics import accuracy_score"
   ]
  },
  {
   "cell_type": "code",
   "execution_count": 9,
   "id": "01b6066a",
   "metadata": {},
   "outputs": [],
   "source": [
    "torch.manual_seed(7)\n",
    "np.random.seed(7)\n",
    "random.seed(7)"
   ]
  },
  {
   "cell_type": "markdown",
   "id": "8cee89bd",
   "metadata": {},
   "source": [
    "---"
   ]
  },
  {
   "cell_type": "code",
   "execution_count": 10,
   "id": "daed6f0a",
   "metadata": {},
   "outputs": [],
   "source": [
    "def get_targets(paths):\n",
    "        return list(map(int,list(map(int,[os.path.basename(x).split('_')[0] \n",
    "                                          for x in paths]))))"
   ]
  },
  {
   "cell_type": "code",
   "execution_count": 11,
   "id": "dbb5b85d",
   "metadata": {},
   "outputs": [],
   "source": [
    "def sample_paths(df, n=2, col='target', random_state = 7):\n",
    "    \n",
    "    paths = list()\n",
    "    \n",
    "    for key, sub_df in df.groupby(col):\n",
    "        paths+= sub_df.sample(n=n, random_state=random_state)['path'].tolist()\n",
    "        \n",
    "    return paths"
   ]
  },
  {
   "cell_type": "markdown",
   "id": "9260140b",
   "metadata": {},
   "source": [
    "---"
   ]
  },
  {
   "cell_type": "markdown",
   "id": "51622579",
   "metadata": {},
   "source": [
    "# 1. Leer df train y funcion de sampleo por clase"
   ]
  },
  {
   "cell_type": "code",
   "execution_count": 12,
   "id": "bf07c198",
   "metadata": {},
   "outputs": [],
   "source": [
    "paths = utils.get_gcd_paths('/data/ltorres','train')\n",
    "targets = get_targets(paths)"
   ]
  },
  {
   "cell_type": "code",
   "execution_count": 13,
   "id": "b763a9d0",
   "metadata": {},
   "outputs": [],
   "source": [
    "df_train = pd.DataFrame({'path':paths, 'target':targets})"
   ]
  },
  {
   "cell_type": "markdown",
   "id": "d3b45f02",
   "metadata": {},
   "source": [
    "# 2. Inferencia en batch de test con distintos pivots"
   ]
  },
  {
   "cell_type": "markdown",
   "id": "6601e326",
   "metadata": {},
   "source": [
    "## 2.1 test_loader"
   ]
  },
  {
   "cell_type": "code",
   "execution_count": 14,
   "id": "6a56a2ae",
   "metadata": {},
   "outputs": [],
   "source": [
    "path_test_images = utils.get_gcd_paths('/data/ltorres','test')\n",
    "\n",
    "test_dataset = GCD(path_test_images, resize=256)\n",
    "\n",
    "test_loader = torch.utils.data.DataLoader(\n",
    "        test_dataset,\n",
    "        batch_size=1,\n",
    "        num_workers=4,\n",
    "        shuffle=False,\n",
    "    )"
   ]
  },
  {
   "cell_type": "code",
   "execution_count": 15,
   "id": "a3b46dc7",
   "metadata": {},
   "outputs": [
    {
     "data": {
      "text/plain": [
       "9000"
      ]
     },
     "execution_count": 15,
     "metadata": {},
     "output_type": "execute_result"
    }
   ],
   "source": [
    "len(test_dataset)"
   ]
  },
  {
   "cell_type": "markdown",
   "id": "c47a5932",
   "metadata": {},
   "source": [
    "## 2.2 Construir grafo con imagenes pivot"
   ]
  },
  {
   "cell_type": "code",
   "execution_count": 49,
   "id": "764f7f3c-3b24-408f-ba16-36122a546d54",
   "metadata": {},
   "outputs": [],
   "source": [
    "model_path = '/data/ltorres/CLOUD_CLASSIFICATION_WEIGHTS/wandb_1353k0xc_model.pt'"
   ]
  },
  {
   "cell_type": "code",
   "execution_count": 51,
   "id": "7a51d2c8-8c7a-4f42-84ce-9a8677110722",
   "metadata": {},
   "outputs": [
    {
     "data": {
      "text/plain": [
       "<All keys matched successfully>"
      ]
     },
     "execution_count": 51,
     "metadata": {},
     "output_type": "execute_result"
    }
   ],
   "source": [
    "model.load_state_dict(torch.load(model_path, map_location = 'cuda'))"
   ]
  },
  {
   "cell_type": "code",
   "execution_count": 50,
   "id": "08ebb907",
   "metadata": {},
   "outputs": [],
   "source": [
    "device='cuda'\n",
    "\n",
    "model = GraphClassifierF(\n",
    "                 hidden_dim = 512, \n",
    "                 num_hidden = 2, \n",
    "                 num_classes = 7,\n",
    "                 feature_extraction = False,\n",
    "                 conv_type = 'gcn',\n",
    "                 conv_parameters = {\"num_heads\":2, \"agg\":\"sum\"},\n",
    "                 gnn_dropout = 0.3,\n",
    "                 adjacency_builder = 'pearson_corr',\n",
    "                 builder_parameter = 0.7,\n",
    "                 use_both_heads = False,\n",
    "                ).to(device)\n",
    "\n",
    "model.load_state_dict(torch.load(model_path, map_location = 'cuda'))\n",
    "\n",
    "model.eval();"
   ]
  },
  {
   "cell_type": "code",
   "execution_count": 23,
   "id": "a981e2e6",
   "metadata": {},
   "outputs": [],
   "source": [
    "def get_pivot_deep_features(train_paths, model, device):\n",
    "    \n",
    "    ## 1. train data loader\n",
    "    pivot_dataset = GCD(train_paths, resize=256)\n",
    "    pivot_loader = torch.utils.data.DataLoader(\n",
    "            pivot_dataset,\n",
    "            batch_size=32,\n",
    "            num_workers=8,\n",
    "            shuffle=False,\n",
    "        )\n",
    "    \n",
    "    \n",
    "    ## 2. Append deep features\n",
    "    pivot_features = list()\n",
    "        \n",
    "    for data in pivot_loader:\n",
    "        with torch.no_grad():\n",
    "            deep_features = model.get_deep_features(data['images'].to(device)).cpu()\n",
    "            pivot_features.append(deep_features)\n",
    "        \n",
    "    return torch.cat(pivot_features, dim=0)"
   ]
  },
  {
   "cell_type": "code",
   "execution_count": 24,
   "id": "1901f301",
   "metadata": {},
   "outputs": [],
   "source": [
    "pivot_paths = sample_paths(df_train, n=2)"
   ]
  },
  {
   "cell_type": "code",
   "execution_count": 26,
   "id": "e777fe8b",
   "metadata": {},
   "outputs": [],
   "source": [
    "pivot_features = get_pivot_deep_features(pivot_paths, model, device)"
   ]
  },
  {
   "cell_type": "code",
   "execution_count": 27,
   "id": "6709f991",
   "metadata": {},
   "outputs": [
    {
     "data": {
      "text/plain": [
       "torch.Size([14, 2048])"
      ]
     },
     "execution_count": 27,
     "metadata": {},
     "output_type": "execute_result"
    }
   ],
   "source": [
    "pivot_features.shape"
   ]
  },
  {
   "cell_type": "markdown",
   "id": "af1d735f",
   "metadata": {},
   "source": [
    "## evaluacion"
   ]
  },
  {
   "cell_type": "code",
   "execution_count": 48,
   "id": "4818d2c2",
   "metadata": {},
   "outputs": [
    {
     "name": "stdout",
     "output_type": "stream",
     "text": [
      "######## STARTING N = 4 ########\n",
      "1. Reading pivot paths\n",
      "2. Calculating pivot deep features\n",
      "28 PIVOT IMAGES\n",
      "3. Calculating predictions\n"
     ]
    },
    {
     "name": "stderr",
     "output_type": "stream",
     "text": [
      "100%|██████████| 9000/9000 [01:14<00:00, 121.42it/s]\n"
     ]
    },
    {
     "name": "stdout",
     "output_type": "stream",
     "text": [
      "N=4: Test Accuracy: 0.7276666666666667\n"
     ]
    }
   ],
   "source": [
    "df_results = pd.DataFrame()\n",
    "\n",
    "for N in [4]:\n",
    "    print(f'######## STARTING N = {N} ########')\n",
    "    print('1. Reading pivot paths')\n",
    "    pivot_paths = sample_paths(df_train, n=N, random_state=11)\n",
    "\n",
    "    # pivot_paths = [\n",
    "    #     'D:\\\\Tesis\\\\REPO\\\\GCD/train/1_cumulus/1_cumulus_000082.jpg',\n",
    "    #     'D:\\\\Tesis\\\\REPO\\\\GCD/train/1_cumulus/1_cumulus_000127.jpg',\n",
    "    #     'D:\\\\Tesis\\\\REPO\\\\GCD/train/2_altocumulus/2_altocumulus_000003.jpg',\n",
    "    #     'D:\\\\Tesis\\\\REPO\\\\GCD/train/2_altocumulus/2_altocumulus_000028.jpg',\n",
    "    #     'D:\\\\Tesis\\\\REPO\\\\GCD/train/3_cirrus/3_cirrus_000035.jpg',\n",
    "    #     'D:\\\\Tesis\\\\REPO\\\\GCD/train/3_cirrus/3_cirrus_000115.jpg',\n",
    "    #     'D:\\\\Tesis\\\\REPO\\\\GCD/train/4_clearsky/4_clearsky_000004.jpg',\n",
    "    #     'D:\\\\Tesis\\\\REPO\\\\GCD/train/4_clearsky/4_clearsky_000055.jpg',\n",
    "    #     'D:\\\\Tesis\\\\REPO\\\\GCD/train/5_stratocumulus/5_stratocumulus_000003.jpg',\n",
    "    #     'D:\\\\Tesis\\\\REPO\\\\GCD/train/5_stratocumulus/5_stratocumulus_000069.jpg',\n",
    "    #     'D:\\\\Tesis\\\\REPO\\\\GCD/train/6_cumulonimbus/6_cumulonimbus_000011.jpg',\n",
    "    #     'D:\\\\Tesis\\\\REPO\\\\GCD/train/6_cumulonimbus/6_cumulonimbus_000059.jpg',\n",
    "    #     'D:\\\\Tesis\\\\REPO\\\\GCD/train/7_mixed/7_mixed_000006.jpg',\n",
    "    #     'D:\\\\Tesis\\\\REPO\\\\GCD/train/7_mixed/7_mixed_000039.jpg',\n",
    "    # ]\n",
    "\n",
    "\n",
    "\n",
    "    print('2. Calculating pivot deep features')\n",
    "    #pivot_features = get_pivot_deep_features(pivot_paths, model, device)\n",
    "    pivot_features=torch.load(\"pivot_nodes/centroid_sample.pt\")\n",
    "    print(f'{pivot_features.shape[0]} PIVOT IMAGES')\n",
    "    \n",
    "    \n",
    "    test_targets = list()\n",
    "    test_predictions = list()\n",
    "\n",
    "    print('3. Calculating predictions')\n",
    "    for data in tqdm(test_loader):\n",
    "        pred_img = data['images']\n",
    "\n",
    "        pred_feature = model.get_deep_features(pred_img.to(device)).cpu()\n",
    "\n",
    "        pred_images = torch.cat([pivot_features, pred_feature], dim=0).to(device)\n",
    "\n",
    "        with torch.no_grad():\n",
    "            preds = torch.argmax(F.softmax(model.predict(pred_images).cpu(),dim=1), dim=1)\n",
    "\n",
    "\n",
    "            test_predictions.append(preds[-1].item())\n",
    "            test_targets.append(data['targets'].item())\n",
    "    \n",
    "    acc = accuracy_score(test_targets, test_predictions)\n",
    "    \n",
    "    print(f\"N={N}: Test Accuracy: {acc}\")\n",
    "    \n",
    "    df_results[f'predictions_{N}'] = test_predictions\n",
    "    df_results[f'targets_{N}'] = test_targets"
   ]
  },
  {
   "cell_type": "code",
   "execution_count": 30,
   "id": "69c2d30b",
   "metadata": {},
   "outputs": [],
   "source": [
    "df_results.to_csv('inference experiments/df_results_s11.csv', index=False)"
   ]
  },
  {
   "cell_type": "code",
   "execution_count": 31,
   "id": "8800cf6a",
   "metadata": {},
   "outputs": [],
   "source": [
    "from sklearn.metrics import accuracy_score"
   ]
  },
  {
   "cell_type": "code",
   "execution_count": 32,
   "id": "4e229260",
   "metadata": {},
   "outputs": [
    {
     "data": {
      "text/plain": [
       "0.7232222222222222"
      ]
     },
     "execution_count": 32,
     "metadata": {},
     "output_type": "execute_result"
    }
   ],
   "source": [
    "accuracy_score(test_targets, test_predictions)"
   ]
  },
  {
   "cell_type": "code",
   "execution_count": 33,
   "id": "da2c3aa4",
   "metadata": {},
   "outputs": [],
   "source": [
    "r = np.array(test_targets)[(np.array(test_targets) == np.array(test_predictions))]"
   ]
  },
  {
   "cell_type": "code",
   "execution_count": 34,
   "id": "c95c4093",
   "metadata": {},
   "outputs": [
    {
     "data": {
      "text/plain": [
       "0    0.646667\n",
       "1    0.461333\n",
       "2    0.845950\n",
       "3    0.964128\n",
       "4    0.496648\n",
       "5    0.893155\n",
       "6    0.253707\n",
       "dtype: float64"
      ]
     },
     "execution_count": 34,
     "metadata": {},
     "output_type": "execute_result"
    }
   ],
   "source": [
    "pd.Series(r).value_counts()/pd.Series(np.array(test_targets)).value_counts()"
   ]
  },
  {
   "cell_type": "markdown",
   "id": "3bcd1511",
   "metadata": {},
   "source": [
    "---"
   ]
  },
  {
   "cell_type": "markdown",
   "id": "a75b4f83",
   "metadata": {},
   "source": [
    "# Curva de accuracy por numero de imagenes pivot por clase"
   ]
  },
  {
   "cell_type": "code",
   "execution_count": 35,
   "id": "b0bb04a8",
   "metadata": {},
   "outputs": [
    {
     "name": "stdout",
     "output_type": "stream",
     "text": [
      "\u001b[0m\u001b[01;34m'data preprocessing'\u001b[0m/      inferencia_top_k_similar.csv   \u001b[01;34msrc\u001b[0m/\n",
      " \u001b[01;34mimages\u001b[0m/                   \u001b[01;34mnotebooks\u001b[0m/                     \u001b[01;34mViG\u001b[0m/\n",
      "\u001b[01;34m'inference experiments'\u001b[0m/   \u001b[01;34mrecipe\u001b[0m/                        \u001b[01;34mwandb\u001b[0m/\n"
     ]
    }
   ],
   "source": [
    "%ls"
   ]
  },
  {
   "cell_type": "code",
   "execution_count": 36,
   "id": "ecf56cfb",
   "metadata": {},
   "outputs": [],
   "source": [
    "df_result = pd.read_csv('inference experiments/df_results_s11.csv')"
   ]
  },
  {
   "cell_type": "code",
   "execution_count": 37,
   "id": "80248d87",
   "metadata": {},
   "outputs": [
    {
     "data": {
      "text/plain": [
       "<function sklearn.metrics._classification.accuracy_score(y_true, y_pred, *, normalize=True, sample_weight=None)>"
      ]
     },
     "execution_count": 37,
     "metadata": {},
     "output_type": "execute_result"
    }
   ],
   "source": [
    "accuracy_score"
   ]
  },
  {
   "cell_type": "code",
   "execution_count": 38,
   "id": "643e51cd",
   "metadata": {},
   "outputs": [
    {
     "ename": "KeyError",
     "evalue": "'targets_2'",
     "output_type": "error",
     "traceback": [
      "\u001b[0;31m---------------------------------------------------------------------------\u001b[0m",
      "\u001b[0;31mKeyError\u001b[0m                                  Traceback (most recent call last)",
      "File \u001b[0;32m~/miniconda3/lib/python3.9/site-packages/pandas/core/indexes/base.py:3621\u001b[0m, in \u001b[0;36mIndex.get_loc\u001b[0;34m(self, key, method, tolerance)\u001b[0m\n\u001b[1;32m   3620\u001b[0m \u001b[38;5;28;01mtry\u001b[39;00m:\n\u001b[0;32m-> 3621\u001b[0m     \u001b[38;5;28;01mreturn\u001b[39;00m \u001b[38;5;28;43mself\u001b[39;49m\u001b[38;5;241;43m.\u001b[39;49m\u001b[43m_engine\u001b[49m\u001b[38;5;241;43m.\u001b[39;49m\u001b[43mget_loc\u001b[49m\u001b[43m(\u001b[49m\u001b[43mcasted_key\u001b[49m\u001b[43m)\u001b[49m\n\u001b[1;32m   3622\u001b[0m \u001b[38;5;28;01mexcept\u001b[39;00m \u001b[38;5;167;01mKeyError\u001b[39;00m \u001b[38;5;28;01mas\u001b[39;00m err:\n",
      "File \u001b[0;32m~/miniconda3/lib/python3.9/site-packages/pandas/_libs/index.pyx:136\u001b[0m, in \u001b[0;36mpandas._libs.index.IndexEngine.get_loc\u001b[0;34m()\u001b[0m\n",
      "File \u001b[0;32m~/miniconda3/lib/python3.9/site-packages/pandas/_libs/index.pyx:163\u001b[0m, in \u001b[0;36mpandas._libs.index.IndexEngine.get_loc\u001b[0;34m()\u001b[0m\n",
      "File \u001b[0;32mpandas/_libs/hashtable_class_helper.pxi:5198\u001b[0m, in \u001b[0;36mpandas._libs.hashtable.PyObjectHashTable.get_item\u001b[0;34m()\u001b[0m\n",
      "File \u001b[0;32mpandas/_libs/hashtable_class_helper.pxi:5206\u001b[0m, in \u001b[0;36mpandas._libs.hashtable.PyObjectHashTable.get_item\u001b[0;34m()\u001b[0m\n",
      "\u001b[0;31mKeyError\u001b[0m: 'targets_2'",
      "\nThe above exception was the direct cause of the following exception:\n",
      "\u001b[0;31mKeyError\u001b[0m                                  Traceback (most recent call last)",
      "Input \u001b[0;32mIn [38]\u001b[0m, in \u001b[0;36m<cell line: 3>\u001b[0;34m()\u001b[0m\n\u001b[1;32m      1\u001b[0m results \u001b[38;5;241m=\u001b[39m \u001b[38;5;28mdict\u001b[39m()\n\u001b[1;32m      3\u001b[0m \u001b[38;5;28;01mfor\u001b[39;00m N \u001b[38;5;129;01min\u001b[39;00m [\u001b[38;5;241m2\u001b[39m,\u001b[38;5;241m4\u001b[39m,\u001b[38;5;241m8\u001b[39m,\u001b[38;5;241m10\u001b[39m,\u001b[38;5;241m15\u001b[39m,\u001b[38;5;241m20\u001b[39m,\u001b[38;5;241m40\u001b[39m,\u001b[38;5;241m50\u001b[39m,\u001b[38;5;241m100\u001b[39m]:\n\u001b[0;32m----> 5\u001b[0m     results[N] \u001b[38;5;241m=\u001b[39m accuracy_score(\u001b[43mdf_result\u001b[49m\u001b[43m[\u001b[49m\u001b[38;5;124;43mf\u001b[39;49m\u001b[38;5;124;43m\"\u001b[39;49m\u001b[38;5;124;43mtargets_\u001b[39;49m\u001b[38;5;132;43;01m{\u001b[39;49;00m\u001b[43mN\u001b[49m\u001b[38;5;132;43;01m}\u001b[39;49;00m\u001b[38;5;124;43m\"\u001b[39;49m\u001b[43m]\u001b[49m, df_result[\u001b[38;5;124mf\u001b[39m\u001b[38;5;124m\"\u001b[39m\u001b[38;5;124mpredictions_\u001b[39m\u001b[38;5;132;01m{\u001b[39;00mN\u001b[38;5;132;01m}\u001b[39;00m\u001b[38;5;124m\"\u001b[39m])\n\u001b[1;32m      7\u001b[0m results_data \u001b[38;5;241m=\u001b[39m pd\u001b[38;5;241m.\u001b[39mSeries(results)\u001b[38;5;241m*\u001b[39m\u001b[38;5;241m100\u001b[39m\n",
      "File \u001b[0;32m~/miniconda3/lib/python3.9/site-packages/pandas/core/frame.py:3505\u001b[0m, in \u001b[0;36mDataFrame.__getitem__\u001b[0;34m(self, key)\u001b[0m\n\u001b[1;32m   3503\u001b[0m \u001b[38;5;28;01mif\u001b[39;00m \u001b[38;5;28mself\u001b[39m\u001b[38;5;241m.\u001b[39mcolumns\u001b[38;5;241m.\u001b[39mnlevels \u001b[38;5;241m>\u001b[39m \u001b[38;5;241m1\u001b[39m:\n\u001b[1;32m   3504\u001b[0m     \u001b[38;5;28;01mreturn\u001b[39;00m \u001b[38;5;28mself\u001b[39m\u001b[38;5;241m.\u001b[39m_getitem_multilevel(key)\n\u001b[0;32m-> 3505\u001b[0m indexer \u001b[38;5;241m=\u001b[39m \u001b[38;5;28;43mself\u001b[39;49m\u001b[38;5;241;43m.\u001b[39;49m\u001b[43mcolumns\u001b[49m\u001b[38;5;241;43m.\u001b[39;49m\u001b[43mget_loc\u001b[49m\u001b[43m(\u001b[49m\u001b[43mkey\u001b[49m\u001b[43m)\u001b[49m\n\u001b[1;32m   3506\u001b[0m \u001b[38;5;28;01mif\u001b[39;00m is_integer(indexer):\n\u001b[1;32m   3507\u001b[0m     indexer \u001b[38;5;241m=\u001b[39m [indexer]\n",
      "File \u001b[0;32m~/miniconda3/lib/python3.9/site-packages/pandas/core/indexes/base.py:3623\u001b[0m, in \u001b[0;36mIndex.get_loc\u001b[0;34m(self, key, method, tolerance)\u001b[0m\n\u001b[1;32m   3621\u001b[0m     \u001b[38;5;28;01mreturn\u001b[39;00m \u001b[38;5;28mself\u001b[39m\u001b[38;5;241m.\u001b[39m_engine\u001b[38;5;241m.\u001b[39mget_loc(casted_key)\n\u001b[1;32m   3622\u001b[0m \u001b[38;5;28;01mexcept\u001b[39;00m \u001b[38;5;167;01mKeyError\u001b[39;00m \u001b[38;5;28;01mas\u001b[39;00m err:\n\u001b[0;32m-> 3623\u001b[0m     \u001b[38;5;28;01mraise\u001b[39;00m \u001b[38;5;167;01mKeyError\u001b[39;00m(key) \u001b[38;5;28;01mfrom\u001b[39;00m \u001b[38;5;21;01merr\u001b[39;00m\n\u001b[1;32m   3624\u001b[0m \u001b[38;5;28;01mexcept\u001b[39;00m \u001b[38;5;167;01mTypeError\u001b[39;00m:\n\u001b[1;32m   3625\u001b[0m     \u001b[38;5;66;03m# If we have a listlike key, _check_indexing_error will raise\u001b[39;00m\n\u001b[1;32m   3626\u001b[0m     \u001b[38;5;66;03m#  InvalidIndexError. Otherwise we fall through and re-raise\u001b[39;00m\n\u001b[1;32m   3627\u001b[0m     \u001b[38;5;66;03m#  the TypeError.\u001b[39;00m\n\u001b[1;32m   3628\u001b[0m     \u001b[38;5;28mself\u001b[39m\u001b[38;5;241m.\u001b[39m_check_indexing_error(key)\n",
      "\u001b[0;31mKeyError\u001b[0m: 'targets_2'"
     ]
    }
   ],
   "source": [
    "results = dict()\n",
    "\n",
    "for N in [2,4,8,10,15,20,40,50,100]:\n",
    "    \n",
    "    results[N] = accuracy_score(df_result[f\"targets_{N}\"], df_result[f\"predictions_{N}\"])\n",
    "    \n",
    "results_data = pd.Series(results)*100"
   ]
  },
  {
   "cell_type": "code",
   "execution_count": null,
   "id": "36c78efd",
   "metadata": {},
   "outputs": [],
   "source": [
    "plt.figure(figsize=(11,5))\n",
    "results_data.plot.line()\n",
    "plt.xticks(results_data.index.values)\n",
    "plt.title('Accuracy by # of pivot images per class')\n",
    "plt.ylabel('Accuracy (%)')\n",
    "plt.xlabel('# pivot images per class')\n",
    "plt.show()"
   ]
  },
  {
   "cell_type": "markdown",
   "id": "88e3d159",
   "metadata": {},
   "source": [
    "---"
   ]
  },
  {
   "cell_type": "code",
   "execution_count": null,
   "id": "9fcf4485",
   "metadata": {},
   "outputs": [],
   "source": [
    "def get_targets_wname(paths):\n",
    "        return list(map(str,list(map(str,[\"_\".join(os.path.basename(x).split('_')[:-1]) \n",
    "                                          for x in paths]))))"
   ]
  },
  {
   "cell_type": "code",
   "execution_count": null,
   "id": "4dafb36f",
   "metadata": {},
   "outputs": [],
   "source": [
    "pivot_paths = sample_paths(df_train, n=4, random_state=10)\n",
    "pivot_targets = get_targets_wname(pivot_paths)"
   ]
  },
  {
   "cell_type": "markdown",
   "id": "94fde004",
   "metadata": {},
   "source": [
    "#### read pivot images"
   ]
  },
  {
   "cell_type": "code",
   "execution_count": 39,
   "id": "c81b9f98",
   "metadata": {},
   "outputs": [],
   "source": [
    "images = []\n",
    "\n",
    "for p in pivot_paths:\n",
    "    img = read_image(p).int().numpy().transpose(1,2,0)\n",
    "    images.append(img)"
   ]
  },
  {
   "cell_type": "code",
   "execution_count": 40,
   "id": "ed1c5915",
   "metadata": {},
   "outputs": [
    {
     "ename": "NameError",
     "evalue": "name 'pivot_targets' is not defined",
     "output_type": "error",
     "traceback": [
      "\u001b[0;31m---------------------------------------------------------------------------\u001b[0m",
      "\u001b[0;31mNameError\u001b[0m                                 Traceback (most recent call last)",
      "Input \u001b[0;32mIn [40]\u001b[0m, in \u001b[0;36m<cell line: 4>\u001b[0;34m()\u001b[0m\n\u001b[1;32m      6\u001b[0m     fig\u001b[38;5;241m.\u001b[39madd_subplot(rows, columns, i)\n\u001b[1;32m      7\u001b[0m     plt\u001b[38;5;241m.\u001b[39mimshow(img)\n\u001b[0;32m----> 8\u001b[0m     plt\u001b[38;5;241m.\u001b[39mtitle(\u001b[38;5;124mf\u001b[39m\u001b[38;5;124m'\u001b[39m\u001b[38;5;124mlabel: \u001b[39m\u001b[38;5;132;01m{\u001b[39;00mpivot_targets[i\u001b[38;5;241m-\u001b[39m\u001b[38;5;241m1\u001b[39m]\u001b[38;5;132;01m}\u001b[39;00m\u001b[38;5;124m'\u001b[39m)\n\u001b[1;32m      9\u001b[0m plt\u001b[38;5;241m.\u001b[39msavefig(\u001b[38;5;124m'\u001b[39m\u001b[38;5;124minference experiments/best_pivot_images.png\u001b[39m\u001b[38;5;124m'\u001b[39m)\n\u001b[1;32m     10\u001b[0m plt\u001b[38;5;241m.\u001b[39mshow()\n",
      "\u001b[0;31mNameError\u001b[0m: name 'pivot_targets' is not defined"
     ]
    },
    {
     "data": {
      "image/png": "[encoded data removed]",
      "text/plain": [
       "<Figure size 864x2016 with 1 Axes>"
      ]
     },
     "metadata": {
      "needs_background": "light"
     },
     "output_type": "display_data"
    }
   ],
   "source": [
    "fig = plt.figure(figsize=(12, 28))\n",
    "columns = 4\n",
    "rows = 8\n",
    "for i in range(1, 4*7 +1):\n",
    "    img = images[i-1]\n",
    "    fig.add_subplot(rows, columns, i)\n",
    "    plt.imshow(img)\n",
    "    plt.title(f'label: {pivot_targets[i-1]}')\n",
    "plt.savefig('inference experiments/best_pivot_images.png')\n",
    "plt.show()"
   ]
  },
  {
   "cell_type": "code",
   "execution_count": null,
   "id": "a0846469-0d59-4312-a020-5f3ce6c2070b",
   "metadata": {},
   "outputs": [],
   "source": []
  },
  {
   "cell_type": "code",
   "execution_count": null,
   "id": "c0139780-6878-45fd-b1d1-a29ce6197da5",
   "metadata": {},
   "outputs": [],
   "source": []
  }
 ],
 "metadata": {
  "kernelspec": {
   "display_name": "Python 3",
   "language": "python",
   "name": "python3"
  },
  "language_info": {
   "codemirror_mode": {
    "name": "ipython",
    "version": 3
   },
   "file_extension": ".py",
   "mimetype": "text/x-python",
   "name": "python",
   "nbconvert_exporter": "python",
   "pygments_lexer": "ipython3",
   "version": "3.9.7"
  }
 },
 "nbformat": 4,
 "nbformat_minor": 5
}
