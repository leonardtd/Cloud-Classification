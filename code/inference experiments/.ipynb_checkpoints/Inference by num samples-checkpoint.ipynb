{
 "cells": [
  {
   "cell_type": "code",
   "execution_count": 1,
   "id": "8432ac30",
   "metadata": {},
   "outputs": [
    {
     "name": "stdout",
     "output_type": "stream",
     "text": [
      "D:\\Tesis\\REPO\\Cloud-Classification\\code\n"
     ]
    }
   ],
   "source": [
    "%cd .."
   ]
  },
  {
   "cell_type": "code",
   "execution_count": 2,
   "id": "c59c2d5b",
   "metadata": {},
   "outputs": [],
   "source": [
    "%load_ext autoreload\n",
    "%autoreload 2"
   ]
  },
  {
   "cell_type": "code",
   "execution_count": 3,
   "id": "6b63589e",
   "metadata": {},
   "outputs": [],
   "source": [
    "import pandas as pd\n",
    "import numpy as np\n",
    "import torch\n",
    "import matplotlib.pyplot as plt"
   ]
  },
  {
   "cell_type": "code",
   "execution_count": 4,
   "id": "641494fc",
   "metadata": {},
   "outputs": [],
   "source": [
    "import os\n",
    "from torchvision.io import read_image\n",
    "import torchvision.transforms as T\n",
    "import torch.nn as nn\n",
    "import torch.nn.functional as F\n",
    "import networkx as nx"
   ]
  },
  {
   "cell_type": "code",
   "execution_count": 5,
   "id": "ca6c4898",
   "metadata": {},
   "outputs": [
    {
     "name": "stderr",
     "output_type": "stream",
     "text": [
      "Using backend: pytorch\n"
     ]
    }
   ],
   "source": [
    "from src import config\n",
    "from src import engine\n",
    "from src import utils"
   ]
  },
  {
   "cell_type": "code",
   "execution_count": 6,
   "id": "8dae239d",
   "metadata": {},
   "outputs": [],
   "source": [
    "from recipe.utils import *"
   ]
  },
  {
   "cell_type": "code",
   "execution_count": 7,
   "id": "4cfb395b",
   "metadata": {},
   "outputs": [],
   "source": [
    "import random\n",
    "from random import sample\n",
    "from sklearn.metrics import accuracy_score"
   ]
  },
  {
   "cell_type": "code",
   "execution_count": 8,
   "id": "01b6066a",
   "metadata": {},
   "outputs": [],
   "source": [
    "torch.manual_seed(7)\n",
    "np.random.seed(7)\n",
    "random.seed(7)"
   ]
  },
  {
   "cell_type": "markdown",
   "id": "8cee89bd",
   "metadata": {},
   "source": [
    "---"
   ]
  },
  {
   "cell_type": "code",
   "execution_count": 9,
   "id": "daed6f0a",
   "metadata": {},
   "outputs": [],
   "source": [
    "def get_targets(paths):\n",
    "        return list(map(int,list(map(int,[os.path.basename(x).split('_')[0] \n",
    "                                          for x in paths]))))"
   ]
  },
  {
   "cell_type": "code",
   "execution_count": 10,
   "id": "dbb5b85d",
   "metadata": {},
   "outputs": [],
   "source": [
    "def sample_paths(df, n=2, col='target', random_state = 7):\n",
    "    \n",
    "    paths = list()\n",
    "    \n",
    "    for key, sub_df in df.groupby(col):\n",
    "        paths+= sub_df.sample(n=n, random_state=random_state)['path'].tolist()\n",
    "        \n",
    "    return paths"
   ]
  },
  {
   "cell_type": "markdown",
   "id": "9260140b",
   "metadata": {},
   "source": [
    "---"
   ]
  },
  {
   "cell_type": "markdown",
   "id": "51622579",
   "metadata": {},
   "source": [
    "# 1. Leer df train y funcion de sampleo por clase"
   ]
  },
  {
   "cell_type": "code",
   "execution_count": 55,
   "id": "bf07c198",
   "metadata": {},
   "outputs": [],
   "source": [
    "paths = utils.get_gcd_paths('D:\\Tesis\\REPO','train')\n",
    "targets = get_targets(paths)"
   ]
  },
  {
   "cell_type": "code",
   "execution_count": 56,
   "id": "b763a9d0",
   "metadata": {},
   "outputs": [],
   "source": [
    "df_train = pd.DataFrame({'path':paths, 'target':targets})"
   ]
  },
  {
   "cell_type": "markdown",
   "id": "d3b45f02",
   "metadata": {},
   "source": [
    "# 2. Inferencia en batch de test con distintos pivots"
   ]
  },
  {
   "cell_type": "markdown",
   "id": "6601e326",
   "metadata": {},
   "source": [
    "## 2.1 test_loader"
   ]
  },
  {
   "cell_type": "code",
   "execution_count": 13,
   "id": "6a56a2ae",
   "metadata": {},
   "outputs": [],
   "source": [
    "path_test_images = utils.get_gcd_paths('D:\\Tesis\\REPO','test')\n",
    "\n",
    "test_dataset = GCD(path_test_images, resize=256)\n",
    "\n",
    "test_loader = torch.utils.data.DataLoader(\n",
    "        test_dataset,\n",
    "        batch_size=1,\n",
    "        num_workers=4,\n",
    "        shuffle=False,\n",
    "    )"
   ]
  },
  {
   "cell_type": "code",
   "execution_count": 14,
   "id": "a3b46dc7",
   "metadata": {},
   "outputs": [
    {
     "data": {
      "text/plain": [
       "9010"
      ]
     },
     "execution_count": 14,
     "metadata": {},
     "output_type": "execute_result"
    }
   ],
   "source": [
    "len(test_dataset)"
   ]
  },
  {
   "cell_type": "markdown",
   "id": "c47a5932",
   "metadata": {},
   "source": [
    "## 2.2 Construir grafo con imagenes pivot"
   ]
  },
  {
   "cell_type": "code",
   "execution_count": 15,
   "id": "08ebb907",
   "metadata": {},
   "outputs": [
    {
     "data": {
      "text/plain": [
       "GraphClassifier(\n",
       "  (cnn): CNNExtractor(\n",
       "    (cnn): Sequential(\n",
       "      (0): Conv2d(3, 64, kernel_size=(7, 7), stride=(2, 2), padding=(3, 3), bias=False)\n",
       "      (1): BatchNorm2d(64, eps=1e-05, momentum=0.1, affine=True, track_running_stats=True)\n",
       "      (2): ReLU(inplace=True)\n",
       "      (3): MaxPool2d(kernel_size=3, stride=2, padding=1, dilation=1, ceil_mode=False)\n",
       "      (4): Sequential(\n",
       "        (0): Bottleneck(\n",
       "          (conv1): Conv2d(64, 64, kernel_size=(1, 1), stride=(1, 1), bias=False)\n",
       "          (bn1): BatchNorm2d(64, eps=1e-05, momentum=0.1, affine=True, track_running_stats=True)\n",
       "          (conv2): Conv2d(64, 64, kernel_size=(3, 3), stride=(1, 1), padding=(1, 1), bias=False)\n",
       "          (bn2): BatchNorm2d(64, eps=1e-05, momentum=0.1, affine=True, track_running_stats=True)\n",
       "          (conv3): Conv2d(64, 256, kernel_size=(1, 1), stride=(1, 1), bias=False)\n",
       "          (bn3): BatchNorm2d(256, eps=1e-05, momentum=0.1, affine=True, track_running_stats=True)\n",
       "          (relu): ReLU(inplace=True)\n",
       "          (downsample): Sequential(\n",
       "            (0): Conv2d(64, 256, kernel_size=(1, 1), stride=(1, 1), bias=False)\n",
       "            (1): BatchNorm2d(256, eps=1e-05, momentum=0.1, affine=True, track_running_stats=True)\n",
       "          )\n",
       "        )\n",
       "        (1): Bottleneck(\n",
       "          (conv1): Conv2d(256, 64, kernel_size=(1, 1), stride=(1, 1), bias=False)\n",
       "          (bn1): BatchNorm2d(64, eps=1e-05, momentum=0.1, affine=True, track_running_stats=True)\n",
       "          (conv2): Conv2d(64, 64, kernel_size=(3, 3), stride=(1, 1), padding=(1, 1), bias=False)\n",
       "          (bn2): BatchNorm2d(64, eps=1e-05, momentum=0.1, affine=True, track_running_stats=True)\n",
       "          (conv3): Conv2d(64, 256, kernel_size=(1, 1), stride=(1, 1), bias=False)\n",
       "          (bn3): BatchNorm2d(256, eps=1e-05, momentum=0.1, affine=True, track_running_stats=True)\n",
       "          (relu): ReLU(inplace=True)\n",
       "        )\n",
       "        (2): Bottleneck(\n",
       "          (conv1): Conv2d(256, 64, kernel_size=(1, 1), stride=(1, 1), bias=False)\n",
       "          (bn1): BatchNorm2d(64, eps=1e-05, momentum=0.1, affine=True, track_running_stats=True)\n",
       "          (conv2): Conv2d(64, 64, kernel_size=(3, 3), stride=(1, 1), padding=(1, 1), bias=False)\n",
       "          (bn2): BatchNorm2d(64, eps=1e-05, momentum=0.1, affine=True, track_running_stats=True)\n",
       "          (conv3): Conv2d(64, 256, kernel_size=(1, 1), stride=(1, 1), bias=False)\n",
       "          (bn3): BatchNorm2d(256, eps=1e-05, momentum=0.1, affine=True, track_running_stats=True)\n",
       "          (relu): ReLU(inplace=True)\n",
       "        )\n",
       "      )\n",
       "      (5): Sequential(\n",
       "        (0): Bottleneck(\n",
       "          (conv1): Conv2d(256, 128, kernel_size=(1, 1), stride=(1, 1), bias=False)\n",
       "          (bn1): BatchNorm2d(128, eps=1e-05, momentum=0.1, affine=True, track_running_stats=True)\n",
       "          (conv2): Conv2d(128, 128, kernel_size=(3, 3), stride=(2, 2), padding=(1, 1), bias=False)\n",
       "          (bn2): BatchNorm2d(128, eps=1e-05, momentum=0.1, affine=True, track_running_stats=True)\n",
       "          (conv3): Conv2d(128, 512, kernel_size=(1, 1), stride=(1, 1), bias=False)\n",
       "          (bn3): BatchNorm2d(512, eps=1e-05, momentum=0.1, affine=True, track_running_stats=True)\n",
       "          (relu): ReLU(inplace=True)\n",
       "          (downsample): Sequential(\n",
       "            (0): Conv2d(256, 512, kernel_size=(1, 1), stride=(2, 2), bias=False)\n",
       "            (1): BatchNorm2d(512, eps=1e-05, momentum=0.1, affine=True, track_running_stats=True)\n",
       "          )\n",
       "        )\n",
       "        (1): Bottleneck(\n",
       "          (conv1): Conv2d(512, 128, kernel_size=(1, 1), stride=(1, 1), bias=False)\n",
       "          (bn1): BatchNorm2d(128, eps=1e-05, momentum=0.1, affine=True, track_running_stats=True)\n",
       "          (conv2): Conv2d(128, 128, kernel_size=(3, 3), stride=(1, 1), padding=(1, 1), bias=False)\n",
       "          (bn2): BatchNorm2d(128, eps=1e-05, momentum=0.1, affine=True, track_running_stats=True)\n",
       "          (conv3): Conv2d(128, 512, kernel_size=(1, 1), stride=(1, 1), bias=False)\n",
       "          (bn3): BatchNorm2d(512, eps=1e-05, momentum=0.1, affine=True, track_running_stats=True)\n",
       "          (relu): ReLU(inplace=True)\n",
       "        )\n",
       "        (2): Bottleneck(\n",
       "          (conv1): Conv2d(512, 128, kernel_size=(1, 1), stride=(1, 1), bias=False)\n",
       "          (bn1): BatchNorm2d(128, eps=1e-05, momentum=0.1, affine=True, track_running_stats=True)\n",
       "          (conv2): Conv2d(128, 128, kernel_size=(3, 3), stride=(1, 1), padding=(1, 1), bias=False)\n",
       "          (bn2): BatchNorm2d(128, eps=1e-05, momentum=0.1, affine=True, track_running_stats=True)\n",
       "          (conv3): Conv2d(128, 512, kernel_size=(1, 1), stride=(1, 1), bias=False)\n",
       "          (bn3): BatchNorm2d(512, eps=1e-05, momentum=0.1, affine=True, track_running_stats=True)\n",
       "          (relu): ReLU(inplace=True)\n",
       "        )\n",
       "        (3): Bottleneck(\n",
       "          (conv1): Conv2d(512, 128, kernel_size=(1, 1), stride=(1, 1), bias=False)\n",
       "          (bn1): BatchNorm2d(128, eps=1e-05, momentum=0.1, affine=True, track_running_stats=True)\n",
       "          (conv2): Conv2d(128, 128, kernel_size=(3, 3), stride=(1, 1), padding=(1, 1), bias=False)\n",
       "          (bn2): BatchNorm2d(128, eps=1e-05, momentum=0.1, affine=True, track_running_stats=True)\n",
       "          (conv3): Conv2d(128, 512, kernel_size=(1, 1), stride=(1, 1), bias=False)\n",
       "          (bn3): BatchNorm2d(512, eps=1e-05, momentum=0.1, affine=True, track_running_stats=True)\n",
       "          (relu): ReLU(inplace=True)\n",
       "        )\n",
       "      )\n",
       "      (6): Sequential(\n",
       "        (0): Bottleneck(\n",
       "          (conv1): Conv2d(512, 256, kernel_size=(1, 1), stride=(1, 1), bias=False)\n",
       "          (bn1): BatchNorm2d(256, eps=1e-05, momentum=0.1, affine=True, track_running_stats=True)\n",
       "          (conv2): Conv2d(256, 256, kernel_size=(3, 3), stride=(2, 2), padding=(1, 1), bias=False)\n",
       "          (bn2): BatchNorm2d(256, eps=1e-05, momentum=0.1, affine=True, track_running_stats=True)\n",
       "          (conv3): Conv2d(256, 1024, kernel_size=(1, 1), stride=(1, 1), bias=False)\n",
       "          (bn3): BatchNorm2d(1024, eps=1e-05, momentum=0.1, affine=True, track_running_stats=True)\n",
       "          (relu): ReLU(inplace=True)\n",
       "          (downsample): Sequential(\n",
       "            (0): Conv2d(512, 1024, kernel_size=(1, 1), stride=(2, 2), bias=False)\n",
       "            (1): BatchNorm2d(1024, eps=1e-05, momentum=0.1, affine=True, track_running_stats=True)\n",
       "          )\n",
       "        )\n",
       "        (1): Bottleneck(\n",
       "          (conv1): Conv2d(1024, 256, kernel_size=(1, 1), stride=(1, 1), bias=False)\n",
       "          (bn1): BatchNorm2d(256, eps=1e-05, momentum=0.1, affine=True, track_running_stats=True)\n",
       "          (conv2): Conv2d(256, 256, kernel_size=(3, 3), stride=(1, 1), padding=(1, 1), bias=False)\n",
       "          (bn2): BatchNorm2d(256, eps=1e-05, momentum=0.1, affine=True, track_running_stats=True)\n",
       "          (conv3): Conv2d(256, 1024, kernel_size=(1, 1), stride=(1, 1), bias=False)\n",
       "          (bn3): BatchNorm2d(1024, eps=1e-05, momentum=0.1, affine=True, track_running_stats=True)\n",
       "          (relu): ReLU(inplace=True)\n",
       "        )\n",
       "        (2): Bottleneck(\n",
       "          (conv1): Conv2d(1024, 256, kernel_size=(1, 1), stride=(1, 1), bias=False)\n",
       "          (bn1): BatchNorm2d(256, eps=1e-05, momentum=0.1, affine=True, track_running_stats=True)\n",
       "          (conv2): Conv2d(256, 256, kernel_size=(3, 3), stride=(1, 1), padding=(1, 1), bias=False)\n",
       "          (bn2): BatchNorm2d(256, eps=1e-05, momentum=0.1, affine=True, track_running_stats=True)\n",
       "          (conv3): Conv2d(256, 1024, kernel_size=(1, 1), stride=(1, 1), bias=False)\n",
       "          (bn3): BatchNorm2d(1024, eps=1e-05, momentum=0.1, affine=True, track_running_stats=True)\n",
       "          (relu): ReLU(inplace=True)\n",
       "        )\n",
       "        (3): Bottleneck(\n",
       "          (conv1): Conv2d(1024, 256, kernel_size=(1, 1), stride=(1, 1), bias=False)\n",
       "          (bn1): BatchNorm2d(256, eps=1e-05, momentum=0.1, affine=True, track_running_stats=True)\n",
       "          (conv2): Conv2d(256, 256, kernel_size=(3, 3), stride=(1, 1), padding=(1, 1), bias=False)\n",
       "          (bn2): BatchNorm2d(256, eps=1e-05, momentum=0.1, affine=True, track_running_stats=True)\n",
       "          (conv3): Conv2d(256, 1024, kernel_size=(1, 1), stride=(1, 1), bias=False)\n",
       "          (bn3): BatchNorm2d(1024, eps=1e-05, momentum=0.1, affine=True, track_running_stats=True)\n",
       "          (relu): ReLU(inplace=True)\n",
       "        )\n",
       "        (4): Bottleneck(\n",
       "          (conv1): Conv2d(1024, 256, kernel_size=(1, 1), stride=(1, 1), bias=False)\n",
       "          (bn1): BatchNorm2d(256, eps=1e-05, momentum=0.1, affine=True, track_running_stats=True)\n",
       "          (conv2): Conv2d(256, 256, kernel_size=(3, 3), stride=(1, 1), padding=(1, 1), bias=False)\n",
       "          (bn2): BatchNorm2d(256, eps=1e-05, momentum=0.1, affine=True, track_running_stats=True)\n",
       "          (conv3): Conv2d(256, 1024, kernel_size=(1, 1), stride=(1, 1), bias=False)\n",
       "          (bn3): BatchNorm2d(1024, eps=1e-05, momentum=0.1, affine=True, track_running_stats=True)\n",
       "          (relu): ReLU(inplace=True)\n",
       "        )\n",
       "        (5): Bottleneck(\n",
       "          (conv1): Conv2d(1024, 256, kernel_size=(1, 1), stride=(1, 1), bias=False)\n",
       "          (bn1): BatchNorm2d(256, eps=1e-05, momentum=0.1, affine=True, track_running_stats=True)\n",
       "          (conv2): Conv2d(256, 256, kernel_size=(3, 3), stride=(1, 1), padding=(1, 1), bias=False)\n",
       "          (bn2): BatchNorm2d(256, eps=1e-05, momentum=0.1, affine=True, track_running_stats=True)\n",
       "          (conv3): Conv2d(256, 1024, kernel_size=(1, 1), stride=(1, 1), bias=False)\n",
       "          (bn3): BatchNorm2d(1024, eps=1e-05, momentum=0.1, affine=True, track_running_stats=True)\n",
       "          (relu): ReLU(inplace=True)\n",
       "        )\n",
       "      )\n",
       "      (7): Sequential(\n",
       "        (0): Bottleneck(\n",
       "          (conv1): Conv2d(1024, 512, kernel_size=(1, 1), stride=(1, 1), bias=False)\n",
       "          (bn1): BatchNorm2d(512, eps=1e-05, momentum=0.1, affine=True, track_running_stats=True)\n",
       "          (conv2): Conv2d(512, 512, kernel_size=(3, 3), stride=(2, 2), padding=(1, 1), bias=False)\n",
       "          (bn2): BatchNorm2d(512, eps=1e-05, momentum=0.1, affine=True, track_running_stats=True)\n",
       "          (conv3): Conv2d(512, 2048, kernel_size=(1, 1), stride=(1, 1), bias=False)\n",
       "          (bn3): BatchNorm2d(2048, eps=1e-05, momentum=0.1, affine=True, track_running_stats=True)\n",
       "          (relu): ReLU(inplace=True)\n",
       "          (downsample): Sequential(\n",
       "            (0): Conv2d(1024, 2048, kernel_size=(1, 1), stride=(2, 2), bias=False)\n",
       "            (1): BatchNorm2d(2048, eps=1e-05, momentum=0.1, affine=True, track_running_stats=True)\n",
       "          )\n",
       "        )\n",
       "        (1): Bottleneck(\n",
       "          (conv1): Conv2d(2048, 512, kernel_size=(1, 1), stride=(1, 1), bias=False)\n",
       "          (bn1): BatchNorm2d(512, eps=1e-05, momentum=0.1, affine=True, track_running_stats=True)\n",
       "          (conv2): Conv2d(512, 512, kernel_size=(3, 3), stride=(1, 1), padding=(1, 1), bias=False)\n",
       "          (bn2): BatchNorm2d(512, eps=1e-05, momentum=0.1, affine=True, track_running_stats=True)\n",
       "          (conv3): Conv2d(512, 2048, kernel_size=(1, 1), stride=(1, 1), bias=False)\n",
       "          (bn3): BatchNorm2d(2048, eps=1e-05, momentum=0.1, affine=True, track_running_stats=True)\n",
       "          (relu): ReLU(inplace=True)\n",
       "        )\n",
       "        (2): Bottleneck(\n",
       "          (conv1): Conv2d(2048, 512, kernel_size=(1, 1), stride=(1, 1), bias=False)\n",
       "          (bn1): BatchNorm2d(512, eps=1e-05, momentum=0.1, affine=True, track_running_stats=True)\n",
       "          (conv2): Conv2d(512, 512, kernel_size=(3, 3), stride=(1, 1), padding=(1, 1), bias=False)\n",
       "          (bn2): BatchNorm2d(512, eps=1e-05, momentum=0.1, affine=True, track_running_stats=True)\n",
       "          (conv3): Conv2d(512, 2048, kernel_size=(1, 1), stride=(1, 1), bias=False)\n",
       "          (bn3): BatchNorm2d(2048, eps=1e-05, momentum=0.1, affine=True, track_running_stats=True)\n",
       "          (relu): ReLU(inplace=True)\n",
       "        )\n",
       "      )\n",
       "      (8): AdaptiveAvgPool2d(output_size=(1, 1))\n",
       "    )\n",
       "  )\n",
       "  (graphconv): GraphLayers(\n",
       "    (conv): GraphConv(in=2048, out=512, normalization=both, activation=None)\n",
       "  )\n",
       "  (mlp): Sequential(\n",
       "    (0): Linear(in_features=2560, out_features=1024, bias=True)\n",
       "    (1): ReLU()\n",
       "    (2): Linear(in_features=1024, out_features=7, bias=True)\n",
       "  )\n",
       ")"
      ]
     },
     "execution_count": 15,
     "metadata": {},
     "output_type": "execute_result"
    }
   ],
   "source": [
    "device='cuda'\n",
    "\n",
    "model = GraphClassifier(7).to(device)\n",
    "model.load_state_dict(torch.load(f'recipe/graph_params_AUGMENTATION.pt', map_location = 'cuda'))\n",
    "\n",
    "model.eval()"
   ]
  },
  {
   "cell_type": "code",
   "execution_count": 11,
   "id": "a981e2e6",
   "metadata": {},
   "outputs": [],
   "source": [
    "def get_pivot_deep_features(train_paths, model, device):\n",
    "    \n",
    "    ## 1. train data loader\n",
    "    pivot_dataset = GCD(train_paths, resize=256)\n",
    "    pivot_loader = torch.utils.data.DataLoader(\n",
    "            pivot_dataset,\n",
    "            batch_size=32,\n",
    "            num_workers=8,\n",
    "            shuffle=False,\n",
    "        )\n",
    "    \n",
    "    \n",
    "    ## 2. Append deep features\n",
    "    pivot_features = list()\n",
    "        \n",
    "    for data in pivot_loader:\n",
    "        with torch.no_grad():\n",
    "            deep_features = model.get_deep_features(data['images'].to(device)).cpu()\n",
    "            pivot_features.append(deep_features)\n",
    "        \n",
    "    return torch.cat(pivot_features, dim=0)"
   ]
  },
  {
   "cell_type": "code",
   "execution_count": 17,
   "id": "1901f301",
   "metadata": {},
   "outputs": [],
   "source": [
    "pivot_paths = sample_paths(df_train, n=2)"
   ]
  },
  {
   "cell_type": "code",
   "execution_count": 18,
   "id": "e777fe8b",
   "metadata": {},
   "outputs": [],
   "source": [
    "pivot_features = get_pivot_deep_features(pivot_paths, model, device)"
   ]
  },
  {
   "cell_type": "code",
   "execution_count": 19,
   "id": "6709f991",
   "metadata": {},
   "outputs": [
    {
     "data": {
      "text/plain": [
       "torch.Size([14, 2048])"
      ]
     },
     "execution_count": 19,
     "metadata": {},
     "output_type": "execute_result"
    }
   ],
   "source": [
    "pivot_features.shape"
   ]
  },
  {
   "cell_type": "markdown",
   "id": "af1d735f",
   "metadata": {},
   "source": [
    "## evaluacion"
   ]
  },
  {
   "cell_type": "code",
   "execution_count": 41,
   "id": "4818d2c2",
   "metadata": {},
   "outputs": [
    {
     "name": "stdout",
     "output_type": "stream",
     "text": [
      "######## STARTING N = 2 ########\n",
      "1. Reading pivot paths\n",
      "2. Calculating pivot deep features\n",
      "14 PIVOT IMAGES\n",
      "3. Calculating predictions\n"
     ]
    },
    {
     "name": "stderr",
     "output_type": "stream",
     "text": [
      "100%|██████████████████████████████████████████████████████████████████████████████| 9010/9010 [04:21<00:00, 34.41it/s]\n"
     ]
    },
    {
     "name": "stdout",
     "output_type": "stream",
     "text": [
      "N=2: Test Accuracy: 0.7485016648168702\n",
      "######## STARTING N = 4 ########\n",
      "1. Reading pivot paths\n",
      "2. Calculating pivot deep features\n",
      "28 PIVOT IMAGES\n",
      "3. Calculating predictions\n"
     ]
    },
    {
     "name": "stderr",
     "output_type": "stream",
     "text": [
      "100%|██████████████████████████████████████████████████████████████████████████████| 9010/9010 [04:26<00:00, 33.85it/s]\n"
     ]
    },
    {
     "name": "stdout",
     "output_type": "stream",
     "text": [
      "N=4: Test Accuracy: 0.7549389567147614\n",
      "######## STARTING N = 8 ########\n",
      "1. Reading pivot paths\n",
      "2. Calculating pivot deep features\n",
      "56 PIVOT IMAGES\n",
      "3. Calculating predictions\n"
     ]
    },
    {
     "name": "stderr",
     "output_type": "stream",
     "text": [
      "100%|██████████████████████████████████████████████████████████████████████████████| 9010/9010 [04:29<00:00, 33.37it/s]\n"
     ]
    },
    {
     "name": "stdout",
     "output_type": "stream",
     "text": [
      "N=8: Test Accuracy: 0.7522752497225306\n",
      "######## STARTING N = 10 ########\n",
      "1. Reading pivot paths\n",
      "2. Calculating pivot deep features\n",
      "70 PIVOT IMAGES\n",
      "3. Calculating predictions\n"
     ]
    },
    {
     "name": "stderr",
     "output_type": "stream",
     "text": [
      "100%|██████████████████████████████████████████████████████████████████████████████| 9010/9010 [04:32<00:00, 33.06it/s]\n"
     ]
    },
    {
     "name": "stdout",
     "output_type": "stream",
     "text": [
      "N=10: Test Accuracy: 0.7513873473917869\n",
      "######## STARTING N = 15 ########\n",
      "1. Reading pivot paths\n",
      "2. Calculating pivot deep features\n",
      "105 PIVOT IMAGES\n",
      "3. Calculating predictions\n"
     ]
    },
    {
     "name": "stderr",
     "output_type": "stream",
     "text": [
      "100%|██████████████████████████████████████████████████████████████████████████████| 9010/9010 [04:30<00:00, 33.30it/s]\n"
     ]
    },
    {
     "name": "stdout",
     "output_type": "stream",
     "text": [
      "N=15: Test Accuracy: 0.7502774694783574\n",
      "######## STARTING N = 20 ########\n",
      "1. Reading pivot paths\n",
      "2. Calculating pivot deep features\n",
      "140 PIVOT IMAGES\n",
      "3. Calculating predictions\n"
     ]
    },
    {
     "name": "stderr",
     "output_type": "stream",
     "text": [
      "100%|██████████████████████████████████████████████████████████████████████████████| 9010/9010 [04:35<00:00, 32.71it/s]\n"
     ]
    },
    {
     "name": "stdout",
     "output_type": "stream",
     "text": [
      "N=20: Test Accuracy: 0.7507214206437292\n",
      "######## STARTING N = 40 ########\n",
      "1. Reading pivot paths\n",
      "2. Calculating pivot deep features\n",
      "280 PIVOT IMAGES\n",
      "3. Calculating predictions\n"
     ]
    },
    {
     "name": "stderr",
     "output_type": "stream",
     "text": [
      "100%|██████████████████████████████████████████████████████████████████████████████| 9010/9010 [04:42<00:00, 31.88it/s]\n"
     ]
    },
    {
     "name": "stdout",
     "output_type": "stream",
     "text": [
      "N=40: Test Accuracy: 0.7487236403995561\n",
      "######## STARTING N = 50 ########\n",
      "1. Reading pivot paths\n",
      "2. Calculating pivot deep features\n",
      "350 PIVOT IMAGES\n",
      "3. Calculating predictions\n"
     ]
    },
    {
     "name": "stderr",
     "output_type": "stream",
     "text": [
      "100%|██████████████████████████████████████████████████████████████████████████████| 9010/9010 [04:44<00:00, 31.70it/s]\n"
     ]
    },
    {
     "name": "stdout",
     "output_type": "stream",
     "text": [
      "N=50: Test Accuracy: 0.7497225305216426\n",
      "######## STARTING N = 100 ########\n",
      "1. Reading pivot paths\n",
      "2. Calculating pivot deep features\n",
      "700 PIVOT IMAGES\n",
      "3. Calculating predictions\n"
     ]
    },
    {
     "name": "stderr",
     "output_type": "stream",
     "text": [
      "100%|██████████████████████████████████████████████████████████████████████████████| 9010/9010 [05:03<00:00, 29.72it/s]"
     ]
    },
    {
     "name": "stdout",
     "output_type": "stream",
     "text": [
      "N=100: Test Accuracy: 0.7485016648168702\n"
     ]
    },
    {
     "name": "stderr",
     "output_type": "stream",
     "text": [
      "\n"
     ]
    }
   ],
   "source": [
    "df_results = pd.DataFrame()\n",
    "\n",
    "for N in [2,4,8,10,15,20,40,50,100]:\n",
    "    print(f'######## STARTING N = {N} ########')\n",
    "    print('1. Reading pivot paths')\n",
    "    pivot_paths = sample_paths(df_train, n=N, random_state=10)\n",
    "\n",
    "    # pivot_paths = [\n",
    "    #     'D:\\\\Tesis\\\\REPO\\\\GCD/train/1_cumulus/1_cumulus_000082.jpg',\n",
    "    #     'D:\\\\Tesis\\\\REPO\\\\GCD/train/1_cumulus/1_cumulus_000127.jpg',\n",
    "    #     'D:\\\\Tesis\\\\REPO\\\\GCD/train/2_altocumulus/2_altocumulus_000003.jpg',\n",
    "    #     'D:\\\\Tesis\\\\REPO\\\\GCD/train/2_altocumulus/2_altocumulus_000028.jpg',\n",
    "    #     'D:\\\\Tesis\\\\REPO\\\\GCD/train/3_cirrus/3_cirrus_000035.jpg',\n",
    "    #     'D:\\\\Tesis\\\\REPO\\\\GCD/train/3_cirrus/3_cirrus_000115.jpg',\n",
    "    #     'D:\\\\Tesis\\\\REPO\\\\GCD/train/4_clearsky/4_clearsky_000004.jpg',\n",
    "    #     'D:\\\\Tesis\\\\REPO\\\\GCD/train/4_clearsky/4_clearsky_000055.jpg',\n",
    "    #     'D:\\\\Tesis\\\\REPO\\\\GCD/train/5_stratocumulus/5_stratocumulus_000003.jpg',\n",
    "    #     'D:\\\\Tesis\\\\REPO\\\\GCD/train/5_stratocumulus/5_stratocumulus_000069.jpg',\n",
    "    #     'D:\\\\Tesis\\\\REPO\\\\GCD/train/6_cumulonimbus/6_cumulonimbus_000011.jpg',\n",
    "    #     'D:\\\\Tesis\\\\REPO\\\\GCD/train/6_cumulonimbus/6_cumulonimbus_000059.jpg',\n",
    "    #     'D:\\\\Tesis\\\\REPO\\\\GCD/train/7_mixed/7_mixed_000006.jpg',\n",
    "    #     'D:\\\\Tesis\\\\REPO\\\\GCD/train/7_mixed/7_mixed_000039.jpg',\n",
    "    # ]\n",
    "\n",
    "\n",
    "\n",
    "    print('2. Calculating pivot deep features')\n",
    "    pivot_features = get_pivot_deep_features(pivot_paths, model, device)\n",
    "\n",
    "    print(f'{pivot_features.shape[0]} PIVOT IMAGES')\n",
    "    \n",
    "    \n",
    "    test_targets = list()\n",
    "    test_predictions = list()\n",
    "\n",
    "    print('3. Calculating predictions')\n",
    "    for data in tqdm(test_loader):\n",
    "        pred_img = data['images']\n",
    "\n",
    "        pred_feature = model.get_deep_features(pred_img.to(device)).cpu()\n",
    "\n",
    "        pred_images = torch.cat([pivot_features, pred_feature], dim=0).to(device)\n",
    "\n",
    "        with torch.no_grad():\n",
    "            preds = torch.argmax(F.softmax(model.message_passing(pred_images).cpu(),dim=1), dim=1)\n",
    "\n",
    "\n",
    "            test_predictions.append(preds[-1].item())\n",
    "            test_targets.append(data['targets'].item())\n",
    "    \n",
    "    acc = accuracy_score(test_targets, test_predictions)\n",
    "    \n",
    "    print(f\"N={N}: Test Accuracy: {acc}\")\n",
    "    \n",
    "    df_results[f'predictions_{N}'] = test_predictions\n",
    "    df_results[f'targets_{N}'] = test_targets"
   ]
  },
  {
   "cell_type": "code",
   "execution_count": 42,
   "id": "69c2d30b",
   "metadata": {},
   "outputs": [],
   "source": [
    "df_results.to_csv('df_results.csv', index=False)"
   ]
  },
  {
   "cell_type": "code",
   "execution_count": 30,
   "id": "8800cf6a",
   "metadata": {},
   "outputs": [],
   "source": [
    "from sklearn.metrics import accuracy_score"
   ]
  },
  {
   "cell_type": "code",
   "execution_count": 33,
   "id": "4e229260",
   "metadata": {},
   "outputs": [
    {
     "data": {
      "text/plain": [
       "0.7485016648168702"
      ]
     },
     "execution_count": 33,
     "metadata": {},
     "output_type": "execute_result"
    }
   ],
   "source": [
    "accuracy_score(test_targets, test_predictions)"
   ]
  },
  {
   "cell_type": "code",
   "execution_count": 34,
   "id": "da2c3aa4",
   "metadata": {},
   "outputs": [],
   "source": [
    "r = np.array(test_targets)[(np.array(test_targets) == np.array(test_predictions))]"
   ]
  },
  {
   "cell_type": "code",
   "execution_count": 35,
   "id": "c95c4093",
   "metadata": {},
   "outputs": [
    {
     "data": {
      "text/plain": [
       "0    0.693333\n",
       "1    0.457333\n",
       "2    0.868526\n",
       "3    0.984267\n",
       "4    0.658101\n",
       "5    0.810177\n",
       "6    0.395387\n",
       "dtype: float64"
      ]
     },
     "execution_count": 35,
     "metadata": {},
     "output_type": "execute_result"
    }
   ],
   "source": [
    "pd.Series(r).value_counts()/pd.Series(np.array(test_targets)).value_counts()"
   ]
  },
  {
   "cell_type": "markdown",
   "id": "859e21ca",
   "metadata": {},
   "source": [
    "---"
   ]
  },
  {
   "cell_type": "markdown",
   "id": "4317dfd0",
   "metadata": {},
   "source": [
    "# Curva de accuracy por numero de imagenes pivot por clase"
   ]
  },
  {
   "cell_type": "code",
   "execution_count": 13,
   "id": "3fd7c79a",
   "metadata": {},
   "outputs": [
    {
     "name": "stdout",
     "output_type": "stream",
     "text": [
      " Volume in drive D is SSD\n",
      " Volume Serial Number is 6C2D-D248\n",
      "\n",
      " Directory of D:\\Tesis\\REPO\\Cloud-Classification\\code\n",
      "\n",
      "05/02/2022  11:47 AM    <DIR>          .\n",
      "05/02/2022  11:47 AM    <DIR>          ..\n",
      "04/28/2022  11:37 PM    <DIR>          .ipynb_checkpoints\n",
      "04/29/2022  12:24 AM    <DIR>          data preprocessing\n",
      "04/28/2022  08:49 PM    <DIR>          images\n",
      "05/02/2022  11:50 AM    <DIR>          inference experiments\n",
      "04/30/2022  01:51 PM    <DIR>          notebooks\n",
      "04/30/2022  02:30 PM    <DIR>          recipe\n",
      "04/28/2022  08:49 PM    <DIR>          src\n",
      "               0 File(s)              0 bytes\n",
      "               9 Dir(s)  329,346,191,360 bytes free\n"
     ]
    }
   ],
   "source": [
    "%ls"
   ]
  },
  {
   "cell_type": "code",
   "execution_count": 16,
   "id": "3023f93c",
   "metadata": {},
   "outputs": [],
   "source": [
    "df_result = pd.read_csv('inference experiments/df_results.csv')"
   ]
  },
  {
   "cell_type": "code",
   "execution_count": 18,
   "id": "04d5005f",
   "metadata": {},
   "outputs": [
    {
     "data": {
      "text/plain": [
       "<function sklearn.metrics._classification.accuracy_score(y_true, y_pred, *, normalize=True, sample_weight=None)>"
      ]
     },
     "execution_count": 18,
     "metadata": {},
     "output_type": "execute_result"
    }
   ],
   "source": [
    "accuracy_score"
   ]
  },
  {
   "cell_type": "code",
   "execution_count": 51,
   "id": "3ddea46e",
   "metadata": {},
   "outputs": [],
   "source": [
    "results = dict()\n",
    "\n",
    "for N in [2,4,8,10,15,20,40,50,100]:\n",
    "    \n",
    "    results[N] = accuracy_score(df_result[f\"targets_{N}\"], df_result[f\"predictions_{N}\"])\n",
    "    \n",
    "results_data = pd.Series(results)*100"
   ]
  },
  {
   "cell_type": "code",
   "execution_count": 53,
   "id": "9792891b",
   "metadata": {},
   "outputs": [
    {
     "data": {
      "image/png": "[encoded data removed]",
      "text/plain": [
       "<Figure size 792x360 with 1 Axes>"
      ]
     },
     "metadata": {
      "needs_background": "light"
     },
     "output_type": "display_data"
    }
   ],
   "source": [
    "plt.figure(figsize=(11,5))\n",
    "results_data.plot.line()\n",
    "plt.xticks(results_data.index.values)\n",
    "plt.title('Accuracy by # of pivot images per class')\n",
    "plt.ylabel('Accuracy (%)')\n",
    "plt.xlabel('# pivot images per class')\n",
    "plt.show()"
   ]
  },
  {
   "cell_type": "markdown",
   "id": "cd68f748",
   "metadata": {},
   "source": [
    "---"
   ]
  },
  {
   "cell_type": "code",
   "execution_count": 103,
   "id": "a256ad00",
   "metadata": {},
   "outputs": [],
   "source": [
    "def get_targets_wname(paths):\n",
    "        return list(map(str,list(map(str,[\"_\".join(os.path.basename(x).split('_')[:-1]) \n",
    "                                          for x in paths]))))"
   ]
  },
  {
   "cell_type": "code",
   "execution_count": 104,
   "id": "cbf8d1c7",
   "metadata": {},
   "outputs": [],
   "source": [
    "pivot_paths = sample_paths(df_train, n=4, random_state=10)\n",
    "pivot_targets = get_targets_wname(pivot_paths)"
   ]
  },
  {
   "cell_type": "markdown",
   "id": "7dd3a1ff",
   "metadata": {},
   "source": [
    "#### read pivot images"
   ]
  },
  {
   "cell_type": "code",
   "execution_count": 106,
   "id": "f93c6f68",
   "metadata": {},
   "outputs": [],
   "source": [
    "images = []\n",
    "\n",
    "for p in pivot_paths:\n",
    "    img = read_image(p).int().numpy().transpose(1,2,0)\n",
    "    images.append(img)"
   ]
  },
  {
   "cell_type": "code",
   "execution_count": 109,
   "id": "222b4d6e",
   "metadata": {},
   "outputs": [
    {
     "data": {
      "image/png": "[encoded data removed]",
      "text/plain": [
       "<Figure size 432x288 with 28 Axes>"
      ]
     },
     "metadata": {
      "needs_background": "light"
     },
     "output_type": "display_data"
    }
   ],
   "source": [
    "fig = plt.figure(figsize=(12, 28))\n",
    "columns = 4\n",
    "rows = 8\n",
    "for i in range(1, 4*7 +1):\n",
    "    img = images[i-1]\n",
    "    fig.add_subplot(rows, columns, i)\n",
    "    plt.imshow(img)\n",
    "    plt.title(f'label: {pivot_targets[i-1]}')\n",
    "plt.savefig('inference experiments/best_pivot_images.png')\n",
    "plt.show()"
   ]
  }
 ],
 "metadata": {
  "kernelspec": {
   "display_name": "Python 3 (ipykernel)",
   "language": "python",
   "name": "python3"
  },
  "language_info": {
   "codemirror_mode": {
    "name": "ipython",
    "version": 3
   },
   "file_extension": ".py",
   "mimetype": "text/x-python",
   "name": "python",
   "nbconvert_exporter": "python",
   "pygments_lexer": "ipython3",
   "version": "3.8.8"
  }
 },
 "nbformat": 4,
 "nbformat_minor": 5
}
