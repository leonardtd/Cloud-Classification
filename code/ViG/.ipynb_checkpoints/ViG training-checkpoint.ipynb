{
 "cells": [
  {
   "cell_type": "code",
   "execution_count": 1,
   "id": "ce02d36d-9c8a-41a8-baf5-89341a35323f",
   "metadata": {},
   "outputs": [
    {
     "name": "stdout",
     "output_type": "stream",
     "text": [
      "/home/ltorres/leo/Cloud-Classification/code\n"
     ]
    }
   ],
   "source": [
    "%cd .."
   ]
  },
  {
   "cell_type": "code",
   "execution_count": 2,
   "id": "0cb1df6a-fd0e-4054-924e-698c8338f97a",
   "metadata": {},
   "outputs": [],
   "source": [
    "%load_ext autoreload\n",
    "%autoreload 2"
   ]
  },
  {
   "cell_type": "code",
   "execution_count": 3,
   "id": "f339bdec-e9c9-40fb-a173-e303426be852",
   "metadata": {},
   "outputs": [],
   "source": [
    "import pandas as pd\n",
    "import numpy as np\n",
    "import torch\n",
    "import matplotlib.pyplot as plt"
   ]
  },
  {
   "cell_type": "code",
   "execution_count": 4,
   "id": "421988bf-84ce-4da7-91b5-18202d57762a",
   "metadata": {},
   "outputs": [],
   "source": [
    "torch.manual_seed(7)\n",
    "np.random.seed(7)"
   ]
  },
  {
   "cell_type": "code",
   "execution_count": 5,
   "id": "a6cf04ca-7936-45fa-bcc9-23d0eb0f616f",
   "metadata": {},
   "outputs": [],
   "source": [
    "import random"
   ]
  },
  {
   "cell_type": "code",
   "execution_count": 6,
   "id": "e7525bec-28f6-4aa6-aeb6-e319fc9d55d6",
   "metadata": {},
   "outputs": [],
   "source": [
    "import os\n",
    "from torchvision.io import read_image\n",
    "import torchvision.transforms as T\n",
    "import torch.nn as nn\n",
    "import torch.nn.functional as F\n",
    "from torch.optim import lr_scheduler\n",
    "import networkx as nx\n",
    "import glob"
   ]
  },
  {
   "cell_type": "code",
   "execution_count": 7,
   "id": "16762ad9-18f6-4812-8d86-a2f3ac25d5a4",
   "metadata": {},
   "outputs": [],
   "source": [
    "from src import config\n",
    "from src import engine\n",
    "from src import utils"
   ]
  },
  {
   "cell_type": "code",
   "execution_count": 8,
   "id": "0082f33e-797d-4965-a54a-806f3f82f968",
   "metadata": {},
   "outputs": [],
   "source": [
    "from recipe.utils import *"
   ]
  },
  {
   "cell_type": "code",
   "execution_count": 9,
   "id": "fbb0da08-947a-406a-8ce5-d34330fbcf58",
   "metadata": {},
   "outputs": [],
   "source": [
    "torch.manual_seed(7)\n",
    "np.random.seed(7)"
   ]
  },
  {
   "cell_type": "markdown",
   "id": "2daf3c7b-98a9-4301-8936-747d5efed64c",
   "metadata": {},
   "source": [
    "### Dataloaders"
   ]
  },
  {
   "cell_type": "code",
   "execution_count": 10,
   "id": "5beb7aec",
   "metadata": {},
   "outputs": [],
   "source": [
    "def get_gcd_paths(data_dir, dataset_type):\n",
    "    return glob.glob(\n",
    "                     os.path.join(data_dir,f'GCD/{dataset_type}/**/*.jpg'), \n",
    "                     recursive=True\n",
    "                    )"
   ]
  },
  {
   "cell_type": "code",
   "execution_count": 11,
   "id": "4cdb7422-9a14-41bc-9300-ed4252258600",
   "metadata": {},
   "outputs": [],
   "source": [
    "path_train_images = get_gcd_paths('/data/mandonaire','train')\n",
    "#random.shuffle(path_train_images)\n",
    "\n",
    "\n",
    "train_dataset = GCD(path_train_images, resize=160,augmentation=True)\n",
    "\n",
    "train_loader = torch.utils.data.DataLoader(\n",
    "        train_dataset,\n",
    "        batch_size=8,\n",
    "        num_workers=8,\n",
    "        shuffle=True,\n",
    "    )"
   ]
  },
  {
   "cell_type": "code",
   "execution_count": 12,
   "id": "10050bb4-93bd-4135-b01f-c0daec576d6c",
   "metadata": {},
   "outputs": [
    {
     "data": {
      "text/plain": [
       "10000"
      ]
     },
     "execution_count": 12,
     "metadata": {},
     "output_type": "execute_result"
    }
   ],
   "source": [
    "len(train_dataset)"
   ]
  },
  {
   "cell_type": "code",
   "execution_count": 13,
   "id": "98a98ca1-e254-45d1-9872-38aad7f8028c",
   "metadata": {},
   "outputs": [],
   "source": [
    "path_test_images = get_gcd_paths('/data/mandonaire','test')\n",
    "\n",
    "test_dataset = GCD(path_test_images, resize=160, augmentation=False)\n",
    "\n",
    "test_loader = torch.utils.data.DataLoader(\n",
    "        test_dataset,\n",
    "        batch_size=8,\n",
    "        num_workers=8,\n",
    "        shuffle=True,\n",
    "    )"
   ]
  },
  {
   "cell_type": "code",
   "execution_count": 14,
   "id": "5ebfea8b",
   "metadata": {},
   "outputs": [
    {
     "data": {
      "text/plain": [
       "9000"
      ]
     },
     "execution_count": 14,
     "metadata": {},
     "output_type": "execute_result"
    }
   ],
   "source": [
    "len(test_dataset)"
   ]
  },
  {
   "cell_type": "markdown",
   "id": "a43a5a2e",
   "metadata": {},
   "source": [
    "## Model"
   ]
  },
  {
   "cell_type": "code",
   "execution_count": 15,
   "id": "407c3436",
   "metadata": {},
   "outputs": [],
   "source": [
    "from ViG.src.models import IsotropicVIG"
   ]
  },
  {
   "cell_type": "code",
   "execution_count": 16,
   "id": "85016980",
   "metadata": {},
   "outputs": [],
   "source": [
    "model = IsotropicVIG(img_hw=160, in_channels=64, out_channels=7, num_blocks=2, kernel_size=8, patch_size=8)"
   ]
  },
  {
   "cell_type": "code",
   "execution_count": 17,
   "id": "633da794",
   "metadata": {},
   "outputs": [],
   "source": [
    "from torchsummary import summary"
   ]
  },
  {
   "cell_type": "code",
   "execution_count": 18,
   "id": "73ceb002",
   "metadata": {},
   "outputs": [],
   "source": [
    "device = 'cuda:3'\n",
    "EPOCHS = 200\n",
    "LR = 3e-4"
   ]
  },
  {
   "cell_type": "markdown",
   "id": "08e06d06-d6d2-42cf-b59e-663810c590d5",
   "metadata": {},
   "source": [
    "### Logger"
   ]
  },
  {
   "cell_type": "code",
   "execution_count": 19,
   "id": "a2bc62f3-7b43-4dcd-83e1-3a8cabeeee26",
   "metadata": {},
   "outputs": [],
   "source": [
    "import wandb"
   ]
  },
  {
   "cell_type": "code",
   "execution_count": 20,
   "id": "aee1b866-a008-4280-bc21-6646b951c3ec",
   "metadata": {},
   "outputs": [
    {
     "name": "stderr",
     "output_type": "stream",
     "text": [
      "\u001b[34m\u001b[1mwandb\u001b[0m: Currently logged in as: \u001b[33mleonardtd\u001b[0m (use `wandb login --relogin` to force relogin)\n"
     ]
    },
    {
     "data": {
      "text/html": [
       "wandb version 0.12.18 is available!  To upgrade, please run:\n",
       " $ pip install wandb --upgrade"
      ],
      "text/plain": [
       "<IPython.core.display.HTML object>"
      ]
     },
     "metadata": {},
     "output_type": "display_data"
    },
    {
     "data": {
      "text/html": [
       "Tracking run with wandb version 0.12.11"
      ],
      "text/plain": [
       "<IPython.core.display.HTML object>"
      ]
     },
     "metadata": {},
     "output_type": "display_data"
    },
    {
     "data": {
      "text/html": [
       "Run data is saved locally in <code>/home/ltorres/leo/Cloud-Classification/code/wandb/run-20220622_010533-2oqngucv</code>"
      ],
      "text/plain": [
       "<IPython.core.display.HTML object>"
      ]
     },
     "metadata": {},
     "output_type": "display_data"
    },
    {
     "data": {
      "text/html": [
       "Syncing run <strong><a href=\"https://wandb.ai/leonardtd/cloud%20classification%20-%20VIG/runs/2oqngucv\" target=\"_blank\">Isotropic ViG - S</a></strong> to <a href=\"https://wandb.ai/leonardtd/cloud%20classification%20-%20VIG\" target=\"_blank\">Weights & Biases</a> (<a href=\"https://wandb.me/run\" target=\"_blank\">docs</a>)<br/>"
      ],
      "text/plain": [
       "<IPython.core.display.HTML object>"
      ]
     },
     "metadata": {},
     "output_type": "display_data"
    },
    {
     "data": {
      "text/html": [
       "<button onClick=\"this.nextSibling.style.display='block';this.style.display='none';\">Display W&B run</button><iframe src=\"https://wandb.ai/leonardtd/cloud%20classification%20-%20VIG/runs/2oqngucv?jupyter=true\" style=\"border:none;width:100%;height:420px;display:none;\"></iframe>"
      ],
      "text/plain": [
       "<wandb.sdk.wandb_run.Run at 0x7fbe3dca70d0>"
      ]
     },
     "execution_count": 20,
     "metadata": {},
     "output_type": "execute_result"
    }
   ],
   "source": [
    "wandb.init(\n",
    "    # Set the project where this run will be logged\n",
    "    project=\"cloud classification - VIG\",\n",
    "    # We pass a run name (otherwise it’ll be randomly assigned, like sunshine-lollypop-10)\n",
    "    name=\"Isotropic ViG - S2\", \n",
    "    # Track hyperparameters and run metadata\n",
    "    config={\n",
    "    \"learning_rate\": LR,\n",
    "    \"architecture\": \"Isotropic ViG - S2\",\n",
    "    \"loss\": \"CrossEntropy\",\n",
    "    \"optim\": \"SGD\",\n",
    "    \"dataset\": \"GCD\",\n",
    "    \"epochs\": EPOCHS,\n",
    "  })"
   ]
  },
  {
   "cell_type": "markdown",
   "id": "1886e584-776c-40df-888f-5278fe5a9c4c",
   "metadata": {},
   "source": [
    "### Training"
   ]
  },
  {
   "cell_type": "code",
   "execution_count": 21,
   "id": "d379c9cd",
   "metadata": {},
   "outputs": [],
   "source": [
    "model = model.to(device)"
   ]
  },
  {
   "cell_type": "code",
   "execution_count": 22,
   "id": "8b5eea1d-441a-48d8-9ba3-b1e65bb9ea93",
   "metadata": {},
   "outputs": [],
   "source": [
    "from sklearn.metrics import accuracy_score"
   ]
  },
  {
   "cell_type": "code",
   "execution_count": 23,
   "id": "f24462c6-31a5-4f06-9e27-8591b9405d53",
   "metadata": {},
   "outputs": [
    {
     "name": "stderr",
     "output_type": "stream",
     "text": [
      "100%|██████████| 1250/1250 [00:24<00:00, 50.05it/s]\n",
      "100%|██████████| 1125/1125 [00:09<00:00, 123.54it/s]\n"
     ]
    },
    {
     "name": "stdout",
     "output_type": "stream",
     "text": [
      "EPOCH 1: Train acc: 56.06% Train Loss: 1.3636 Test acc: 48.48% Test Loss: 2.7377\n",
      "Saved best parameters at epoch 1\n"
     ]
    },
    {
     "name": "stderr",
     "output_type": "stream",
     "text": [
      "100%|██████████| 1250/1250 [00:25<00:00, 49.87it/s]\n",
      "100%|██████████| 1125/1125 [00:08<00:00, 125.48it/s]\n"
     ]
    },
    {
     "name": "stdout",
     "output_type": "stream",
     "text": [
      "EPOCH 2: Train acc: 66.33% Train Loss: 0.9122 Test acc: 54.81% Test Loss: 2.3769\n",
      "Saved best parameters at epoch 2\n"
     ]
    },
    {
     "name": "stderr",
     "output_type": "stream",
     "text": [
      "100%|██████████| 1250/1250 [00:24<00:00, 50.26it/s]\n",
      "100%|██████████| 1125/1125 [00:09<00:00, 124.90it/s]\n"
     ]
    },
    {
     "name": "stdout",
     "output_type": "stream",
     "text": [
      "EPOCH 3: Train acc: 70.23% Train Loss: 0.7910 Test acc: 57.23% Test Loss: 2.2429\n",
      "Saved best parameters at epoch 3\n"
     ]
    },
    {
     "name": "stderr",
     "output_type": "stream",
     "text": [
      "100%|██████████| 1250/1250 [00:24<00:00, 51.02it/s]\n",
      "100%|██████████| 1125/1125 [00:09<00:00, 124.95it/s]\n"
     ]
    },
    {
     "name": "stdout",
     "output_type": "stream",
     "text": [
      "EPOCH 4: Train acc: 71.88% Train Loss: 0.7300 Test acc: 54.43% Test Loss: 2.4975\n"
     ]
    },
    {
     "name": "stderr",
     "output_type": "stream",
     "text": [
      "100%|██████████| 1250/1250 [00:24<00:00, 50.81it/s]\n",
      "100%|██████████| 1125/1125 [00:09<00:00, 124.90it/s]\n"
     ]
    },
    {
     "name": "stdout",
     "output_type": "stream",
     "text": [
      "EPOCH 5: Train acc: 73.51% Train Loss: 0.6889 Test acc: 58.16% Test Loss: 2.2201\n",
      "Saved best parameters at epoch 5\n"
     ]
    },
    {
     "name": "stderr",
     "output_type": "stream",
     "text": [
      "100%|██████████| 1250/1250 [00:25<00:00, 49.87it/s]\n",
      "100%|██████████| 1125/1125 [00:09<00:00, 124.66it/s]\n"
     ]
    },
    {
     "name": "stdout",
     "output_type": "stream",
     "text": [
      "EPOCH 6: Train acc: 75.22% Train Loss: 0.6534 Test acc: 60.32% Test Loss: 2.1521\n",
      "Saved best parameters at epoch 6\n"
     ]
    },
    {
     "name": "stderr",
     "output_type": "stream",
     "text": [
      "100%|██████████| 1250/1250 [00:24<00:00, 51.27it/s]\n",
      "100%|██████████| 1125/1125 [00:08<00:00, 125.05it/s]\n"
     ]
    },
    {
     "name": "stdout",
     "output_type": "stream",
     "text": [
      "EPOCH 7: Train acc: 76.15% Train Loss: 0.6243 Test acc: 55.98% Test Loss: 2.2302\n"
     ]
    },
    {
     "name": "stderr",
     "output_type": "stream",
     "text": [
      "100%|██████████| 1250/1250 [00:24<00:00, 51.57it/s]\n",
      "100%|██████████| 1125/1125 [00:08<00:00, 125.09it/s]\n"
     ]
    },
    {
     "name": "stdout",
     "output_type": "stream",
     "text": [
      "EPOCH 8: Train acc: 77.47% Train Loss: 0.5995 Test acc: 58.97% Test Loss: 2.0752\n"
     ]
    },
    {
     "name": "stderr",
     "output_type": "stream",
     "text": [
      "100%|██████████| 1250/1250 [00:24<00:00, 50.69it/s]\n",
      "100%|██████████| 1125/1125 [00:08<00:00, 125.44it/s]\n"
     ]
    },
    {
     "name": "stdout",
     "output_type": "stream",
     "text": [
      "EPOCH 9: Train acc: 77.34% Train Loss: 0.5852 Test acc: 59.04% Test Loss: 2.3195\n"
     ]
    },
    {
     "name": "stderr",
     "output_type": "stream",
     "text": [
      "100%|██████████| 1250/1250 [00:24<00:00, 50.65it/s]\n",
      "100%|██████████| 1125/1125 [00:09<00:00, 124.82it/s]\n"
     ]
    },
    {
     "name": "stdout",
     "output_type": "stream",
     "text": [
      "EPOCH 10: Train acc: 77.92% Train Loss: 0.5638 Test acc: 55.73% Test Loss: 2.2535\n"
     ]
    },
    {
     "name": "stderr",
     "output_type": "stream",
     "text": [
      "100%|██████████| 1250/1250 [00:24<00:00, 50.45it/s]\n",
      "100%|██████████| 1125/1125 [00:08<00:00, 125.63it/s]\n"
     ]
    },
    {
     "name": "stdout",
     "output_type": "stream",
     "text": [
      "EPOCH 11: Train acc: 79.32% Train Loss: 0.5471 Test acc: 58.29% Test Loss: 2.1404\n"
     ]
    },
    {
     "name": "stderr",
     "output_type": "stream",
     "text": [
      "100%|██████████| 1250/1250 [00:24<00:00, 50.04it/s]\n",
      "100%|██████████| 1125/1125 [00:09<00:00, 124.79it/s]\n"
     ]
    },
    {
     "name": "stdout",
     "output_type": "stream",
     "text": [
      "EPOCH 12: Train acc: 80.03% Train Loss: 0.5243 Test acc: 55.84% Test Loss: 2.2597\n"
     ]
    },
    {
     "name": "stderr",
     "output_type": "stream",
     "text": [
      "100%|██████████| 1250/1250 [00:24<00:00, 50.55it/s]\n",
      "100%|██████████| 1125/1125 [00:09<00:00, 124.88it/s]\n"
     ]
    },
    {
     "name": "stdout",
     "output_type": "stream",
     "text": [
      "EPOCH 13: Train acc: 79.67% Train Loss: 0.5295 Test acc: 58.29% Test Loss: 2.3951\n"
     ]
    },
    {
     "name": "stderr",
     "output_type": "stream",
     "text": [
      "100%|██████████| 1250/1250 [00:24<00:00, 50.08it/s]\n",
      "100%|██████████| 1125/1125 [00:09<00:00, 124.76it/s]\n"
     ]
    },
    {
     "name": "stdout",
     "output_type": "stream",
     "text": [
      "EPOCH 14: Train acc: 80.66% Train Loss: 0.5151 Test acc: 60.44% Test Loss: 2.0038\n",
      "Saved best parameters at epoch 14\n"
     ]
    },
    {
     "name": "stderr",
     "output_type": "stream",
     "text": [
      "100%|██████████| 1250/1250 [00:24<00:00, 50.76it/s]\n",
      "100%|██████████| 1125/1125 [00:08<00:00, 125.71it/s]\n"
     ]
    },
    {
     "name": "stdout",
     "output_type": "stream",
     "text": [
      "EPOCH 15: Train acc: 80.44% Train Loss: 0.5024 Test acc: 53.78% Test Loss: 2.5027\n"
     ]
    },
    {
     "name": "stderr",
     "output_type": "stream",
     "text": [
      "100%|██████████| 1250/1250 [00:24<00:00, 50.73it/s]\n",
      "100%|██████████| 1125/1125 [00:09<00:00, 124.99it/s]\n"
     ]
    },
    {
     "name": "stdout",
     "output_type": "stream",
     "text": [
      "EPOCH 16: Train acc: 81.31% Train Loss: 0.4832 Test acc: 58.17% Test Loss: 2.1771\n"
     ]
    },
    {
     "name": "stderr",
     "output_type": "stream",
     "text": [
      "100%|██████████| 1250/1250 [00:25<00:00, 49.38it/s]\n",
      "100%|██████████| 1125/1125 [00:09<00:00, 124.71it/s]\n"
     ]
    },
    {
     "name": "stdout",
     "output_type": "stream",
     "text": [
      "EPOCH 17: Train acc: 81.50% Train Loss: 0.4762 Test acc: 61.17% Test Loss: 2.1160\n",
      "Saved best parameters at epoch 17\n"
     ]
    },
    {
     "name": "stderr",
     "output_type": "stream",
     "text": [
      "100%|██████████| 1250/1250 [00:25<00:00, 49.15it/s]\n",
      "100%|██████████| 1125/1125 [00:08<00:00, 125.08it/s]\n"
     ]
    },
    {
     "name": "stdout",
     "output_type": "stream",
     "text": [
      "EPOCH 18: Train acc: 82.24% Train Loss: 0.4625 Test acc: 60.19% Test Loss: 2.3184\n"
     ]
    },
    {
     "name": "stderr",
     "output_type": "stream",
     "text": [
      "100%|██████████| 1250/1250 [00:24<00:00, 50.70it/s]\n",
      "100%|██████████| 1125/1125 [00:09<00:00, 123.79it/s]\n"
     ]
    },
    {
     "name": "stdout",
     "output_type": "stream",
     "text": [
      "EPOCH 19: Train acc: 82.30% Train Loss: 0.4654 Test acc: 62.28% Test Loss: 2.0741\n",
      "Saved best parameters at epoch 19\n"
     ]
    },
    {
     "name": "stderr",
     "output_type": "stream",
     "text": [
      "100%|██████████| 1250/1250 [00:24<00:00, 51.26it/s]\n",
      "100%|██████████| 1125/1125 [00:08<00:00, 126.07it/s]\n"
     ]
    },
    {
     "name": "stdout",
     "output_type": "stream",
     "text": [
      "EPOCH 20: Train acc: 82.16% Train Loss: 0.4606 Test acc: 59.33% Test Loss: 2.1381\n"
     ]
    },
    {
     "name": "stderr",
     "output_type": "stream",
     "text": [
      "100%|██████████| 1250/1250 [00:25<00:00, 49.87it/s]\n",
      "100%|██████████| 1125/1125 [00:08<00:00, 125.32it/s]\n"
     ]
    },
    {
     "name": "stdout",
     "output_type": "stream",
     "text": [
      "EPOCH 21: Train acc: 82.92% Train Loss: 0.4450 Test acc: 61.21% Test Loss: 2.2683\n"
     ]
    },
    {
     "name": "stderr",
     "output_type": "stream",
     "text": [
      "100%|██████████| 1250/1250 [00:24<00:00, 51.97it/s]\n",
      "100%|██████████| 1125/1125 [00:08<00:00, 125.07it/s]\n"
     ]
    },
    {
     "name": "stdout",
     "output_type": "stream",
     "text": [
      "EPOCH 22: Train acc: 83.22% Train Loss: 0.4392 Test acc: 61.44% Test Loss: 1.9736\n"
     ]
    },
    {
     "name": "stderr",
     "output_type": "stream",
     "text": [
      "100%|██████████| 1250/1250 [00:24<00:00, 51.92it/s]\n",
      "100%|██████████| 1125/1125 [00:08<00:00, 125.29it/s]\n"
     ]
    },
    {
     "name": "stdout",
     "output_type": "stream",
     "text": [
      "EPOCH 23: Train acc: 83.76% Train Loss: 0.4176 Test acc: 61.62% Test Loss: 2.1403\n"
     ]
    },
    {
     "name": "stderr",
     "output_type": "stream",
     "text": [
      "100%|██████████| 1250/1250 [00:24<00:00, 50.38it/s]\n",
      "100%|██████████| 1125/1125 [00:09<00:00, 124.99it/s]\n"
     ]
    },
    {
     "name": "stdout",
     "output_type": "stream",
     "text": [
      "EPOCH 24: Train acc: 83.86% Train Loss: 0.4195 Test acc: 62.66% Test Loss: 2.1319\n",
      "Saved best parameters at epoch 24\n"
     ]
    },
    {
     "name": "stderr",
     "output_type": "stream",
     "text": [
      "100%|██████████| 1250/1250 [00:24<00:00, 50.34it/s]\n",
      "100%|██████████| 1125/1125 [00:09<00:00, 124.82it/s]\n"
     ]
    },
    {
     "name": "stdout",
     "output_type": "stream",
     "text": [
      "EPOCH 25: Train acc: 84.33% Train Loss: 0.4087 Test acc: 61.16% Test Loss: 2.2086\n"
     ]
    },
    {
     "name": "stderr",
     "output_type": "stream",
     "text": [
      "100%|██████████| 1250/1250 [00:24<00:00, 50.59it/s]\n",
      "100%|██████████| 1125/1125 [00:09<00:00, 124.95it/s]\n"
     ]
    },
    {
     "name": "stdout",
     "output_type": "stream",
     "text": [
      "EPOCH 26: Train acc: 84.04% Train Loss: 0.4072 Test acc: 62.41% Test Loss: 2.1557\n"
     ]
    },
    {
     "name": "stderr",
     "output_type": "stream",
     "text": [
      "100%|██████████| 1250/1250 [00:24<00:00, 50.35it/s]\n",
      "100%|██████████| 1125/1125 [00:09<00:00, 124.27it/s]\n"
     ]
    },
    {
     "name": "stdout",
     "output_type": "stream",
     "text": [
      "EPOCH 27: Train acc: 84.86% Train Loss: 0.3968 Test acc: 63.63% Test Loss: 2.1012\n",
      "Saved best parameters at epoch 27\n"
     ]
    },
    {
     "name": "stderr",
     "output_type": "stream",
     "text": [
      "100%|██████████| 1250/1250 [00:25<00:00, 49.67it/s]\n",
      "100%|██████████| 1125/1125 [00:08<00:00, 125.06it/s]\n"
     ]
    },
    {
     "name": "stdout",
     "output_type": "stream",
     "text": [
      "EPOCH 28: Train acc: 84.87% Train Loss: 0.3917 Test acc: 63.74% Test Loss: 2.0746\n",
      "Saved best parameters at epoch 28\n"
     ]
    },
    {
     "name": "stderr",
     "output_type": "stream",
     "text": [
      "100%|██████████| 1250/1250 [00:25<00:00, 49.35it/s]\n",
      "100%|██████████| 1125/1125 [00:08<00:00, 125.30it/s]\n"
     ]
    },
    {
     "name": "stdout",
     "output_type": "stream",
     "text": [
      "EPOCH 29: Train acc: 84.63% Train Loss: 0.3954 Test acc: 63.60% Test Loss: 2.0621\n"
     ]
    },
    {
     "name": "stderr",
     "output_type": "stream",
     "text": [
      "100%|██████████| 1250/1250 [00:24<00:00, 51.44it/s]\n",
      "100%|██████████| 1125/1125 [00:09<00:00, 123.91it/s]\n"
     ]
    },
    {
     "name": "stdout",
     "output_type": "stream",
     "text": [
      "EPOCH 30: Train acc: 85.05% Train Loss: 0.3826 Test acc: 62.79% Test Loss: 2.2321\n"
     ]
    },
    {
     "name": "stderr",
     "output_type": "stream",
     "text": [
      "100%|██████████| 1250/1250 [00:25<00:00, 49.69it/s]\n",
      "100%|██████████| 1125/1125 [00:08<00:00, 125.21it/s]\n"
     ]
    },
    {
     "name": "stdout",
     "output_type": "stream",
     "text": [
      "EPOCH 31: Train acc: 85.09% Train Loss: 0.3865 Test acc: 62.66% Test Loss: 2.2277\n"
     ]
    },
    {
     "name": "stderr",
     "output_type": "stream",
     "text": [
      "100%|██████████| 1250/1250 [00:24<00:00, 51.29it/s]\n",
      "100%|██████████| 1125/1125 [00:09<00:00, 124.80it/s]\n"
     ]
    },
    {
     "name": "stdout",
     "output_type": "stream",
     "text": [
      "EPOCH 32: Train acc: 85.50% Train Loss: 0.3709 Test acc: 61.69% Test Loss: 2.0593\n"
     ]
    },
    {
     "name": "stderr",
     "output_type": "stream",
     "text": [
      "100%|██████████| 1250/1250 [00:24<00:00, 50.32it/s]\n",
      "100%|██████████| 1125/1125 [00:09<00:00, 124.42it/s]\n"
     ]
    },
    {
     "name": "stdout",
     "output_type": "stream",
     "text": [
      "EPOCH 33: Train acc: 85.61% Train Loss: 0.3678 Test acc: 62.07% Test Loss: 2.1254\n"
     ]
    },
    {
     "name": "stderr",
     "output_type": "stream",
     "text": [
      "100%|██████████| 1250/1250 [00:24<00:00, 50.29it/s]\n",
      "100%|██████████| 1125/1125 [00:09<00:00, 124.35it/s]\n"
     ]
    },
    {
     "name": "stdout",
     "output_type": "stream",
     "text": [
      "EPOCH 34: Train acc: 85.77% Train Loss: 0.3649 Test acc: 65.34% Test Loss: 1.9971\n",
      "Saved best parameters at epoch 34\n"
     ]
    },
    {
     "name": "stderr",
     "output_type": "stream",
     "text": [
      "100%|██████████| 1250/1250 [00:24<00:00, 50.35it/s]\n",
      "100%|██████████| 1125/1125 [00:08<00:00, 125.42it/s]\n"
     ]
    },
    {
     "name": "stdout",
     "output_type": "stream",
     "text": [
      "EPOCH 35: Train acc: 86.03% Train Loss: 0.3553 Test acc: 62.74% Test Loss: 2.2400\n"
     ]
    },
    {
     "name": "stderr",
     "output_type": "stream",
     "text": [
      "100%|██████████| 1250/1250 [00:24<00:00, 50.63it/s]\n",
      "100%|██████████| 1125/1125 [00:08<00:00, 125.06it/s]\n"
     ]
    },
    {
     "name": "stdout",
     "output_type": "stream",
     "text": [
      "EPOCH 36: Train acc: 86.82% Train Loss: 0.3492 Test acc: 62.53% Test Loss: 2.2480\n"
     ]
    },
    {
     "name": "stderr",
     "output_type": "stream",
     "text": [
      "100%|██████████| 1250/1250 [00:24<00:00, 50.10it/s]\n",
      "100%|██████████| 1125/1125 [00:09<00:00, 124.19it/s]\n"
     ]
    },
    {
     "name": "stdout",
     "output_type": "stream",
     "text": [
      "EPOCH 37: Train acc: 86.28% Train Loss: 0.3570 Test acc: 64.98% Test Loss: 2.2843\n"
     ]
    },
    {
     "name": "stderr",
     "output_type": "stream",
     "text": [
      "100%|██████████| 1250/1250 [00:24<00:00, 50.24it/s]\n",
      "100%|██████████| 1125/1125 [00:08<00:00, 125.82it/s]\n"
     ]
    },
    {
     "name": "stdout",
     "output_type": "stream",
     "text": [
      "EPOCH 38: Train acc: 86.08% Train Loss: 0.3474 Test acc: 64.38% Test Loss: 2.1644\n"
     ]
    },
    {
     "name": "stderr",
     "output_type": "stream",
     "text": [
      "100%|██████████| 1250/1250 [00:24<00:00, 50.19it/s]\n",
      "100%|██████████| 1125/1125 [00:09<00:00, 123.41it/s]\n"
     ]
    },
    {
     "name": "stdout",
     "output_type": "stream",
     "text": [
      "EPOCH 39: Train acc: 86.74% Train Loss: 0.3390 Test acc: 64.53% Test Loss: 2.2520\n"
     ]
    },
    {
     "name": "stderr",
     "output_type": "stream",
     "text": [
      "100%|██████████| 1250/1250 [00:24<00:00, 50.89it/s]\n",
      "100%|██████████| 1125/1125 [00:09<00:00, 124.61it/s]\n"
     ]
    },
    {
     "name": "stdout",
     "output_type": "stream",
     "text": [
      "EPOCH 40: Train acc: 86.71% Train Loss: 0.3377 Test acc: 62.96% Test Loss: 2.2303\n"
     ]
    },
    {
     "name": "stderr",
     "output_type": "stream",
     "text": [
      "100%|██████████| 1250/1250 [00:25<00:00, 49.55it/s]\n",
      "100%|██████████| 1125/1125 [00:09<00:00, 124.68it/s]\n"
     ]
    },
    {
     "name": "stdout",
     "output_type": "stream",
     "text": [
      "EPOCH 41: Train acc: 86.63% Train Loss: 0.3342 Test acc: 64.96% Test Loss: 2.1462\n"
     ]
    },
    {
     "name": "stderr",
     "output_type": "stream",
     "text": [
      "100%|██████████| 1250/1250 [00:24<00:00, 51.28it/s]\n",
      "100%|██████████| 1125/1125 [00:09<00:00, 124.15it/s]\n"
     ]
    },
    {
     "name": "stdout",
     "output_type": "stream",
     "text": [
      "EPOCH 42: Train acc: 87.45% Train Loss: 0.3284 Test acc: 63.64% Test Loss: 2.1652\n"
     ]
    },
    {
     "name": "stderr",
     "output_type": "stream",
     "text": [
      "100%|██████████| 1250/1250 [00:25<00:00, 49.63it/s]\n",
      "100%|██████████| 1125/1125 [00:08<00:00, 125.28it/s]\n"
     ]
    },
    {
     "name": "stdout",
     "output_type": "stream",
     "text": [
      "EPOCH 43: Train acc: 87.47% Train Loss: 0.3205 Test acc: 63.56% Test Loss: 2.1623\n"
     ]
    },
    {
     "name": "stderr",
     "output_type": "stream",
     "text": [
      "100%|██████████| 1250/1250 [00:25<00:00, 49.63it/s]\n",
      "100%|██████████| 1125/1125 [00:09<00:00, 124.88it/s]\n"
     ]
    },
    {
     "name": "stdout",
     "output_type": "stream",
     "text": [
      "EPOCH 44: Train acc: 87.58% Train Loss: 0.3191 Test acc: 60.18% Test Loss: 2.3771\n"
     ]
    },
    {
     "name": "stderr",
     "output_type": "stream",
     "text": [
      "100%|██████████| 1250/1250 [00:25<00:00, 49.98it/s]\n",
      "100%|██████████| 1125/1125 [00:09<00:00, 124.29it/s]\n"
     ]
    },
    {
     "name": "stdout",
     "output_type": "stream",
     "text": [
      "EPOCH 45: Train acc: 87.71% Train Loss: 0.3070 Test acc: 63.61% Test Loss: 2.1168\n"
     ]
    },
    {
     "name": "stderr",
     "output_type": "stream",
     "text": [
      "100%|██████████| 1250/1250 [00:24<00:00, 50.48it/s]\n",
      "100%|██████████| 1125/1125 [00:08<00:00, 125.16it/s]\n"
     ]
    },
    {
     "name": "stdout",
     "output_type": "stream",
     "text": [
      "EPOCH 46: Train acc: 87.59% Train Loss: 0.3200 Test acc: 65.17% Test Loss: 2.0959\n"
     ]
    },
    {
     "name": "stderr",
     "output_type": "stream",
     "text": [
      "100%|██████████| 1250/1250 [00:24<00:00, 51.72it/s]\n",
      "100%|██████████| 1125/1125 [00:09<00:00, 124.15it/s]\n"
     ]
    },
    {
     "name": "stdout",
     "output_type": "stream",
     "text": [
      "EPOCH 47: Train acc: 88.10% Train Loss: 0.3068 Test acc: 65.87% Test Loss: 2.0381\n",
      "Saved best parameters at epoch 47\n"
     ]
    },
    {
     "name": "stderr",
     "output_type": "stream",
     "text": [
      "100%|██████████| 1250/1250 [00:24<00:00, 50.58it/s]\n",
      "100%|██████████| 1125/1125 [00:08<00:00, 125.36it/s]\n"
     ]
    },
    {
     "name": "stdout",
     "output_type": "stream",
     "text": [
      "EPOCH 48: Train acc: 88.37% Train Loss: 0.3029 Test acc: 63.33% Test Loss: 2.1308\n"
     ]
    },
    {
     "name": "stderr",
     "output_type": "stream",
     "text": [
      "100%|██████████| 1250/1250 [00:25<00:00, 49.75it/s]\n",
      "100%|██████████| 1125/1125 [00:09<00:00, 124.65it/s]\n"
     ]
    },
    {
     "name": "stdout",
     "output_type": "stream",
     "text": [
      "EPOCH 49: Train acc: 88.04% Train Loss: 0.3002 Test acc: 65.53% Test Loss: 1.9641\n"
     ]
    },
    {
     "name": "stderr",
     "output_type": "stream",
     "text": [
      "100%|██████████| 1250/1250 [00:24<00:00, 50.67it/s]\n",
      "100%|██████████| 1125/1125 [00:09<00:00, 123.98it/s]\n"
     ]
    },
    {
     "name": "stdout",
     "output_type": "stream",
     "text": [
      "EPOCH 50: Train acc: 88.18% Train Loss: 0.3030 Test acc: 65.68% Test Loss: 2.0256\n"
     ]
    },
    {
     "name": "stderr",
     "output_type": "stream",
     "text": [
      "100%|██████████| 1250/1250 [00:24<00:00, 50.65it/s]\n",
      "100%|██████████| 1125/1125 [00:08<00:00, 125.91it/s]\n"
     ]
    },
    {
     "name": "stdout",
     "output_type": "stream",
     "text": [
      "EPOCH 51: Train acc: 89.49% Train Loss: 0.2656 Test acc: 65.59% Test Loss: 2.0855\n"
     ]
    },
    {
     "name": "stderr",
     "output_type": "stream",
     "text": [
      "100%|██████████| 1250/1250 [00:25<00:00, 49.91it/s]\n",
      "100%|██████████| 1125/1125 [00:08<00:00, 125.25it/s]\n"
     ]
    },
    {
     "name": "stdout",
     "output_type": "stream",
     "text": [
      "EPOCH 52: Train acc: 89.81% Train Loss: 0.2597 Test acc: 67.00% Test Loss: 1.9951\n",
      "Saved best parameters at epoch 52\n"
     ]
    },
    {
     "name": "stderr",
     "output_type": "stream",
     "text": [
      "100%|██████████| 1250/1250 [00:24<00:00, 51.47it/s]\n",
      "100%|██████████| 1125/1125 [00:09<00:00, 124.41it/s]\n"
     ]
    },
    {
     "name": "stdout",
     "output_type": "stream",
     "text": [
      "EPOCH 53: Train acc: 89.89% Train Loss: 0.2530 Test acc: 66.00% Test Loss: 2.1132\n"
     ]
    },
    {
     "name": "stderr",
     "output_type": "stream",
     "text": [
      "100%|██████████| 1250/1250 [00:24<00:00, 50.63it/s]\n",
      "100%|██████████| 1125/1125 [00:09<00:00, 124.46it/s]\n"
     ]
    },
    {
     "name": "stdout",
     "output_type": "stream",
     "text": [
      "EPOCH 54: Train acc: 89.90% Train Loss: 0.2598 Test acc: 64.33% Test Loss: 2.2026\n"
     ]
    },
    {
     "name": "stderr",
     "output_type": "stream",
     "text": [
      "100%|██████████| 1250/1250 [00:24<00:00, 51.05it/s]\n",
      "100%|██████████| 1125/1125 [00:08<00:00, 125.15it/s]\n"
     ]
    },
    {
     "name": "stdout",
     "output_type": "stream",
     "text": [
      "EPOCH 55: Train acc: 89.72% Train Loss: 0.2553 Test acc: 65.60% Test Loss: 2.0662\n"
     ]
    },
    {
     "name": "stderr",
     "output_type": "stream",
     "text": [
      "100%|██████████| 1250/1250 [00:24<00:00, 50.22it/s]\n",
      "100%|██████████| 1125/1125 [00:09<00:00, 124.44it/s]\n"
     ]
    },
    {
     "name": "stdout",
     "output_type": "stream",
     "text": [
      "EPOCH 56: Train acc: 89.77% Train Loss: 0.2585 Test acc: 65.91% Test Loss: 2.0478\n"
     ]
    },
    {
     "name": "stderr",
     "output_type": "stream",
     "text": [
      "100%|██████████| 1250/1250 [00:24<00:00, 50.91it/s]\n",
      "100%|██████████| 1125/1125 [00:09<00:00, 124.79it/s]\n"
     ]
    },
    {
     "name": "stdout",
     "output_type": "stream",
     "text": [
      "EPOCH 57: Train acc: 90.31% Train Loss: 0.2476 Test acc: 66.06% Test Loss: 2.0757\n"
     ]
    },
    {
     "name": "stderr",
     "output_type": "stream",
     "text": [
      "100%|██████████| 1250/1250 [00:24<00:00, 50.93it/s]\n",
      "100%|██████████| 1125/1125 [00:09<00:00, 124.04it/s]\n"
     ]
    },
    {
     "name": "stdout",
     "output_type": "stream",
     "text": [
      "EPOCH 58: Train acc: 90.28% Train Loss: 0.2473 Test acc: 66.89% Test Loss: 2.0307\n"
     ]
    },
    {
     "name": "stderr",
     "output_type": "stream",
     "text": [
      "100%|██████████| 1250/1250 [00:25<00:00, 49.54it/s]\n",
      "100%|██████████| 1125/1125 [00:08<00:00, 125.51it/s]\n"
     ]
    },
    {
     "name": "stdout",
     "output_type": "stream",
     "text": [
      "EPOCH 59: Train acc: 90.38% Train Loss: 0.2434 Test acc: 66.28% Test Loss: 2.1143\n"
     ]
    },
    {
     "name": "stderr",
     "output_type": "stream",
     "text": [
      "100%|██████████| 1250/1250 [00:24<00:00, 50.30it/s]\n",
      "100%|██████████| 1125/1125 [00:08<00:00, 125.24it/s]\n"
     ]
    },
    {
     "name": "stdout",
     "output_type": "stream",
     "text": [
      "EPOCH 60: Train acc: 90.55% Train Loss: 0.2465 Test acc: 64.84% Test Loss: 2.1820\n"
     ]
    },
    {
     "name": "stderr",
     "output_type": "stream",
     "text": [
      "100%|██████████| 1250/1250 [00:24<00:00, 50.42it/s]\n",
      "100%|██████████| 1125/1125 [00:08<00:00, 125.10it/s]\n"
     ]
    },
    {
     "name": "stdout",
     "output_type": "stream",
     "text": [
      "EPOCH 61: Train acc: 90.07% Train Loss: 0.2490 Test acc: 66.12% Test Loss: 2.0658\n"
     ]
    },
    {
     "name": "stderr",
     "output_type": "stream",
     "text": [
      "100%|██████████| 1250/1250 [00:24<00:00, 51.35it/s]\n",
      "100%|██████████| 1125/1125 [00:09<00:00, 124.94it/s]\n"
     ]
    },
    {
     "name": "stdout",
     "output_type": "stream",
     "text": [
      "EPOCH 62: Train acc: 90.29% Train Loss: 0.2535 Test acc: 66.81% Test Loss: 2.0282\n"
     ]
    },
    {
     "name": "stderr",
     "output_type": "stream",
     "text": [
      "100%|██████████| 1250/1250 [00:25<00:00, 48.93it/s]\n",
      "100%|██████████| 1125/1125 [00:08<00:00, 125.37it/s]\n"
     ]
    },
    {
     "name": "stdout",
     "output_type": "stream",
     "text": [
      "EPOCH 63: Train acc: 90.42% Train Loss: 0.2432 Test acc: 65.19% Test Loss: 2.2265\n"
     ]
    },
    {
     "name": "stderr",
     "output_type": "stream",
     "text": [
      "100%|██████████| 1250/1250 [00:25<00:00, 48.95it/s]\n",
      "100%|██████████| 1125/1125 [00:09<00:00, 124.84it/s]\n"
     ]
    },
    {
     "name": "stdout",
     "output_type": "stream",
     "text": [
      "EPOCH 64: Train acc: 90.50% Train Loss: 0.2391 Test acc: 65.36% Test Loss: 2.1503\n"
     ]
    },
    {
     "name": "stderr",
     "output_type": "stream",
     "text": [
      "100%|██████████| 1250/1250 [00:24<00:00, 50.91it/s]\n",
      "100%|██████████| 1125/1125 [00:09<00:00, 124.80it/s]\n"
     ]
    },
    {
     "name": "stdout",
     "output_type": "stream",
     "text": [
      "EPOCH 65: Train acc: 90.41% Train Loss: 0.2446 Test acc: 65.04% Test Loss: 2.1963\n"
     ]
    },
    {
     "name": "stderr",
     "output_type": "stream",
     "text": [
      "100%|██████████| 1250/1250 [00:25<00:00, 49.95it/s]\n",
      "100%|██████████| 1125/1125 [00:09<00:00, 124.92it/s]\n"
     ]
    },
    {
     "name": "stdout",
     "output_type": "stream",
     "text": [
      "EPOCH 66: Train acc: 90.71% Train Loss: 0.2373 Test acc: 65.41% Test Loss: 2.1262\n"
     ]
    },
    {
     "name": "stderr",
     "output_type": "stream",
     "text": [
      "100%|██████████| 1250/1250 [00:24<00:00, 51.49it/s]\n",
      "100%|██████████| 1125/1125 [00:09<00:00, 123.82it/s]\n"
     ]
    },
    {
     "name": "stdout",
     "output_type": "stream",
     "text": [
      "EPOCH 67: Train acc: 90.12% Train Loss: 0.2405 Test acc: 65.64% Test Loss: 2.1719\n"
     ]
    },
    {
     "name": "stderr",
     "output_type": "stream",
     "text": [
      "100%|██████████| 1250/1250 [00:24<00:00, 50.81it/s]\n",
      "100%|██████████| 1125/1125 [00:08<00:00, 125.24it/s]\n"
     ]
    },
    {
     "name": "stdout",
     "output_type": "stream",
     "text": [
      "EPOCH 68: Train acc: 91.25% Train Loss: 0.2287 Test acc: 65.87% Test Loss: 2.1113\n"
     ]
    },
    {
     "name": "stderr",
     "output_type": "stream",
     "text": [
      "100%|██████████| 1250/1250 [00:24<00:00, 50.39it/s]\n",
      "100%|██████████| 1125/1125 [00:09<00:00, 123.83it/s]\n"
     ]
    },
    {
     "name": "stdout",
     "output_type": "stream",
     "text": [
      "EPOCH 69: Train acc: 90.70% Train Loss: 0.2382 Test acc: 66.56% Test Loss: 2.1225\n"
     ]
    },
    {
     "name": "stderr",
     "output_type": "stream",
     "text": [
      "100%|██████████| 1250/1250 [00:24<00:00, 50.86it/s]\n",
      "100%|██████████| 1125/1125 [00:08<00:00, 125.08it/s]\n"
     ]
    },
    {
     "name": "stdout",
     "output_type": "stream",
     "text": [
      "EPOCH 70: Train acc: 90.72% Train Loss: 0.2346 Test acc: 65.79% Test Loss: 2.1462\n"
     ]
    },
    {
     "name": "stderr",
     "output_type": "stream",
     "text": [
      "100%|██████████| 1250/1250 [00:24<00:00, 50.57it/s]\n",
      "100%|██████████| 1125/1125 [00:09<00:00, 123.54it/s]\n"
     ]
    },
    {
     "name": "stdout",
     "output_type": "stream",
     "text": [
      "EPOCH 71: Train acc: 90.69% Train Loss: 0.2408 Test acc: 66.77% Test Loss: 2.0312\n"
     ]
    },
    {
     "name": "stderr",
     "output_type": "stream",
     "text": [
      "100%|██████████| 1250/1250 [00:24<00:00, 50.83it/s]\n",
      "100%|██████████| 1125/1125 [00:08<00:00, 125.31it/s]\n"
     ]
    },
    {
     "name": "stdout",
     "output_type": "stream",
     "text": [
      "EPOCH 72: Train acc: 91.00% Train Loss: 0.2351 Test acc: 66.73% Test Loss: 2.0477\n"
     ]
    },
    {
     "name": "stderr",
     "output_type": "stream",
     "text": [
      "100%|██████████| 1250/1250 [00:24<00:00, 50.18it/s]\n",
      "100%|██████████| 1125/1125 [00:09<00:00, 124.70it/s]\n"
     ]
    },
    {
     "name": "stdout",
     "output_type": "stream",
     "text": [
      "EPOCH 73: Train acc: 90.97% Train Loss: 0.2312 Test acc: 65.77% Test Loss: 2.1001\n"
     ]
    },
    {
     "name": "stderr",
     "output_type": "stream",
     "text": [
      "100%|██████████| 1250/1250 [00:24<00:00, 50.54it/s]\n",
      "100%|██████████| 1125/1125 [00:09<00:00, 124.60it/s]\n"
     ]
    },
    {
     "name": "stdout",
     "output_type": "stream",
     "text": [
      "EPOCH 74: Train acc: 90.54% Train Loss: 0.2361 Test acc: 65.89% Test Loss: 2.1045\n"
     ]
    },
    {
     "name": "stderr",
     "output_type": "stream",
     "text": [
      "100%|██████████| 1250/1250 [00:24<00:00, 51.72it/s]\n",
      "100%|██████████| 1125/1125 [00:09<00:00, 124.85it/s]\n"
     ]
    },
    {
     "name": "stdout",
     "output_type": "stream",
     "text": [
      "EPOCH 75: Train acc: 90.93% Train Loss: 0.2315 Test acc: 65.78% Test Loss: 2.1039\n"
     ]
    },
    {
     "name": "stderr",
     "output_type": "stream",
     "text": [
      "100%|██████████| 1250/1250 [00:24<00:00, 50.70it/s]\n",
      "100%|██████████| 1125/1125 [00:09<00:00, 124.49it/s]\n"
     ]
    },
    {
     "name": "stdout",
     "output_type": "stream",
     "text": [
      "EPOCH 76: Train acc: 90.66% Train Loss: 0.2338 Test acc: 66.50% Test Loss: 2.0487\n"
     ]
    },
    {
     "name": "stderr",
     "output_type": "stream",
     "text": [
      "100%|██████████| 1250/1250 [00:24<00:00, 50.91it/s]\n",
      "100%|██████████| 1125/1125 [00:09<00:00, 123.45it/s]\n"
     ]
    },
    {
     "name": "stdout",
     "output_type": "stream",
     "text": [
      "EPOCH 77: Train acc: 91.11% Train Loss: 0.2313 Test acc: 67.16% Test Loss: 1.9812\n",
      "Saved best parameters at epoch 77\n"
     ]
    },
    {
     "name": "stderr",
     "output_type": "stream",
     "text": [
      "100%|██████████| 1250/1250 [00:25<00:00, 49.65it/s]\n",
      "100%|██████████| 1125/1125 [00:09<00:00, 124.31it/s]\n"
     ]
    },
    {
     "name": "stdout",
     "output_type": "stream",
     "text": [
      "EPOCH 78: Train acc: 91.09% Train Loss: 0.2315 Test acc: 66.28% Test Loss: 2.1014\n"
     ]
    },
    {
     "name": "stderr",
     "output_type": "stream",
     "text": [
      "100%|██████████| 1250/1250 [00:24<00:00, 51.04it/s]\n",
      "100%|██████████| 1125/1125 [00:09<00:00, 124.25it/s]\n"
     ]
    },
    {
     "name": "stdout",
     "output_type": "stream",
     "text": [
      "EPOCH 79: Train acc: 90.94% Train Loss: 0.2310 Test acc: 65.17% Test Loss: 2.1702\n"
     ]
    },
    {
     "name": "stderr",
     "output_type": "stream",
     "text": [
      "100%|██████████| 1250/1250 [00:24<00:00, 51.63it/s]\n",
      "100%|██████████| 1125/1125 [00:09<00:00, 124.78it/s]\n"
     ]
    },
    {
     "name": "stdout",
     "output_type": "stream",
     "text": [
      "EPOCH 80: Train acc: 90.83% Train Loss: 0.2284 Test acc: 66.67% Test Loss: 2.1739\n"
     ]
    },
    {
     "name": "stderr",
     "output_type": "stream",
     "text": [
      "100%|██████████| 1250/1250 [00:24<00:00, 51.62it/s]\n",
      "100%|██████████| 1125/1125 [00:09<00:00, 124.87it/s]\n"
     ]
    },
    {
     "name": "stdout",
     "output_type": "stream",
     "text": [
      "EPOCH 81: Train acc: 91.06% Train Loss: 0.2269 Test acc: 65.69% Test Loss: 2.1040\n"
     ]
    },
    {
     "name": "stderr",
     "output_type": "stream",
     "text": [
      "100%|██████████| 1250/1250 [00:24<00:00, 50.61it/s]\n",
      "100%|██████████| 1125/1125 [00:08<00:00, 125.08it/s]\n"
     ]
    },
    {
     "name": "stdout",
     "output_type": "stream",
     "text": [
      "EPOCH 82: Train acc: 90.56% Train Loss: 0.2369 Test acc: 67.33% Test Loss: 2.0278\n",
      "Saved best parameters at epoch 82\n"
     ]
    },
    {
     "name": "stderr",
     "output_type": "stream",
     "text": [
      "100%|██████████| 1250/1250 [00:24<00:00, 50.32it/s]\n",
      "100%|██████████| 1125/1125 [00:09<00:00, 124.33it/s]\n"
     ]
    },
    {
     "name": "stdout",
     "output_type": "stream",
     "text": [
      "EPOCH 83: Train acc: 90.88% Train Loss: 0.2325 Test acc: 65.64% Test Loss: 2.1218\n"
     ]
    },
    {
     "name": "stderr",
     "output_type": "stream",
     "text": [
      "100%|██████████| 1250/1250 [00:24<00:00, 50.35it/s]\n",
      "100%|██████████| 1125/1125 [00:09<00:00, 124.64it/s]\n"
     ]
    },
    {
     "name": "stdout",
     "output_type": "stream",
     "text": [
      "EPOCH 84: Train acc: 90.98% Train Loss: 0.2275 Test acc: 66.17% Test Loss: 2.0721\n"
     ]
    },
    {
     "name": "stderr",
     "output_type": "stream",
     "text": [
      "100%|██████████| 1250/1250 [00:24<00:00, 50.33it/s]\n",
      "100%|██████████| 1125/1125 [00:08<00:00, 125.50it/s]\n"
     ]
    },
    {
     "name": "stdout",
     "output_type": "stream",
     "text": [
      "EPOCH 85: Train acc: 90.86% Train Loss: 0.2299 Test acc: 65.60% Test Loss: 2.0664\n"
     ]
    },
    {
     "name": "stderr",
     "output_type": "stream",
     "text": [
      "100%|██████████| 1250/1250 [00:25<00:00, 49.90it/s]\n",
      "100%|██████████| 1125/1125 [00:09<00:00, 124.95it/s]\n"
     ]
    },
    {
     "name": "stdout",
     "output_type": "stream",
     "text": [
      "EPOCH 86: Train acc: 91.28% Train Loss: 0.2211 Test acc: 66.20% Test Loss: 2.0760\n"
     ]
    },
    {
     "name": "stderr",
     "output_type": "stream",
     "text": [
      "100%|██████████| 1250/1250 [00:24<00:00, 51.08it/s]\n",
      "100%|██████████| 1125/1125 [00:09<00:00, 124.39it/s]\n"
     ]
    },
    {
     "name": "stdout",
     "output_type": "stream",
     "text": [
      "EPOCH 87: Train acc: 91.04% Train Loss: 0.2281 Test acc: 65.73% Test Loss: 2.1000\n"
     ]
    },
    {
     "name": "stderr",
     "output_type": "stream",
     "text": [
      "100%|██████████| 1250/1250 [00:24<00:00, 50.91it/s]\n",
      "100%|██████████| 1125/1125 [00:09<00:00, 124.55it/s]\n"
     ]
    },
    {
     "name": "stdout",
     "output_type": "stream",
     "text": [
      "EPOCH 88: Train acc: 91.30% Train Loss: 0.2253 Test acc: 66.36% Test Loss: 2.1088\n"
     ]
    },
    {
     "name": "stderr",
     "output_type": "stream",
     "text": [
      "100%|██████████| 1250/1250 [00:24<00:00, 50.79it/s]\n",
      "100%|██████████| 1125/1125 [00:09<00:00, 124.59it/s]\n"
     ]
    },
    {
     "name": "stdout",
     "output_type": "stream",
     "text": [
      "EPOCH 89: Train acc: 90.93% Train Loss: 0.2297 Test acc: 65.54% Test Loss: 2.1012\n"
     ]
    },
    {
     "name": "stderr",
     "output_type": "stream",
     "text": [
      "100%|██████████| 1250/1250 [00:24<00:00, 50.77it/s]\n",
      "100%|██████████| 1125/1125 [00:09<00:00, 124.22it/s]\n"
     ]
    },
    {
     "name": "stdout",
     "output_type": "stream",
     "text": [
      "EPOCH 90: Train acc: 91.56% Train Loss: 0.2213 Test acc: 65.77% Test Loss: 2.1275\n"
     ]
    },
    {
     "name": "stderr",
     "output_type": "stream",
     "text": [
      "100%|██████████| 1250/1250 [00:24<00:00, 50.16it/s]\n",
      "100%|██████████| 1125/1125 [00:09<00:00, 124.10it/s]\n"
     ]
    },
    {
     "name": "stdout",
     "output_type": "stream",
     "text": [
      "EPOCH 91: Train acc: 91.39% Train Loss: 0.2207 Test acc: 65.77% Test Loss: 2.1100\n"
     ]
    },
    {
     "name": "stderr",
     "output_type": "stream",
     "text": [
      "100%|██████████| 1250/1250 [00:24<00:00, 50.67it/s]\n",
      "100%|██████████| 1125/1125 [00:09<00:00, 124.34it/s]\n"
     ]
    },
    {
     "name": "stdout",
     "output_type": "stream",
     "text": [
      "EPOCH 92: Train acc: 91.38% Train Loss: 0.2204 Test acc: 64.33% Test Loss: 2.2703\n"
     ]
    },
    {
     "name": "stderr",
     "output_type": "stream",
     "text": [
      "100%|██████████| 1250/1250 [00:24<00:00, 50.33it/s]\n",
      "100%|██████████| 1125/1125 [00:08<00:00, 126.14it/s]\n"
     ]
    },
    {
     "name": "stdout",
     "output_type": "stream",
     "text": [
      "EPOCH 93: Train acc: 91.27% Train Loss: 0.2231 Test acc: 65.81% Test Loss: 2.1910\n"
     ]
    },
    {
     "name": "stderr",
     "output_type": "stream",
     "text": [
      "100%|██████████| 1250/1250 [00:24<00:00, 51.16it/s]\n",
      "100%|██████████| 1125/1125 [00:08<00:00, 125.02it/s]\n"
     ]
    },
    {
     "name": "stdout",
     "output_type": "stream",
     "text": [
      "EPOCH 94: Train acc: 91.10% Train Loss: 0.2224 Test acc: 65.06% Test Loss: 2.2340\n"
     ]
    },
    {
     "name": "stderr",
     "output_type": "stream",
     "text": [
      "100%|██████████| 1250/1250 [00:24<00:00, 51.03it/s]\n",
      "100%|██████████| 1125/1125 [00:08<00:00, 125.15it/s]\n"
     ]
    },
    {
     "name": "stdout",
     "output_type": "stream",
     "text": [
      "EPOCH 95: Train acc: 91.40% Train Loss: 0.2200 Test acc: 65.81% Test Loss: 2.1590\n"
     ]
    },
    {
     "name": "stderr",
     "output_type": "stream",
     "text": [
      "100%|██████████| 1250/1250 [00:24<00:00, 51.62it/s]\n",
      "100%|██████████| 1125/1125 [00:09<00:00, 124.80it/s]\n"
     ]
    },
    {
     "name": "stdout",
     "output_type": "stream",
     "text": [
      "EPOCH 96: Train acc: 91.34% Train Loss: 0.2159 Test acc: 65.11% Test Loss: 2.2606\n"
     ]
    },
    {
     "name": "stderr",
     "output_type": "stream",
     "text": [
      "100%|██████████| 1250/1250 [00:24<00:00, 50.86it/s]\n",
      "100%|██████████| 1125/1125 [00:09<00:00, 124.19it/s]\n"
     ]
    },
    {
     "name": "stdout",
     "output_type": "stream",
     "text": [
      "EPOCH 97: Train acc: 91.12% Train Loss: 0.2249 Test acc: 64.97% Test Loss: 2.3036\n"
     ]
    },
    {
     "name": "stderr",
     "output_type": "stream",
     "text": [
      "100%|██████████| 1250/1250 [00:24<00:00, 50.22it/s]\n",
      "100%|██████████| 1125/1125 [00:08<00:00, 125.65it/s]\n"
     ]
    },
    {
     "name": "stdout",
     "output_type": "stream",
     "text": [
      "EPOCH 98: Train acc: 91.48% Train Loss: 0.2188 Test acc: 65.67% Test Loss: 2.2180\n"
     ]
    },
    {
     "name": "stderr",
     "output_type": "stream",
     "text": [
      "100%|██████████| 1250/1250 [00:24<00:00, 51.46it/s]\n",
      "100%|██████████| 1125/1125 [00:08<00:00, 125.76it/s]\n"
     ]
    },
    {
     "name": "stdout",
     "output_type": "stream",
     "text": [
      "EPOCH 99: Train acc: 91.36% Train Loss: 0.2198 Test acc: 65.27% Test Loss: 2.1707\n"
     ]
    },
    {
     "name": "stderr",
     "output_type": "stream",
     "text": [
      "100%|██████████| 1250/1250 [00:24<00:00, 51.34it/s]\n",
      "100%|██████████| 1125/1125 [00:09<00:00, 123.60it/s]\n"
     ]
    },
    {
     "name": "stdout",
     "output_type": "stream",
     "text": [
      "EPOCH 100: Train acc: 91.32% Train Loss: 0.2168 Test acc: 65.61% Test Loss: 2.1956\n"
     ]
    },
    {
     "name": "stderr",
     "output_type": "stream",
     "text": [
      "100%|██████████| 1250/1250 [00:25<00:00, 48.78it/s]\n",
      "100%|██████████| 1125/1125 [00:09<00:00, 124.98it/s]\n"
     ]
    },
    {
     "name": "stdout",
     "output_type": "stream",
     "text": [
      "EPOCH 101: Train acc: 91.46% Train Loss: 0.2189 Test acc: 66.31% Test Loss: 2.1288\n"
     ]
    },
    {
     "name": "stderr",
     "output_type": "stream",
     "text": [
      "100%|██████████| 1250/1250 [00:24<00:00, 51.69it/s]\n",
      "100%|██████████| 1125/1125 [00:08<00:00, 125.12it/s]\n"
     ]
    },
    {
     "name": "stdout",
     "output_type": "stream",
     "text": [
      "EPOCH 102: Train acc: 91.69% Train Loss: 0.2152 Test acc: 64.96% Test Loss: 2.2391\n"
     ]
    },
    {
     "name": "stderr",
     "output_type": "stream",
     "text": [
      "100%|██████████| 1250/1250 [00:24<00:00, 50.21it/s]\n",
      "100%|██████████| 1125/1125 [00:08<00:00, 125.18it/s]\n"
     ]
    },
    {
     "name": "stdout",
     "output_type": "stream",
     "text": [
      "EPOCH 103: Train acc: 91.67% Train Loss: 0.2116 Test acc: 65.29% Test Loss: 2.1902\n"
     ]
    },
    {
     "name": "stderr",
     "output_type": "stream",
     "text": [
      "100%|██████████| 1250/1250 [00:24<00:00, 51.28it/s]\n",
      "100%|██████████| 1125/1125 [00:09<00:00, 123.91it/s]\n"
     ]
    },
    {
     "name": "stdout",
     "output_type": "stream",
     "text": [
      "EPOCH 104: Train acc: 91.63% Train Loss: 0.2155 Test acc: 65.09% Test Loss: 2.2045\n"
     ]
    },
    {
     "name": "stderr",
     "output_type": "stream",
     "text": [
      "100%|██████████| 1250/1250 [00:24<00:00, 50.16it/s]\n",
      "100%|██████████| 1125/1125 [00:09<00:00, 124.99it/s]\n"
     ]
    },
    {
     "name": "stdout",
     "output_type": "stream",
     "text": [
      "EPOCH 105: Train acc: 91.94% Train Loss: 0.2144 Test acc: 64.81% Test Loss: 2.1978\n"
     ]
    },
    {
     "name": "stderr",
     "output_type": "stream",
     "text": [
      "100%|██████████| 1250/1250 [00:24<00:00, 50.96it/s]\n",
      "100%|██████████| 1125/1125 [00:09<00:00, 124.02it/s]\n"
     ]
    },
    {
     "name": "stdout",
     "output_type": "stream",
     "text": [
      "EPOCH 106: Train acc: 91.67% Train Loss: 0.2139 Test acc: 65.56% Test Loss: 2.2480\n"
     ]
    },
    {
     "name": "stderr",
     "output_type": "stream",
     "text": [
      "100%|██████████| 1250/1250 [00:24<00:00, 51.34it/s]\n",
      "100%|██████████| 1125/1125 [00:08<00:00, 125.74it/s]\n"
     ]
    },
    {
     "name": "stdout",
     "output_type": "stream",
     "text": [
      "EPOCH 107: Train acc: 91.58% Train Loss: 0.2148 Test acc: 65.82% Test Loss: 2.1463\n"
     ]
    },
    {
     "name": "stderr",
     "output_type": "stream",
     "text": [
      "100%|██████████| 1250/1250 [00:24<00:00, 50.53it/s]\n",
      "100%|██████████| 1125/1125 [00:08<00:00, 125.19it/s]\n"
     ]
    },
    {
     "name": "stdout",
     "output_type": "stream",
     "text": [
      "EPOCH 108: Train acc: 91.39% Train Loss: 0.2143 Test acc: 66.44% Test Loss: 2.1226\n"
     ]
    },
    {
     "name": "stderr",
     "output_type": "stream",
     "text": [
      "100%|██████████| 1250/1250 [00:24<00:00, 50.37it/s]\n",
      "100%|██████████| 1125/1125 [00:09<00:00, 123.89it/s]\n"
     ]
    },
    {
     "name": "stdout",
     "output_type": "stream",
     "text": [
      "EPOCH 109: Train acc: 91.10% Train Loss: 0.2200 Test acc: 66.42% Test Loss: 2.1388\n"
     ]
    },
    {
     "name": "stderr",
     "output_type": "stream",
     "text": [
      "100%|██████████| 1250/1250 [00:25<00:00, 49.78it/s]\n",
      "100%|██████████| 1125/1125 [00:08<00:00, 125.10it/s]\n"
     ]
    },
    {
     "name": "stdout",
     "output_type": "stream",
     "text": [
      "EPOCH 110: Train acc: 91.53% Train Loss: 0.2121 Test acc: 65.17% Test Loss: 2.2196\n"
     ]
    },
    {
     "name": "stderr",
     "output_type": "stream",
     "text": [
      "100%|██████████| 1250/1250 [00:25<00:00, 48.71it/s]\n",
      "100%|██████████| 1125/1125 [00:08<00:00, 125.07it/s]\n"
     ]
    },
    {
     "name": "stdout",
     "output_type": "stream",
     "text": [
      "EPOCH 111: Train acc: 91.78% Train Loss: 0.2111 Test acc: 63.56% Test Loss: 2.3923\n"
     ]
    },
    {
     "name": "stderr",
     "output_type": "stream",
     "text": [
      "100%|██████████| 1250/1250 [00:24<00:00, 50.36it/s]\n",
      "100%|██████████| 1125/1125 [00:09<00:00, 124.71it/s]\n"
     ]
    },
    {
     "name": "stdout",
     "output_type": "stream",
     "text": [
      "EPOCH 112: Train acc: 91.92% Train Loss: 0.2091 Test acc: 65.74% Test Loss: 2.1703\n"
     ]
    },
    {
     "name": "stderr",
     "output_type": "stream",
     "text": [
      "100%|██████████| 1250/1250 [00:25<00:00, 49.93it/s]\n",
      "100%|██████████| 1125/1125 [00:08<00:00, 125.16it/s]\n"
     ]
    },
    {
     "name": "stdout",
     "output_type": "stream",
     "text": [
      "EPOCH 113: Train acc: 91.33% Train Loss: 0.2162 Test acc: 66.23% Test Loss: 2.1341\n"
     ]
    },
    {
     "name": "stderr",
     "output_type": "stream",
     "text": [
      "100%|██████████| 1250/1250 [00:24<00:00, 51.18it/s]\n",
      "100%|██████████| 1125/1125 [00:08<00:00, 125.67it/s]\n"
     ]
    },
    {
     "name": "stdout",
     "output_type": "stream",
     "text": [
      "EPOCH 114: Train acc: 91.63% Train Loss: 0.2127 Test acc: 63.94% Test Loss: 2.3974\n"
     ]
    },
    {
     "name": "stderr",
     "output_type": "stream",
     "text": [
      "100%|██████████| 1250/1250 [00:24<00:00, 51.33it/s]\n",
      "100%|██████████| 1125/1125 [00:08<00:00, 125.21it/s]\n"
     ]
    },
    {
     "name": "stdout",
     "output_type": "stream",
     "text": [
      "EPOCH 115: Train acc: 91.53% Train Loss: 0.2197 Test acc: 64.39% Test Loss: 2.3214\n"
     ]
    },
    {
     "name": "stderr",
     "output_type": "stream",
     "text": [
      "100%|██████████| 1250/1250 [00:24<00:00, 50.03it/s]\n",
      "100%|██████████| 1125/1125 [00:09<00:00, 124.78it/s]\n"
     ]
    },
    {
     "name": "stdout",
     "output_type": "stream",
     "text": [
      "EPOCH 116: Train acc: 91.87% Train Loss: 0.2079 Test acc: 65.50% Test Loss: 2.1875\n"
     ]
    },
    {
     "name": "stderr",
     "output_type": "stream",
     "text": [
      "100%|██████████| 1250/1250 [00:24<00:00, 51.02it/s]\n",
      "100%|██████████| 1125/1125 [00:08<00:00, 125.52it/s]\n"
     ]
    },
    {
     "name": "stdout",
     "output_type": "stream",
     "text": [
      "EPOCH 117: Train acc: 91.21% Train Loss: 0.2205 Test acc: 65.24% Test Loss: 2.2315\n"
     ]
    },
    {
     "name": "stderr",
     "output_type": "stream",
     "text": [
      "100%|██████████| 1250/1250 [00:25<00:00, 49.85it/s]\n",
      "100%|██████████| 1125/1125 [00:09<00:00, 124.34it/s]\n"
     ]
    },
    {
     "name": "stdout",
     "output_type": "stream",
     "text": [
      "EPOCH 118: Train acc: 91.89% Train Loss: 0.2153 Test acc: 65.84% Test Loss: 2.2249\n"
     ]
    },
    {
     "name": "stderr",
     "output_type": "stream",
     "text": [
      "100%|██████████| 1250/1250 [00:25<00:00, 48.75it/s]\n",
      "100%|██████████| 1125/1125 [00:08<00:00, 125.86it/s]\n"
     ]
    },
    {
     "name": "stdout",
     "output_type": "stream",
     "text": [
      "EPOCH 119: Train acc: 91.78% Train Loss: 0.2157 Test acc: 64.02% Test Loss: 2.3128\n"
     ]
    },
    {
     "name": "stderr",
     "output_type": "stream",
     "text": [
      "100%|██████████| 1250/1250 [00:24<00:00, 50.94it/s]\n",
      "100%|██████████| 1125/1125 [00:09<00:00, 124.81it/s]\n"
     ]
    },
    {
     "name": "stdout",
     "output_type": "stream",
     "text": [
      "EPOCH 120: Train acc: 91.74% Train Loss: 0.2182 Test acc: 66.23% Test Loss: 2.1614\n"
     ]
    },
    {
     "name": "stderr",
     "output_type": "stream",
     "text": [
      "100%|██████████| 1250/1250 [00:24<00:00, 51.68it/s]\n",
      "100%|██████████| 1125/1125 [00:09<00:00, 124.33it/s]\n"
     ]
    },
    {
     "name": "stdout",
     "output_type": "stream",
     "text": [
      "EPOCH 121: Train acc: 91.61% Train Loss: 0.2164 Test acc: 65.10% Test Loss: 2.2869\n"
     ]
    },
    {
     "name": "stderr",
     "output_type": "stream",
     "text": [
      "100%|██████████| 1250/1250 [00:24<00:00, 50.50it/s]\n",
      "100%|██████████| 1125/1125 [00:08<00:00, 125.38it/s]\n"
     ]
    },
    {
     "name": "stdout",
     "output_type": "stream",
     "text": [
      "EPOCH 122: Train acc: 91.34% Train Loss: 0.2173 Test acc: 66.26% Test Loss: 2.1186\n"
     ]
    },
    {
     "name": "stderr",
     "output_type": "stream",
     "text": [
      "100%|██████████| 1250/1250 [00:25<00:00, 49.61it/s]\n",
      "100%|██████████| 1125/1125 [00:09<00:00, 124.47it/s]\n"
     ]
    },
    {
     "name": "stdout",
     "output_type": "stream",
     "text": [
      "EPOCH 123: Train acc: 91.72% Train Loss: 0.2137 Test acc: 65.61% Test Loss: 2.1995\n"
     ]
    },
    {
     "name": "stderr",
     "output_type": "stream",
     "text": [
      "100%|██████████| 1250/1250 [00:25<00:00, 48.60it/s]\n",
      "100%|██████████| 1125/1125 [00:09<00:00, 124.28it/s]\n"
     ]
    },
    {
     "name": "stdout",
     "output_type": "stream",
     "text": [
      "EPOCH 124: Train acc: 91.72% Train Loss: 0.2184 Test acc: 65.72% Test Loss: 2.1204\n"
     ]
    },
    {
     "name": "stderr",
     "output_type": "stream",
     "text": [
      "100%|██████████| 1250/1250 [00:24<00:00, 51.16it/s]\n",
      "100%|██████████| 1125/1125 [00:08<00:00, 125.07it/s]\n"
     ]
    },
    {
     "name": "stdout",
     "output_type": "stream",
     "text": [
      "EPOCH 125: Train acc: 91.41% Train Loss: 0.2103 Test acc: 66.17% Test Loss: 2.1522\n"
     ]
    },
    {
     "name": "stderr",
     "output_type": "stream",
     "text": [
      "100%|██████████| 1250/1250 [00:24<00:00, 50.34it/s]\n",
      "100%|██████████| 1125/1125 [00:09<00:00, 124.94it/s]\n"
     ]
    },
    {
     "name": "stdout",
     "output_type": "stream",
     "text": [
      "EPOCH 126: Train acc: 91.16% Train Loss: 0.2175 Test acc: 65.42% Test Loss: 2.1795\n"
     ]
    },
    {
     "name": "stderr",
     "output_type": "stream",
     "text": [
      "100%|██████████| 1250/1250 [00:24<00:00, 50.78it/s]\n",
      "100%|██████████| 1125/1125 [00:09<00:00, 124.25it/s]\n"
     ]
    },
    {
     "name": "stdout",
     "output_type": "stream",
     "text": [
      "EPOCH 127: Train acc: 91.75% Train Loss: 0.2127 Test acc: 65.11% Test Loss: 2.2186\n"
     ]
    },
    {
     "name": "stderr",
     "output_type": "stream",
     "text": [
      "100%|██████████| 1250/1250 [00:24<00:00, 50.97it/s]\n",
      "100%|██████████| 1125/1125 [00:08<00:00, 125.51it/s]\n"
     ]
    },
    {
     "name": "stdout",
     "output_type": "stream",
     "text": [
      "EPOCH 128: Train acc: 91.52% Train Loss: 0.2183 Test acc: 66.20% Test Loss: 2.1872\n"
     ]
    },
    {
     "name": "stderr",
     "output_type": "stream",
     "text": [
      "100%|██████████| 1250/1250 [00:24<00:00, 51.14it/s]\n",
      "100%|██████████| 1125/1125 [00:08<00:00, 125.22it/s]\n"
     ]
    },
    {
     "name": "stdout",
     "output_type": "stream",
     "text": [
      "EPOCH 129: Train acc: 91.30% Train Loss: 0.2184 Test acc: 66.36% Test Loss: 2.1435\n"
     ]
    },
    {
     "name": "stderr",
     "output_type": "stream",
     "text": [
      "100%|██████████| 1250/1250 [00:25<00:00, 49.94it/s]\n",
      "100%|██████████| 1125/1125 [00:09<00:00, 124.66it/s]\n"
     ]
    },
    {
     "name": "stdout",
     "output_type": "stream",
     "text": [
      "EPOCH 130: Train acc: 91.83% Train Loss: 0.2074 Test acc: 66.10% Test Loss: 2.1853\n"
     ]
    },
    {
     "name": "stderr",
     "output_type": "stream",
     "text": [
      "100%|██████████| 1250/1250 [00:24<00:00, 50.69it/s]\n",
      "100%|██████████| 1125/1125 [00:09<00:00, 124.99it/s]\n"
     ]
    },
    {
     "name": "stdout",
     "output_type": "stream",
     "text": [
      "EPOCH 131: Train acc: 91.86% Train Loss: 0.2067 Test acc: 65.68% Test Loss: 2.2076\n"
     ]
    },
    {
     "name": "stderr",
     "output_type": "stream",
     "text": [
      "100%|██████████| 1250/1250 [00:24<00:00, 50.80it/s]\n",
      "100%|██████████| 1125/1125 [00:09<00:00, 123.80it/s]\n"
     ]
    },
    {
     "name": "stdout",
     "output_type": "stream",
     "text": [
      "EPOCH 132: Train acc: 91.51% Train Loss: 0.2186 Test acc: 65.70% Test Loss: 2.2541\n"
     ]
    },
    {
     "name": "stderr",
     "output_type": "stream",
     "text": [
      "100%|██████████| 1250/1250 [00:24<00:00, 50.21it/s]\n",
      "100%|██████████| 1125/1125 [00:09<00:00, 124.39it/s]\n"
     ]
    },
    {
     "name": "stdout",
     "output_type": "stream",
     "text": [
      "EPOCH 133: Train acc: 91.63% Train Loss: 0.2155 Test acc: 65.37% Test Loss: 2.2441\n"
     ]
    },
    {
     "name": "stderr",
     "output_type": "stream",
     "text": [
      "100%|██████████| 1250/1250 [00:25<00:00, 49.39it/s]\n",
      "100%|██████████| 1125/1125 [00:09<00:00, 124.72it/s]\n"
     ]
    },
    {
     "name": "stdout",
     "output_type": "stream",
     "text": [
      "EPOCH 134: Train acc: 92.01% Train Loss: 0.2095 Test acc: 64.40% Test Loss: 2.3904\n"
     ]
    },
    {
     "name": "stderr",
     "output_type": "stream",
     "text": [
      "100%|██████████| 1250/1250 [00:24<00:00, 50.61it/s]\n",
      "100%|██████████| 1125/1125 [00:08<00:00, 125.36it/s]\n"
     ]
    },
    {
     "name": "stdout",
     "output_type": "stream",
     "text": [
      "EPOCH 135: Train acc: 91.38% Train Loss: 0.2182 Test acc: 65.66% Test Loss: 2.1267\n"
     ]
    },
    {
     "name": "stderr",
     "output_type": "stream",
     "text": [
      "100%|██████████| 1250/1250 [00:24<00:00, 50.79it/s]\n",
      "100%|██████████| 1125/1125 [00:08<00:00, 125.49it/s]\n"
     ]
    },
    {
     "name": "stdout",
     "output_type": "stream",
     "text": [
      "EPOCH 136: Train acc: 91.64% Train Loss: 0.2134 Test acc: 65.33% Test Loss: 2.2208\n"
     ]
    },
    {
     "name": "stderr",
     "output_type": "stream",
     "text": [
      "100%|██████████| 1250/1250 [00:24<00:00, 50.64it/s]\n",
      "100%|██████████| 1125/1125 [00:09<00:00, 122.93it/s]\n"
     ]
    },
    {
     "name": "stdout",
     "output_type": "stream",
     "text": [
      "EPOCH 137: Train acc: 91.93% Train Loss: 0.2038 Test acc: 65.76% Test Loss: 2.1876\n"
     ]
    },
    {
     "name": "stderr",
     "output_type": "stream",
     "text": [
      "100%|██████████| 1250/1250 [00:24<00:00, 50.35it/s]\n",
      "100%|██████████| 1125/1125 [00:09<00:00, 124.44it/s]\n"
     ]
    },
    {
     "name": "stdout",
     "output_type": "stream",
     "text": [
      "EPOCH 138: Train acc: 91.61% Train Loss: 0.2144 Test acc: 65.42% Test Loss: 2.2192\n"
     ]
    },
    {
     "name": "stderr",
     "output_type": "stream",
     "text": [
      "100%|██████████| 1250/1250 [00:24<00:00, 50.57it/s]\n",
      "100%|██████████| 1125/1125 [00:09<00:00, 124.82it/s]\n"
     ]
    },
    {
     "name": "stdout",
     "output_type": "stream",
     "text": [
      "EPOCH 139: Train acc: 91.66% Train Loss: 0.2113 Test acc: 65.40% Test Loss: 2.1791\n"
     ]
    },
    {
     "name": "stderr",
     "output_type": "stream",
     "text": [
      "100%|██████████| 1250/1250 [00:24<00:00, 50.25it/s]\n",
      "100%|██████████| 1125/1125 [00:08<00:00, 125.17it/s]\n"
     ]
    },
    {
     "name": "stdout",
     "output_type": "stream",
     "text": [
      "EPOCH 140: Train acc: 91.57% Train Loss: 0.2162 Test acc: 66.10% Test Loss: 2.1546\n"
     ]
    },
    {
     "name": "stderr",
     "output_type": "stream",
     "text": [
      "100%|██████████| 1250/1250 [00:25<00:00, 49.27it/s]\n",
      "100%|██████████| 1125/1125 [00:09<00:00, 124.86it/s]\n"
     ]
    },
    {
     "name": "stdout",
     "output_type": "stream",
     "text": [
      "EPOCH 141: Train acc: 91.87% Train Loss: 0.2120 Test acc: 65.92% Test Loss: 2.1945\n"
     ]
    },
    {
     "name": "stderr",
     "output_type": "stream",
     "text": [
      "100%|██████████| 1250/1250 [00:24<00:00, 50.62it/s]\n",
      "100%|██████████| 1125/1125 [00:08<00:00, 125.47it/s]\n"
     ]
    },
    {
     "name": "stdout",
     "output_type": "stream",
     "text": [
      "EPOCH 142: Train acc: 91.98% Train Loss: 0.2079 Test acc: 65.34% Test Loss: 2.2095\n"
     ]
    },
    {
     "name": "stderr",
     "output_type": "stream",
     "text": [
      "100%|██████████| 1250/1250 [00:24<00:00, 51.72it/s]\n",
      "100%|██████████| 1125/1125 [00:08<00:00, 125.12it/s]\n"
     ]
    },
    {
     "name": "stdout",
     "output_type": "stream",
     "text": [
      "EPOCH 143: Train acc: 91.83% Train Loss: 0.2065 Test acc: 65.81% Test Loss: 2.1998\n"
     ]
    },
    {
     "name": "stderr",
     "output_type": "stream",
     "text": [
      "100%|██████████| 1250/1250 [00:24<00:00, 51.30it/s]\n",
      "100%|██████████| 1125/1125 [00:09<00:00, 123.81it/s]\n"
     ]
    },
    {
     "name": "stdout",
     "output_type": "stream",
     "text": [
      "EPOCH 144: Train acc: 91.79% Train Loss: 0.2116 Test acc: 65.66% Test Loss: 2.2771\n"
     ]
    },
    {
     "name": "stderr",
     "output_type": "stream",
     "text": [
      "100%|██████████| 1250/1250 [00:24<00:00, 50.85it/s]\n",
      "100%|██████████| 1125/1125 [00:09<00:00, 124.78it/s]\n"
     ]
    },
    {
     "name": "stdout",
     "output_type": "stream",
     "text": [
      "EPOCH 145: Train acc: 91.60% Train Loss: 0.2118 Test acc: 65.72% Test Loss: 2.1650\n"
     ]
    },
    {
     "name": "stderr",
     "output_type": "stream",
     "text": [
      "100%|██████████| 1250/1250 [00:24<00:00, 50.58it/s]\n",
      "100%|██████████| 1125/1125 [00:09<00:00, 124.15it/s]\n"
     ]
    },
    {
     "name": "stdout",
     "output_type": "stream",
     "text": [
      "EPOCH 146: Train acc: 91.56% Train Loss: 0.2175 Test acc: 65.68% Test Loss: 2.1348\n"
     ]
    },
    {
     "name": "stderr",
     "output_type": "stream",
     "text": [
      "100%|██████████| 1250/1250 [00:24<00:00, 50.51it/s]\n",
      "100%|██████████| 1125/1125 [00:08<00:00, 125.89it/s]\n"
     ]
    },
    {
     "name": "stdout",
     "output_type": "stream",
     "text": [
      "EPOCH 147: Train acc: 91.55% Train Loss: 0.2175 Test acc: 66.04% Test Loss: 2.1828\n"
     ]
    },
    {
     "name": "stderr",
     "output_type": "stream",
     "text": [
      "100%|██████████| 1250/1250 [00:24<00:00, 50.68it/s]\n",
      "100%|██████████| 1125/1125 [00:09<00:00, 124.94it/s]\n"
     ]
    },
    {
     "name": "stdout",
     "output_type": "stream",
     "text": [
      "EPOCH 148: Train acc: 91.81% Train Loss: 0.2110 Test acc: 65.63% Test Loss: 2.1723\n"
     ]
    },
    {
     "name": "stderr",
     "output_type": "stream",
     "text": [
      "100%|██████████| 1250/1250 [00:24<00:00, 50.71it/s]\n",
      "100%|██████████| 1125/1125 [00:09<00:00, 124.25it/s]\n"
     ]
    },
    {
     "name": "stdout",
     "output_type": "stream",
     "text": [
      "EPOCH 149: Train acc: 91.40% Train Loss: 0.2152 Test acc: 66.73% Test Loss: 2.1108\n"
     ]
    },
    {
     "name": "stderr",
     "output_type": "stream",
     "text": [
      "100%|██████████| 1250/1250 [00:24<00:00, 51.00it/s]\n",
      "100%|██████████| 1125/1125 [00:08<00:00, 125.01it/s]\n"
     ]
    },
    {
     "name": "stdout",
     "output_type": "stream",
     "text": [
      "EPOCH 150: Train acc: 91.50% Train Loss: 0.2157 Test acc: 65.04% Test Loss: 2.2773\n"
     ]
    },
    {
     "name": "stderr",
     "output_type": "stream",
     "text": [
      "100%|██████████| 1250/1250 [00:24<00:00, 51.02it/s]\n",
      "100%|██████████| 1125/1125 [00:09<00:00, 124.82it/s]\n"
     ]
    },
    {
     "name": "stdout",
     "output_type": "stream",
     "text": [
      "EPOCH 151: Train acc: 92.25% Train Loss: 0.2057 Test acc: 65.93% Test Loss: 2.1732\n"
     ]
    },
    {
     "name": "stderr",
     "output_type": "stream",
     "text": [
      "100%|██████████| 1250/1250 [00:24<00:00, 50.81it/s]\n",
      "100%|██████████| 1125/1125 [00:09<00:00, 124.39it/s]\n"
     ]
    },
    {
     "name": "stdout",
     "output_type": "stream",
     "text": [
      "EPOCH 152: Train acc: 91.60% Train Loss: 0.2134 Test acc: 65.77% Test Loss: 2.2534\n"
     ]
    },
    {
     "name": "stderr",
     "output_type": "stream",
     "text": [
      "100%|██████████| 1250/1250 [00:25<00:00, 49.33it/s]\n",
      "100%|██████████| 1125/1125 [00:08<00:00, 125.25it/s]\n"
     ]
    },
    {
     "name": "stdout",
     "output_type": "stream",
     "text": [
      "EPOCH 153: Train acc: 91.73% Train Loss: 0.2142 Test acc: 66.27% Test Loss: 2.1391\n"
     ]
    },
    {
     "name": "stderr",
     "output_type": "stream",
     "text": [
      "100%|██████████| 1250/1250 [00:24<00:00, 50.75it/s]\n",
      "100%|██████████| 1125/1125 [00:09<00:00, 124.92it/s]\n"
     ]
    },
    {
     "name": "stdout",
     "output_type": "stream",
     "text": [
      "EPOCH 154: Train acc: 91.62% Train Loss: 0.2115 Test acc: 65.71% Test Loss: 2.1260\n"
     ]
    },
    {
     "name": "stderr",
     "output_type": "stream",
     "text": [
      "100%|██████████| 1250/1250 [00:24<00:00, 50.81it/s]\n",
      "100%|██████████| 1125/1125 [00:09<00:00, 124.92it/s]\n"
     ]
    },
    {
     "name": "stdout",
     "output_type": "stream",
     "text": [
      "EPOCH 155: Train acc: 91.87% Train Loss: 0.2082 Test acc: 66.30% Test Loss: 2.1466\n"
     ]
    },
    {
     "name": "stderr",
     "output_type": "stream",
     "text": [
      "100%|██████████| 1250/1250 [00:24<00:00, 50.59it/s]\n",
      "100%|██████████| 1125/1125 [00:09<00:00, 124.88it/s]\n"
     ]
    },
    {
     "name": "stdout",
     "output_type": "stream",
     "text": [
      "EPOCH 156: Train acc: 91.38% Train Loss: 0.2151 Test acc: 66.50% Test Loss: 2.1172\n"
     ]
    },
    {
     "name": "stderr",
     "output_type": "stream",
     "text": [
      "100%|██████████| 1250/1250 [00:24<00:00, 51.46it/s]\n",
      "100%|██████████| 1125/1125 [00:08<00:00, 125.52it/s]\n"
     ]
    },
    {
     "name": "stdout",
     "output_type": "stream",
     "text": [
      "EPOCH 157: Train acc: 91.57% Train Loss: 0.2110 Test acc: 66.09% Test Loss: 2.2103\n"
     ]
    },
    {
     "name": "stderr",
     "output_type": "stream",
     "text": [
      "100%|██████████| 1250/1250 [00:24<00:00, 50.41it/s]\n",
      "100%|██████████| 1125/1125 [00:08<00:00, 125.22it/s]\n"
     ]
    },
    {
     "name": "stdout",
     "output_type": "stream",
     "text": [
      "EPOCH 158: Train acc: 91.76% Train Loss: 0.2099 Test acc: 66.14% Test Loss: 2.1177\n"
     ]
    },
    {
     "name": "stderr",
     "output_type": "stream",
     "text": [
      "100%|██████████| 1250/1250 [00:24<00:00, 50.99it/s]\n",
      "100%|██████████| 1125/1125 [00:08<00:00, 125.07it/s]\n"
     ]
    },
    {
     "name": "stdout",
     "output_type": "stream",
     "text": [
      "EPOCH 159: Train acc: 91.54% Train Loss: 0.2121 Test acc: 67.04% Test Loss: 2.0784\n"
     ]
    },
    {
     "name": "stderr",
     "output_type": "stream",
     "text": [
      "100%|██████████| 1250/1250 [00:24<00:00, 51.17it/s]\n",
      "100%|██████████| 1125/1125 [00:09<00:00, 124.89it/s]\n"
     ]
    },
    {
     "name": "stdout",
     "output_type": "stream",
     "text": [
      "EPOCH 160: Train acc: 91.42% Train Loss: 0.2116 Test acc: 65.34% Test Loss: 2.1817\n"
     ]
    },
    {
     "name": "stderr",
     "output_type": "stream",
     "text": [
      "100%|██████████| 1250/1250 [00:24<00:00, 51.59it/s]\n",
      "100%|██████████| 1125/1125 [00:08<00:00, 125.00it/s]\n"
     ]
    },
    {
     "name": "stdout",
     "output_type": "stream",
     "text": [
      "EPOCH 161: Train acc: 91.50% Train Loss: 0.2193 Test acc: 66.51% Test Loss: 2.0806\n"
     ]
    },
    {
     "name": "stderr",
     "output_type": "stream",
     "text": [
      "100%|██████████| 1250/1250 [00:24<00:00, 50.91it/s]\n",
      "100%|██████████| 1125/1125 [00:08<00:00, 125.20it/s]\n"
     ]
    },
    {
     "name": "stdout",
     "output_type": "stream",
     "text": [
      "EPOCH 162: Train acc: 91.70% Train Loss: 0.2122 Test acc: 65.41% Test Loss: 2.2302\n"
     ]
    },
    {
     "name": "stderr",
     "output_type": "stream",
     "text": [
      "100%|██████████| 1250/1250 [00:25<00:00, 49.90it/s]\n",
      "100%|██████████| 1125/1125 [00:09<00:00, 124.72it/s]\n"
     ]
    },
    {
     "name": "stdout",
     "output_type": "stream",
     "text": [
      "EPOCH 163: Train acc: 92.17% Train Loss: 0.2093 Test acc: 66.51% Test Loss: 2.1055\n"
     ]
    },
    {
     "name": "stderr",
     "output_type": "stream",
     "text": [
      "100%|██████████| 1250/1250 [00:24<00:00, 50.31it/s]\n",
      "100%|██████████| 1125/1125 [00:09<00:00, 124.65it/s]\n"
     ]
    },
    {
     "name": "stdout",
     "output_type": "stream",
     "text": [
      "EPOCH 164: Train acc: 91.93% Train Loss: 0.2081 Test acc: 65.77% Test Loss: 2.2157\n"
     ]
    },
    {
     "name": "stderr",
     "output_type": "stream",
     "text": [
      "100%|██████████| 1250/1250 [00:24<00:00, 50.08it/s]\n",
      "100%|██████████| 1125/1125 [00:09<00:00, 124.63it/s]\n"
     ]
    },
    {
     "name": "stdout",
     "output_type": "stream",
     "text": [
      "EPOCH 165: Train acc: 91.65% Train Loss: 0.2105 Test acc: 64.06% Test Loss: 2.2976\n"
     ]
    },
    {
     "name": "stderr",
     "output_type": "stream",
     "text": [
      "100%|██████████| 1250/1250 [00:24<00:00, 50.24it/s]\n",
      "100%|██████████| 1125/1125 [00:09<00:00, 124.36it/s]\n"
     ]
    },
    {
     "name": "stdout",
     "output_type": "stream",
     "text": [
      "EPOCH 166: Train acc: 91.97% Train Loss: 0.2089 Test acc: 65.94% Test Loss: 2.1149\n"
     ]
    },
    {
     "name": "stderr",
     "output_type": "stream",
     "text": [
      "100%|██████████| 1250/1250 [00:24<00:00, 50.02it/s]\n",
      "100%|██████████| 1125/1125 [00:08<00:00, 125.35it/s]\n"
     ]
    },
    {
     "name": "stdout",
     "output_type": "stream",
     "text": [
      "EPOCH 167: Train acc: 91.28% Train Loss: 0.2142 Test acc: 65.99% Test Loss: 2.1515\n"
     ]
    },
    {
     "name": "stderr",
     "output_type": "stream",
     "text": [
      "100%|██████████| 1250/1250 [00:24<00:00, 50.73it/s]\n",
      "100%|██████████| 1125/1125 [00:08<00:00, 125.21it/s]\n"
     ]
    },
    {
     "name": "stdout",
     "output_type": "stream",
     "text": [
      "EPOCH 168: Train acc: 91.61% Train Loss: 0.2117 Test acc: 65.57% Test Loss: 2.2681\n"
     ]
    },
    {
     "name": "stderr",
     "output_type": "stream",
     "text": [
      "100%|██████████| 1250/1250 [00:25<00:00, 49.98it/s]\n",
      "100%|██████████| 1125/1125 [00:08<00:00, 125.18it/s]\n"
     ]
    },
    {
     "name": "stdout",
     "output_type": "stream",
     "text": [
      "EPOCH 169: Train acc: 91.82% Train Loss: 0.2147 Test acc: 66.60% Test Loss: 2.1655\n"
     ]
    },
    {
     "name": "stderr",
     "output_type": "stream",
     "text": [
      "100%|██████████| 1250/1250 [00:24<00:00, 51.09it/s]\n",
      "100%|██████████| 1125/1125 [00:08<00:00, 125.10it/s]\n"
     ]
    },
    {
     "name": "stdout",
     "output_type": "stream",
     "text": [
      "EPOCH 170: Train acc: 91.73% Train Loss: 0.2127 Test acc: 65.60% Test Loss: 2.1818\n"
     ]
    },
    {
     "name": "stderr",
     "output_type": "stream",
     "text": [
      "100%|██████████| 1250/1250 [00:24<00:00, 51.18it/s]\n",
      "100%|██████████| 1125/1125 [00:09<00:00, 124.41it/s]\n"
     ]
    },
    {
     "name": "stdout",
     "output_type": "stream",
     "text": [
      "EPOCH 171: Train acc: 91.17% Train Loss: 0.2156 Test acc: 65.69% Test Loss: 2.1269\n"
     ]
    },
    {
     "name": "stderr",
     "output_type": "stream",
     "text": [
      "100%|██████████| 1250/1250 [00:24<00:00, 50.44it/s]\n",
      "100%|██████████| 1125/1125 [00:09<00:00, 124.74it/s]\n"
     ]
    },
    {
     "name": "stdout",
     "output_type": "stream",
     "text": [
      "EPOCH 172: Train acc: 92.05% Train Loss: 0.2073 Test acc: 66.31% Test Loss: 2.1224\n"
     ]
    },
    {
     "name": "stderr",
     "output_type": "stream",
     "text": [
      "100%|██████████| 1250/1250 [00:24<00:00, 51.41it/s]\n",
      "100%|██████████| 1125/1125 [00:08<00:00, 125.09it/s]\n"
     ]
    },
    {
     "name": "stdout",
     "output_type": "stream",
     "text": [
      "EPOCH 173: Train acc: 91.44% Train Loss: 0.2129 Test acc: 64.73% Test Loss: 2.1841\n"
     ]
    },
    {
     "name": "stderr",
     "output_type": "stream",
     "text": [
      "100%|██████████| 1250/1250 [00:24<00:00, 50.57it/s]\n",
      "100%|██████████| 1125/1125 [00:09<00:00, 124.60it/s]\n"
     ]
    },
    {
     "name": "stdout",
     "output_type": "stream",
     "text": [
      "EPOCH 174: Train acc: 91.66% Train Loss: 0.2118 Test acc: 67.11% Test Loss: 2.0752\n"
     ]
    },
    {
     "name": "stderr",
     "output_type": "stream",
     "text": [
      "100%|██████████| 1250/1250 [00:24<00:00, 50.52it/s]\n",
      "100%|██████████| 1125/1125 [00:08<00:00, 125.18it/s]\n"
     ]
    },
    {
     "name": "stdout",
     "output_type": "stream",
     "text": [
      "EPOCH 175: Train acc: 91.79% Train Loss: 0.2116 Test acc: 65.38% Test Loss: 2.2418\n"
     ]
    },
    {
     "name": "stderr",
     "output_type": "stream",
     "text": [
      "100%|██████████| 1250/1250 [00:24<00:00, 50.17it/s]\n",
      "100%|██████████| 1125/1125 [00:09<00:00, 124.59it/s]\n"
     ]
    },
    {
     "name": "stdout",
     "output_type": "stream",
     "text": [
      "EPOCH 176: Train acc: 91.61% Train Loss: 0.2138 Test acc: 65.67% Test Loss: 2.1777\n"
     ]
    },
    {
     "name": "stderr",
     "output_type": "stream",
     "text": [
      "100%|██████████| 1250/1250 [00:24<00:00, 50.68it/s]\n",
      "100%|██████████| 1125/1125 [00:09<00:00, 123.63it/s]\n"
     ]
    },
    {
     "name": "stdout",
     "output_type": "stream",
     "text": [
      "EPOCH 177: Train acc: 91.80% Train Loss: 0.2086 Test acc: 66.50% Test Loss: 2.0954\n"
     ]
    },
    {
     "name": "stderr",
     "output_type": "stream",
     "text": [
      "100%|██████████| 1250/1250 [00:25<00:00, 49.05it/s]\n",
      "100%|██████████| 1125/1125 [00:08<00:00, 125.55it/s]\n"
     ]
    },
    {
     "name": "stdout",
     "output_type": "stream",
     "text": [
      "EPOCH 178: Train acc: 91.59% Train Loss: 0.2140 Test acc: 65.54% Test Loss: 2.2104\n"
     ]
    },
    {
     "name": "stderr",
     "output_type": "stream",
     "text": [
      "100%|██████████| 1250/1250 [00:25<00:00, 49.18it/s]\n",
      "100%|██████████| 1125/1125 [00:08<00:00, 125.55it/s]\n"
     ]
    },
    {
     "name": "stdout",
     "output_type": "stream",
     "text": [
      "EPOCH 179: Train acc: 92.07% Train Loss: 0.2076 Test acc: 65.46% Test Loss: 2.1972\n"
     ]
    },
    {
     "name": "stderr",
     "output_type": "stream",
     "text": [
      "100%|██████████| 1250/1250 [00:25<00:00, 49.61it/s]\n",
      "100%|██████████| 1125/1125 [00:09<00:00, 124.95it/s]\n"
     ]
    },
    {
     "name": "stdout",
     "output_type": "stream",
     "text": [
      "EPOCH 180: Train acc: 92.03% Train Loss: 0.2082 Test acc: 66.81% Test Loss: 2.1579\n"
     ]
    },
    {
     "name": "stderr",
     "output_type": "stream",
     "text": [
      "100%|██████████| 1250/1250 [00:24<00:00, 50.37it/s]\n",
      "100%|██████████| 1125/1125 [00:09<00:00, 124.95it/s]\n"
     ]
    },
    {
     "name": "stdout",
     "output_type": "stream",
     "text": [
      "EPOCH 181: Train acc: 91.70% Train Loss: 0.2124 Test acc: 65.24% Test Loss: 2.2573\n"
     ]
    },
    {
     "name": "stderr",
     "output_type": "stream",
     "text": [
      "100%|██████████| 1250/1250 [00:24<00:00, 50.39it/s]\n",
      "100%|██████████| 1125/1125 [00:09<00:00, 123.13it/s]\n"
     ]
    },
    {
     "name": "stdout",
     "output_type": "stream",
     "text": [
      "EPOCH 182: Train acc: 91.63% Train Loss: 0.2150 Test acc: 65.04% Test Loss: 2.2336\n"
     ]
    },
    {
     "name": "stderr",
     "output_type": "stream",
     "text": [
      "100%|██████████| 1250/1250 [00:24<00:00, 51.84it/s]\n",
      "100%|██████████| 1125/1125 [00:08<00:00, 125.84it/s]\n"
     ]
    },
    {
     "name": "stdout",
     "output_type": "stream",
     "text": [
      "EPOCH 183: Train acc: 91.92% Train Loss: 0.2150 Test acc: 66.16% Test Loss: 2.1683\n"
     ]
    },
    {
     "name": "stderr",
     "output_type": "stream",
     "text": [
      "100%|██████████| 1250/1250 [00:24<00:00, 50.66it/s]\n",
      "100%|██████████| 1125/1125 [00:09<00:00, 124.41it/s]\n"
     ]
    },
    {
     "name": "stdout",
     "output_type": "stream",
     "text": [
      "EPOCH 184: Train acc: 92.06% Train Loss: 0.2035 Test acc: 65.03% Test Loss: 2.2451\n"
     ]
    },
    {
     "name": "stderr",
     "output_type": "stream",
     "text": [
      "100%|██████████| 1250/1250 [00:24<00:00, 50.40it/s]\n",
      "100%|██████████| 1125/1125 [00:09<00:00, 124.16it/s]\n"
     ]
    },
    {
     "name": "stdout",
     "output_type": "stream",
     "text": [
      "EPOCH 185: Train acc: 92.10% Train Loss: 0.2064 Test acc: 66.09% Test Loss: 2.2100\n"
     ]
    },
    {
     "name": "stderr",
     "output_type": "stream",
     "text": [
      "100%|██████████| 1250/1250 [00:24<00:00, 51.61it/s]\n",
      "100%|██████████| 1125/1125 [00:09<00:00, 124.97it/s]\n"
     ]
    },
    {
     "name": "stdout",
     "output_type": "stream",
     "text": [
      "EPOCH 186: Train acc: 91.64% Train Loss: 0.2141 Test acc: 64.87% Test Loss: 2.2385\n"
     ]
    },
    {
     "name": "stderr",
     "output_type": "stream",
     "text": [
      "100%|██████████| 1250/1250 [00:24<00:00, 51.10it/s]\n",
      "100%|██████████| 1125/1125 [00:09<00:00, 124.77it/s]\n"
     ]
    },
    {
     "name": "stdout",
     "output_type": "stream",
     "text": [
      "EPOCH 187: Train acc: 91.63% Train Loss: 0.2157 Test acc: 65.93% Test Loss: 2.1691\n"
     ]
    },
    {
     "name": "stderr",
     "output_type": "stream",
     "text": [
      "100%|██████████| 1250/1250 [00:25<00:00, 49.01it/s]\n",
      "100%|██████████| 1125/1125 [00:09<00:00, 124.13it/s]\n"
     ]
    },
    {
     "name": "stdout",
     "output_type": "stream",
     "text": [
      "EPOCH 188: Train acc: 91.82% Train Loss: 0.2116 Test acc: 65.87% Test Loss: 2.1988\n"
     ]
    },
    {
     "name": "stderr",
     "output_type": "stream",
     "text": [
      "100%|██████████| 1250/1250 [00:25<00:00, 48.75it/s]\n",
      "100%|██████████| 1125/1125 [00:09<00:00, 124.98it/s]\n"
     ]
    },
    {
     "name": "stdout",
     "output_type": "stream",
     "text": [
      "EPOCH 189: Train acc: 91.65% Train Loss: 0.2143 Test acc: 66.52% Test Loss: 2.1560\n"
     ]
    },
    {
     "name": "stderr",
     "output_type": "stream",
     "text": [
      "100%|██████████| 1250/1250 [00:25<00:00, 49.75it/s]\n",
      "100%|██████████| 1125/1125 [00:09<00:00, 124.49it/s]\n"
     ]
    },
    {
     "name": "stdout",
     "output_type": "stream",
     "text": [
      "EPOCH 190: Train acc: 91.68% Train Loss: 0.2103 Test acc: 65.27% Test Loss: 2.1717\n"
     ]
    },
    {
     "name": "stderr",
     "output_type": "stream",
     "text": [
      "100%|██████████| 1250/1250 [00:24<00:00, 50.90it/s]\n",
      "100%|██████████| 1125/1125 [00:08<00:00, 125.74it/s]\n"
     ]
    },
    {
     "name": "stdout",
     "output_type": "stream",
     "text": [
      "EPOCH 191: Train acc: 91.88% Train Loss: 0.2126 Test acc: 65.90% Test Loss: 2.1581\n"
     ]
    },
    {
     "name": "stderr",
     "output_type": "stream",
     "text": [
      "100%|██████████| 1250/1250 [00:25<00:00, 48.99it/s]\n",
      "100%|██████████| 1125/1125 [00:09<00:00, 124.40it/s]\n"
     ]
    },
    {
     "name": "stdout",
     "output_type": "stream",
     "text": [
      "EPOCH 192: Train acc: 91.28% Train Loss: 0.2223 Test acc: 66.49% Test Loss: 2.1338\n"
     ]
    },
    {
     "name": "stderr",
     "output_type": "stream",
     "text": [
      "100%|██████████| 1250/1250 [00:24<00:00, 51.30it/s]\n",
      "100%|██████████| 1125/1125 [00:09<00:00, 124.46it/s]\n"
     ]
    },
    {
     "name": "stdout",
     "output_type": "stream",
     "text": [
      "EPOCH 193: Train acc: 91.71% Train Loss: 0.2121 Test acc: 65.88% Test Loss: 2.1183\n"
     ]
    },
    {
     "name": "stderr",
     "output_type": "stream",
     "text": [
      "100%|██████████| 1250/1250 [00:24<00:00, 50.61it/s]\n",
      "100%|██████████| 1125/1125 [00:09<00:00, 124.88it/s]\n"
     ]
    },
    {
     "name": "stdout",
     "output_type": "stream",
     "text": [
      "EPOCH 194: Train acc: 92.01% Train Loss: 0.2071 Test acc: 66.88% Test Loss: 2.0855\n"
     ]
    },
    {
     "name": "stderr",
     "output_type": "stream",
     "text": [
      "100%|██████████| 1250/1250 [00:24<00:00, 50.72it/s]\n",
      "100%|██████████| 1125/1125 [00:08<00:00, 125.06it/s]\n"
     ]
    },
    {
     "name": "stdout",
     "output_type": "stream",
     "text": [
      "EPOCH 195: Train acc: 91.78% Train Loss: 0.2109 Test acc: 66.89% Test Loss: 2.0870\n"
     ]
    },
    {
     "name": "stderr",
     "output_type": "stream",
     "text": [
      "100%|██████████| 1250/1250 [00:25<00:00, 49.41it/s]\n",
      "100%|██████████| 1125/1125 [00:09<00:00, 124.49it/s]\n"
     ]
    },
    {
     "name": "stdout",
     "output_type": "stream",
     "text": [
      "EPOCH 196: Train acc: 91.41% Train Loss: 0.2186 Test acc: 65.88% Test Loss: 2.2074\n"
     ]
    },
    {
     "name": "stderr",
     "output_type": "stream",
     "text": [
      "100%|██████████| 1250/1250 [00:24<00:00, 50.91it/s]\n",
      "100%|██████████| 1125/1125 [00:09<00:00, 124.92it/s]\n"
     ]
    },
    {
     "name": "stdout",
     "output_type": "stream",
     "text": [
      "EPOCH 197: Train acc: 91.71% Train Loss: 0.2091 Test acc: 65.61% Test Loss: 2.2147\n"
     ]
    },
    {
     "name": "stderr",
     "output_type": "stream",
     "text": [
      "100%|██████████| 1250/1250 [00:24<00:00, 51.10it/s]\n",
      "100%|██████████| 1125/1125 [00:09<00:00, 124.76it/s]\n"
     ]
    },
    {
     "name": "stdout",
     "output_type": "stream",
     "text": [
      "EPOCH 198: Train acc: 91.95% Train Loss: 0.2089 Test acc: 65.31% Test Loss: 2.2696\n"
     ]
    },
    {
     "name": "stderr",
     "output_type": "stream",
     "text": [
      "100%|██████████| 1250/1250 [00:24<00:00, 50.18it/s]\n",
      "100%|██████████| 1125/1125 [00:08<00:00, 125.31it/s]\n"
     ]
    },
    {
     "name": "stdout",
     "output_type": "stream",
     "text": [
      "EPOCH 199: Train acc: 91.57% Train Loss: 0.2130 Test acc: 64.84% Test Loss: 2.2674\n"
     ]
    },
    {
     "name": "stderr",
     "output_type": "stream",
     "text": [
      "100%|██████████| 1250/1250 [00:24<00:00, 51.01it/s]\n",
      "100%|██████████| 1125/1125 [00:09<00:00, 124.25it/s]"
     ]
    },
    {
     "name": "stdout",
     "output_type": "stream",
     "text": [
      "EPOCH 200: Train acc: 91.61% Train Loss: 0.2126 Test acc: 65.50% Test Loss: 2.1597\n"
     ]
    },
    {
     "name": "stderr",
     "output_type": "stream",
     "text": [
      "\n"
     ]
    }
   ],
   "source": [
    "criterion = nn.CrossEntropyLoss()\n",
    "optimizer = torch.optim.SGD(model.parameters(), lr=LR, momentum=0.9, weight_decay=0.001)\n",
    "scheduler = lr_scheduler.StepLR(optimizer, step_size=50, gamma=0.1)\n",
    "\n",
    "\n",
    "\n",
    "best_accuracy=0\n",
    "\n",
    "\n",
    "for e in range(EPOCHS):\n",
    "    train_predictions, train_targets, train_loss = train(model, train_loader, criterion, optimizer, device)\n",
    "    test_predictions, test_targets, test_loss = test(model, test_loader, criterion, device)\n",
    "    \n",
    "    scheduler.step()\n",
    "    \n",
    "    train_acc = accuracy_score(train_targets, train_predictions)\n",
    "    test_acc = accuracy_score(test_targets, test_predictions)\n",
    "    \n",
    "\n",
    "    print(\"EPOCH {}: Train acc: {:.2%} Train Loss: {:.4f} Test acc: {:.2%} Test Loss: {:.4f}\".format( \n",
    "        e+1,\n",
    "        train_acc,\n",
    "        train_loss,\n",
    "        test_acc,\n",
    "        test_loss\n",
    "    ))\n",
    "    \n",
    "    \n",
    "    if test_acc > best_accuracy:\n",
    "        torch.save(model.state_dict(), \"./ViG/vig_parameters.pt\")\n",
    "        print(f\"Saved best parameters at epoch {e+1}\")\n",
    "        best_accuracy = test_acc\n",
    "        \n",
    "    \n",
    "    metrics = {\n",
    "                \"train/train_loss\": train_loss,\n",
    "                \"train/train_accuracy\": train_acc,\n",
    "                \"test/test_loss\": test_loss,\n",
    "                \"test/test_accuracy\": test_acc,\n",
    "              }\n",
    "\n",
    "    wandb.log(metrics)    "
   ]
  },
  {
   "cell_type": "code",
   "execution_count": 24,
   "id": "b30278cb",
   "metadata": {},
   "outputs": [
    {
     "name": "stdout",
     "output_type": "stream",
     "text": [
      "\n"
     ]
    },
    {
     "data": {
      "text/html": [
       "Waiting for W&B process to finish... <strong style=\"color:green\">(success).</strong>"
      ],
      "text/plain": [
       "<IPython.core.display.HTML object>"
      ]
     },
     "metadata": {},
     "output_type": "display_data"
    },
    {
     "data": {
      "application/vnd.jupyter.widget-view+json": {
       "model_id": "",
       "version_major": 2,
       "version_minor": 0
      },
      "text/plain": [
       "VBox(children=(Label(value='0.001 MB of 0.001 MB uploaded (0.000 MB deduped)\\r'), FloatProgress(value=1.0, max…"
      ]
     },
     "metadata": {},
     "output_type": "display_data"
    },
    {
     "data": {
      "text/html": [
       "<style>\n",
       "    table.wandb td:nth-child(1) { padding: 0 10px; text-align: right }\n",
       "    .wandb-row { display: flex; flex-direction: row; flex-wrap: wrap; width: 100% }\n",
       "    .wandb-col { display: flex; flex-direction: column; flex-basis: 100%; flex: 1; padding: 10px; }\n",
       "    </style>\n",
       "<div class=\"wandb-row\"><div class=\"wandb-col\"><h3>Run history:</h3><br/><table class=\"wandb\"><tr><td>test/test_accuracy</td><td>▁▄▂▃▅▅▅▅▆▇█▇█▇█▇█▇▆▇▇█▇▇▇▇▆▇▇▇▇▇▇▇█▇▇▇█▇</td></tr><tr><td>test/test_loss</td><td>█▄▆▄▁▄▂▆▄▃▁▂▂▃▂▃▂▃▆▅▅▄▄▅▃▅█▅▆▄▄▃▅▆▃▅▆▅▃▄</td></tr><tr><td>train/train_accuracy</td><td>▁▃▅▅▆▆▆▇▇▇▇▇████████████████████████████</td></tr><tr><td>train/train_loss</td><td>█▅▄▄▃▃▃▂▂▂▂▂▁▁▁▁▁▁▁▁▁▁▁▁▁▁▁▁▁▁▁▁▁▁▁▁▁▁▁▁</td></tr></table><br/></div><div class=\"wandb-col\"><h3>Run summary:</h3><br/><table class=\"wandb\"><tr><td>test/test_accuracy</td><td>0.655</td></tr><tr><td>test/test_loss</td><td>2.15972</td></tr><tr><td>train/train_accuracy</td><td>0.9161</td></tr><tr><td>train/train_loss</td><td>0.21259</td></tr></table><br/></div></div>"
      ],
      "text/plain": [
       "<IPython.core.display.HTML object>"
      ]
     },
     "metadata": {},
     "output_type": "display_data"
    },
    {
     "data": {
      "text/html": [
       "Synced <strong style=\"color:#cdcd00\">Isotropic ViG - S</strong>: <a href=\"https://wandb.ai/leonardtd/cloud%20classification%20-%20VIG/runs/2oqngucv\" target=\"_blank\">https://wandb.ai/leonardtd/cloud%20classification%20-%20VIG/runs/2oqngucv</a><br/>Synced 6 W&B file(s), 0 media file(s), 0 artifact file(s) and 0 other file(s)"
      ],
      "text/plain": [
       "<IPython.core.display.HTML object>"
      ]
     },
     "metadata": {},
     "output_type": "display_data"
    },
    {
     "data": {
      "text/html": [
       "Find logs at: <code>./wandb/run-20220622_010533-2oqngucv/logs</code>"
      ],
      "text/plain": [
       "<IPython.core.display.HTML object>"
      ]
     },
     "metadata": {},
     "output_type": "display_data"
    }
   ],
   "source": [
    "wandb.finish()"
   ]
  },
  {
   "cell_type": "code",
   "execution_count": null,
   "id": "a2e87b65",
   "metadata": {},
   "outputs": [],
   "source": []
  },
  {
   "cell_type": "code",
   "execution_count": null,
   "id": "a5e50127",
   "metadata": {},
   "outputs": [],
   "source": []
  },
  {
   "cell_type": "code",
   "execution_count": null,
   "id": "175890e9",
   "metadata": {},
   "outputs": [],
   "source": []
  },
  {
   "cell_type": "code",
   "execution_count": null,
   "id": "c4ab8870",
   "metadata": {},
   "outputs": [],
   "source": []
  },
  {
   "cell_type": "code",
   "execution_count": null,
   "id": "16bd0888",
   "metadata": {},
   "outputs": [],
   "source": []
  },
  {
   "cell_type": "code",
   "execution_count": null,
   "id": "fb88a56a",
   "metadata": {},
   "outputs": [],
   "source": []
  },
  {
   "cell_type": "code",
   "execution_count": null,
   "id": "4be5ea99",
   "metadata": {},
   "outputs": [],
   "source": []
  },
  {
   "cell_type": "code",
   "execution_count": null,
   "id": "7e11570a",
   "metadata": {},
   "outputs": [],
   "source": []
  }
 ],
 "metadata": {
  "kernelspec": {
   "display_name": "Python 3",
   "language": "python",
   "name": "python3"
  },
  "language_info": {
   "codemirror_mode": {
    "name": "ipython",
    "version": 3
   },
   "file_extension": ".py",
   "mimetype": "text/x-python",
   "name": "python",
   "nbconvert_exporter": "python",
   "pygments_lexer": "ipython3",
   "version": "3.9.7"
  }
 },
 "nbformat": 4,
 "nbformat_minor": 5
}
