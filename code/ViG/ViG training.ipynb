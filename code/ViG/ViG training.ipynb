{
 "cells": [
  {
   "cell_type": "code",
   "execution_count": 1,
   "id": "ce02d36d-9c8a-41a8-baf5-89341a35323f",
   "metadata": {},
   "outputs": [
    {
     "name": "stdout",
     "output_type": "stream",
     "text": [
      "/home/ltorres/leo/Cloud-Classification/code\n"
     ]
    }
   ],
   "source": [
    "%cd .."
   ]
  },
  {
   "cell_type": "code",
   "execution_count": 2,
   "id": "0cb1df6a-fd0e-4054-924e-698c8338f97a",
   "metadata": {},
   "outputs": [],
   "source": [
    "%load_ext autoreload\n",
    "%autoreload 2"
   ]
  },
  {
   "cell_type": "code",
   "execution_count": 3,
   "id": "f339bdec-e9c9-40fb-a173-e303426be852",
   "metadata": {},
   "outputs": [],
   "source": [
    "import pandas as pd\n",
    "import numpy as np\n",
    "import torch\n",
    "import matplotlib.pyplot as plt"
   ]
  },
  {
   "cell_type": "code",
   "execution_count": 4,
   "id": "421988bf-84ce-4da7-91b5-18202d57762a",
   "metadata": {},
   "outputs": [],
   "source": [
    "torch.manual_seed(7)\n",
    "np.random.seed(7)"
   ]
  },
  {
   "cell_type": "code",
   "execution_count": 5,
   "id": "a6cf04ca-7936-45fa-bcc9-23d0eb0f616f",
   "metadata": {},
   "outputs": [],
   "source": [
    "import random"
   ]
  },
  {
   "cell_type": "code",
   "execution_count": 6,
   "id": "e7525bec-28f6-4aa6-aeb6-e319fc9d55d6",
   "metadata": {},
   "outputs": [],
   "source": [
    "import os\n",
    "from torchvision.io import read_image\n",
    "import torchvision.transforms as T\n",
    "import torch.nn as nn\n",
    "import torch.nn.functional as F\n",
    "from torch.optim import lr_scheduler\n",
    "import networkx as nx\n",
    "import glob"
   ]
  },
  {
   "cell_type": "code",
   "execution_count": 7,
   "id": "16762ad9-18f6-4812-8d86-a2f3ac25d5a4",
   "metadata": {},
   "outputs": [],
   "source": [
    "from src import config\n",
    "from src import engine\n",
    "from src import utils"
   ]
  },
  {
   "cell_type": "code",
   "execution_count": 8,
   "id": "0082f33e-797d-4965-a54a-806f3f82f968",
   "metadata": {},
   "outputs": [],
   "source": [
    "from recipe.utils import *"
   ]
  },
  {
   "cell_type": "code",
   "execution_count": 9,
   "id": "fbb0da08-947a-406a-8ce5-d34330fbcf58",
   "metadata": {},
   "outputs": [],
   "source": [
    "torch.manual_seed(7)\n",
    "np.random.seed(7)"
   ]
  },
  {
   "cell_type": "markdown",
   "id": "2daf3c7b-98a9-4301-8936-747d5efed64c",
   "metadata": {},
   "source": [
    "### Dataloaders"
   ]
  },
  {
   "cell_type": "code",
   "execution_count": 10,
   "id": "5beb7aec",
   "metadata": {},
   "outputs": [],
   "source": [
    "def get_gcd_paths(data_dir, dataset_type):\n",
    "    return glob.glob(\n",
    "                     os.path.join(data_dir,f'GCD/{dataset_type}/**/*.jpg'), \n",
    "                     recursive=True\n",
    "                    )"
   ]
  },
  {
   "cell_type": "code",
   "execution_count": 11,
   "id": "4cdb7422-9a14-41bc-9300-ed4252258600",
   "metadata": {},
   "outputs": [],
   "source": [
    "path_train_images = get_gcd_paths('/data/mandonaire','train')\n",
    "#random.shuffle(path_train_images)\n",
    "\n",
    "\n",
    "train_dataset = GCD(path_train_images, resize=160,augmentation=True)\n",
    "\n",
    "train_loader = torch.utils.data.DataLoader(\n",
    "        train_dataset,\n",
    "        batch_size=8,\n",
    "        num_workers=8,\n",
    "        shuffle=True,\n",
    "    )"
   ]
  },
  {
   "cell_type": "code",
   "execution_count": 12,
   "id": "10050bb4-93bd-4135-b01f-c0daec576d6c",
   "metadata": {},
   "outputs": [
    {
     "data": {
      "text/plain": [
       "10000"
      ]
     },
     "execution_count": 12,
     "metadata": {},
     "output_type": "execute_result"
    }
   ],
   "source": [
    "len(train_dataset)"
   ]
  },
  {
   "cell_type": "code",
   "execution_count": 13,
   "id": "98a98ca1-e254-45d1-9872-38aad7f8028c",
   "metadata": {},
   "outputs": [],
   "source": [
    "path_test_images = get_gcd_paths('/data/mandonaire','test')\n",
    "\n",
    "test_dataset = GCD(path_test_images, resize=160, augmentation=False)\n",
    "\n",
    "test_loader = torch.utils.data.DataLoader(\n",
    "        test_dataset,\n",
    "        batch_size=8,\n",
    "        num_workers=8,\n",
    "        shuffle=True,\n",
    "    )"
   ]
  },
  {
   "cell_type": "code",
   "execution_count": 14,
   "id": "5ebfea8b",
   "metadata": {},
   "outputs": [
    {
     "data": {
      "text/plain": [
       "9000"
      ]
     },
     "execution_count": 14,
     "metadata": {},
     "output_type": "execute_result"
    }
   ],
   "source": [
    "len(test_dataset)"
   ]
  },
  {
   "cell_type": "markdown",
   "id": "a43a5a2e",
   "metadata": {},
   "source": [
    "## Model"
   ]
  },
  {
   "cell_type": "code",
   "execution_count": 15,
   "id": "407c3436",
   "metadata": {},
   "outputs": [],
   "source": [
    "from ViG.src.models import IsotropicVIG"
   ]
  },
  {
   "cell_type": "code",
   "execution_count": 16,
   "id": "85016980",
   "metadata": {},
   "outputs": [],
   "source": [
    "model = IsotropicVIG(img_hw=160, in_channels=64, out_channels=7, num_blocks=2, kernel_size=8, patch_size=8)"
   ]
  },
  {
   "cell_type": "code",
   "execution_count": 17,
   "id": "633da794",
   "metadata": {},
   "outputs": [],
   "source": [
    "from torchsummary import summary"
   ]
  },
  {
   "cell_type": "code",
   "execution_count": 18,
   "id": "73ceb002",
   "metadata": {},
   "outputs": [],
   "source": [
    "device = 'cuda:3'\n",
    "EPOCHS = 200\n",
    "LR = 3e-4"
   ]
  },
  {
   "cell_type": "markdown",
   "id": "08e06d06-d6d2-42cf-b59e-663810c590d5",
   "metadata": {},
   "source": [
    "### Logger"
   ]
  },
  {
   "cell_type": "code",
   "execution_count": 19,
   "id": "a2bc62f3-7b43-4dcd-83e1-3a8cabeeee26",
   "metadata": {},
   "outputs": [],
   "source": [
    "import wandb"
   ]
  },
  {
   "cell_type": "code",
   "execution_count": 20,
   "id": "aee1b866-a008-4280-bc21-6646b951c3ec",
   "metadata": {},
   "outputs": [
    {
     "name": "stderr",
     "output_type": "stream",
     "text": [
      "\u001b[34m\u001b[1mwandb\u001b[0m: Currently logged in as: \u001b[33mleonardtd\u001b[0m (use `wandb login --relogin` to force relogin)\n"
     ]
    },
    {
     "data": {
      "text/html": [
       "wandb version 0.12.19 is available!  To upgrade, please run:\n",
       " $ pip install wandb --upgrade"
      ],
      "text/plain": [
       "<IPython.core.display.HTML object>"
      ]
     },
     "metadata": {},
     "output_type": "display_data"
    },
    {
     "data": {
      "text/html": [
       "Tracking run with wandb version 0.12.11"
      ],
      "text/plain": [
       "<IPython.core.display.HTML object>"
      ]
     },
     "metadata": {},
     "output_type": "display_data"
    },
    {
     "data": {
      "text/html": [
       "Run data is saved locally in <code>/home/ltorres/leo/Cloud-Classification/code/wandb/run-20220622_122353-lzjh17oj</code>"
      ],
      "text/plain": [
       "<IPython.core.display.HTML object>"
      ]
     },
     "metadata": {},
     "output_type": "display_data"
    },
    {
     "data": {
      "text/html": [
       "Syncing run <strong><a href=\"https://wandb.ai/leonardtd/cloud%20classification%20-%20VIG/runs/lzjh17oj\" target=\"_blank\">Isotropic ViG - S2</a></strong> to <a href=\"https://wandb.ai/leonardtd/cloud%20classification%20-%20VIG\" target=\"_blank\">Weights & Biases</a> (<a href=\"https://wandb.me/run\" target=\"_blank\">docs</a>)<br/>"
      ],
      "text/plain": [
       "<IPython.core.display.HTML object>"
      ]
     },
     "metadata": {},
     "output_type": "display_data"
    },
    {
     "data": {
      "text/html": [
       "<button onClick=\"this.nextSibling.style.display='block';this.style.display='none';\">Display W&B run</button><iframe src=\"https://wandb.ai/leonardtd/cloud%20classification%20-%20VIG/runs/lzjh17oj?jupyter=true\" style=\"border:none;width:100%;height:420px;display:none;\"></iframe>"
      ],
      "text/plain": [
       "<wandb.sdk.wandb_run.Run at 0x7f8d5edaa670>"
      ]
     },
     "execution_count": 20,
     "metadata": {},
     "output_type": "execute_result"
    }
   ],
   "source": [
    "wandb.init(\n",
    "    # Set the project where this run will be logged\n",
    "    project=\"cloud classification - VIG\",\n",
    "    # We pass a run name (otherwise it’ll be randomly assigned, like sunshine-lollypop-10)\n",
    "    name=\"Isotropic ViG - S2\", \n",
    "    # Track hyperparameters and run metadata\n",
    "    config={\n",
    "    \"learning_rate\": LR,\n",
    "    \"architecture\": \"Isotropic ViG - S2\",\n",
    "    \"loss\": \"CrossEntropy\",\n",
    "    \"optim\": \"SGD\",\n",
    "    \"dataset\": \"GCD\",\n",
    "    \"epochs\": EPOCHS,\n",
    "  })"
   ]
  },
  {
   "cell_type": "markdown",
   "id": "1886e584-776c-40df-888f-5278fe5a9c4c",
   "metadata": {},
   "source": [
    "### Training"
   ]
  },
  {
   "cell_type": "code",
   "execution_count": 21,
   "id": "d379c9cd",
   "metadata": {},
   "outputs": [],
   "source": [
    "model = model.to(device)"
   ]
  },
  {
   "cell_type": "code",
   "execution_count": 22,
   "id": "8b5eea1d-441a-48d8-9ba3-b1e65bb9ea93",
   "metadata": {},
   "outputs": [],
   "source": [
    "from sklearn.metrics import accuracy_score"
   ]
  },
  {
   "cell_type": "code",
   "execution_count": 23,
   "id": "f24462c6-31a5-4f06-9e27-8591b9405d53",
   "metadata": {},
   "outputs": [
    {
     "name": "stderr",
     "output_type": "stream",
     "text": [
      "100%|██████████| 1250/1250 [00:25<00:00, 49.19it/s]\n",
      "100%|██████████| 1125/1125 [00:08<00:00, 125.28it/s]\n"
     ]
    },
    {
     "name": "stdout",
     "output_type": "stream",
     "text": [
      "EPOCH 1: Train acc: 48.50% Train Loss: 1.8541 Test acc: 40.53% Test Loss: 2.8742\n",
      "Saved best parameters at epoch 1\n"
     ]
    },
    {
     "name": "stderr",
     "output_type": "stream",
     "text": [
      "100%|██████████| 1250/1250 [00:24<00:00, 50.08it/s]\n",
      "100%|██████████| 1125/1125 [00:09<00:00, 124.55it/s]\n"
     ]
    },
    {
     "name": "stdout",
     "output_type": "stream",
     "text": [
      "EPOCH 2: Train acc: 59.64% Train Loss: 1.1538 Test acc: 52.26% Test Loss: 2.5859\n",
      "Saved best parameters at epoch 2\n"
     ]
    },
    {
     "name": "stderr",
     "output_type": "stream",
     "text": [
      "100%|██████████| 1250/1250 [00:25<00:00, 49.93it/s]\n",
      "100%|██████████| 1125/1125 [00:08<00:00, 125.32it/s]\n"
     ]
    },
    {
     "name": "stdout",
     "output_type": "stream",
     "text": [
      "EPOCH 3: Train acc: 62.68% Train Loss: 0.9885 Test acc: 47.17% Test Loss: 2.6043\n"
     ]
    },
    {
     "name": "stderr",
     "output_type": "stream",
     "text": [
      "100%|██████████| 1250/1250 [00:23<00:00, 52.21it/s]\n",
      "100%|██████████| 1125/1125 [00:08<00:00, 125.58it/s]\n"
     ]
    },
    {
     "name": "stdout",
     "output_type": "stream",
     "text": [
      "EPOCH 4: Train acc: 65.56% Train Loss: 0.9035 Test acc: 54.78% Test Loss: 2.5134\n",
      "Saved best parameters at epoch 4\n"
     ]
    },
    {
     "name": "stderr",
     "output_type": "stream",
     "text": [
      "100%|██████████| 1250/1250 [00:24<00:00, 52.07it/s]\n",
      "100%|██████████| 1125/1125 [00:09<00:00, 124.99it/s]\n"
     ]
    },
    {
     "name": "stdout",
     "output_type": "stream",
     "text": [
      "EPOCH 5: Train acc: 67.45% Train Loss: 0.8628 Test acc: 56.46% Test Loss: 2.3914\n",
      "Saved best parameters at epoch 5\n"
     ]
    },
    {
     "name": "stderr",
     "output_type": "stream",
     "text": [
      "100%|██████████| 1250/1250 [00:24<00:00, 50.90it/s]\n",
      "100%|██████████| 1125/1125 [00:09<00:00, 124.66it/s]\n"
     ]
    },
    {
     "name": "stdout",
     "output_type": "stream",
     "text": [
      "EPOCH 6: Train acc: 68.86% Train Loss: 0.8195 Test acc: 58.81% Test Loss: 2.2953\n",
      "Saved best parameters at epoch 6\n"
     ]
    },
    {
     "name": "stderr",
     "output_type": "stream",
     "text": [
      "100%|██████████| 1250/1250 [00:24<00:00, 50.69it/s]\n",
      "100%|██████████| 1125/1125 [00:08<00:00, 125.31it/s]\n"
     ]
    },
    {
     "name": "stdout",
     "output_type": "stream",
     "text": [
      "EPOCH 7: Train acc: 69.07% Train Loss: 0.8073 Test acc: 57.18% Test Loss: 2.2127\n"
     ]
    },
    {
     "name": "stderr",
     "output_type": "stream",
     "text": [
      "100%|██████████| 1250/1250 [00:24<00:00, 50.41it/s]\n",
      "100%|██████████| 1125/1125 [00:09<00:00, 124.60it/s]\n"
     ]
    },
    {
     "name": "stdout",
     "output_type": "stream",
     "text": [
      "EPOCH 8: Train acc: 69.89% Train Loss: 0.7809 Test acc: 58.20% Test Loss: 2.2918\n"
     ]
    },
    {
     "name": "stderr",
     "output_type": "stream",
     "text": [
      "100%|██████████| 1250/1250 [00:25<00:00, 49.97it/s]\n",
      "100%|██████████| 1125/1125 [00:08<00:00, 125.84it/s]\n"
     ]
    },
    {
     "name": "stdout",
     "output_type": "stream",
     "text": [
      "EPOCH 9: Train acc: 71.99% Train Loss: 0.7485 Test acc: 56.47% Test Loss: 2.3230\n"
     ]
    },
    {
     "name": "stderr",
     "output_type": "stream",
     "text": [
      "100%|██████████| 1250/1250 [00:24<00:00, 51.53it/s]\n",
      "100%|██████████| 1125/1125 [00:09<00:00, 124.67it/s]\n"
     ]
    },
    {
     "name": "stdout",
     "output_type": "stream",
     "text": [
      "EPOCH 10: Train acc: 71.74% Train Loss: 0.7445 Test acc: 60.06% Test Loss: 2.2040\n",
      "Saved best parameters at epoch 10\n"
     ]
    },
    {
     "name": "stderr",
     "output_type": "stream",
     "text": [
      "100%|██████████| 1250/1250 [00:24<00:00, 50.90it/s]\n",
      "100%|██████████| 1125/1125 [00:08<00:00, 125.20it/s]\n"
     ]
    },
    {
     "name": "stdout",
     "output_type": "stream",
     "text": [
      "EPOCH 11: Train acc: 72.30% Train Loss: 0.7208 Test acc: 58.74% Test Loss: 2.1381\n"
     ]
    },
    {
     "name": "stderr",
     "output_type": "stream",
     "text": [
      "100%|██████████| 1250/1250 [00:24<00:00, 50.83it/s]\n",
      "100%|██████████| 1125/1125 [00:08<00:00, 125.08it/s]\n"
     ]
    },
    {
     "name": "stdout",
     "output_type": "stream",
     "text": [
      "EPOCH 12: Train acc: 72.46% Train Loss: 0.7185 Test acc: 60.06% Test Loss: 1.9698\n"
     ]
    },
    {
     "name": "stderr",
     "output_type": "stream",
     "text": [
      "100%|██████████| 1250/1250 [00:24<00:00, 50.55it/s]\n",
      "100%|██████████| 1125/1125 [00:08<00:00, 125.06it/s]\n"
     ]
    },
    {
     "name": "stdout",
     "output_type": "stream",
     "text": [
      "EPOCH 13: Train acc: 73.76% Train Loss: 0.6927 Test acc: 61.54% Test Loss: 2.1831\n",
      "Saved best parameters at epoch 13\n"
     ]
    },
    {
     "name": "stderr",
     "output_type": "stream",
     "text": [
      "100%|██████████| 1250/1250 [00:24<00:00, 50.76it/s]\n",
      "100%|██████████| 1125/1125 [00:08<00:00, 125.31it/s]\n"
     ]
    },
    {
     "name": "stdout",
     "output_type": "stream",
     "text": [
      "EPOCH 14: Train acc: 73.41% Train Loss: 0.6814 Test acc: 58.61% Test Loss: 2.2508\n"
     ]
    },
    {
     "name": "stderr",
     "output_type": "stream",
     "text": [
      "100%|██████████| 1250/1250 [00:24<00:00, 51.64it/s]\n",
      "100%|██████████| 1125/1125 [00:09<00:00, 123.76it/s]\n"
     ]
    },
    {
     "name": "stdout",
     "output_type": "stream",
     "text": [
      "EPOCH 15: Train acc: 74.47% Train Loss: 0.6700 Test acc: 60.41% Test Loss: 2.1466\n"
     ]
    },
    {
     "name": "stderr",
     "output_type": "stream",
     "text": [
      "100%|██████████| 1250/1250 [00:24<00:00, 51.36it/s]\n",
      "100%|██████████| 1125/1125 [00:08<00:00, 125.32it/s]\n"
     ]
    },
    {
     "name": "stdout",
     "output_type": "stream",
     "text": [
      "EPOCH 16: Train acc: 74.36% Train Loss: 0.6763 Test acc: 58.12% Test Loss: 2.2710\n"
     ]
    },
    {
     "name": "stderr",
     "output_type": "stream",
     "text": [
      "100%|██████████| 1250/1250 [00:24<00:00, 50.47it/s]\n",
      "100%|██████████| 1125/1125 [00:08<00:00, 125.31it/s]\n"
     ]
    },
    {
     "name": "stdout",
     "output_type": "stream",
     "text": [
      "EPOCH 17: Train acc: 75.17% Train Loss: 0.6498 Test acc: 63.10% Test Loss: 1.9087\n",
      "Saved best parameters at epoch 17\n"
     ]
    },
    {
     "name": "stderr",
     "output_type": "stream",
     "text": [
      "100%|██████████| 1250/1250 [00:24<00:00, 50.81it/s]\n",
      "100%|██████████| 1125/1125 [00:08<00:00, 125.55it/s]\n"
     ]
    },
    {
     "name": "stdout",
     "output_type": "stream",
     "text": [
      "EPOCH 18: Train acc: 75.28% Train Loss: 0.6440 Test acc: 61.28% Test Loss: 2.2254\n"
     ]
    },
    {
     "name": "stderr",
     "output_type": "stream",
     "text": [
      "100%|██████████| 1250/1250 [00:25<00:00, 49.35it/s]\n",
      "100%|██████████| 1125/1125 [00:08<00:00, 125.37it/s]\n"
     ]
    },
    {
     "name": "stdout",
     "output_type": "stream",
     "text": [
      "EPOCH 19: Train acc: 76.38% Train Loss: 0.6279 Test acc: 60.83% Test Loss: 2.2658\n"
     ]
    },
    {
     "name": "stderr",
     "output_type": "stream",
     "text": [
      "100%|██████████| 1250/1250 [00:24<00:00, 50.49it/s]\n",
      "100%|██████████| 1125/1125 [00:08<00:00, 125.10it/s]\n"
     ]
    },
    {
     "name": "stdout",
     "output_type": "stream",
     "text": [
      "EPOCH 20: Train acc: 75.85% Train Loss: 0.6308 Test acc: 62.27% Test Loss: 2.1938\n"
     ]
    },
    {
     "name": "stderr",
     "output_type": "stream",
     "text": [
      "100%|██████████| 1250/1250 [00:24<00:00, 50.46it/s]\n",
      "100%|██████████| 1125/1125 [00:08<00:00, 125.91it/s]\n"
     ]
    },
    {
     "name": "stdout",
     "output_type": "stream",
     "text": [
      "EPOCH 21: Train acc: 75.96% Train Loss: 0.6226 Test acc: 62.76% Test Loss: 1.8331\n"
     ]
    },
    {
     "name": "stderr",
     "output_type": "stream",
     "text": [
      "100%|██████████| 1250/1250 [00:24<00:00, 50.53it/s]\n",
      "100%|██████████| 1125/1125 [00:08<00:00, 125.33it/s]\n"
     ]
    },
    {
     "name": "stdout",
     "output_type": "stream",
     "text": [
      "EPOCH 22: Train acc: 76.14% Train Loss: 0.6222 Test acc: 60.34% Test Loss: 2.0485\n"
     ]
    },
    {
     "name": "stderr",
     "output_type": "stream",
     "text": [
      "100%|██████████| 1250/1250 [00:24<00:00, 50.64it/s]\n",
      "100%|██████████| 1125/1125 [00:08<00:00, 125.17it/s]\n"
     ]
    },
    {
     "name": "stdout",
     "output_type": "stream",
     "text": [
      "EPOCH 23: Train acc: 77.42% Train Loss: 0.5985 Test acc: 62.29% Test Loss: 2.0993\n"
     ]
    },
    {
     "name": "stderr",
     "output_type": "stream",
     "text": [
      "100%|██████████| 1250/1250 [00:24<00:00, 51.13it/s]\n",
      "100%|██████████| 1125/1125 [00:09<00:00, 124.00it/s]\n"
     ]
    },
    {
     "name": "stdout",
     "output_type": "stream",
     "text": [
      "EPOCH 24: Train acc: 77.26% Train Loss: 0.5968 Test acc: 62.11% Test Loss: 2.0693\n"
     ]
    },
    {
     "name": "stderr",
     "output_type": "stream",
     "text": [
      "100%|██████████| 1250/1250 [00:24<00:00, 50.09it/s]\n",
      "100%|██████████| 1125/1125 [00:08<00:00, 125.82it/s]\n"
     ]
    },
    {
     "name": "stdout",
     "output_type": "stream",
     "text": [
      "EPOCH 25: Train acc: 77.18% Train Loss: 0.5926 Test acc: 62.54% Test Loss: 2.3853\n"
     ]
    },
    {
     "name": "stderr",
     "output_type": "stream",
     "text": [
      "100%|██████████| 1250/1250 [00:24<00:00, 50.74it/s]\n",
      "100%|██████████| 1125/1125 [00:09<00:00, 124.76it/s]\n"
     ]
    },
    {
     "name": "stdout",
     "output_type": "stream",
     "text": [
      "EPOCH 26: Train acc: 77.82% Train Loss: 0.5818 Test acc: 61.69% Test Loss: 2.1442\n"
     ]
    },
    {
     "name": "stderr",
     "output_type": "stream",
     "text": [
      "100%|██████████| 1250/1250 [00:24<00:00, 50.40it/s]\n",
      "100%|██████████| 1125/1125 [00:09<00:00, 124.64it/s]\n"
     ]
    },
    {
     "name": "stdout",
     "output_type": "stream",
     "text": [
      "EPOCH 27: Train acc: 77.49% Train Loss: 0.5851 Test acc: 62.04% Test Loss: 2.1219\n"
     ]
    },
    {
     "name": "stderr",
     "output_type": "stream",
     "text": [
      "100%|██████████| 1250/1250 [00:23<00:00, 52.21it/s]\n",
      "100%|██████████| 1125/1125 [00:09<00:00, 124.81it/s]\n"
     ]
    },
    {
     "name": "stdout",
     "output_type": "stream",
     "text": [
      "EPOCH 28: Train acc: 78.95% Train Loss: 0.5628 Test acc: 61.71% Test Loss: 2.3700\n"
     ]
    },
    {
     "name": "stderr",
     "output_type": "stream",
     "text": [
      "100%|██████████| 1250/1250 [00:24<00:00, 51.18it/s]\n",
      "100%|██████████| 1125/1125 [00:08<00:00, 125.63it/s]\n"
     ]
    },
    {
     "name": "stdout",
     "output_type": "stream",
     "text": [
      "EPOCH 29: Train acc: 78.11% Train Loss: 0.5680 Test acc: 61.83% Test Loss: 2.1408\n"
     ]
    },
    {
     "name": "stderr",
     "output_type": "stream",
     "text": [
      "100%|██████████| 1250/1250 [00:24<00:00, 50.92it/s]\n",
      "100%|██████████| 1125/1125 [00:08<00:00, 125.48it/s]\n"
     ]
    },
    {
     "name": "stdout",
     "output_type": "stream",
     "text": [
      "EPOCH 30: Train acc: 78.47% Train Loss: 0.5644 Test acc: 63.29% Test Loss: 2.1846\n",
      "Saved best parameters at epoch 30\n"
     ]
    },
    {
     "name": "stderr",
     "output_type": "stream",
     "text": [
      "100%|██████████| 1250/1250 [00:24<00:00, 50.07it/s]\n",
      "100%|██████████| 1125/1125 [00:08<00:00, 125.09it/s]\n"
     ]
    },
    {
     "name": "stdout",
     "output_type": "stream",
     "text": [
      "EPOCH 31: Train acc: 78.68% Train Loss: 0.5540 Test acc: 62.27% Test Loss: 2.2654\n"
     ]
    },
    {
     "name": "stderr",
     "output_type": "stream",
     "text": [
      "100%|██████████| 1250/1250 [00:24<00:00, 50.84it/s]\n",
      "100%|██████████| 1125/1125 [00:09<00:00, 124.43it/s]\n"
     ]
    },
    {
     "name": "stdout",
     "output_type": "stream",
     "text": [
      "EPOCH 32: Train acc: 78.30% Train Loss: 0.5645 Test acc: 63.30% Test Loss: 2.1500\n",
      "Saved best parameters at epoch 32\n"
     ]
    },
    {
     "name": "stderr",
     "output_type": "stream",
     "text": [
      "100%|██████████| 1250/1250 [00:24<00:00, 50.09it/s]\n",
      "100%|██████████| 1125/1125 [00:09<00:00, 124.96it/s]\n"
     ]
    },
    {
     "name": "stdout",
     "output_type": "stream",
     "text": [
      "EPOCH 33: Train acc: 79.16% Train Loss: 0.5422 Test acc: 62.48% Test Loss: 2.0343\n"
     ]
    },
    {
     "name": "stderr",
     "output_type": "stream",
     "text": [
      "100%|██████████| 1250/1250 [00:24<00:00, 51.74it/s]\n",
      "100%|██████████| 1125/1125 [00:08<00:00, 125.39it/s]\n"
     ]
    },
    {
     "name": "stdout",
     "output_type": "stream",
     "text": [
      "EPOCH 34: Train acc: 78.98% Train Loss: 0.5462 Test acc: 63.50% Test Loss: 2.3467\n",
      "Saved best parameters at epoch 34\n"
     ]
    },
    {
     "name": "stderr",
     "output_type": "stream",
     "text": [
      "100%|██████████| 1250/1250 [00:24<00:00, 51.24it/s]\n",
      "100%|██████████| 1125/1125 [00:08<00:00, 125.06it/s]\n"
     ]
    },
    {
     "name": "stdout",
     "output_type": "stream",
     "text": [
      "EPOCH 35: Train acc: 79.27% Train Loss: 0.5338 Test acc: 63.89% Test Loss: 2.5619\n",
      "Saved best parameters at epoch 35\n"
     ]
    },
    {
     "name": "stderr",
     "output_type": "stream",
     "text": [
      "100%|██████████| 1250/1250 [00:24<00:00, 50.44it/s]\n",
      "100%|██████████| 1125/1125 [00:09<00:00, 124.81it/s]\n"
     ]
    },
    {
     "name": "stdout",
     "output_type": "stream",
     "text": [
      "EPOCH 36: Train acc: 79.53% Train Loss: 0.5366 Test acc: 64.90% Test Loss: 2.1010\n",
      "Saved best parameters at epoch 36\n"
     ]
    },
    {
     "name": "stderr",
     "output_type": "stream",
     "text": [
      "100%|██████████| 1250/1250 [00:24<00:00, 51.02it/s]\n",
      "100%|██████████| 1125/1125 [00:08<00:00, 125.28it/s]\n"
     ]
    },
    {
     "name": "stdout",
     "output_type": "stream",
     "text": [
      "EPOCH 37: Train acc: 79.41% Train Loss: 0.5302 Test acc: 63.34% Test Loss: 2.1018\n"
     ]
    },
    {
     "name": "stderr",
     "output_type": "stream",
     "text": [
      "100%|██████████| 1250/1250 [00:24<00:00, 50.91it/s]\n",
      "100%|██████████| 1125/1125 [00:09<00:00, 124.09it/s]\n"
     ]
    },
    {
     "name": "stdout",
     "output_type": "stream",
     "text": [
      "EPOCH 38: Train acc: 79.97% Train Loss: 0.5249 Test acc: 64.06% Test Loss: 1.8616\n"
     ]
    },
    {
     "name": "stderr",
     "output_type": "stream",
     "text": [
      "100%|██████████| 1250/1250 [00:24<00:00, 51.51it/s]\n",
      "100%|██████████| 1125/1125 [00:09<00:00, 124.62it/s]\n"
     ]
    },
    {
     "name": "stdout",
     "output_type": "stream",
     "text": [
      "EPOCH 39: Train acc: 80.61% Train Loss: 0.5145 Test acc: 65.23% Test Loss: 1.9856\n",
      "Saved best parameters at epoch 39\n"
     ]
    },
    {
     "name": "stderr",
     "output_type": "stream",
     "text": [
      "100%|██████████| 1250/1250 [00:24<00:00, 51.01it/s]\n",
      "100%|██████████| 1125/1125 [00:08<00:00, 125.57it/s]\n"
     ]
    },
    {
     "name": "stdout",
     "output_type": "stream",
     "text": [
      "EPOCH 40: Train acc: 79.89% Train Loss: 0.5202 Test acc: 63.62% Test Loss: 2.1800\n"
     ]
    },
    {
     "name": "stderr",
     "output_type": "stream",
     "text": [
      "100%|██████████| 1250/1250 [00:25<00:00, 49.58it/s]\n",
      "100%|██████████| 1125/1125 [00:08<00:00, 125.66it/s]\n"
     ]
    },
    {
     "name": "stdout",
     "output_type": "stream",
     "text": [
      "EPOCH 41: Train acc: 80.27% Train Loss: 0.5176 Test acc: 64.99% Test Loss: 2.0265\n"
     ]
    },
    {
     "name": "stderr",
     "output_type": "stream",
     "text": [
      "100%|██████████| 1250/1250 [00:25<00:00, 50.00it/s]\n",
      "100%|██████████| 1125/1125 [00:09<00:00, 124.45it/s]\n"
     ]
    },
    {
     "name": "stdout",
     "output_type": "stream",
     "text": [
      "EPOCH 42: Train acc: 80.66% Train Loss: 0.5102 Test acc: 65.26% Test Loss: 2.0886\n",
      "Saved best parameters at epoch 42\n"
     ]
    },
    {
     "name": "stderr",
     "output_type": "stream",
     "text": [
      "100%|██████████| 1250/1250 [00:25<00:00, 49.66it/s]\n",
      "100%|██████████| 1125/1125 [00:09<00:00, 123.85it/s]\n"
     ]
    },
    {
     "name": "stdout",
     "output_type": "stream",
     "text": [
      "EPOCH 43: Train acc: 80.92% Train Loss: 0.4994 Test acc: 64.86% Test Loss: 2.2016\n"
     ]
    },
    {
     "name": "stderr",
     "output_type": "stream",
     "text": [
      "100%|██████████| 1250/1250 [00:24<00:00, 50.23it/s]\n",
      "100%|██████████| 1125/1125 [00:08<00:00, 125.84it/s]\n"
     ]
    },
    {
     "name": "stdout",
     "output_type": "stream",
     "text": [
      "EPOCH 44: Train acc: 80.39% Train Loss: 0.4991 Test acc: 65.31% Test Loss: 2.1493\n",
      "Saved best parameters at epoch 44\n"
     ]
    },
    {
     "name": "stderr",
     "output_type": "stream",
     "text": [
      "100%|██████████| 1250/1250 [00:24<00:00, 50.68it/s]\n",
      "100%|██████████| 1125/1125 [00:08<00:00, 125.03it/s]\n"
     ]
    },
    {
     "name": "stdout",
     "output_type": "stream",
     "text": [
      "EPOCH 45: Train acc: 80.87% Train Loss: 0.5017 Test acc: 63.96% Test Loss: 2.0121\n"
     ]
    },
    {
     "name": "stderr",
     "output_type": "stream",
     "text": [
      "100%|██████████| 1250/1250 [00:25<00:00, 49.18it/s]\n",
      "100%|██████████| 1125/1125 [00:08<00:00, 125.33it/s]\n"
     ]
    },
    {
     "name": "stdout",
     "output_type": "stream",
     "text": [
      "EPOCH 46: Train acc: 80.77% Train Loss: 0.4926 Test acc: 65.09% Test Loss: 2.1105\n"
     ]
    },
    {
     "name": "stderr",
     "output_type": "stream",
     "text": [
      "100%|██████████| 1250/1250 [00:24<00:00, 50.58it/s]\n",
      "100%|██████████| 1125/1125 [00:08<00:00, 125.46it/s]\n"
     ]
    },
    {
     "name": "stdout",
     "output_type": "stream",
     "text": [
      "EPOCH 47: Train acc: 81.40% Train Loss: 0.4942 Test acc: 64.29% Test Loss: 2.0921\n"
     ]
    },
    {
     "name": "stderr",
     "output_type": "stream",
     "text": [
      "100%|██████████| 1250/1250 [00:24<00:00, 51.49it/s]\n",
      "100%|██████████| 1125/1125 [00:08<00:00, 125.46it/s]\n"
     ]
    },
    {
     "name": "stdout",
     "output_type": "stream",
     "text": [
      "EPOCH 48: Train acc: 81.28% Train Loss: 0.4848 Test acc: 64.31% Test Loss: 2.1895\n"
     ]
    },
    {
     "name": "stderr",
     "output_type": "stream",
     "text": [
      "100%|██████████| 1250/1250 [00:24<00:00, 51.80it/s]\n",
      "100%|██████████| 1125/1125 [00:08<00:00, 125.35it/s]\n"
     ]
    },
    {
     "name": "stdout",
     "output_type": "stream",
     "text": [
      "EPOCH 49: Train acc: 82.39% Train Loss: 0.4771 Test acc: 65.29% Test Loss: 2.1991\n"
     ]
    },
    {
     "name": "stderr",
     "output_type": "stream",
     "text": [
      "100%|██████████| 1250/1250 [00:24<00:00, 50.81it/s]\n",
      "100%|██████████| 1125/1125 [00:09<00:00, 124.91it/s]\n"
     ]
    },
    {
     "name": "stdout",
     "output_type": "stream",
     "text": [
      "EPOCH 50: Train acc: 81.78% Train Loss: 0.4799 Test acc: 64.18% Test Loss: 1.9929\n"
     ]
    },
    {
     "name": "stderr",
     "output_type": "stream",
     "text": [
      "100%|██████████| 1250/1250 [00:24<00:00, 50.96it/s]\n",
      "100%|██████████| 1125/1125 [00:08<00:00, 125.78it/s]\n"
     ]
    },
    {
     "name": "stdout",
     "output_type": "stream",
     "text": [
      "EPOCH 51: Train acc: 81.98% Train Loss: 0.4587 Test acc: 64.94% Test Loss: 2.2123\n"
     ]
    },
    {
     "name": "stderr",
     "output_type": "stream",
     "text": [
      "100%|██████████| 1250/1250 [00:24<00:00, 50.79it/s]\n",
      "100%|██████████| 1125/1125 [00:08<00:00, 125.18it/s]\n"
     ]
    },
    {
     "name": "stdout",
     "output_type": "stream",
     "text": [
      "EPOCH 52: Train acc: 82.63% Train Loss: 0.4502 Test acc: 64.66% Test Loss: 2.3477\n"
     ]
    },
    {
     "name": "stderr",
     "output_type": "stream",
     "text": [
      "100%|██████████| 1250/1250 [00:24<00:00, 51.56it/s]\n",
      "100%|██████████| 1125/1125 [00:09<00:00, 124.99it/s]\n"
     ]
    },
    {
     "name": "stdout",
     "output_type": "stream",
     "text": [
      "EPOCH 53: Train acc: 83.13% Train Loss: 0.4464 Test acc: 65.61% Test Loss: 2.1656\n",
      "Saved best parameters at epoch 53\n"
     ]
    },
    {
     "name": "stderr",
     "output_type": "stream",
     "text": [
      "100%|██████████| 1250/1250 [00:25<00:00, 48.91it/s]\n",
      "100%|██████████| 1125/1125 [00:08<00:00, 125.80it/s]\n"
     ]
    },
    {
     "name": "stdout",
     "output_type": "stream",
     "text": [
      "EPOCH 54: Train acc: 82.84% Train Loss: 0.4490 Test acc: 64.97% Test Loss: 2.2173\n"
     ]
    },
    {
     "name": "stderr",
     "output_type": "stream",
     "text": [
      "100%|██████████| 1250/1250 [00:24<00:00, 50.25it/s]\n",
      "100%|██████████| 1125/1125 [00:09<00:00, 124.86it/s]\n"
     ]
    },
    {
     "name": "stdout",
     "output_type": "stream",
     "text": [
      "EPOCH 55: Train acc: 82.81% Train Loss: 0.4414 Test acc: 66.17% Test Loss: 2.0734\n",
      "Saved best parameters at epoch 55\n"
     ]
    },
    {
     "name": "stderr",
     "output_type": "stream",
     "text": [
      "100%|██████████| 1250/1250 [00:24<00:00, 50.46it/s]\n",
      "100%|██████████| 1125/1125 [00:09<00:00, 124.23it/s]\n"
     ]
    },
    {
     "name": "stdout",
     "output_type": "stream",
     "text": [
      "EPOCH 56: Train acc: 83.78% Train Loss: 0.4422 Test acc: 65.49% Test Loss: 2.2680\n"
     ]
    },
    {
     "name": "stderr",
     "output_type": "stream",
     "text": [
      "100%|██████████| 1250/1250 [00:24<00:00, 51.16it/s]\n",
      "100%|██████████| 1125/1125 [00:09<00:00, 124.47it/s]\n"
     ]
    },
    {
     "name": "stdout",
     "output_type": "stream",
     "text": [
      "EPOCH 57: Train acc: 83.04% Train Loss: 0.4357 Test acc: 65.22% Test Loss: 2.3537\n"
     ]
    },
    {
     "name": "stderr",
     "output_type": "stream",
     "text": [
      "100%|██████████| 1250/1250 [00:24<00:00, 50.69it/s]\n",
      "100%|██████████| 1125/1125 [00:09<00:00, 124.13it/s]\n"
     ]
    },
    {
     "name": "stdout",
     "output_type": "stream",
     "text": [
      "EPOCH 58: Train acc: 83.36% Train Loss: 0.4396 Test acc: 65.70% Test Loss: 2.1780\n"
     ]
    },
    {
     "name": "stderr",
     "output_type": "stream",
     "text": [
      "100%|██████████| 1250/1250 [00:25<00:00, 49.86it/s]\n",
      "100%|██████████| 1125/1125 [00:08<00:00, 125.39it/s]\n"
     ]
    },
    {
     "name": "stdout",
     "output_type": "stream",
     "text": [
      "EPOCH 59: Train acc: 83.31% Train Loss: 0.4419 Test acc: 65.73% Test Loss: 2.0702\n"
     ]
    },
    {
     "name": "stderr",
     "output_type": "stream",
     "text": [
      "100%|██████████| 1250/1250 [00:24<00:00, 51.64it/s]\n",
      "100%|██████████| 1125/1125 [00:08<00:00, 125.03it/s]\n"
     ]
    },
    {
     "name": "stdout",
     "output_type": "stream",
     "text": [
      "EPOCH 60: Train acc: 83.13% Train Loss: 0.4368 Test acc: 64.22% Test Loss: 2.5029\n"
     ]
    },
    {
     "name": "stderr",
     "output_type": "stream",
     "text": [
      "100%|██████████| 1250/1250 [00:24<00:00, 50.61it/s]\n",
      "100%|██████████| 1125/1125 [00:09<00:00, 123.93it/s]\n"
     ]
    },
    {
     "name": "stdout",
     "output_type": "stream",
     "text": [
      "EPOCH 61: Train acc: 83.23% Train Loss: 0.4362 Test acc: 66.07% Test Loss: 2.2869\n"
     ]
    },
    {
     "name": "stderr",
     "output_type": "stream",
     "text": [
      "100%|██████████| 1250/1250 [00:24<00:00, 51.00it/s]\n",
      "100%|██████████| 1125/1125 [00:09<00:00, 124.69it/s]\n"
     ]
    },
    {
     "name": "stdout",
     "output_type": "stream",
     "text": [
      "EPOCH 62: Train acc: 83.55% Train Loss: 0.4391 Test acc: 66.17% Test Loss: 2.1383\n"
     ]
    },
    {
     "name": "stderr",
     "output_type": "stream",
     "text": [
      "100%|██████████| 1250/1250 [00:24<00:00, 50.27it/s]\n",
      "100%|██████████| 1125/1125 [00:08<00:00, 125.16it/s]\n"
     ]
    },
    {
     "name": "stdout",
     "output_type": "stream",
     "text": [
      "EPOCH 63: Train acc: 83.71% Train Loss: 0.4254 Test acc: 64.73% Test Loss: 2.3202\n"
     ]
    },
    {
     "name": "stderr",
     "output_type": "stream",
     "text": [
      "100%|██████████| 1250/1250 [00:25<00:00, 49.42it/s]\n",
      "100%|██████████| 1125/1125 [00:09<00:00, 124.64it/s]\n"
     ]
    },
    {
     "name": "stdout",
     "output_type": "stream",
     "text": [
      "EPOCH 64: Train acc: 83.55% Train Loss: 0.4358 Test acc: 65.71% Test Loss: 2.1967\n"
     ]
    },
    {
     "name": "stderr",
     "output_type": "stream",
     "text": [
      "100%|██████████| 1250/1250 [00:24<00:00, 50.90it/s]\n",
      "100%|██████████| 1125/1125 [00:08<00:00, 125.30it/s]\n"
     ]
    },
    {
     "name": "stdout",
     "output_type": "stream",
     "text": [
      "EPOCH 65: Train acc: 82.95% Train Loss: 0.4417 Test acc: 66.27% Test Loss: 2.2799\n",
      "Saved best parameters at epoch 65\n"
     ]
    },
    {
     "name": "stderr",
     "output_type": "stream",
     "text": [
      "100%|██████████| 1250/1250 [00:24<00:00, 50.03it/s]\n",
      "100%|██████████| 1125/1125 [00:09<00:00, 124.58it/s]\n"
     ]
    },
    {
     "name": "stdout",
     "output_type": "stream",
     "text": [
      "EPOCH 66: Train acc: 83.09% Train Loss: 0.4393 Test acc: 66.02% Test Loss: 2.2045\n"
     ]
    },
    {
     "name": "stderr",
     "output_type": "stream",
     "text": [
      "100%|██████████| 1250/1250 [00:24<00:00, 51.19it/s]\n",
      "100%|██████████| 1125/1125 [00:09<00:00, 124.98it/s]\n"
     ]
    },
    {
     "name": "stdout",
     "output_type": "stream",
     "text": [
      "EPOCH 67: Train acc: 83.24% Train Loss: 0.4337 Test acc: 65.98% Test Loss: 2.2815\n"
     ]
    },
    {
     "name": "stderr",
     "output_type": "stream",
     "text": [
      "100%|██████████| 1250/1250 [00:24<00:00, 51.00it/s]\n",
      "100%|██████████| 1125/1125 [00:08<00:00, 125.64it/s]\n"
     ]
    },
    {
     "name": "stdout",
     "output_type": "stream",
     "text": [
      "EPOCH 68: Train acc: 83.38% Train Loss: 0.4345 Test acc: 65.01% Test Loss: 2.4729\n"
     ]
    },
    {
     "name": "stderr",
     "output_type": "stream",
     "text": [
      "100%|██████████| 1250/1250 [00:24<00:00, 50.86it/s]\n",
      "100%|██████████| 1125/1125 [00:08<00:00, 125.59it/s]\n"
     ]
    },
    {
     "name": "stdout",
     "output_type": "stream",
     "text": [
      "EPOCH 69: Train acc: 83.30% Train Loss: 0.4349 Test acc: 65.21% Test Loss: 2.3338\n"
     ]
    },
    {
     "name": "stderr",
     "output_type": "stream",
     "text": [
      "100%|██████████| 1250/1250 [00:24<00:00, 50.88it/s]\n",
      "100%|██████████| 1125/1125 [00:08<00:00, 125.36it/s]\n"
     ]
    },
    {
     "name": "stdout",
     "output_type": "stream",
     "text": [
      "EPOCH 70: Train acc: 83.23% Train Loss: 0.4398 Test acc: 65.77% Test Loss: 2.3053\n"
     ]
    },
    {
     "name": "stderr",
     "output_type": "stream",
     "text": [
      "100%|██████████| 1250/1250 [00:24<00:00, 50.83it/s]\n",
      "100%|██████████| 1125/1125 [00:09<00:00, 124.82it/s]\n"
     ]
    },
    {
     "name": "stdout",
     "output_type": "stream",
     "text": [
      "EPOCH 71: Train acc: 83.73% Train Loss: 0.4248 Test acc: 65.34% Test Loss: 2.3874\n"
     ]
    },
    {
     "name": "stderr",
     "output_type": "stream",
     "text": [
      "100%|██████████| 1250/1250 [00:24<00:00, 50.21it/s]\n",
      "100%|██████████| 1125/1125 [00:09<00:00, 124.61it/s]\n"
     ]
    },
    {
     "name": "stdout",
     "output_type": "stream",
     "text": [
      "EPOCH 72: Train acc: 83.55% Train Loss: 0.4297 Test acc: 65.57% Test Loss: 2.3978\n"
     ]
    },
    {
     "name": "stderr",
     "output_type": "stream",
     "text": [
      "100%|██████████| 1250/1250 [00:24<00:00, 51.55it/s]\n",
      "100%|██████████| 1125/1125 [00:09<00:00, 124.99it/s]\n"
     ]
    },
    {
     "name": "stdout",
     "output_type": "stream",
     "text": [
      "EPOCH 73: Train acc: 83.38% Train Loss: 0.4364 Test acc: 64.53% Test Loss: 2.4162\n"
     ]
    },
    {
     "name": "stderr",
     "output_type": "stream",
     "text": [
      "100%|██████████| 1250/1250 [00:24<00:00, 50.46it/s]\n",
      "100%|██████████| 1125/1125 [00:09<00:00, 124.75it/s]\n"
     ]
    },
    {
     "name": "stdout",
     "output_type": "stream",
     "text": [
      "EPOCH 74: Train acc: 83.65% Train Loss: 0.4319 Test acc: 65.67% Test Loss: 2.2425\n"
     ]
    },
    {
     "name": "stderr",
     "output_type": "stream",
     "text": [
      "100%|██████████| 1250/1250 [00:24<00:00, 50.97it/s]\n",
      "100%|██████████| 1125/1125 [00:09<00:00, 124.85it/s]\n"
     ]
    },
    {
     "name": "stdout",
     "output_type": "stream",
     "text": [
      "EPOCH 75: Train acc: 83.09% Train Loss: 0.4398 Test acc: 64.32% Test Loss: 2.5083\n"
     ]
    },
    {
     "name": "stderr",
     "output_type": "stream",
     "text": [
      "100%|██████████| 1250/1250 [00:24<00:00, 50.41it/s]\n",
      "100%|██████████| 1125/1125 [00:08<00:00, 125.30it/s]\n"
     ]
    },
    {
     "name": "stdout",
     "output_type": "stream",
     "text": [
      "EPOCH 76: Train acc: 83.42% Train Loss: 0.4395 Test acc: 66.82% Test Loss: 2.1917\n",
      "Saved best parameters at epoch 76\n"
     ]
    },
    {
     "name": "stderr",
     "output_type": "stream",
     "text": [
      "100%|██████████| 1250/1250 [00:24<00:00, 51.16it/s]\n",
      "100%|██████████| 1125/1125 [00:09<00:00, 124.79it/s]\n"
     ]
    },
    {
     "name": "stdout",
     "output_type": "stream",
     "text": [
      "EPOCH 77: Train acc: 83.74% Train Loss: 0.4246 Test acc: 66.53% Test Loss: 2.1727\n"
     ]
    },
    {
     "name": "stderr",
     "output_type": "stream",
     "text": [
      "100%|██████████| 1250/1250 [00:24<00:00, 51.01it/s]\n",
      "100%|██████████| 1125/1125 [00:09<00:00, 124.61it/s]\n"
     ]
    },
    {
     "name": "stdout",
     "output_type": "stream",
     "text": [
      "EPOCH 78: Train acc: 83.61% Train Loss: 0.4263 Test acc: 65.54% Test Loss: 2.2916\n"
     ]
    },
    {
     "name": "stderr",
     "output_type": "stream",
     "text": [
      "100%|██████████| 1250/1250 [00:24<00:00, 50.72it/s]\n",
      "100%|██████████| 1125/1125 [00:09<00:00, 124.42it/s]\n"
     ]
    },
    {
     "name": "stdout",
     "output_type": "stream",
     "text": [
      "EPOCH 79: Train acc: 84.15% Train Loss: 0.4175 Test acc: 67.04% Test Loss: 2.2068\n",
      "Saved best parameters at epoch 79\n"
     ]
    },
    {
     "name": "stderr",
     "output_type": "stream",
     "text": [
      "100%|██████████| 1250/1250 [00:24<00:00, 51.16it/s]\n",
      "100%|██████████| 1125/1125 [00:09<00:00, 124.12it/s]\n"
     ]
    },
    {
     "name": "stdout",
     "output_type": "stream",
     "text": [
      "EPOCH 80: Train acc: 83.81% Train Loss: 0.4235 Test acc: 66.43% Test Loss: 2.1833\n"
     ]
    },
    {
     "name": "stderr",
     "output_type": "stream",
     "text": [
      "100%|██████████| 1250/1250 [00:24<00:00, 50.38it/s]\n",
      "100%|██████████| 1125/1125 [00:09<00:00, 124.50it/s]\n"
     ]
    },
    {
     "name": "stdout",
     "output_type": "stream",
     "text": [
      "EPOCH 81: Train acc: 83.54% Train Loss: 0.4297 Test acc: 66.07% Test Loss: 2.1612\n"
     ]
    },
    {
     "name": "stderr",
     "output_type": "stream",
     "text": [
      "100%|██████████| 1250/1250 [00:24<00:00, 50.55it/s]\n",
      "100%|██████████| 1125/1125 [00:08<00:00, 125.83it/s]\n"
     ]
    },
    {
     "name": "stdout",
     "output_type": "stream",
     "text": [
      "EPOCH 82: Train acc: 83.78% Train Loss: 0.4310 Test acc: 65.58% Test Loss: 2.3619\n"
     ]
    },
    {
     "name": "stderr",
     "output_type": "stream",
     "text": [
      "100%|██████████| 1250/1250 [00:24<00:00, 50.52it/s]\n",
      "100%|██████████| 1125/1125 [00:09<00:00, 123.98it/s]\n"
     ]
    },
    {
     "name": "stdout",
     "output_type": "stream",
     "text": [
      "EPOCH 83: Train acc: 83.93% Train Loss: 0.4219 Test acc: 66.99% Test Loss: 2.0734\n"
     ]
    },
    {
     "name": "stderr",
     "output_type": "stream",
     "text": [
      "100%|██████████| 1250/1250 [00:24<00:00, 50.67it/s]\n",
      "100%|██████████| 1125/1125 [00:08<00:00, 125.04it/s]\n"
     ]
    },
    {
     "name": "stdout",
     "output_type": "stream",
     "text": [
      "EPOCH 84: Train acc: 83.66% Train Loss: 0.4287 Test acc: 66.17% Test Loss: 2.2204\n"
     ]
    },
    {
     "name": "stderr",
     "output_type": "stream",
     "text": [
      "100%|██████████| 1250/1250 [00:24<00:00, 51.10it/s]\n",
      "100%|██████████| 1125/1125 [00:09<00:00, 124.83it/s]\n"
     ]
    },
    {
     "name": "stdout",
     "output_type": "stream",
     "text": [
      "EPOCH 85: Train acc: 83.64% Train Loss: 0.4308 Test acc: 65.02% Test Loss: 2.3419\n"
     ]
    },
    {
     "name": "stderr",
     "output_type": "stream",
     "text": [
      "100%|██████████| 1250/1250 [00:24<00:00, 50.31it/s]\n",
      "100%|██████████| 1125/1125 [00:08<00:00, 125.09it/s]\n"
     ]
    },
    {
     "name": "stdout",
     "output_type": "stream",
     "text": [
      "EPOCH 86: Train acc: 83.30% Train Loss: 0.4389 Test acc: 66.08% Test Loss: 2.2377\n"
     ]
    },
    {
     "name": "stderr",
     "output_type": "stream",
     "text": [
      "100%|██████████| 1250/1250 [00:25<00:00, 49.87it/s]\n",
      "100%|██████████| 1125/1125 [00:09<00:00, 124.13it/s]\n"
     ]
    },
    {
     "name": "stdout",
     "output_type": "stream",
     "text": [
      "EPOCH 87: Train acc: 83.71% Train Loss: 0.4265 Test acc: 66.67% Test Loss: 2.1916\n"
     ]
    },
    {
     "name": "stderr",
     "output_type": "stream",
     "text": [
      "100%|██████████| 1250/1250 [00:24<00:00, 50.06it/s]\n",
      "100%|██████████| 1125/1125 [00:08<00:00, 125.43it/s]\n"
     ]
    },
    {
     "name": "stdout",
     "output_type": "stream",
     "text": [
      "EPOCH 88: Train acc: 83.90% Train Loss: 0.4187 Test acc: 66.42% Test Loss: 2.2240\n"
     ]
    },
    {
     "name": "stderr",
     "output_type": "stream",
     "text": [
      "100%|██████████| 1250/1250 [00:24<00:00, 50.76it/s]\n",
      "100%|██████████| 1125/1125 [00:09<00:00, 124.10it/s]\n"
     ]
    },
    {
     "name": "stdout",
     "output_type": "stream",
     "text": [
      "EPOCH 89: Train acc: 83.84% Train Loss: 0.4218 Test acc: 66.04% Test Loss: 2.2665\n"
     ]
    },
    {
     "name": "stderr",
     "output_type": "stream",
     "text": [
      "100%|██████████| 1250/1250 [00:24<00:00, 50.98it/s]\n",
      "100%|██████████| 1125/1125 [00:08<00:00, 125.05it/s]\n"
     ]
    },
    {
     "name": "stdout",
     "output_type": "stream",
     "text": [
      "EPOCH 90: Train acc: 83.83% Train Loss: 0.4223 Test acc: 66.44% Test Loss: 2.1522\n"
     ]
    },
    {
     "name": "stderr",
     "output_type": "stream",
     "text": [
      "100%|██████████| 1250/1250 [00:24<00:00, 50.79it/s]\n",
      "100%|██████████| 1125/1125 [00:08<00:00, 125.14it/s]\n"
     ]
    },
    {
     "name": "stdout",
     "output_type": "stream",
     "text": [
      "EPOCH 91: Train acc: 84.35% Train Loss: 0.4180 Test acc: 64.76% Test Loss: 2.2724\n"
     ]
    },
    {
     "name": "stderr",
     "output_type": "stream",
     "text": [
      "100%|██████████| 1250/1250 [00:25<00:00, 49.24it/s]\n",
      "100%|██████████| 1125/1125 [00:08<00:00, 125.31it/s]\n"
     ]
    },
    {
     "name": "stdout",
     "output_type": "stream",
     "text": [
      "EPOCH 92: Train acc: 83.62% Train Loss: 0.4289 Test acc: 66.14% Test Loss: 2.2351\n"
     ]
    },
    {
     "name": "stderr",
     "output_type": "stream",
     "text": [
      "100%|██████████| 1250/1250 [00:24<00:00, 51.10it/s]\n",
      "100%|██████████| 1125/1125 [00:09<00:00, 124.10it/s]\n"
     ]
    },
    {
     "name": "stdout",
     "output_type": "stream",
     "text": [
      "EPOCH 93: Train acc: 84.05% Train Loss: 0.4213 Test acc: 65.44% Test Loss: 2.2633\n"
     ]
    },
    {
     "name": "stderr",
     "output_type": "stream",
     "text": [
      "100%|██████████| 1250/1250 [00:24<00:00, 50.30it/s]\n",
      "100%|██████████| 1125/1125 [00:08<00:00, 125.91it/s]\n"
     ]
    },
    {
     "name": "stdout",
     "output_type": "stream",
     "text": [
      "EPOCH 94: Train acc: 83.80% Train Loss: 0.4258 Test acc: 66.24% Test Loss: 2.2655\n"
     ]
    },
    {
     "name": "stderr",
     "output_type": "stream",
     "text": [
      "100%|██████████| 1250/1250 [00:24<00:00, 50.93it/s]\n",
      "100%|██████████| 1125/1125 [00:09<00:00, 124.69it/s]\n"
     ]
    },
    {
     "name": "stdout",
     "output_type": "stream",
     "text": [
      "EPOCH 95: Train acc: 84.16% Train Loss: 0.4166 Test acc: 66.57% Test Loss: 2.1352\n"
     ]
    },
    {
     "name": "stderr",
     "output_type": "stream",
     "text": [
      "100%|██████████| 1250/1250 [00:24<00:00, 51.48it/s]\n",
      "100%|██████████| 1125/1125 [00:09<00:00, 124.90it/s]\n"
     ]
    },
    {
     "name": "stdout",
     "output_type": "stream",
     "text": [
      "EPOCH 96: Train acc: 84.25% Train Loss: 0.4202 Test acc: 66.41% Test Loss: 2.2043\n"
     ]
    },
    {
     "name": "stderr",
     "output_type": "stream",
     "text": [
      "100%|██████████| 1250/1250 [00:24<00:00, 50.82it/s]\n",
      "100%|██████████| 1125/1125 [00:09<00:00, 124.72it/s]\n"
     ]
    },
    {
     "name": "stdout",
     "output_type": "stream",
     "text": [
      "EPOCH 97: Train acc: 84.16% Train Loss: 0.4157 Test acc: 67.48% Test Loss: 2.1252\n",
      "Saved best parameters at epoch 97\n"
     ]
    },
    {
     "name": "stderr",
     "output_type": "stream",
     "text": [
      "100%|██████████| 1250/1250 [00:24<00:00, 51.40it/s]\n",
      "100%|██████████| 1125/1125 [00:09<00:00, 124.88it/s]\n"
     ]
    },
    {
     "name": "stdout",
     "output_type": "stream",
     "text": [
      "EPOCH 98: Train acc: 83.85% Train Loss: 0.4157 Test acc: 66.88% Test Loss: 2.1521\n"
     ]
    },
    {
     "name": "stderr",
     "output_type": "stream",
     "text": [
      "100%|██████████| 1250/1250 [00:25<00:00, 49.71it/s]\n",
      "100%|██████████| 1125/1125 [00:08<00:00, 125.36it/s]\n"
     ]
    },
    {
     "name": "stdout",
     "output_type": "stream",
     "text": [
      "EPOCH 99: Train acc: 84.01% Train Loss: 0.4149 Test acc: 65.64% Test Loss: 2.3377\n"
     ]
    },
    {
     "name": "stderr",
     "output_type": "stream",
     "text": [
      "100%|██████████| 1250/1250 [00:24<00:00, 51.02it/s]\n",
      "100%|██████████| 1125/1125 [00:09<00:00, 124.73it/s]\n"
     ]
    },
    {
     "name": "stdout",
     "output_type": "stream",
     "text": [
      "EPOCH 100: Train acc: 84.08% Train Loss: 0.4132 Test acc: 65.71% Test Loss: 2.2928\n"
     ]
    },
    {
     "name": "stderr",
     "output_type": "stream",
     "text": [
      "100%|██████████| 1250/1250 [00:24<00:00, 51.12it/s]\n",
      "100%|██████████| 1125/1125 [00:08<00:00, 125.22it/s]\n"
     ]
    },
    {
     "name": "stdout",
     "output_type": "stream",
     "text": [
      "EPOCH 101: Train acc: 83.99% Train Loss: 0.4192 Test acc: 65.99% Test Loss: 2.1807\n"
     ]
    },
    {
     "name": "stderr",
     "output_type": "stream",
     "text": [
      "100%|██████████| 1250/1250 [00:24<00:00, 51.33it/s]\n",
      "100%|██████████| 1125/1125 [00:08<00:00, 125.39it/s]\n"
     ]
    },
    {
     "name": "stdout",
     "output_type": "stream",
     "text": [
      "EPOCH 102: Train acc: 83.94% Train Loss: 0.4190 Test acc: 65.27% Test Loss: 2.2411\n"
     ]
    },
    {
     "name": "stderr",
     "output_type": "stream",
     "text": [
      "100%|██████████| 1250/1250 [00:25<00:00, 49.81it/s]\n",
      "100%|██████████| 1125/1125 [00:09<00:00, 124.98it/s]\n"
     ]
    },
    {
     "name": "stdout",
     "output_type": "stream",
     "text": [
      "EPOCH 103: Train acc: 84.16% Train Loss: 0.4099 Test acc: 66.66% Test Loss: 2.2010\n"
     ]
    },
    {
     "name": "stderr",
     "output_type": "stream",
     "text": [
      "100%|██████████| 1250/1250 [00:24<00:00, 50.10it/s]\n",
      "100%|██████████| 1125/1125 [00:08<00:00, 125.26it/s]\n"
     ]
    },
    {
     "name": "stdout",
     "output_type": "stream",
     "text": [
      "EPOCH 104: Train acc: 84.08% Train Loss: 0.4184 Test acc: 66.50% Test Loss: 2.2062\n"
     ]
    },
    {
     "name": "stderr",
     "output_type": "stream",
     "text": [
      "100%|██████████| 1250/1250 [00:24<00:00, 51.26it/s]\n",
      "100%|██████████| 1125/1125 [00:08<00:00, 125.89it/s]\n"
     ]
    },
    {
     "name": "stdout",
     "output_type": "stream",
     "text": [
      "EPOCH 105: Train acc: 84.09% Train Loss: 0.4135 Test acc: 65.73% Test Loss: 2.4001\n"
     ]
    },
    {
     "name": "stderr",
     "output_type": "stream",
     "text": [
      "100%|██████████| 1250/1250 [00:24<00:00, 51.10it/s]\n",
      "100%|██████████| 1125/1125 [00:08<00:00, 125.26it/s]\n"
     ]
    },
    {
     "name": "stdout",
     "output_type": "stream",
     "text": [
      "EPOCH 106: Train acc: 84.03% Train Loss: 0.4139 Test acc: 66.30% Test Loss: 2.2654\n"
     ]
    },
    {
     "name": "stderr",
     "output_type": "stream",
     "text": [
      "100%|██████████| 1250/1250 [00:24<00:00, 51.12it/s]\n",
      "100%|██████████| 1125/1125 [00:08<00:00, 125.64it/s]\n"
     ]
    },
    {
     "name": "stdout",
     "output_type": "stream",
     "text": [
      "EPOCH 107: Train acc: 84.10% Train Loss: 0.4180 Test acc: 66.96% Test Loss: 2.2069\n"
     ]
    },
    {
     "name": "stderr",
     "output_type": "stream",
     "text": [
      "100%|██████████| 1250/1250 [00:24<00:00, 50.82it/s]\n",
      "100%|██████████| 1125/1125 [00:08<00:00, 125.16it/s]\n"
     ]
    },
    {
     "name": "stdout",
     "output_type": "stream",
     "text": [
      "EPOCH 108: Train acc: 83.72% Train Loss: 0.4204 Test acc: 66.04% Test Loss: 2.2904\n"
     ]
    },
    {
     "name": "stderr",
     "output_type": "stream",
     "text": [
      "100%|██████████| 1250/1250 [00:24<00:00, 50.33it/s]\n",
      "100%|██████████| 1125/1125 [00:09<00:00, 123.88it/s]\n"
     ]
    },
    {
     "name": "stdout",
     "output_type": "stream",
     "text": [
      "EPOCH 109: Train acc: 83.82% Train Loss: 0.4166 Test acc: 66.88% Test Loss: 2.1384\n"
     ]
    },
    {
     "name": "stderr",
     "output_type": "stream",
     "text": [
      "100%|██████████| 1250/1250 [00:24<00:00, 51.29it/s]\n",
      "100%|██████████| 1125/1125 [00:08<00:00, 125.22it/s]\n"
     ]
    },
    {
     "name": "stdout",
     "output_type": "stream",
     "text": [
      "EPOCH 110: Train acc: 84.17% Train Loss: 0.4170 Test acc: 66.88% Test Loss: 2.1920\n"
     ]
    },
    {
     "name": "stderr",
     "output_type": "stream",
     "text": [
      "100%|██████████| 1250/1250 [00:24<00:00, 50.98it/s]\n",
      "100%|██████████| 1125/1125 [00:08<00:00, 125.30it/s]\n"
     ]
    },
    {
     "name": "stdout",
     "output_type": "stream",
     "text": [
      "EPOCH 111: Train acc: 84.20% Train Loss: 0.4154 Test acc: 66.46% Test Loss: 2.1796\n"
     ]
    },
    {
     "name": "stderr",
     "output_type": "stream",
     "text": [
      "100%|██████████| 1250/1250 [00:25<00:00, 49.48it/s]\n",
      "100%|██████████| 1125/1125 [00:09<00:00, 124.25it/s]\n"
     ]
    },
    {
     "name": "stdout",
     "output_type": "stream",
     "text": [
      "EPOCH 112: Train acc: 84.38% Train Loss: 0.4051 Test acc: 65.71% Test Loss: 2.2917\n"
     ]
    },
    {
     "name": "stderr",
     "output_type": "stream",
     "text": [
      "100%|██████████| 1250/1250 [00:24<00:00, 51.03it/s]\n",
      "100%|██████████| 1125/1125 [00:09<00:00, 124.46it/s]\n"
     ]
    },
    {
     "name": "stdout",
     "output_type": "stream",
     "text": [
      "EPOCH 113: Train acc: 84.11% Train Loss: 0.4159 Test acc: 66.19% Test Loss: 2.2625\n"
     ]
    },
    {
     "name": "stderr",
     "output_type": "stream",
     "text": [
      "100%|██████████| 1250/1250 [00:25<00:00, 49.19it/s]\n",
      "100%|██████████| 1125/1125 [00:09<00:00, 124.62it/s]\n"
     ]
    },
    {
     "name": "stdout",
     "output_type": "stream",
     "text": [
      "EPOCH 114: Train acc: 84.51% Train Loss: 0.4157 Test acc: 67.30% Test Loss: 2.1026\n"
     ]
    },
    {
     "name": "stderr",
     "output_type": "stream",
     "text": [
      "100%|██████████| 1250/1250 [00:24<00:00, 51.20it/s]\n",
      "100%|██████████| 1125/1125 [00:08<00:00, 125.42it/s]\n"
     ]
    },
    {
     "name": "stdout",
     "output_type": "stream",
     "text": [
      "EPOCH 115: Train acc: 84.23% Train Loss: 0.4154 Test acc: 67.02% Test Loss: 2.1833\n"
     ]
    },
    {
     "name": "stderr",
     "output_type": "stream",
     "text": [
      "100%|██████████| 1250/1250 [00:24<00:00, 50.90it/s]\n",
      "100%|██████████| 1125/1125 [00:08<00:00, 125.55it/s]\n"
     ]
    },
    {
     "name": "stdout",
     "output_type": "stream",
     "text": [
      "EPOCH 116: Train acc: 84.29% Train Loss: 0.4113 Test acc: 66.16% Test Loss: 2.2350\n"
     ]
    },
    {
     "name": "stderr",
     "output_type": "stream",
     "text": [
      "100%|██████████| 1250/1250 [00:24<00:00, 50.58it/s]\n",
      "100%|██████████| 1125/1125 [00:08<00:00, 125.18it/s]\n"
     ]
    },
    {
     "name": "stdout",
     "output_type": "stream",
     "text": [
      "EPOCH 117: Train acc: 84.29% Train Loss: 0.4143 Test acc: 65.98% Test Loss: 2.3261\n"
     ]
    },
    {
     "name": "stderr",
     "output_type": "stream",
     "text": [
      "100%|██████████| 1250/1250 [00:25<00:00, 49.72it/s]\n",
      "100%|██████████| 1125/1125 [00:09<00:00, 123.99it/s]\n"
     ]
    },
    {
     "name": "stdout",
     "output_type": "stream",
     "text": [
      "EPOCH 118: Train acc: 84.07% Train Loss: 0.4055 Test acc: 65.71% Test Loss: 2.3628\n"
     ]
    },
    {
     "name": "stderr",
     "output_type": "stream",
     "text": [
      "100%|██████████| 1250/1250 [00:24<00:00, 51.51it/s]\n",
      "100%|██████████| 1125/1125 [00:09<00:00, 124.57it/s]\n"
     ]
    },
    {
     "name": "stdout",
     "output_type": "stream",
     "text": [
      "EPOCH 119: Train acc: 84.00% Train Loss: 0.4201 Test acc: 65.92% Test Loss: 2.2646\n"
     ]
    },
    {
     "name": "stderr",
     "output_type": "stream",
     "text": [
      "100%|██████████| 1250/1250 [00:24<00:00, 51.14it/s]\n",
      "100%|██████████| 1125/1125 [00:09<00:00, 124.71it/s]\n"
     ]
    },
    {
     "name": "stdout",
     "output_type": "stream",
     "text": [
      "EPOCH 120: Train acc: 84.37% Train Loss: 0.4147 Test acc: 66.13% Test Loss: 2.3363\n"
     ]
    },
    {
     "name": "stderr",
     "output_type": "stream",
     "text": [
      "100%|██████████| 1250/1250 [00:24<00:00, 50.98it/s]\n",
      "100%|██████████| 1125/1125 [00:08<00:00, 126.15it/s]\n"
     ]
    },
    {
     "name": "stdout",
     "output_type": "stream",
     "text": [
      "EPOCH 121: Train acc: 84.27% Train Loss: 0.4126 Test acc: 65.71% Test Loss: 2.2579\n"
     ]
    },
    {
     "name": "stderr",
     "output_type": "stream",
     "text": [
      "100%|██████████| 1250/1250 [00:25<00:00, 49.96it/s]\n",
      "100%|██████████| 1125/1125 [00:08<00:00, 125.23it/s]\n"
     ]
    },
    {
     "name": "stdout",
     "output_type": "stream",
     "text": [
      "EPOCH 122: Train acc: 83.96% Train Loss: 0.4095 Test acc: 65.19% Test Loss: 2.4768\n"
     ]
    },
    {
     "name": "stderr",
     "output_type": "stream",
     "text": [
      "100%|██████████| 1250/1250 [00:24<00:00, 50.71it/s]\n",
      "100%|██████████| 1125/1125 [00:09<00:00, 124.36it/s]\n"
     ]
    },
    {
     "name": "stdout",
     "output_type": "stream",
     "text": [
      "EPOCH 123: Train acc: 84.46% Train Loss: 0.4072 Test acc: 66.42% Test Loss: 2.2190\n"
     ]
    },
    {
     "name": "stderr",
     "output_type": "stream",
     "text": [
      "100%|██████████| 1250/1250 [00:25<00:00, 49.82it/s]\n",
      "100%|██████████| 1125/1125 [00:09<00:00, 124.10it/s]\n"
     ]
    },
    {
     "name": "stdout",
     "output_type": "stream",
     "text": [
      "EPOCH 124: Train acc: 84.31% Train Loss: 0.4082 Test acc: 67.03% Test Loss: 2.1870\n"
     ]
    },
    {
     "name": "stderr",
     "output_type": "stream",
     "text": [
      "100%|██████████| 1250/1250 [00:24<00:00, 50.57it/s]\n",
      "100%|██████████| 1125/1125 [00:09<00:00, 124.74it/s]\n"
     ]
    },
    {
     "name": "stdout",
     "output_type": "stream",
     "text": [
      "EPOCH 125: Train acc: 83.84% Train Loss: 0.4174 Test acc: 66.33% Test Loss: 2.2376\n"
     ]
    },
    {
     "name": "stderr",
     "output_type": "stream",
     "text": [
      "100%|██████████| 1250/1250 [00:25<00:00, 49.40it/s]\n",
      "100%|██████████| 1125/1125 [00:08<00:00, 125.00it/s]\n"
     ]
    },
    {
     "name": "stdout",
     "output_type": "stream",
     "text": [
      "EPOCH 126: Train acc: 84.09% Train Loss: 0.4136 Test acc: 66.97% Test Loss: 2.2101\n"
     ]
    },
    {
     "name": "stderr",
     "output_type": "stream",
     "text": [
      "100%|██████████| 1250/1250 [00:24<00:00, 51.05it/s]\n",
      "100%|██████████| 1125/1125 [00:09<00:00, 124.54it/s]\n"
     ]
    },
    {
     "name": "stdout",
     "output_type": "stream",
     "text": [
      "EPOCH 127: Train acc: 84.19% Train Loss: 0.4114 Test acc: 66.38% Test Loss: 2.2010\n"
     ]
    },
    {
     "name": "stderr",
     "output_type": "stream",
     "text": [
      "100%|██████████| 1250/1250 [00:24<00:00, 50.80it/s]\n",
      "100%|██████████| 1125/1125 [00:09<00:00, 124.49it/s]\n"
     ]
    },
    {
     "name": "stdout",
     "output_type": "stream",
     "text": [
      "EPOCH 128: Train acc: 84.02% Train Loss: 0.4153 Test acc: 66.53% Test Loss: 2.1736\n"
     ]
    },
    {
     "name": "stderr",
     "output_type": "stream",
     "text": [
      "100%|██████████| 1250/1250 [00:24<00:00, 50.91it/s]\n",
      "100%|██████████| 1125/1125 [00:08<00:00, 125.40it/s]\n"
     ]
    },
    {
     "name": "stdout",
     "output_type": "stream",
     "text": [
      "EPOCH 129: Train acc: 83.60% Train Loss: 0.4198 Test acc: 66.91% Test Loss: 2.2197\n"
     ]
    },
    {
     "name": "stderr",
     "output_type": "stream",
     "text": [
      "100%|██████████| 1250/1250 [00:24<00:00, 50.97it/s]\n",
      "100%|██████████| 1125/1125 [00:09<00:00, 124.32it/s]\n"
     ]
    },
    {
     "name": "stdout",
     "output_type": "stream",
     "text": [
      "EPOCH 130: Train acc: 84.37% Train Loss: 0.4095 Test acc: 66.63% Test Loss: 2.1907\n"
     ]
    },
    {
     "name": "stderr",
     "output_type": "stream",
     "text": [
      "100%|██████████| 1250/1250 [00:25<00:00, 49.36it/s]\n",
      "100%|██████████| 1125/1125 [00:09<00:00, 124.78it/s]\n"
     ]
    },
    {
     "name": "stdout",
     "output_type": "stream",
     "text": [
      "EPOCH 131: Train acc: 84.18% Train Loss: 0.4111 Test acc: 66.70% Test Loss: 2.2370\n"
     ]
    },
    {
     "name": "stderr",
     "output_type": "stream",
     "text": [
      "100%|██████████| 1250/1250 [00:24<00:00, 50.18it/s]\n",
      "100%|██████████| 1125/1125 [00:08<00:00, 125.60it/s]\n"
     ]
    },
    {
     "name": "stdout",
     "output_type": "stream",
     "text": [
      "EPOCH 132: Train acc: 84.28% Train Loss: 0.4143 Test acc: 66.54% Test Loss: 2.2023\n"
     ]
    },
    {
     "name": "stderr",
     "output_type": "stream",
     "text": [
      "100%|██████████| 1250/1250 [00:24<00:00, 51.84it/s]\n",
      "100%|██████████| 1125/1125 [00:09<00:00, 124.99it/s]\n"
     ]
    },
    {
     "name": "stdout",
     "output_type": "stream",
     "text": [
      "EPOCH 133: Train acc: 84.42% Train Loss: 0.4116 Test acc: 66.28% Test Loss: 2.1913\n"
     ]
    },
    {
     "name": "stderr",
     "output_type": "stream",
     "text": [
      "100%|██████████| 1250/1250 [00:24<00:00, 51.31it/s]\n",
      "100%|██████████| 1125/1125 [00:09<00:00, 124.80it/s]\n"
     ]
    },
    {
     "name": "stdout",
     "output_type": "stream",
     "text": [
      "EPOCH 134: Train acc: 83.85% Train Loss: 0.4176 Test acc: 65.93% Test Loss: 2.3237\n"
     ]
    },
    {
     "name": "stderr",
     "output_type": "stream",
     "text": [
      "100%|██████████| 1250/1250 [00:24<00:00, 51.23it/s]\n",
      "100%|██████████| 1125/1125 [00:08<00:00, 125.42it/s]\n"
     ]
    },
    {
     "name": "stdout",
     "output_type": "stream",
     "text": [
      "EPOCH 135: Train acc: 84.42% Train Loss: 0.4080 Test acc: 66.01% Test Loss: 2.2241\n"
     ]
    },
    {
     "name": "stderr",
     "output_type": "stream",
     "text": [
      "100%|██████████| 1250/1250 [00:25<00:00, 49.81it/s]\n",
      "100%|██████████| 1125/1125 [00:09<00:00, 124.82it/s]\n"
     ]
    },
    {
     "name": "stdout",
     "output_type": "stream",
     "text": [
      "EPOCH 136: Train acc: 83.65% Train Loss: 0.4144 Test acc: 66.73% Test Loss: 2.2338\n"
     ]
    },
    {
     "name": "stderr",
     "output_type": "stream",
     "text": [
      "100%|██████████| 1250/1250 [00:24<00:00, 50.95it/s]\n",
      "100%|██████████| 1125/1125 [00:08<00:00, 125.79it/s]\n"
     ]
    },
    {
     "name": "stdout",
     "output_type": "stream",
     "text": [
      "EPOCH 137: Train acc: 83.87% Train Loss: 0.4187 Test acc: 66.66% Test Loss: 2.2692\n"
     ]
    },
    {
     "name": "stderr",
     "output_type": "stream",
     "text": [
      "100%|██████████| 1250/1250 [00:24<00:00, 51.83it/s]\n",
      "100%|██████████| 1125/1125 [00:08<00:00, 125.45it/s]\n"
     ]
    },
    {
     "name": "stdout",
     "output_type": "stream",
     "text": [
      "EPOCH 138: Train acc: 84.28% Train Loss: 0.4117 Test acc: 66.84% Test Loss: 2.2031\n"
     ]
    },
    {
     "name": "stderr",
     "output_type": "stream",
     "text": [
      "100%|██████████| 1250/1250 [00:24<00:00, 50.59it/s]\n",
      "100%|██████████| 1125/1125 [00:08<00:00, 125.33it/s]\n"
     ]
    },
    {
     "name": "stdout",
     "output_type": "stream",
     "text": [
      "EPOCH 139: Train acc: 84.24% Train Loss: 0.4088 Test acc: 67.28% Test Loss: 2.1503\n"
     ]
    },
    {
     "name": "stderr",
     "output_type": "stream",
     "text": [
      "100%|██████████| 1250/1250 [00:23<00:00, 52.16it/s]\n",
      "100%|██████████| 1125/1125 [00:08<00:00, 125.72it/s]\n"
     ]
    },
    {
     "name": "stdout",
     "output_type": "stream",
     "text": [
      "EPOCH 140: Train acc: 84.26% Train Loss: 0.4093 Test acc: 66.36% Test Loss: 2.1569\n"
     ]
    },
    {
     "name": "stderr",
     "output_type": "stream",
     "text": [
      "100%|██████████| 1250/1250 [00:25<00:00, 49.84it/s]\n",
      "100%|██████████| 1125/1125 [00:08<00:00, 125.07it/s]\n"
     ]
    },
    {
     "name": "stdout",
     "output_type": "stream",
     "text": [
      "EPOCH 141: Train acc: 83.98% Train Loss: 0.4134 Test acc: 66.77% Test Loss: 2.2239\n"
     ]
    },
    {
     "name": "stderr",
     "output_type": "stream",
     "text": [
      "100%|██████████| 1250/1250 [00:24<00:00, 50.20it/s]\n",
      "100%|██████████| 1125/1125 [00:08<00:00, 125.97it/s]\n"
     ]
    },
    {
     "name": "stdout",
     "output_type": "stream",
     "text": [
      "EPOCH 142: Train acc: 84.33% Train Loss: 0.4107 Test acc: 66.49% Test Loss: 2.2284\n"
     ]
    },
    {
     "name": "stderr",
     "output_type": "stream",
     "text": [
      "100%|██████████| 1250/1250 [00:24<00:00, 51.20it/s]\n",
      "100%|██████████| 1125/1125 [00:09<00:00, 124.85it/s]\n"
     ]
    },
    {
     "name": "stdout",
     "output_type": "stream",
     "text": [
      "EPOCH 143: Train acc: 84.02% Train Loss: 0.4177 Test acc: 66.38% Test Loss: 2.2657\n"
     ]
    },
    {
     "name": "stderr",
     "output_type": "stream",
     "text": [
      "100%|██████████| 1250/1250 [00:24<00:00, 51.05it/s]\n",
      "100%|██████████| 1125/1125 [00:09<00:00, 123.99it/s]\n"
     ]
    },
    {
     "name": "stdout",
     "output_type": "stream",
     "text": [
      "EPOCH 144: Train acc: 83.86% Train Loss: 0.4149 Test acc: 66.63% Test Loss: 2.1748\n"
     ]
    },
    {
     "name": "stderr",
     "output_type": "stream",
     "text": [
      "100%|██████████| 1250/1250 [00:24<00:00, 50.39it/s]\n",
      "100%|██████████| 1125/1125 [00:09<00:00, 124.94it/s]\n"
     ]
    },
    {
     "name": "stdout",
     "output_type": "stream",
     "text": [
      "EPOCH 145: Train acc: 84.49% Train Loss: 0.4077 Test acc: 66.44% Test Loss: 2.2931\n"
     ]
    },
    {
     "name": "stderr",
     "output_type": "stream",
     "text": [
      "100%|██████████| 1250/1250 [00:24<00:00, 51.38it/s]\n",
      "100%|██████████| 1125/1125 [00:09<00:00, 124.40it/s]\n"
     ]
    },
    {
     "name": "stdout",
     "output_type": "stream",
     "text": [
      "EPOCH 146: Train acc: 84.42% Train Loss: 0.4112 Test acc: 66.12% Test Loss: 2.2836\n"
     ]
    },
    {
     "name": "stderr",
     "output_type": "stream",
     "text": [
      "100%|██████████| 1250/1250 [00:24<00:00, 51.22it/s]\n",
      "100%|██████████| 1125/1125 [00:09<00:00, 124.71it/s]\n"
     ]
    },
    {
     "name": "stdout",
     "output_type": "stream",
     "text": [
      "EPOCH 147: Train acc: 84.60% Train Loss: 0.4098 Test acc: 65.67% Test Loss: 2.3275\n"
     ]
    },
    {
     "name": "stderr",
     "output_type": "stream",
     "text": [
      "100%|██████████| 1250/1250 [00:23<00:00, 52.14it/s]\n",
      "100%|██████████| 1125/1125 [00:09<00:00, 123.53it/s]\n"
     ]
    },
    {
     "name": "stdout",
     "output_type": "stream",
     "text": [
      "EPOCH 148: Train acc: 84.16% Train Loss: 0.4152 Test acc: 66.76% Test Loss: 2.2335\n"
     ]
    },
    {
     "name": "stderr",
     "output_type": "stream",
     "text": [
      "100%|██████████| 1250/1250 [00:24<00:00, 50.96it/s]\n",
      "100%|██████████| 1125/1125 [00:08<00:00, 125.53it/s]\n"
     ]
    },
    {
     "name": "stdout",
     "output_type": "stream",
     "text": [
      "EPOCH 149: Train acc: 84.19% Train Loss: 0.4076 Test acc: 66.41% Test Loss: 2.3250\n"
     ]
    },
    {
     "name": "stderr",
     "output_type": "stream",
     "text": [
      "100%|██████████| 1250/1250 [00:25<00:00, 49.17it/s]\n",
      "100%|██████████| 1125/1125 [00:08<00:00, 125.15it/s]\n"
     ]
    },
    {
     "name": "stdout",
     "output_type": "stream",
     "text": [
      "EPOCH 150: Train acc: 84.20% Train Loss: 0.4194 Test acc: 66.59% Test Loss: 2.2078\n"
     ]
    },
    {
     "name": "stderr",
     "output_type": "stream",
     "text": [
      "100%|██████████| 1250/1250 [00:25<00:00, 48.57it/s]\n",
      "100%|██████████| 1125/1125 [00:08<00:00, 125.89it/s]\n"
     ]
    },
    {
     "name": "stdout",
     "output_type": "stream",
     "text": [
      "EPOCH 151: Train acc: 84.36% Train Loss: 0.4121 Test acc: 66.56% Test Loss: 2.2425\n"
     ]
    },
    {
     "name": "stderr",
     "output_type": "stream",
     "text": [
      "100%|██████████| 1250/1250 [00:24<00:00, 51.86it/s]\n",
      "100%|██████████| 1125/1125 [00:09<00:00, 124.65it/s]\n"
     ]
    },
    {
     "name": "stdout",
     "output_type": "stream",
     "text": [
      "EPOCH 152: Train acc: 84.02% Train Loss: 0.4174 Test acc: 65.88% Test Loss: 2.4110\n"
     ]
    },
    {
     "name": "stderr",
     "output_type": "stream",
     "text": [
      "100%|██████████| 1250/1250 [00:24<00:00, 50.88it/s]\n",
      "100%|██████████| 1125/1125 [00:09<00:00, 124.20it/s]\n"
     ]
    },
    {
     "name": "stdout",
     "output_type": "stream",
     "text": [
      "EPOCH 153: Train acc: 84.14% Train Loss: 0.4135 Test acc: 65.99% Test Loss: 2.3703\n"
     ]
    },
    {
     "name": "stderr",
     "output_type": "stream",
     "text": [
      "100%|██████████| 1250/1250 [00:24<00:00, 50.59it/s]\n",
      "100%|██████████| 1125/1125 [00:09<00:00, 124.15it/s]\n"
     ]
    },
    {
     "name": "stdout",
     "output_type": "stream",
     "text": [
      "EPOCH 154: Train acc: 84.41% Train Loss: 0.4106 Test acc: 67.46% Test Loss: 2.1180\n"
     ]
    },
    {
     "name": "stderr",
     "output_type": "stream",
     "text": [
      "100%|██████████| 1250/1250 [00:24<00:00, 50.61it/s]\n",
      "100%|██████████| 1125/1125 [00:09<00:00, 124.63it/s]\n"
     ]
    },
    {
     "name": "stdout",
     "output_type": "stream",
     "text": [
      "EPOCH 155: Train acc: 84.43% Train Loss: 0.4044 Test acc: 65.63% Test Loss: 2.3062\n"
     ]
    },
    {
     "name": "stderr",
     "output_type": "stream",
     "text": [
      "100%|██████████| 1250/1250 [00:24<00:00, 50.42it/s]\n",
      "100%|██████████| 1125/1125 [00:09<00:00, 124.11it/s]\n"
     ]
    },
    {
     "name": "stdout",
     "output_type": "stream",
     "text": [
      "EPOCH 156: Train acc: 84.34% Train Loss: 0.4102 Test acc: 66.36% Test Loss: 2.2843\n"
     ]
    },
    {
     "name": "stderr",
     "output_type": "stream",
     "text": [
      "100%|██████████| 1250/1250 [00:24<00:00, 50.23it/s]\n",
      "100%|██████████| 1125/1125 [00:08<00:00, 125.65it/s]\n"
     ]
    },
    {
     "name": "stdout",
     "output_type": "stream",
     "text": [
      "EPOCH 157: Train acc: 84.31% Train Loss: 0.4136 Test acc: 66.82% Test Loss: 2.1699\n"
     ]
    },
    {
     "name": "stderr",
     "output_type": "stream",
     "text": [
      "100%|██████████| 1250/1250 [00:24<00:00, 50.82it/s]\n",
      "100%|██████████| 1125/1125 [00:09<00:00, 124.65it/s]\n"
     ]
    },
    {
     "name": "stdout",
     "output_type": "stream",
     "text": [
      "EPOCH 158: Train acc: 84.14% Train Loss: 0.4215 Test acc: 66.23% Test Loss: 2.3060\n"
     ]
    },
    {
     "name": "stderr",
     "output_type": "stream",
     "text": [
      "100%|██████████| 1250/1250 [00:24<00:00, 50.10it/s]\n",
      "100%|██████████| 1125/1125 [00:09<00:00, 124.68it/s]\n"
     ]
    },
    {
     "name": "stdout",
     "output_type": "stream",
     "text": [
      "EPOCH 159: Train acc: 84.23% Train Loss: 0.4084 Test acc: 66.87% Test Loss: 2.2507\n"
     ]
    },
    {
     "name": "stderr",
     "output_type": "stream",
     "text": [
      "100%|██████████| 1250/1250 [00:24<00:00, 50.49it/s]\n",
      "100%|██████████| 1125/1125 [00:08<00:00, 125.19it/s]\n"
     ]
    },
    {
     "name": "stdout",
     "output_type": "stream",
     "text": [
      "EPOCH 160: Train acc: 83.70% Train Loss: 0.4159 Test acc: 66.64% Test Loss: 2.3027\n"
     ]
    },
    {
     "name": "stderr",
     "output_type": "stream",
     "text": [
      "100%|██████████| 1250/1250 [00:24<00:00, 50.19it/s]\n",
      "100%|██████████| 1125/1125 [00:09<00:00, 124.98it/s]\n"
     ]
    },
    {
     "name": "stdout",
     "output_type": "stream",
     "text": [
      "EPOCH 161: Train acc: 84.46% Train Loss: 0.4068 Test acc: 66.18% Test Loss: 2.2530\n"
     ]
    },
    {
     "name": "stderr",
     "output_type": "stream",
     "text": [
      "100%|██████████| 1250/1250 [00:24<00:00, 50.35it/s]\n",
      "100%|██████████| 1125/1125 [00:08<00:00, 125.27it/s]\n"
     ]
    },
    {
     "name": "stdout",
     "output_type": "stream",
     "text": [
      "EPOCH 162: Train acc: 84.19% Train Loss: 0.4123 Test acc: 66.68% Test Loss: 2.2327\n"
     ]
    },
    {
     "name": "stderr",
     "output_type": "stream",
     "text": [
      "100%|██████████| 1250/1250 [00:24<00:00, 51.43it/s]\n",
      "100%|██████████| 1125/1125 [00:09<00:00, 124.47it/s]\n"
     ]
    },
    {
     "name": "stdout",
     "output_type": "stream",
     "text": [
      "EPOCH 163: Train acc: 84.08% Train Loss: 0.4125 Test acc: 66.48% Test Loss: 2.2477\n"
     ]
    },
    {
     "name": "stderr",
     "output_type": "stream",
     "text": [
      "100%|██████████| 1250/1250 [00:24<00:00, 50.07it/s]\n",
      "100%|██████████| 1125/1125 [00:09<00:00, 124.64it/s]\n"
     ]
    },
    {
     "name": "stdout",
     "output_type": "stream",
     "text": [
      "EPOCH 164: Train acc: 83.95% Train Loss: 0.4098 Test acc: 66.89% Test Loss: 2.2288\n"
     ]
    },
    {
     "name": "stderr",
     "output_type": "stream",
     "text": [
      "100%|██████████| 1250/1250 [00:25<00:00, 48.62it/s]\n",
      "100%|██████████| 1125/1125 [00:09<00:00, 124.48it/s]\n"
     ]
    },
    {
     "name": "stdout",
     "output_type": "stream",
     "text": [
      "EPOCH 165: Train acc: 84.53% Train Loss: 0.4154 Test acc: 67.01% Test Loss: 2.0714\n"
     ]
    },
    {
     "name": "stderr",
     "output_type": "stream",
     "text": [
      "100%|██████████| 1250/1250 [00:24<00:00, 51.64it/s]\n",
      "100%|██████████| 1125/1125 [00:09<00:00, 124.89it/s]\n"
     ]
    },
    {
     "name": "stdout",
     "output_type": "stream",
     "text": [
      "EPOCH 166: Train acc: 84.51% Train Loss: 0.4125 Test acc: 66.99% Test Loss: 2.2343\n"
     ]
    },
    {
     "name": "stderr",
     "output_type": "stream",
     "text": [
      "100%|██████████| 1250/1250 [00:24<00:00, 50.68it/s]\n",
      "100%|██████████| 1125/1125 [00:08<00:00, 125.02it/s]\n"
     ]
    },
    {
     "name": "stdout",
     "output_type": "stream",
     "text": [
      "EPOCH 167: Train acc: 84.26% Train Loss: 0.4071 Test acc: 65.59% Test Loss: 2.3514\n"
     ]
    },
    {
     "name": "stderr",
     "output_type": "stream",
     "text": [
      "100%|██████████| 1250/1250 [00:25<00:00, 49.99it/s]\n",
      "100%|██████████| 1125/1125 [00:09<00:00, 124.88it/s]\n"
     ]
    },
    {
     "name": "stdout",
     "output_type": "stream",
     "text": [
      "EPOCH 168: Train acc: 84.50% Train Loss: 0.4122 Test acc: 66.08% Test Loss: 2.1949\n"
     ]
    },
    {
     "name": "stderr",
     "output_type": "stream",
     "text": [
      "100%|██████████| 1250/1250 [00:24<00:00, 50.39it/s]\n",
      "100%|██████████| 1125/1125 [00:08<00:00, 125.16it/s]\n"
     ]
    },
    {
     "name": "stdout",
     "output_type": "stream",
     "text": [
      "EPOCH 169: Train acc: 84.44% Train Loss: 0.4063 Test acc: 66.18% Test Loss: 2.2445\n"
     ]
    },
    {
     "name": "stderr",
     "output_type": "stream",
     "text": [
      "100%|██████████| 1250/1250 [00:24<00:00, 50.10it/s]\n",
      "100%|██████████| 1125/1125 [00:09<00:00, 124.32it/s]\n"
     ]
    },
    {
     "name": "stdout",
     "output_type": "stream",
     "text": [
      "EPOCH 170: Train acc: 84.23% Train Loss: 0.4171 Test acc: 67.17% Test Loss: 2.1085\n"
     ]
    },
    {
     "name": "stderr",
     "output_type": "stream",
     "text": [
      "100%|██████████| 1250/1250 [00:24<00:00, 50.60it/s]\n",
      "100%|██████████| 1125/1125 [00:08<00:00, 125.55it/s]\n"
     ]
    },
    {
     "name": "stdout",
     "output_type": "stream",
     "text": [
      "EPOCH 171: Train acc: 83.93% Train Loss: 0.4128 Test acc: 66.48% Test Loss: 2.1989\n"
     ]
    },
    {
     "name": "stderr",
     "output_type": "stream",
     "text": [
      "100%|██████████| 1250/1250 [00:24<00:00, 50.62it/s]\n",
      "100%|██████████| 1125/1125 [00:08<00:00, 125.53it/s]\n"
     ]
    },
    {
     "name": "stdout",
     "output_type": "stream",
     "text": [
      "EPOCH 172: Train acc: 84.23% Train Loss: 0.4157 Test acc: 66.78% Test Loss: 2.2972\n"
     ]
    },
    {
     "name": "stderr",
     "output_type": "stream",
     "text": [
      "100%|██████████| 1250/1250 [00:24<00:00, 50.30it/s]\n",
      "100%|██████████| 1125/1125 [00:09<00:00, 124.76it/s]\n"
     ]
    },
    {
     "name": "stdout",
     "output_type": "stream",
     "text": [
      "EPOCH 173: Train acc: 84.29% Train Loss: 0.4106 Test acc: 66.28% Test Loss: 2.2617\n"
     ]
    },
    {
     "name": "stderr",
     "output_type": "stream",
     "text": [
      "100%|██████████| 1250/1250 [00:25<00:00, 49.25it/s]\n",
      "100%|██████████| 1125/1125 [00:09<00:00, 124.12it/s]\n"
     ]
    },
    {
     "name": "stdout",
     "output_type": "stream",
     "text": [
      "EPOCH 174: Train acc: 84.27% Train Loss: 0.4084 Test acc: 67.08% Test Loss: 2.1935\n"
     ]
    },
    {
     "name": "stderr",
     "output_type": "stream",
     "text": [
      "100%|██████████| 1250/1250 [00:24<00:00, 50.86it/s]\n",
      "100%|██████████| 1125/1125 [00:08<00:00, 125.57it/s]\n"
     ]
    },
    {
     "name": "stdout",
     "output_type": "stream",
     "text": [
      "EPOCH 175: Train acc: 84.24% Train Loss: 0.4109 Test acc: 66.07% Test Loss: 2.1466\n"
     ]
    },
    {
     "name": "stderr",
     "output_type": "stream",
     "text": [
      "100%|██████████| 1250/1250 [00:25<00:00, 49.94it/s]\n",
      "100%|██████████| 1125/1125 [00:09<00:00, 124.23it/s]\n"
     ]
    },
    {
     "name": "stdout",
     "output_type": "stream",
     "text": [
      "EPOCH 176: Train acc: 84.71% Train Loss: 0.4021 Test acc: 65.84% Test Loss: 2.3572\n"
     ]
    },
    {
     "name": "stderr",
     "output_type": "stream",
     "text": [
      "100%|██████████| 1250/1250 [00:24<00:00, 51.66it/s]\n",
      "100%|██████████| 1125/1125 [00:08<00:00, 125.12it/s]\n"
     ]
    },
    {
     "name": "stdout",
     "output_type": "stream",
     "text": [
      "EPOCH 177: Train acc: 84.44% Train Loss: 0.4095 Test acc: 66.72% Test Loss: 2.2995\n"
     ]
    },
    {
     "name": "stderr",
     "output_type": "stream",
     "text": [
      "100%|██████████| 1250/1250 [00:24<00:00, 51.57it/s]\n",
      "100%|██████████| 1125/1125 [00:08<00:00, 125.08it/s]\n"
     ]
    },
    {
     "name": "stdout",
     "output_type": "stream",
     "text": [
      "EPOCH 178: Train acc: 84.28% Train Loss: 0.4164 Test acc: 66.71% Test Loss: 2.1452\n"
     ]
    },
    {
     "name": "stderr",
     "output_type": "stream",
     "text": [
      "100%|██████████| 1250/1250 [00:24<00:00, 50.80it/s]\n",
      "100%|██████████| 1125/1125 [00:08<00:00, 125.11it/s]\n"
     ]
    },
    {
     "name": "stdout",
     "output_type": "stream",
     "text": [
      "EPOCH 179: Train acc: 84.99% Train Loss: 0.3954 Test acc: 66.79% Test Loss: 2.2053\n"
     ]
    },
    {
     "name": "stderr",
     "output_type": "stream",
     "text": [
      "100%|██████████| 1250/1250 [00:24<00:00, 50.48it/s]\n",
      "100%|██████████| 1125/1125 [00:08<00:00, 125.25it/s]\n"
     ]
    },
    {
     "name": "stdout",
     "output_type": "stream",
     "text": [
      "EPOCH 180: Train acc: 84.34% Train Loss: 0.4072 Test acc: 66.84% Test Loss: 2.2917\n"
     ]
    },
    {
     "name": "stderr",
     "output_type": "stream",
     "text": [
      "100%|██████████| 1250/1250 [00:25<00:00, 49.77it/s]\n",
      "100%|██████████| 1125/1125 [00:08<00:00, 125.50it/s]\n"
     ]
    },
    {
     "name": "stdout",
     "output_type": "stream",
     "text": [
      "EPOCH 181: Train acc: 84.13% Train Loss: 0.4161 Test acc: 65.41% Test Loss: 2.3545\n"
     ]
    },
    {
     "name": "stderr",
     "output_type": "stream",
     "text": [
      "100%|██████████| 1250/1250 [00:24<00:00, 50.57it/s]\n",
      "100%|██████████| 1125/1125 [00:08<00:00, 125.74it/s]\n"
     ]
    },
    {
     "name": "stdout",
     "output_type": "stream",
     "text": [
      "EPOCH 182: Train acc: 84.47% Train Loss: 0.4067 Test acc: 66.89% Test Loss: 2.2302\n"
     ]
    },
    {
     "name": "stderr",
     "output_type": "stream",
     "text": [
      "100%|██████████| 1250/1250 [00:24<00:00, 51.04it/s]\n",
      "100%|██████████| 1125/1125 [00:09<00:00, 124.92it/s]\n"
     ]
    },
    {
     "name": "stdout",
     "output_type": "stream",
     "text": [
      "EPOCH 183: Train acc: 84.07% Train Loss: 0.4156 Test acc: 65.28% Test Loss: 2.4306\n"
     ]
    },
    {
     "name": "stderr",
     "output_type": "stream",
     "text": [
      "100%|██████████| 1250/1250 [00:24<00:00, 51.27it/s]\n",
      "100%|██████████| 1125/1125 [00:09<00:00, 124.98it/s]\n"
     ]
    },
    {
     "name": "stdout",
     "output_type": "stream",
     "text": [
      "EPOCH 184: Train acc: 84.01% Train Loss: 0.4099 Test acc: 66.33% Test Loss: 2.3298\n"
     ]
    },
    {
     "name": "stderr",
     "output_type": "stream",
     "text": [
      "100%|██████████| 1250/1250 [00:24<00:00, 51.11it/s]\n",
      "100%|██████████| 1125/1125 [00:09<00:00, 124.86it/s]\n"
     ]
    },
    {
     "name": "stdout",
     "output_type": "stream",
     "text": [
      "EPOCH 185: Train acc: 84.53% Train Loss: 0.4104 Test acc: 66.67% Test Loss: 2.2226\n"
     ]
    },
    {
     "name": "stderr",
     "output_type": "stream",
     "text": [
      "100%|██████████| 1250/1250 [00:24<00:00, 50.81it/s]\n",
      "100%|██████████| 1125/1125 [00:08<00:00, 125.30it/s]\n"
     ]
    },
    {
     "name": "stdout",
     "output_type": "stream",
     "text": [
      "EPOCH 186: Train acc: 84.03% Train Loss: 0.4147 Test acc: 67.26% Test Loss: 2.1646\n"
     ]
    },
    {
     "name": "stderr",
     "output_type": "stream",
     "text": [
      "100%|██████████| 1250/1250 [00:24<00:00, 50.62it/s]\n",
      "100%|██████████| 1125/1125 [00:09<00:00, 124.86it/s]\n"
     ]
    },
    {
     "name": "stdout",
     "output_type": "stream",
     "text": [
      "EPOCH 187: Train acc: 84.14% Train Loss: 0.4109 Test acc: 65.67% Test Loss: 2.4081\n"
     ]
    },
    {
     "name": "stderr",
     "output_type": "stream",
     "text": [
      "100%|██████████| 1250/1250 [00:25<00:00, 49.72it/s]\n",
      "100%|██████████| 1125/1125 [00:09<00:00, 124.79it/s]\n"
     ]
    },
    {
     "name": "stdout",
     "output_type": "stream",
     "text": [
      "EPOCH 188: Train acc: 83.97% Train Loss: 0.4155 Test acc: 66.39% Test Loss: 2.2321\n"
     ]
    },
    {
     "name": "stderr",
     "output_type": "stream",
     "text": [
      "100%|██████████| 1250/1250 [00:24<00:00, 51.45it/s]\n",
      "100%|██████████| 1125/1125 [00:09<00:00, 124.97it/s]\n"
     ]
    },
    {
     "name": "stdout",
     "output_type": "stream",
     "text": [
      "EPOCH 189: Train acc: 84.55% Train Loss: 0.4065 Test acc: 65.88% Test Loss: 2.3712\n"
     ]
    },
    {
     "name": "stderr",
     "output_type": "stream",
     "text": [
      "100%|██████████| 1250/1250 [00:24<00:00, 50.52it/s]\n",
      "100%|██████████| 1125/1125 [00:09<00:00, 124.74it/s]\n"
     ]
    },
    {
     "name": "stdout",
     "output_type": "stream",
     "text": [
      "EPOCH 190: Train acc: 84.41% Train Loss: 0.4103 Test acc: 66.11% Test Loss: 2.2966\n"
     ]
    },
    {
     "name": "stderr",
     "output_type": "stream",
     "text": [
      "100%|██████████| 1250/1250 [00:24<00:00, 51.28it/s]\n",
      "100%|██████████| 1125/1125 [00:08<00:00, 125.62it/s]\n"
     ]
    },
    {
     "name": "stdout",
     "output_type": "stream",
     "text": [
      "EPOCH 191: Train acc: 84.75% Train Loss: 0.4120 Test acc: 65.72% Test Loss: 2.3839\n"
     ]
    },
    {
     "name": "stderr",
     "output_type": "stream",
     "text": [
      "100%|██████████| 1250/1250 [00:24<00:00, 50.58it/s]\n",
      "100%|██████████| 1125/1125 [00:08<00:00, 125.32it/s]\n"
     ]
    },
    {
     "name": "stdout",
     "output_type": "stream",
     "text": [
      "EPOCH 192: Train acc: 84.05% Train Loss: 0.4088 Test acc: 65.08% Test Loss: 2.5243\n"
     ]
    },
    {
     "name": "stderr",
     "output_type": "stream",
     "text": [
      "100%|██████████| 1250/1250 [00:25<00:00, 49.88it/s]\n",
      "100%|██████████| 1125/1125 [00:09<00:00, 124.64it/s]\n"
     ]
    },
    {
     "name": "stdout",
     "output_type": "stream",
     "text": [
      "EPOCH 193: Train acc: 84.53% Train Loss: 0.3978 Test acc: 66.09% Test Loss: 2.2885\n"
     ]
    },
    {
     "name": "stderr",
     "output_type": "stream",
     "text": [
      "100%|██████████| 1250/1250 [00:24<00:00, 51.00it/s]\n",
      "100%|██████████| 1125/1125 [00:08<00:00, 125.15it/s]\n"
     ]
    },
    {
     "name": "stdout",
     "output_type": "stream",
     "text": [
      "EPOCH 194: Train acc: 84.53% Train Loss: 0.4046 Test acc: 67.09% Test Loss: 2.1492\n"
     ]
    },
    {
     "name": "stderr",
     "output_type": "stream",
     "text": [
      "100%|██████████| 1250/1250 [00:24<00:00, 51.06it/s]\n",
      "100%|██████████| 1125/1125 [00:08<00:00, 125.55it/s]\n"
     ]
    },
    {
     "name": "stdout",
     "output_type": "stream",
     "text": [
      "EPOCH 195: Train acc: 83.97% Train Loss: 0.4132 Test acc: 66.44% Test Loss: 2.2137\n"
     ]
    },
    {
     "name": "stderr",
     "output_type": "stream",
     "text": [
      "100%|██████████| 1250/1250 [00:24<00:00, 51.42it/s]\n",
      "100%|██████████| 1125/1125 [00:08<00:00, 125.33it/s]\n"
     ]
    },
    {
     "name": "stdout",
     "output_type": "stream",
     "text": [
      "EPOCH 196: Train acc: 84.30% Train Loss: 0.4130 Test acc: 66.24% Test Loss: 2.3445\n"
     ]
    },
    {
     "name": "stderr",
     "output_type": "stream",
     "text": [
      "100%|██████████| 1250/1250 [00:25<00:00, 49.62it/s]\n",
      "100%|██████████| 1125/1125 [00:08<00:00, 125.91it/s]\n"
     ]
    },
    {
     "name": "stdout",
     "output_type": "stream",
     "text": [
      "EPOCH 197: Train acc: 84.45% Train Loss: 0.4191 Test acc: 66.41% Test Loss: 2.1945\n"
     ]
    },
    {
     "name": "stderr",
     "output_type": "stream",
     "text": [
      "100%|██████████| 1250/1250 [00:24<00:00, 51.60it/s]\n",
      "100%|██████████| 1125/1125 [00:09<00:00, 124.62it/s]\n"
     ]
    },
    {
     "name": "stdout",
     "output_type": "stream",
     "text": [
      "EPOCH 198: Train acc: 83.63% Train Loss: 0.4125 Test acc: 65.96% Test Loss: 2.2896\n"
     ]
    },
    {
     "name": "stderr",
     "output_type": "stream",
     "text": [
      "100%|██████████| 1250/1250 [00:24<00:00, 51.43it/s]\n",
      "100%|██████████| 1125/1125 [00:08<00:00, 125.08it/s]\n"
     ]
    },
    {
     "name": "stdout",
     "output_type": "stream",
     "text": [
      "EPOCH 199: Train acc: 83.95% Train Loss: 0.4138 Test acc: 67.11% Test Loss: 2.1777\n"
     ]
    },
    {
     "name": "stderr",
     "output_type": "stream",
     "text": [
      "100%|██████████| 1250/1250 [00:24<00:00, 50.14it/s]\n",
      "100%|██████████| 1125/1125 [00:09<00:00, 124.55it/s]"
     ]
    },
    {
     "name": "stdout",
     "output_type": "stream",
     "text": [
      "EPOCH 200: Train acc: 83.94% Train Loss: 0.4146 Test acc: 66.76% Test Loss: 2.3019\n"
     ]
    },
    {
     "name": "stderr",
     "output_type": "stream",
     "text": [
      "\n"
     ]
    }
   ],
   "source": [
    "criterion = nn.CrossEntropyLoss()\n",
    "optimizer = torch.optim.SGD(model.parameters(), lr=LR, momentum=0.9, weight_decay=0.001)\n",
    "scheduler = lr_scheduler.StepLR(optimizer, step_size=50, gamma=0.1)\n",
    "\n",
    "\n",
    "\n",
    "best_accuracy=0\n",
    "\n",
    "\n",
    "for e in range(EPOCHS):\n",
    "    train_predictions, train_targets, train_loss = train(model, train_loader, criterion, optimizer, device)\n",
    "    test_predictions, test_targets, test_loss = test(model, test_loader, criterion, device)\n",
    "    \n",
    "    scheduler.step()\n",
    "    \n",
    "    train_acc = accuracy_score(train_targets, train_predictions)\n",
    "    test_acc = accuracy_score(test_targets, test_predictions)\n",
    "    \n",
    "\n",
    "    print(\"EPOCH {}: Train acc: {:.2%} Train Loss: {:.4f} Test acc: {:.2%} Test Loss: {:.4f}\".format( \n",
    "        e+1,\n",
    "        train_acc,\n",
    "        train_loss,\n",
    "        test_acc,\n",
    "        test_loss\n",
    "    ))\n",
    "    \n",
    "    \n",
    "    if test_acc > best_accuracy:\n",
    "        torch.save(model.state_dict(), \"./ViG/vig_parameters.pt\")\n",
    "        print(f\"Saved best parameters at epoch {e+1}\")\n",
    "        best_accuracy = test_acc\n",
    "        \n",
    "    \n",
    "    metrics = {\n",
    "                \"train/train_loss\": train_loss,\n",
    "                \"train/train_accuracy\": train_acc,\n",
    "                \"test/test_loss\": test_loss,\n",
    "                \"test/test_accuracy\": test_acc,\n",
    "              }\n",
    "\n",
    "    wandb.log(metrics)    "
   ]
  },
  {
   "cell_type": "code",
   "execution_count": 24,
   "id": "b30278cb",
   "metadata": {},
   "outputs": [
    {
     "name": "stdout",
     "output_type": "stream",
     "text": [
      "\n"
     ]
    },
    {
     "data": {
      "text/html": [
       "Waiting for W&B process to finish... <strong style=\"color:green\">(success).</strong>"
      ],
      "text/plain": [
       "<IPython.core.display.HTML object>"
      ]
     },
     "metadata": {},
     "output_type": "display_data"
    },
    {
     "data": {
      "application/vnd.jupyter.widget-view+json": {
       "model_id": "",
       "version_major": 2,
       "version_minor": 0
      },
      "text/plain": [
       "VBox(children=(Label(value='0.001 MB of 0.001 MB uploaded (0.000 MB deduped)\\r'), FloatProgress(value=1.0, max…"
      ]
     },
     "metadata": {},
     "output_type": "display_data"
    },
    {
     "data": {
      "text/html": [
       "<style>\n",
       "    table.wandb td:nth-child(1) { padding: 0 10px; text-align: right }\n",
       "    .wandb-row { display: flex; flex-direction: row; flex-wrap: wrap; width: 100% }\n",
       "    .wandb-col { display: flex; flex-direction: column; flex-basis: 100%; flex: 1; padding: 10px; }\n",
       "    </style>\n",
       "<div class=\"wandb-row\"><div class=\"wandb-col\"><h3>Run history:</h3><br/><table class=\"wandb\"><tr><td>test/test_accuracy</td><td>▁▄▅▄▅▅▆▇▇▇▇▇▇▇▇▇▇█▇█▇▇▇▇▇█▇████▇█▇██▇███</td></tr><tr><td>test/test_loss</td><td>█▅▁▄▂▃▃▂▂▃▅▄▃▇▆▅▅▄▄▃▄▅▅▅▇▃▅▄▃▄▃▅▄▄▄▃▅▄▃▅</td></tr><tr><td>train/train_accuracy</td><td>▁▄▅▅▆▆▆▇▇▇▇█████████████████████████████</td></tr><tr><td>train/train_loss</td><td>█▅▄▄▃▃▂▂▂▂▁▁▁▁▁▁▁▁▁▁▁▁▁▁▁▁▁▁▁▁▁▁▁▁▁▁▁▁▁▁</td></tr></table><br/></div><div class=\"wandb-col\"><h3>Run summary:</h3><br/><table class=\"wandb\"><tr><td>test/test_accuracy</td><td>0.66756</td></tr><tr><td>test/test_loss</td><td>2.30195</td></tr><tr><td>train/train_accuracy</td><td>0.8394</td></tr><tr><td>train/train_loss</td><td>0.41463</td></tr></table><br/></div></div>"
      ],
      "text/plain": [
       "<IPython.core.display.HTML object>"
      ]
     },
     "metadata": {},
     "output_type": "display_data"
    },
    {
     "data": {
      "text/html": [
       "Synced <strong style=\"color:#cdcd00\">Isotropic ViG - S2</strong>: <a href=\"https://wandb.ai/leonardtd/cloud%20classification%20-%20VIG/runs/lzjh17oj\" target=\"_blank\">https://wandb.ai/leonardtd/cloud%20classification%20-%20VIG/runs/lzjh17oj</a><br/>Synced 6 W&B file(s), 0 media file(s), 0 artifact file(s) and 0 other file(s)"
      ],
      "text/plain": [
       "<IPython.core.display.HTML object>"
      ]
     },
     "metadata": {},
     "output_type": "display_data"
    },
    {
     "data": {
      "text/html": [
       "Find logs at: <code>./wandb/run-20220622_122353-lzjh17oj/logs</code>"
      ],
      "text/plain": [
       "<IPython.core.display.HTML object>"
      ]
     },
     "metadata": {},
     "output_type": "display_data"
    }
   ],
   "source": [
    "wandb.finish()"
   ]
  },
  {
   "cell_type": "code",
   "execution_count": null,
   "id": "a2e87b65",
   "metadata": {},
   "outputs": [],
   "source": []
  },
  {
   "cell_type": "code",
   "execution_count": null,
   "id": "a5e50127",
   "metadata": {},
   "outputs": [],
   "source": []
  },
  {
   "cell_type": "code",
   "execution_count": null,
   "id": "175890e9",
   "metadata": {},
   "outputs": [],
   "source": []
  },
  {
   "cell_type": "code",
   "execution_count": null,
   "id": "c4ab8870",
   "metadata": {},
   "outputs": [],
   "source": []
  },
  {
   "cell_type": "code",
   "execution_count": null,
   "id": "16bd0888",
   "metadata": {},
   "outputs": [],
   "source": []
  },
  {
   "cell_type": "code",
   "execution_count": null,
   "id": "fb88a56a",
   "metadata": {},
   "outputs": [],
   "source": []
  },
  {
   "cell_type": "code",
   "execution_count": null,
   "id": "4be5ea99",
   "metadata": {},
   "outputs": [],
   "source": []
  },
  {
   "cell_type": "code",
   "execution_count": null,
   "id": "7e11570a",
   "metadata": {},
   "outputs": [],
   "source": []
  }
 ],
 "metadata": {
  "kernelspec": {
   "display_name": "Python 3",
   "language": "python",
   "name": "python3"
  },
  "language_info": {
   "codemirror_mode": {
    "name": "ipython",
    "version": 3
   },
   "file_extension": ".py",
   "mimetype": "text/x-python",
   "name": "python",
   "nbconvert_exporter": "python",
   "pygments_lexer": "ipython3",
   "version": "3.9.7"
  }
 },
 "nbformat": 4,
 "nbformat_minor": 5
}
