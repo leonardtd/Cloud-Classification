{
 "cells": [
  {
   "cell_type": "code",
   "execution_count": 1,
   "id": "ce02d36d-9c8a-41a8-baf5-89341a35323f",
   "metadata": {},
   "outputs": [
    {
     "name": "stdout",
     "output_type": "stream",
     "text": [
      "/home/ltorres/leo/Cloud-Classification/code\n"
     ]
    }
   ],
   "source": [
    "%cd .."
   ]
  },
  {
   "cell_type": "code",
   "execution_count": 2,
   "id": "0cb1df6a-fd0e-4054-924e-698c8338f97a",
   "metadata": {},
   "outputs": [],
   "source": [
    "%load_ext autoreload\n",
    "%autoreload 2"
   ]
  },
  {
   "cell_type": "code",
   "execution_count": 3,
   "id": "f339bdec-e9c9-40fb-a173-e303426be852",
   "metadata": {},
   "outputs": [],
   "source": [
    "import pandas as pd\n",
    "import numpy as np\n",
    "import torch\n",
    "import matplotlib.pyplot as plt"
   ]
  },
  {
   "cell_type": "code",
   "execution_count": 4,
   "id": "421988bf-84ce-4da7-91b5-18202d57762a",
   "metadata": {},
   "outputs": [],
   "source": [
    "torch.manual_seed(7)\n",
    "np.random.seed(7)"
   ]
  },
  {
   "cell_type": "code",
   "execution_count": 5,
   "id": "a6cf04ca-7936-45fa-bcc9-23d0eb0f616f",
   "metadata": {},
   "outputs": [],
   "source": [
    "import random"
   ]
  },
  {
   "cell_type": "code",
   "execution_count": 6,
   "id": "e7525bec-28f6-4aa6-aeb6-e319fc9d55d6",
   "metadata": {},
   "outputs": [],
   "source": [
    "import os\n",
    "from torchvision.io import read_image\n",
    "import torchvision.transforms as T\n",
    "import torch.nn as nn\n",
    "import torch.nn.functional as F\n",
    "import networkx as nx\n",
    "import glob"
   ]
  },
  {
   "cell_type": "code",
   "execution_count": 7,
   "id": "16762ad9-18f6-4812-8d86-a2f3ac25d5a4",
   "metadata": {},
   "outputs": [],
   "source": [
    "from src import config\n",
    "from src import engine\n",
    "from src import utils"
   ]
  },
  {
   "cell_type": "code",
   "execution_count": 8,
   "id": "0082f33e-797d-4965-a54a-806f3f82f968",
   "metadata": {},
   "outputs": [],
   "source": [
    "from recipe.utils import *"
   ]
  },
  {
   "cell_type": "code",
   "execution_count": 9,
   "id": "fbb0da08-947a-406a-8ce5-d34330fbcf58",
   "metadata": {},
   "outputs": [],
   "source": [
    "torch.manual_seed(7)\n",
    "np.random.seed(7)"
   ]
  },
  {
   "cell_type": "markdown",
   "id": "2daf3c7b-98a9-4301-8936-747d5efed64c",
   "metadata": {},
   "source": [
    "### Dataloaders"
   ]
  },
  {
   "cell_type": "code",
   "execution_count": 10,
   "id": "5beb7aec",
   "metadata": {},
   "outputs": [],
   "source": [
    "def get_gcd_paths(data_dir, dataset_type):\n",
    "    return glob.glob(\n",
    "                     os.path.join(data_dir,f'GCD/{dataset_type}/**/*.jpg'), \n",
    "                     recursive=True\n",
    "                    )"
   ]
  },
  {
   "cell_type": "code",
   "execution_count": 11,
   "id": "4cdb7422-9a14-41bc-9300-ed4252258600",
   "metadata": {},
   "outputs": [],
   "source": [
    "path_train_images = get_gcd_paths('/data/mandonaire','train')\n",
    "#random.shuffle(path_train_images)\n",
    "\n",
    "\n",
    "train_dataset = GCD(path_train_images, resize=224)\n",
    "\n",
    "train_loader = torch.utils.data.DataLoader(\n",
    "        train_dataset,\n",
    "        batch_size=8,\n",
    "        num_workers=8,\n",
    "        shuffle=True,\n",
    "    )"
   ]
  },
  {
   "cell_type": "code",
   "execution_count": 12,
   "id": "10050bb4-93bd-4135-b01f-c0daec576d6c",
   "metadata": {},
   "outputs": [
    {
     "data": {
      "text/plain": [
       "10000"
      ]
     },
     "execution_count": 12,
     "metadata": {},
     "output_type": "execute_result"
    }
   ],
   "source": [
    "len(train_dataset)"
   ]
  },
  {
   "cell_type": "code",
   "execution_count": 13,
   "id": "98a98ca1-e254-45d1-9872-38aad7f8028c",
   "metadata": {},
   "outputs": [],
   "source": [
    "path_test_images = get_gcd_paths('/data/mandonaire','test')\n",
    "\n",
    "test_dataset = GCD(path_test_images, resize=224)\n",
    "\n",
    "test_loader = torch.utils.data.DataLoader(\n",
    "        test_dataset,\n",
    "        batch_size=8,\n",
    "        num_workers=8,\n",
    "        shuffle=True,\n",
    "    )"
   ]
  },
  {
   "cell_type": "code",
   "execution_count": 14,
   "id": "5ebfea8b",
   "metadata": {},
   "outputs": [
    {
     "data": {
      "text/plain": [
       "9000"
      ]
     },
     "execution_count": 14,
     "metadata": {},
     "output_type": "execute_result"
    }
   ],
   "source": [
    "len(test_dataset)"
   ]
  },
  {
   "cell_type": "markdown",
   "id": "a43a5a2e",
   "metadata": {},
   "source": [
    "## Modelo"
   ]
  },
  {
   "cell_type": "code",
   "execution_count": 15,
   "id": "407c3436",
   "metadata": {},
   "outputs": [],
   "source": [
    "from ViG.src.models import IsotropicVIG"
   ]
  },
  {
   "cell_type": "code",
   "execution_count": 16,
   "id": "85016980",
   "metadata": {},
   "outputs": [],
   "source": [
    "model = IsotropicVIG(in_channels=192, out_channels=7, num_blocks=12, kernel_size=16, patch_size=4)"
   ]
  },
  {
   "cell_type": "code",
   "execution_count": 17,
   "id": "633da794",
   "metadata": {},
   "outputs": [],
   "source": [
    "from torchsummary import summary"
   ]
  },
  {
   "cell_type": "markdown",
   "id": "1886e584-776c-40df-888f-5278fe5a9c4c",
   "metadata": {},
   "source": [
    "### Train con todo el batch"
   ]
  },
  {
   "cell_type": "code",
   "execution_count": 18,
   "id": "73ceb002",
   "metadata": {},
   "outputs": [],
   "source": [
    "device = 'cuda:3'\n",
    "EPOCHS = 200\n",
    "LR = 3e-5"
   ]
  },
  {
   "cell_type": "code",
   "execution_count": 19,
   "id": "d379c9cd",
   "metadata": {},
   "outputs": [],
   "source": [
    "model = model.to(device)"
   ]
  },
  {
   "cell_type": "code",
   "execution_count": 20,
   "id": "8b5eea1d-441a-48d8-9ba3-b1e65bb9ea93",
   "metadata": {},
   "outputs": [],
   "source": [
    "from sklearn.metrics import accuracy_score"
   ]
  },
  {
   "cell_type": "code",
   "execution_count": null,
   "id": "f24462c6-31a5-4f06-9e27-8591b9405d53",
   "metadata": {},
   "outputs": [
    {
     "name": "stderr",
     "output_type": "stream",
     "text": [
      " 70%|███████   | 880/1250 [09:51<04:08,  1.49it/s]"
     ]
    }
   ],
   "source": [
    "criterion = nn.CrossEntropyLoss()\n",
    "optimizer = torch.optim.SGD(model.parameters(), lr=LR, momentum=0.9)\n",
    "#optimizer = torch.optim.AdamW(model.parameters(), lr=LR)\n",
    "\n",
    "\n",
    "train_losses = []\n",
    "test_losses = []\n",
    "\n",
    "\n",
    "for e in range(EPOCHS):\n",
    "    train_predictions, train_targets, train_loss = train(model, train_loader, criterion, optimizer, device)\n",
    "    test_predictions, test_targets, test_loss = test(model, test_loader, criterion, device)\n",
    "    \n",
    "    train_acc = accuracy_score(train_targets, train_predictions)\n",
    "    test_acc = accuracy_score(test_targets, test_predictions)\n",
    "    \n",
    "    \n",
    "    \n",
    "    if e%10==0:\n",
    "        print(\"EPOCH {}: Train acc: {:.2%} Train Loss: {:.4f} Test acc: {:.2%} Test Loss: {:.4f}\".format( \n",
    "            e+1,\n",
    "            train_acc,\n",
    "            train_loss,\n",
    "            #test_acc,\n",
    "            #test_loss\n",
    "        ))\n",
    "    \n",
    "    train_losses.append(train_loss)\n",
    "    test_losses.append(test_loss)\n",
    "    "
   ]
  },
  {
   "cell_type": "code",
   "execution_count": null,
   "id": "f3c631fe",
   "metadata": {},
   "outputs": [],
   "source": [
    "pd.Series(train_losses).plot.line()\n",
    "pd.Series(test_losses).plot.line()\n",
    "plt.show()"
   ]
  },
  {
   "cell_type": "code",
   "execution_count": null,
   "id": "b30278cb",
   "metadata": {},
   "outputs": [],
   "source": [
    "torch.save(the_model.state_dict(), \"./ViG/vig_parameters.pt\")"
   ]
  },
  {
   "cell_type": "code",
   "execution_count": null,
   "id": "a2e87b65",
   "metadata": {},
   "outputs": [],
   "source": []
  },
  {
   "cell_type": "code",
   "execution_count": null,
   "id": "a5e50127",
   "metadata": {},
   "outputs": [],
   "source": []
  },
  {
   "cell_type": "code",
   "execution_count": null,
   "id": "175890e9",
   "metadata": {},
   "outputs": [],
   "source": []
  },
  {
   "cell_type": "code",
   "execution_count": null,
   "id": "c4ab8870",
   "metadata": {},
   "outputs": [],
   "source": []
  },
  {
   "cell_type": "code",
   "execution_count": null,
   "id": "16bd0888",
   "metadata": {},
   "outputs": [],
   "source": []
  },
  {
   "cell_type": "code",
   "execution_count": null,
   "id": "fb88a56a",
   "metadata": {},
   "outputs": [],
   "source": []
  },
  {
   "cell_type": "code",
   "execution_count": null,
   "id": "4be5ea99",
   "metadata": {},
   "outputs": [],
   "source": []
  },
  {
   "cell_type": "code",
   "execution_count": null,
   "id": "7e11570a",
   "metadata": {},
   "outputs": [],
   "source": []
  }
 ],
 "metadata": {
  "kernelspec": {
   "display_name": "Python 3",
   "language": "python",
   "name": "python3"
  },
  "language_info": {
   "codemirror_mode": {
    "name": "ipython",
    "version": 3
   },
   "file_extension": ".py",
   "mimetype": "text/x-python",
   "name": "python",
   "nbconvert_exporter": "python",
   "pygments_lexer": "ipython3",
   "version": "3.9.7"
  }
 },
 "nbformat": 4,
 "nbformat_minor": 5
}
