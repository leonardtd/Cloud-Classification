{
 "cells": [
  {
   "cell_type": "code",
   "execution_count": 1,
   "id": "e4ab20fe-a684-42d8-83a3-388740455729",
   "metadata": {},
   "outputs": [],
   "source": [
    "%load_ext autoreload\n",
    "%autoreload 2"
   ]
  },
  {
   "cell_type": "code",
   "execution_count": 2,
   "id": "4a8dd8b4-6ef4-45a2-9d91-6e835e2191d9",
   "metadata": {},
   "outputs": [],
   "source": [
    "import pandas as pd\n",
    "import numpy as np\n",
    "import torch"
   ]
  },
  {
   "cell_type": "code",
   "execution_count": 3,
   "id": "bda5cd60-9a30-4b34-a07f-2a282deedd7d",
   "metadata": {},
   "outputs": [],
   "source": [
    "from src import dataset\n",
    "from src import utils"
   ]
  },
  {
   "cell_type": "code",
   "execution_count": 4,
   "id": "1ee73518-30fa-4675-a619-c171277a77ce",
   "metadata": {},
   "outputs": [],
   "source": [
    "DATA_DIR = '/data/ltorres'"
   ]
  },
  {
   "cell_type": "code",
   "execution_count": 5,
   "id": "8cbe39fd-479b-4ea7-889c-adc66d1f0df9",
   "metadata": {},
   "outputs": [],
   "source": [
    "train_paths = utils.get_gcd_paths(DATA_DIR, 'train')"
   ]
  },
  {
   "cell_type": "code",
   "execution_count": 6,
   "id": "0d62fa9b-f1e4-40c5-9ab0-bdc9dcdb0426",
   "metadata": {},
   "outputs": [],
   "source": [
    "train_dataset = dataset.GCD(train_paths, resize=224, use_augmentation=True)"
   ]
  },
  {
   "cell_type": "code",
   "execution_count": 7,
   "id": "732018f6-3ee5-4f09-9d1d-2bed3961d0ed",
   "metadata": {},
   "outputs": [
    {
     "data": {
      "text/plain": [
       "tensor(-0.1740)"
      ]
     },
     "execution_count": 7,
     "metadata": {},
     "output_type": "execute_result"
    }
   ],
   "source": [
    "train_dataset[0]['images'].mean()"
   ]
  },
  {
   "cell_type": "markdown",
   "id": "dfb24187-4605-4ee3-a267-1f09b406fac4",
   "metadata": {},
   "source": [
    "---"
   ]
  },
  {
   "cell_type": "code",
   "execution_count": 8,
   "id": "e15fba2f-7960-43c9-8214-4d7622bb6731",
   "metadata": {},
   "outputs": [],
   "source": [
    "from src.modules.graph_modules import GraphClassifier"
   ]
  },
  {
   "cell_type": "code",
   "execution_count": 53,
   "id": "700221cb-bd62-4198-9764-07ba56b9df34",
   "metadata": {},
   "outputs": [],
   "source": [
    "model = GraphClassifier(\n",
    "                 hidden_dim = 512, \n",
    "                 num_hidden = 2, \n",
    "                 num_classes = 7,\n",
    "                 conv_type = 'gcn',\n",
    "                 conv_parameters = {'num_heads':4, 'residual': True, 'agg':'mean'},\n",
    "                 adjacency_builder = 'pearson_corr',\n",
    "                 builder_parameter = 0.5,\n",
    "                 use_both_heads = True,\n",
    "                )"
   ]
  },
  {
   "cell_type": "code",
   "execution_count": 54,
   "id": "8bca85d3-5686-48f6-a97f-da3f299ded8d",
   "metadata": {},
   "outputs": [],
   "source": [
    "inp = torch.randn(2,3,224,224)"
   ]
  },
  {
   "cell_type": "code",
   "execution_count": 55,
   "id": "8681c30a-e1b7-4986-b16a-3910b2d349c2",
   "metadata": {},
   "outputs": [],
   "source": [
    "out = model(inp)"
   ]
  },
  {
   "cell_type": "code",
   "execution_count": 56,
   "id": "ab32592d-7f2a-4ec3-8fb7-cd53096eab6c",
   "metadata": {},
   "outputs": [
    {
     "data": {
      "text/plain": [
       "(torch.Size([2, 7]), torch.Size([2, 7]))"
      ]
     },
     "execution_count": 56,
     "metadata": {},
     "output_type": "execute_result"
    }
   ],
   "source": [
    "out[0].shape, out[1].shape"
   ]
  },
  {
   "cell_type": "markdown",
   "id": "a4371510-f6db-4547-be7c-98e410deca9c",
   "metadata": {},
   "source": [
    "---"
   ]
  },
  {
   "cell_type": "code",
   "execution_count": 60,
   "id": "240084bc-f4f5-4466-a59f-2d943981b580",
   "metadata": {},
   "outputs": [
    {
     "name": "stdout",
     "output_type": "stream",
     "text": [
      "config_gnn.json  \u001b[0m\u001b[01;34mnotebooks\u001b[0m/  \u001b[01;34msrc\u001b[0m/  test.ipynb  train.py\n"
     ]
    }
   ],
   "source": [
    "%ls"
   ]
  },
  {
   "cell_type": "code",
   "execution_count": 72,
   "id": "e90848ec-5c7f-4982-9e3f-4b50bddf3713",
   "metadata": {},
   "outputs": [],
   "source": [
    "a = utils.parse_configuration('config_gnn.json')"
   ]
  },
  {
   "cell_type": "code",
   "execution_count": 73,
   "id": "bec70194-9bd3-423f-b874-6a4dbcd6aec1",
   "metadata": {},
   "outputs": [
    {
     "data": {
      "text/plain": [
       "{'device': 'cuda:3'}"
      ]
     },
     "execution_count": 73,
     "metadata": {},
     "output_type": "execute_result"
    }
   ],
   "source": [
    "a['hardware']"
   ]
  },
  {
   "cell_type": "code",
   "execution_count": null,
   "id": "f9681cba-53a6-408f-adb6-05e66c872f35",
   "metadata": {},
   "outputs": [],
   "source": []
  }
 ],
 "metadata": {
  "kernelspec": {
   "display_name": "Python 3",
   "language": "python",
   "name": "python3"
  },
  "language_info": {
   "codemirror_mode": {
    "name": "ipython",
    "version": 3
   },
   "file_extension": ".py",
   "mimetype": "text/x-python",
   "name": "python",
   "nbconvert_exporter": "python",
   "pygments_lexer": "ipython3",
   "version": "3.9.7"
  }
 },
 "nbformat": 4,
 "nbformat_minor": 5
}
